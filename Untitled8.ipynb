{
 "cells": [
  {
   "cell_type": "code",
   "execution_count": 6,
   "id": "b496386a-76c7-47f1-921a-577464b24583",
   "metadata": {},
   "outputs": [],
   "source": [
    "\n",
    "\n",
    "rr_dict = {'role':'Commissioning Manager', 'region':'AMER'}\n",
    "\n",
    "filter_dict = rr_dict.copy()\n",
    "filter_dict['assigned_status'] = 'assigned'\n",
    "filter_dict['[ESO] Stage'] = 'G2 - Delivery'"
   ]
  },
  {
   "cell_type": "code",
   "execution_count": 8,
   "id": "7d846280-7c83-4556-9445-f14dc68b7a74",
   "metadata": {},
   "outputs": [
    {
     "data": {
      "text/plain": [
       "{'role': 'Commissioning Manager',\n",
       " 'region': 'AMER',\n",
       " 'assigned_status': 'assigned',\n",
       " '[ESO] Stage': 'G2 - Delivery'}"
      ]
     },
     "execution_count": 8,
     "metadata": {},
     "output_type": "execute_result"
    }
   ],
   "source": [
    "filter_dict"
   ]
  },
  {
   "cell_type": "code",
   "execution_count": null,
   "id": "d6ed290c-f7d6-4b05-aa9b-c8fc8e7bf864",
   "metadata": {},
   "outputs": [],
   "source": []
  },
  {
   "cell_type": "code",
   "execution_count": 10,
   "id": "3edb0969-6661-46f6-a013-93541f512439",
   "metadata": {},
   "outputs": [
    {
     "ename": "SyntaxError",
     "evalue": "cannot assign to attribute here. Maybe you meant '==' instead of '='? (697876231.py, line 8)",
     "output_type": "error",
     "traceback": [
      "\u001b[1;36m  Input \u001b[1;32mIn [10]\u001b[1;36m\u001b[0m\n\u001b[1;33m    df_active[['date', 'num_projects', 'workload_units', 'num_eeq_projects', 'num_epc_projects', 'num_no_type_projects', 'eeq_workload', 'epc_workload']]\u001b[0m\n\u001b[1;37m    ^\u001b[0m\n\u001b[1;31mSyntaxError\u001b[0m\u001b[1;31m:\u001b[0m cannot assign to attribute here. Maybe you meant '==' instead of '='?\n"
     ]
    }
   ],
   "source": [
    "def make_intermediate_rollup(df, filter_dict):\n",
    "    start_date='1/1/2022'\n",
    "    end_date='1/1/2024'\n",
    "    tindex = pd.date_range(start_date, end_date)\n",
    "    \n",
    "    df_active = pwut.apply_filter_from_dict(df, filter_dict)\n",
    "    df_rollup = (\n",
    "        df_active[['date', 'num_projects', 'workload_units', 'num_eeq_projects', 'num_epc_projects', 'num_no_type_projects', 'eeq_workload', 'epc_workload']]\n",
    "        .groupby('date').sum()\n",
    "        .reindex(tindex)\n",
    "        .fillna(0)\n",
    "        .index.name = 'date'\n",
    "        .reset_index()\n",
    "    )\n",
    "    df_rollup\n",
    "    pass\n",
    "\n",
    "def make_sub_dfs(df, rr_dict):\n",
    "    \"\"\"\n",
    "    manually make a pivot table to troubhleshoot problems with actual pivot table\n",
    "    \"\"\" \n",
    "\n",
    "    filter_dict = rr_dict.copy()\n",
    "    filter_dict['assigned_status'] = 'assigned'\n",
    "    filter_dict['[ESO] Stage'] = 'G2 - Delivery'\n",
    "    df_assn_g2 = (\n",
    "        make_intermediate_rollup(df, filter_dict)\n",
    "        .add_suffix('_assn_G2')\n",
    "        .rename(columns={'date_assn_G2': 'date'})\n",
    "    )\n",
    "\n",
    "    filter_dict = rr_dict.copy()\n",
    "    filter_dict['assigned_status'] = 'unassigned'\n",
    "    filter_dict['[ESO] Stage'] = 'G2 - Delivery'\n",
    "    df_una_g2 = (\n",
    "        make_intermediate_rollup(df, filter_dict)\n",
    "        .add_suffix('_una_G2')\n",
    "        .rename(columns={'date_una_G2': 'date'})\n",
    "    )\n",
    "        \n",
    "    filter_dict = rr_dict.copy()\n",
    "    filter_dict['assigned_status'] = 'assigned'\n",
    "    filter_dict['[ESO] Stage'] = 'A'\n",
    "    df_assn_a = (\n",
    "        make_intermediate_rollup(df, filter_dict)\n",
    "        .add_suffix('_assn_A')\n",
    "        .rename(columns={'date_assn_A': 'date'})\n",
    "    )\n",
    "\n",
    "    filter_dict = rr_dict.copy()\n",
    "    filter_dict['assigned_status'] = 'unassigned'\n",
    "    filter_dict['[ESO] Stage'] = 'A'\n",
    "    df_una_a = (\n",
    "        make_intermediate_rollup(df, filter_dict)\n",
    "        .add_suffix('_una_A')\n",
    "        .rename(columns={'date_una_A': 'date'})\n",
    "    )\n",
    "    \n",
    "    data_frames = [df_assn_g2, df_una_g2, df_assn_a, df_una_a]\n",
    "    df_m = reduce(lambda  left,right: pd.merge(left,right,on=['date'],\n",
    "                                            how='outer'), data_frames)\n",
    "    \n",
    "    df_m['total_workload_G2'] = df_m['total_workload_assn_G2'] + df_m['total_workload_una_G2']\n",
    "   \n",
    "    return df_m"
   ]
  },
  {
   "cell_type": "code",
   "execution_count": null,
   "id": "a633e0f0-441b-46ee-973c-94292f82ebea",
   "metadata": {},
   "outputs": [],
   "source": []
  }
 ],
 "metadata": {
  "kernelspec": {
   "display_name": "Python 3 (ipykernel)",
   "language": "python",
   "name": "python3"
  },
  "language_info": {
   "codemirror_mode": {
    "name": "ipython",
    "version": 3
   },
   "file_extension": ".py",
   "mimetype": "text/x-python",
   "name": "python",
   "nbconvert_exporter": "python",
   "pygments_lexer": "ipython3",
   "version": "3.10.6"
  }
 },
 "nbformat": 4,
 "nbformat_minor": 5
}
