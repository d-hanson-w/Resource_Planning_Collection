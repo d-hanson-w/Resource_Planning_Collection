{
 "cells": [
  {
   "cell_type": "code",
   "execution_count": 1,
   "id": "8760d540-3ded-4e42-9643-e611c2b5b919",
   "metadata": {},
   "outputs": [],
   "source": [
    "\n",
    "import pandas\n",
    "import plotly\n",
    "\n",
    "import asana\n"
   ]
  },
  {
   "cell_type": "code",
   "execution_count": 2,
   "id": "1cefb7b7-ff03-43b1-bd49-43ebd54f1059",
   "metadata": {},
   "outputs": [],
   "source": [
    "dh_wart_key = \"1/1202520154085312:4c57c9b9414b65f55d83d08d266cde29\""
   ]
  },
  {
   "cell_type": "code",
   "execution_count": 3,
   "id": "4f233f0c-86be-43c4-8b34-fe8a17c53ddb",
   "metadata": {},
   "outputs": [],
   "source": [
    "client = asana.Client.access_token(dh_wart_key)"
   ]
  },
  {
   "cell_type": "code",
   "execution_count": 4,
   "id": "993a1b5f-7a3c-4e1f-9a8e-f54d4e7d9bcb",
   "metadata": {},
   "outputs": [],
   "source": [
    "workspaces = client.workspaces.find_all(item_limit=1)"
   ]
  },
  {
   "cell_type": "code",
   "execution_count": 6,
   "id": "80fd9f2e-b88c-4031-81bf-6ca80dbaba7b",
   "metadata": {},
   "outputs": [
    {
     "name": "stdout",
     "output_type": "stream",
     "text": [
      "{'gid': '8836488480224', 'name': 'wartsila.com', 'resource_type': 'workspace'}\n"
     ]
    }
   ],
   "source": [
    "for workspace in client.workspaces.find_all():\n",
    "    print(workspace)\n"
   ]
  },
  {
   "cell_type": "code",
   "execution_count": 7,
   "id": "60e68a4d-4406-4520-b229-7ac535d69abb",
   "metadata": {},
   "outputs": [],
   "source": [
    "wartsila_workspace = '8836488480224'"
   ]
  },
  {
   "cell_type": "code",
   "execution_count": null,
   "id": "a96a9894-afae-4543-9756-b569c10f0592",
   "metadata": {},
   "outputs": [],
   "source": []
  }
 ],
 "metadata": {
  "kernelspec": {
   "display_name": "Python 3 (ipykernel)",
   "language": "python",
   "name": "python3"
  },
  "language_info": {
   "codemirror_mode": {
    "name": "ipython",
    "version": 3
   },
   "file_extension": ".py",
   "mimetype": "text/x-python",
   "name": "python",
   "nbconvert_exporter": "python",
   "pygments_lexer": "ipython3",
   "version": "3.10.6"
  }
 },
 "nbformat": 4,
 "nbformat_minor": 5
}
