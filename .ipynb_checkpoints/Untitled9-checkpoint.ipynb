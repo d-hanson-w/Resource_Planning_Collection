{
 "cells": [
  {
   "cell_type": "code",
   "execution_count": 1,
   "id": "bc431743-2e3f-47a4-b1eb-ac5a1a822ed3",
   "metadata": {},
   "outputs": [],
   "source": [
    "    epc_multiplier_dict = {\n",
    "    'Commissioning Manager': 1.0,\n",
    "    'Commissioning Engineer' : 1.0, \n",
    "    'System Engineer' : 0.5, \n",
    "    'Solution Engineer' : 0.4, \n",
    "    'CPE Civil' : 0.2, \n",
    "    'CPE Electrical' : 0.5, \n",
    "    }\n",
    "     \n",
    "    eeq_multiplier_dict = {\n",
    "    'Commissioning Manager': 1.0,\n",
    "    'Commissioning Engineer' : 1.0, \n",
    "    'System Engineer' : 0.25, \n",
    "    'Solution Engineer' : 0.2, \n",
    "    'CPE Civil' : 0.1, \n",
    "    'CPE Electrical' : 0.1, \n",
    "    }  "
   ]
  },
  {
   "cell_type": "code",
   "execution_count": 2,
   "id": "5d0eaf88-96fa-47c8-8abf-c4205fa7ff65",
   "metadata": {},
   "outputs": [],
   "source": [
    "import pandas as pd"
   ]
  },
  {
   "cell_type": "code",
   "execution_count": 18,
   "id": "9145b6bc-00b0-44b5-a7ee-657a5853fa20",
   "metadata": {},
   "outputs": [
    {
     "data": {
      "text/html": [
       "<div>\n",
       "<style scoped>\n",
       "    .dataframe tbody tr th:only-of-type {\n",
       "        vertical-align: middle;\n",
       "    }\n",
       "\n",
       "    .dataframe tbody tr th {\n",
       "        vertical-align: top;\n",
       "    }\n",
       "\n",
       "    .dataframe thead th {\n",
       "        text-align: right;\n",
       "    }\n",
       "</style>\n",
       "<table border=\"1\" class=\"dataframe\">\n",
       "  <thead>\n",
       "    <tr style=\"text-align: right;\">\n",
       "      <th></th>\n",
       "      <th>role</th>\n",
       "      <th>epc</th>\n",
       "      <th>eeq</th>\n",
       "    </tr>\n",
       "  </thead>\n",
       "  <tbody>\n",
       "    <tr>\n",
       "      <th>0</th>\n",
       "      <td>Commissioning Manager</td>\n",
       "      <td>1.00</td>\n",
       "      <td>1.0</td>\n",
       "    </tr>\n",
       "    <tr>\n",
       "      <th>1</th>\n",
       "      <td>Commissioning Engineer</td>\n",
       "      <td>1.00</td>\n",
       "      <td>1.0</td>\n",
       "    </tr>\n",
       "    <tr>\n",
       "      <th>2</th>\n",
       "      <td>System Engineer</td>\n",
       "      <td>0.25</td>\n",
       "      <td>0.5</td>\n",
       "    </tr>\n",
       "    <tr>\n",
       "      <th>3</th>\n",
       "      <td>Solution Engineer</td>\n",
       "      <td>0.20</td>\n",
       "      <td>0.4</td>\n",
       "    </tr>\n",
       "    <tr>\n",
       "      <th>4</th>\n",
       "      <td>CPE Civil</td>\n",
       "      <td>0.10</td>\n",
       "      <td>0.2</td>\n",
       "    </tr>\n",
       "    <tr>\n",
       "      <th>5</th>\n",
       "      <td>CPE Electrical</td>\n",
       "      <td>0.10</td>\n",
       "      <td>0.5</td>\n",
       "    </tr>\n",
       "  </tbody>\n",
       "</table>\n",
       "</div>"
      ],
      "text/plain": [
       "                     role   epc  eeq\n",
       "0   Commissioning Manager  1.00  1.0\n",
       "1  Commissioning Engineer  1.00  1.0\n",
       "2         System Engineer  0.25  0.5\n",
       "3       Solution Engineer  0.20  0.4\n",
       "4               CPE Civil  0.10  0.2\n",
       "5          CPE Electrical  0.10  0.5"
      ]
     },
     "execution_count": 18,
     "metadata": {},
     "output_type": "execute_result"
    }
   ],
   "source": [
    "combo_dict = {}\n",
    "for k, v in eeq_multiplier_dict.items():\n",
    "    combo_dict[k] = [v, epc_multiplier_dict[k]]\n",
    "    \n",
    "df_coeffs = pd.DataFrame.from_dict(combo_dict, orient='index').reset_index()\n",
    "df_coeffs.columns = ['role','epc', 'eeq']\n",
    "df_coeffs.to_csv('workload_coeffiecients.csv', index=False)\n",
    "df_coeffs"
   ]
  },
  {
   "cell_type": "code",
   "execution_count": null,
   "id": "e92254b6-7bec-4315-afdd-fccdbe3ecfc4",
   "metadata": {},
   "outputs": [],
   "source": []
  }
 ],
 "metadata": {
  "kernelspec": {
   "display_name": "Python 3 (ipykernel)",
   "language": "python",
   "name": "python3"
  },
  "language_info": {
   "codemirror_mode": {
    "name": "ipython",
    "version": 3
   },
   "file_extension": ".py",
   "mimetype": "text/x-python",
   "name": "python",
   "nbconvert_exporter": "python",
   "pygments_lexer": "ipython3",
   "version": "3.10.6"
  }
 },
 "nbformat": 4,
 "nbformat_minor": 5
}
