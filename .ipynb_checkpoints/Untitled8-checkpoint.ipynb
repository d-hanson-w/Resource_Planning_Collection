{
 "cells": [
  {
   "cell_type": "code",
   "execution_count": 6,
   "id": "b496386a-76c7-47f1-921a-577464b24583",
   "metadata": {},
   "outputs": [],
   "source": [
    "\n",
    "\n",
    "rr_dict = {'role':'Commissioning Manager', 'region':'AMER'}\n",
    "\n",
    "filter_dict = rr_dict.copy()\n",
    "filter_dict['assigned_status'] = 'assigned'\n",
    "filter_dict['[ESO] Stage'] = 'G2 - Delivery'"
   ]
  },
  {
   "cell_type": "code",
   "execution_count": 8,
   "id": "7d846280-7c83-4556-9445-f14dc68b7a74",
   "metadata": {},
   "outputs": [
    {
     "data": {
      "text/plain": [
       "{'role': 'Commissioning Manager',\n",
       " 'region': 'AMER',\n",
       " 'assigned_status': 'assigned',\n",
       " '[ESO] Stage': 'G2 - Delivery'}"
      ]
     },
     "execution_count": 8,
     "metadata": {},
     "output_type": "execute_result"
    }
   ],
   "source": [
    "filter_dict"
   ]
  },
  {
   "cell_type": "code",
   "execution_count": null,
   "id": "d6ed290c-f7d6-4b05-aa9b-c8fc8e7bf864",
   "metadata": {},
   "outputs": [],
   "source": []
  },
  {
   "cell_type": "code",
   "execution_count": null,
   "id": "3edb0969-6661-46f6-a013-93541f512439",
   "metadata": {},
   "outputs": [],
   "source": [
    "def make_intermediate_rollup(df, filter_dict):\n",
    "    start_date='1/1/2022'\n",
    "    end_date='1/1/2024'\n",
    "    tindex = pd.date_range(start_date, end_date)\n",
    "\n",
    "    rr_filter_dict = {'role':'Commissioning Manager', 'region':'AMER', 'assigned_status':'assigned'}\n",
    "    \n",
    "    df_active = pwut.apply_filter_from_dict(df_day_data, filter_dict)\n",
    "    df_rollup = (\n",
    "        df_active[['date', 'num_projects', 'workload_units', 'num_eeq_projects', 'num_epc_projects', 'num_no_type_projects', 'eeq_workload', 'epc_workload']]\n",
    "        .groupby('date').sum()\n",
    "        .reindex(tindex)\n",
    "        .fillna(0)\n",
    "        .reset_index()\n",
    "    )\n",
    "    df_rollup\n",
    "    pass\n",
    "\n",
    "def make_sub_dfs(df, rr_dict):\n",
    "    \"\"\"\n",
    "    manually make a pivot table to troubhleshoot problems with actual pivot table\n",
    "    \"\"\" \n",
    "\n",
    "    filter_dict = rr_dict.copy()\n",
    "    filter_dict['assigned_status'] = 'assigned'\n",
    "    filter_dict['[ESO] Stage'] = 'G2 - Delivery'\n",
    "    df_assn_g2 = make_intermediate_rollup(df, filter_dict)\n",
    "    df_assn_g2.add_suffix('_assn_G2')\n",
    "\n",
    "    filter_dict = rr_dict.copy()\n",
    "    filter_dict['assigned_status'] = 'unassigned'\n",
    "    filter_dict['[ESO] Stage'] = 'G2 - Delivery'\n",
    "    df_una_g2 = make_intermediate_rollup(df, filter_dict)\n",
    "    df_una_g2.add_suffix('_una_G2')\n",
    "\n",
    "    filter_dict = rr_dict.copy()\n",
    "    filter_dict['assigned_status'] = 'assigned'\n",
    "    filter_dict['[ESO] Stage'] = 'A'\n",
    "    df_assn_a = make_intermediate_rollup(df, filter_dict)\n",
    "    df_assn_a.add_suffix('_assn_A')\n",
    "\n",
    "    filter_dict = rr_dict.copy()\n",
    "    filter_dict['assigned_status'] = 'unassigned'\n",
    "    filter_dict['[ESO] Stage'] = 'A'\n",
    "    df_una_a = make_intermediate_rollup(df, filter_dict)\n",
    "    df_una_a.add_suffix('_una_A')\n",
    "\n",
    "    data_frames = [df_assn_g2, df_una_g2, df_assn_a, df_una_a]\n",
    "    df_merged = reduce(lambda  left,right: pd.merge(left,right,on=['date'],\n",
    "                                            how='outer'), data_frames)\n",
    "    return"
   ]
  }
 ],
 "metadata": {
  "kernelspec": {
   "display_name": "Python 3 (ipykernel)",
   "language": "python",
   "name": "python3"
  },
  "language_info": {
   "codemirror_mode": {
    "name": "ipython",
    "version": 3
   },
   "file_extension": ".py",
   "mimetype": "text/x-python",
   "name": "python",
   "nbconvert_exporter": "python",
   "pygments_lexer": "ipython3",
   "version": "3.10.6"
  }
 },
 "nbformat": 4,
 "nbformat_minor": 5
}
