{
 "cells": [
  {
   "cell_type": "markdown",
   "id": "c1bc1a38-54cd-4534-a606-1ad0fed48321",
   "metadata": {},
   "source": [
    "# Data ETL"
   ]
  },
  {
   "cell_type": "code",
   "execution_count": 55,
   "id": "f002e494-e43d-4641-a098-727ea38cfe17",
   "metadata": {},
   "outputs": [],
   "source": [
    "import pandas as pd\n",
    "import plotly\n",
    "\n",
    "import plotly.express as px\n",
    "import importlib\n",
    "import asana"
   ]
  },
  {
   "cell_type": "code",
   "execution_count": 49,
   "id": "4437ac7e-ec59-4e7e-80e6-0bb91efd7189",
   "metadata": {},
   "outputs": [
    {
     "data": {
      "text/plain": [
       "<module 'wartsila_asana_utils' from 'C:\\\\Users\\\\dha042\\\\Documents\\\\W_Development\\\\Resource_Planning\\\\wartsila_asana_utils.py'>"
      ]
     },
     "execution_count": 49,
     "metadata": {},
     "output_type": "execute_result"
    }
   ],
   "source": [
    "import wartsila_asana_utils as wa\n",
    "importlib.reload(wa)"
   ]
  },
  {
   "cell_type": "markdown",
   "id": "aba41171-92fa-4ca1-a555-7ae331309880",
   "metadata": {
    "tags": []
   },
   "source": [
    "#### In the future consider using api call filters for improving overall efficiency"
   ]
  },
  {
   "cell_type": "code",
   "execution_count": 2,
   "id": "e191328a-588d-49ac-99c1-df7a2d9aea95",
   "metadata": {},
   "outputs": [],
   "source": [
    "def get_api_rsc_tasks():\n",
    "\n",
    "\t#!! Remove before deployment \n",
    "\tdh_wart_key = \"1/1202520154085312:4c57c9b9414b65f55d83d08d266cde29\"\n",
    "\twartsila_workspace = '8836488480224'\n",
    "\tresourcing_project_gid = '1202369325016953'\n",
    "\n",
    "\t#establish asana client\n",
    "\tclient = asana.Client.access_token(dh_wart_key)\n",
    "\n",
    "\ttask_fields = ['name','gid','assignee.name','start_on','due_on', 'custom_fields', 'projects.name']\n",
    "\trsc_tasks2 = client.tasks.get_tasks_for_project(resourcing_project_gid, opt_fields=task_fields) # 'custom_fields'])\n",
    "\n",
    "\t# unpack generator\n",
    "\trsc_task_list = list()\n",
    "\tfor task in rsc_tasks2:\n",
    "\t    rsc_task_list.append(task)\n",
    "\treturn rsc_task_list"
   ]
  },
  {
   "cell_type": "markdown",
   "id": "fbeacbbe-7695-4b6c-9ff0-803714885f70",
   "metadata": {},
   "source": [
    "## Preprocessing Task Data"
   ]
  },
  {
   "cell_type": "code",
   "execution_count": 3,
   "id": "306df1d4-e22d-484f-8d51-d191ca224c1a",
   "metadata": {},
   "outputs": [],
   "source": [
    "def get_project_type(task):\n",
    "    for cf in task['custom_fields']:\n",
    "        if cf['name'] == 'Project Type [ESO]':\n",
    "            if cf['enum_value'] == None: \n",
    "                return 'no_type'\n",
    "            return cf['enum_value']['name']\n",
    "    else: \n",
    "        return 'no_type'"
   ]
  },
  {
   "cell_type": "code",
   "execution_count": 4,
   "id": "4048526e-6a2e-4a4d-86da-9040f831dc72",
   "metadata": {},
   "outputs": [],
   "source": [
    "def get_role_eso_value(task): \n",
    "    for cf in task['custom_fields']:\n",
    "        if cf['name'] == 'Role [ESO]':\n",
    "            if cf['enum_value'] == None: \n",
    "                return 'no_role'\n",
    "            return cf['enum_value']['name']\n",
    "    else: \n",
    "        return 'no_role'"
   ]
  },
  {
   "cell_type": "code",
   "execution_count": 5,
   "id": "ad80dd7c-7059-440d-b3ef-d42c0c0ba9d7",
   "metadata": {},
   "outputs": [],
   "source": [
    "def get_assignee_name(task):\n",
    "    assignee = task['assignee']\n",
    "    if assignee == None:\n",
    "        return 'unassigned'\n",
    "    else: \n",
    "        return assignee['name']"
   ]
  },
  {
   "cell_type": "code",
   "execution_count": 6,
   "id": "ba1acaee-2f21-4383-a4e5-9f0b2c851d4b",
   "metadata": {},
   "outputs": [],
   "source": [
    "def get_task_region(task):\n",
    "    for cf in task['custom_fields']:\n",
    "        if cf['name'] == 'Region [ESO]':\n",
    "            if cf['enum_value'] == None:\n",
    "                return 'no_region'\n",
    "            else:    \n",
    "                return cf['enum_value']['name']\n",
    "    return 'no_region'"
   ]
  },
  {
   "cell_type": "code",
   "execution_count": 7,
   "id": "e7fb7062-3408-4dfc-b0af-4b2c2220c39a",
   "metadata": {},
   "outputs": [],
   "source": [
    "def get_eso_project_name(task):\n",
    "    eso_pname = [p['name'] for p in task['projects'] if p['name'] != 'Delivery Team Resources']\n",
    "    if not eso_pname: \n",
    "        return 'no_eso_project'\n",
    "    elif len(eso_pname) == 1: \n",
    "        return eso_pname[0]\n",
    "    else:\n",
    "        return 'project_name_error'\n",
    "    "
   ]
  },
  {
   "cell_type": "code",
   "execution_count": 8,
   "id": "30481c63-590e-4b8a-b6d5-38a392e139f8",
   "metadata": {},
   "outputs": [],
   "source": [
    "def convert_api_task_to_row(task):\n",
    "    assignee_name = get_assignee_name(task)\n",
    "    region = get_task_region(task)\n",
    "    eso_project_name = get_eso_project_name(task)\n",
    "    role = get_role_eso_value(task)\n",
    "    project_type = get_project_type(task)\n",
    "    row = [assignee_name, region, eso_project_name, role, task['start_on'], task['due_on'], task['gid'], task['name'], project_type]\n",
    "    return row"
   ]
  },
  {
   "cell_type": "code",
   "execution_count": 23,
   "id": "97e8d20c-b203-4ee7-95e0-1b60b5656991",
   "metadata": {},
   "outputs": [],
   "source": [
    "def make_rsc_tasks_df(task_list):\n",
    "    resource_rows = [convert_api_task_to_row(t) for t in task_list]\n",
    "    resource_tasks_clean = pd.DataFrame(resource_rows, columns=['assignee_name', 'region', 'eso_project_name', 'role', 'start_date', 'due_date', 'gid', 'task_name', 'project_type']) \n",
    "\n",
    "    resource_tasks_clean['start_date'] =  pd.to_datetime(resource_tasks_clean['start_date'], format='%Y-%m-%d').astype('datetime64[D]')\n",
    "    resource_tasks_clean['due_date'] =  pd.to_datetime(resource_tasks_clean['due_date'], format='%Y-%m-%d').astype('datetime64[D]')\n",
    "\n",
    "    return resource_tasks_clean"
   ]
  },
  {
   "cell_type": "markdown",
   "id": "8df357c0-6674-4f79-9de2-6b6c4de5dbe0",
   "metadata": {},
   "source": [
    "### simulating in-app usage"
   ]
  },
  {
   "cell_type": "code",
   "execution_count": 24,
   "id": "0f67c911-e044-4fa9-ad3c-3960d4e1e0a9",
   "metadata": {
    "tags": []
   },
   "outputs": [
    {
     "data": {
      "text/html": [
       "<div>\n",
       "<style scoped>\n",
       "    .dataframe tbody tr th:only-of-type {\n",
       "        vertical-align: middle;\n",
       "    }\n",
       "\n",
       "    .dataframe tbody tr th {\n",
       "        vertical-align: top;\n",
       "    }\n",
       "\n",
       "    .dataframe thead th {\n",
       "        text-align: right;\n",
       "    }\n",
       "</style>\n",
       "<table border=\"1\" class=\"dataframe\">\n",
       "  <thead>\n",
       "    <tr style=\"text-align: right;\">\n",
       "      <th></th>\n",
       "      <th>assignee_name</th>\n",
       "      <th>region</th>\n",
       "      <th>eso_project_name</th>\n",
       "      <th>role</th>\n",
       "      <th>start_date</th>\n",
       "      <th>due_date</th>\n",
       "      <th>gid</th>\n",
       "      <th>task_name</th>\n",
       "      <th>project_type</th>\n",
       "    </tr>\n",
       "  </thead>\n",
       "  <tbody>\n",
       "    <tr>\n",
       "      <th>0</th>\n",
       "      <td>unassigned</td>\n",
       "      <td>no_region</td>\n",
       "      <td>OP/795054 - Letzer B</td>\n",
       "      <td>System Engineer</td>\n",
       "      <td>2022-10-14</td>\n",
       "      <td>2023-10-16</td>\n",
       "      <td>1202710519888057</td>\n",
       "      <td>Systems Engineer - Letzer B</td>\n",
       "      <td>no_type</td>\n",
       "    </tr>\n",
       "    <tr>\n",
       "      <th>1</th>\n",
       "      <td>unassigned</td>\n",
       "      <td>no_region</td>\n",
       "      <td>OP/795054 - Letzer B</td>\n",
       "      <td>Project Manager</td>\n",
       "      <td>2022-10-14</td>\n",
       "      <td>2023-10-16</td>\n",
       "      <td>1202710519842265</td>\n",
       "      <td>Project Manager - Letzer B</td>\n",
       "      <td>no_type</td>\n",
       "    </tr>\n",
       "    <tr>\n",
       "      <th>2</th>\n",
       "      <td>unassigned</td>\n",
       "      <td>no_region</td>\n",
       "      <td>OP/795054 - Letzer B</td>\n",
       "      <td>Commissioning Manager</td>\n",
       "      <td>2023-04-18</td>\n",
       "      <td>2023-10-16</td>\n",
       "      <td>1202710519895920</td>\n",
       "      <td>Commissioning Manager - Letzer B</td>\n",
       "      <td>no_type</td>\n",
       "    </tr>\n",
       "    <tr>\n",
       "      <th>3</th>\n",
       "      <td>unassigned</td>\n",
       "      <td>no_region</td>\n",
       "      <td>OP/795054 - Letzer B</td>\n",
       "      <td>Commissioning Engineer</td>\n",
       "      <td>2023-04-18</td>\n",
       "      <td>2023-10-16</td>\n",
       "      <td>1202710519901601</td>\n",
       "      <td>Commissioning Engineer - Letzer B</td>\n",
       "      <td>no_type</td>\n",
       "    </tr>\n",
       "    <tr>\n",
       "      <th>4</th>\n",
       "      <td>unassigned</td>\n",
       "      <td>no_region</td>\n",
       "      <td>OP/795054 - Letzer B</td>\n",
       "      <td>Solution Engineer</td>\n",
       "      <td>2023-04-18</td>\n",
       "      <td>2023-10-16</td>\n",
       "      <td>1202710519906314</td>\n",
       "      <td>Solutions Engineer - Letzer B</td>\n",
       "      <td>no_type</td>\n",
       "    </tr>\n",
       "    <tr>\n",
       "      <th>...</th>\n",
       "      <td>...</td>\n",
       "      <td>...</td>\n",
       "      <td>...</td>\n",
       "      <td>...</td>\n",
       "      <td>...</td>\n",
       "      <td>...</td>\n",
       "      <td>...</td>\n",
       "      <td>...</td>\n",
       "      <td>...</td>\n",
       "    </tr>\n",
       "    <tr>\n",
       "      <th>427</th>\n",
       "      <td>Nabeel Yaseen</td>\n",
       "      <td>EUAF</td>\n",
       "      <td>P/22201 SSE Salisbury 49.5MW</td>\n",
       "      <td>Solution Engineer</td>\n",
       "      <td>2022-04-01</td>\n",
       "      <td>2023-09-22</td>\n",
       "      <td>1202022529721039</td>\n",
       "      <td>Solutions Hardware Engineer - SSE Salisbury</td>\n",
       "      <td>EPC</td>\n",
       "    </tr>\n",
       "    <tr>\n",
       "      <th>428</th>\n",
       "      <td>alec.stablow@wartsila.com</td>\n",
       "      <td>EUAF</td>\n",
       "      <td>P/22201 SSE Salisbury 49.5MW</td>\n",
       "      <td>SW Engineer</td>\n",
       "      <td>2022-04-01</td>\n",
       "      <td>2023-09-22</td>\n",
       "      <td>1202022529728651</td>\n",
       "      <td>Solutions Software Engineer - SSE Salisbury</td>\n",
       "      <td>EPC</td>\n",
       "    </tr>\n",
       "    <tr>\n",
       "      <th>429</th>\n",
       "      <td>unassigned</td>\n",
       "      <td>EUAF</td>\n",
       "      <td>P/22201 SSE Salisbury 49.5MW</td>\n",
       "      <td>Commissioning Manager</td>\n",
       "      <td>NaT</td>\n",
       "      <td>NaT</td>\n",
       "      <td>1202022529751892</td>\n",
       "      <td>Commissioning Engineer - SSE Salisbury</td>\n",
       "      <td>EPC</td>\n",
       "    </tr>\n",
       "    <tr>\n",
       "      <th>430</th>\n",
       "      <td>unassigned</td>\n",
       "      <td>EUAF</td>\n",
       "      <td>P/22201 SSE Salisbury 49.5MW</td>\n",
       "      <td>Commissioning Manager</td>\n",
       "      <td>NaT</td>\n",
       "      <td>NaT</td>\n",
       "      <td>1202022529762639</td>\n",
       "      <td>Site Manager - SSE Salisbury</td>\n",
       "      <td>EPC</td>\n",
       "    </tr>\n",
       "    <tr>\n",
       "      <th>431</th>\n",
       "      <td>unassigned</td>\n",
       "      <td>EUAF</td>\n",
       "      <td>P/22201 SSE Salisbury 49.5MW</td>\n",
       "      <td>Commissioning Manager</td>\n",
       "      <td>NaT</td>\n",
       "      <td>NaT</td>\n",
       "      <td>1202022529774669</td>\n",
       "      <td>Electrical Supervisor - SSE Salisbury</td>\n",
       "      <td>EPC</td>\n",
       "    </tr>\n",
       "  </tbody>\n",
       "</table>\n",
       "<p>432 rows × 9 columns</p>\n",
       "</div>"
      ],
      "text/plain": [
       "                 assignee_name     region              eso_project_name  \\\n",
       "0                   unassigned  no_region          OP/795054 - Letzer B   \n",
       "1                   unassigned  no_region          OP/795054 - Letzer B   \n",
       "2                   unassigned  no_region          OP/795054 - Letzer B   \n",
       "3                   unassigned  no_region          OP/795054 - Letzer B   \n",
       "4                   unassigned  no_region          OP/795054 - Letzer B   \n",
       "..                         ...        ...                           ...   \n",
       "427              Nabeel Yaseen       EUAF  P/22201 SSE Salisbury 49.5MW   \n",
       "428  alec.stablow@wartsila.com       EUAF  P/22201 SSE Salisbury 49.5MW   \n",
       "429                 unassigned       EUAF  P/22201 SSE Salisbury 49.5MW   \n",
       "430                 unassigned       EUAF  P/22201 SSE Salisbury 49.5MW   \n",
       "431                 unassigned       EUAF  P/22201 SSE Salisbury 49.5MW   \n",
       "\n",
       "                       role start_date   due_date               gid  \\\n",
       "0           System Engineer 2022-10-14 2023-10-16  1202710519888057   \n",
       "1           Project Manager 2022-10-14 2023-10-16  1202710519842265   \n",
       "2     Commissioning Manager 2023-04-18 2023-10-16  1202710519895920   \n",
       "3    Commissioning Engineer 2023-04-18 2023-10-16  1202710519901601   \n",
       "4         Solution Engineer 2023-04-18 2023-10-16  1202710519906314   \n",
       "..                      ...        ...        ...               ...   \n",
       "427       Solution Engineer 2022-04-01 2023-09-22  1202022529721039   \n",
       "428             SW Engineer 2022-04-01 2023-09-22  1202022529728651   \n",
       "429   Commissioning Manager        NaT        NaT  1202022529751892   \n",
       "430   Commissioning Manager        NaT        NaT  1202022529762639   \n",
       "431   Commissioning Manager        NaT        NaT  1202022529774669   \n",
       "\n",
       "                                       task_name project_type  \n",
       "0                    Systems Engineer - Letzer B      no_type  \n",
       "1                     Project Manager - Letzer B      no_type  \n",
       "2               Commissioning Manager - Letzer B      no_type  \n",
       "3              Commissioning Engineer - Letzer B      no_type  \n",
       "4                  Solutions Engineer - Letzer B      no_type  \n",
       "..                                           ...          ...  \n",
       "427  Solutions Hardware Engineer - SSE Salisbury          EPC  \n",
       "428  Solutions Software Engineer - SSE Salisbury          EPC  \n",
       "429       Commissioning Engineer - SSE Salisbury          EPC  \n",
       "430                 Site Manager - SSE Salisbury          EPC  \n",
       "431        Electrical Supervisor - SSE Salisbury          EPC  \n",
       "\n",
       "[432 rows x 9 columns]"
      ]
     },
     "execution_count": 24,
     "metadata": {},
     "output_type": "execute_result"
    }
   ],
   "source": [
    "rsc_task_list = get_api_rsc_tasks()\n",
    "rsc_tasks_clean = make_rsc_tasks_df(rsc_task_list)\n",
    "rsc_tasks_clean"
   ]
  },
  {
   "cell_type": "markdown",
   "id": "c4bc0dd6-5566-4087-8aec-f374daf39a9b",
   "metadata": {},
   "source": [
    "# Filtering and Analyzing the Data"
   ]
  },
  {
   "cell_type": "code",
   "execution_count": 11,
   "id": "9cd7c91a-1a04-4b57-ae84-28cb723dbc11",
   "metadata": {},
   "outputs": [],
   "source": [
    "def filter_tasks_by_time_window(df, early_edge, late_edge): \n",
    "    df = df[(df['start_date'] <= late_edge) & (df['due_date'] >= early_edge)]\n",
    "    df.sort_values(by=['start_date'])\n",
    "    return df"
   ]
  },
  {
   "cell_type": "code",
   "execution_count": 12,
   "id": "1242f789-92e7-4bb8-8f59-01b96d00df29",
   "metadata": {},
   "outputs": [],
   "source": [
    "def filter_tasks_by_role(df, roles_list):\n",
    "    if not roles_list: \n",
    "        return df\n",
    "    df = df[df['role'].isin(roles_list)]\n",
    "    return df"
   ]
  },
  {
   "cell_type": "code",
   "execution_count": 13,
   "id": "ce591aa8-9b7d-4911-a23b-b9ca92b49a83",
   "metadata": {},
   "outputs": [],
   "source": [
    "def filter_tasks_by_assignee(df, assignees_list):\n",
    "    if not assignees_list:\n",
    "        return df\n",
    "    df = df[df['assignee_name'].isin(assignees_list)]\n",
    "    return df"
   ]
  },
  {
   "cell_type": "code",
   "execution_count": 14,
   "id": "15dbbe26-7a13-43aa-8cba-944142b3089d",
   "metadata": {},
   "outputs": [],
   "source": [
    "def filter_tasks_by_region(df, region_list):\n",
    "    if not region_list:\n",
    "        return df\n",
    "    return df[df['region'].isin(region_list)]\n",
    "               "
   ]
  },
  {
   "cell_type": "code",
   "execution_count": 15,
   "id": "1fc3771c-862b-480f-b700-e14abd69f686",
   "metadata": {},
   "outputs": [],
   "source": [
    "def remove_unassigned_tasks(df):\n",
    "    return df[df['assignee_name'] != 'unassigned']"
   ]
  },
  {
   "cell_type": "code",
   "execution_count": 50,
   "id": "dbb2f103-ff37-4f0e-9efe-b53ebcdb20c4",
   "metadata": {},
   "outputs": [],
   "source": [
    "left_edge = '2022-08-01'\n",
    "right_edge = '2022-09-01'\n",
    "selected_roles = [] #['CPE Electrical']\n",
    "selected_assignees = []\n",
    "selected_regions = ['AMER', 'MEA','AFEU']\n",
    "\n",
    "df_rf = filter_tasks_by_time_window(rsc_tasks_clean, left_edge, right_edge)\n",
    "df_rf = filter_tasks_by_role(df_rf, selected_roles)\n",
    "df_rf = filter_tasks_by_assignee(df_rf, selected_assignees)\n",
    "df_rf = filter_tasks_by_region(df_rf, selected_regions)"
   ]
  },
  {
   "cell_type": "code",
   "execution_count": 17,
   "id": "649fd3c7-ffee-4f9c-8764-a8270227b07e",
   "metadata": {},
   "outputs": [
    {
     "data": {
      "text/plain": [
       "False"
      ]
     },
     "execution_count": 17,
     "metadata": {},
     "output_type": "execute_result"
    }
   ],
   "source": [
    "df_na = remove_unassigned_tasks(df_rf)\n",
    "'unassigned' in df_na['assignee_name'].unique()"
   ]
  },
  {
   "cell_type": "code",
   "execution_count": 51,
   "id": "7431b004-4ad7-4797-a300-603e733e9f6d",
   "metadata": {
    "tags": []
   },
   "outputs": [
    {
     "data": {
      "text/html": [
       "<div>\n",
       "<style scoped>\n",
       "    .dataframe tbody tr th:only-of-type {\n",
       "        vertical-align: middle;\n",
       "    }\n",
       "\n",
       "    .dataframe tbody tr th {\n",
       "        vertical-align: top;\n",
       "    }\n",
       "\n",
       "    .dataframe thead th {\n",
       "        text-align: right;\n",
       "    }\n",
       "</style>\n",
       "<table border=\"1\" class=\"dataframe\">\n",
       "  <thead>\n",
       "    <tr style=\"text-align: right;\">\n",
       "      <th></th>\n",
       "      <th>assignee_name</th>\n",
       "      <th>region</th>\n",
       "      <th>eso_project_name</th>\n",
       "      <th>role</th>\n",
       "      <th>start_date</th>\n",
       "      <th>due_date</th>\n",
       "      <th>gid</th>\n",
       "      <th>task_name</th>\n",
       "      <th>project_type</th>\n",
       "    </tr>\n",
       "  </thead>\n",
       "  <tbody>\n",
       "    <tr>\n",
       "      <th>336</th>\n",
       "      <td>Antti Pitkänen</td>\n",
       "      <td>MEA</td>\n",
       "      <td>P/21209 Beimen BESS</td>\n",
       "      <td>Commissioning Manager</td>\n",
       "      <td>2022-08-22</td>\n",
       "      <td>2022-09-16</td>\n",
       "      <td>1201917412620228</td>\n",
       "      <td>Commissioning Engineer - Beimen</td>\n",
       "      <td>no_type</td>\n",
       "    </tr>\n",
       "    <tr>\n",
       "      <th>299</th>\n",
       "      <td>Yuxuan Wang</td>\n",
       "      <td>MEA</td>\n",
       "      <td>P/21205 Zenith - Tanami</td>\n",
       "      <td>Commissioning Manager</td>\n",
       "      <td>2022-08-19</td>\n",
       "      <td>2022-08-26</td>\n",
       "      <td>1202736901666541</td>\n",
       "      <td>Commissioning Engineer [remote] - Zenith Tanami</td>\n",
       "      <td>no_type</td>\n",
       "    </tr>\n",
       "    <tr>\n",
       "      <th>322</th>\n",
       "      <td>Steve Wilmot</td>\n",
       "      <td>MEA</td>\n",
       "      <td>P/20202 IRPH - Ormoc</td>\n",
       "      <td>Commissioning Manager</td>\n",
       "      <td>2022-08-15</td>\n",
       "      <td>2022-10-31</td>\n",
       "      <td>1201916745738215</td>\n",
       "      <td>Commissioning Engineer - Ormoc</td>\n",
       "      <td>no_type</td>\n",
       "    </tr>\n",
       "    <tr>\n",
       "      <th>361</th>\n",
       "      <td>pn.reddy@wartsila.com</td>\n",
       "      <td>MEA</td>\n",
       "      <td>P/21201 AGL - TIB</td>\n",
       "      <td>Commissioning Manager</td>\n",
       "      <td>2022-08-10</td>\n",
       "      <td>2023-04-12</td>\n",
       "      <td>1202736901666543</td>\n",
       "      <td>Commissioning Engineer - AGL TIB</td>\n",
       "      <td>no_type</td>\n",
       "    </tr>\n",
       "    <tr>\n",
       "      <th>212</th>\n",
       "      <td>Antti Pitkänen</td>\n",
       "      <td>AMER</td>\n",
       "      <td>P/21454 Enel Blue Jay</td>\n",
       "      <td>Commissioning Manager</td>\n",
       "      <td>2022-08-10</td>\n",
       "      <td>2022-10-31</td>\n",
       "      <td>1202665598646674</td>\n",
       "      <td>Commissioning Engineer - Enel Blue Jay</td>\n",
       "      <td>no_type</td>\n",
       "    </tr>\n",
       "    <tr>\n",
       "      <th>...</th>\n",
       "      <td>...</td>\n",
       "      <td>...</td>\n",
       "      <td>...</td>\n",
       "      <td>...</td>\n",
       "      <td>...</td>\n",
       "      <td>...</td>\n",
       "      <td>...</td>\n",
       "      <td>...</td>\n",
       "      <td>...</td>\n",
       "    </tr>\n",
       "    <tr>\n",
       "      <th>179</th>\n",
       "      <td>Brian Pizzi</td>\n",
       "      <td>AMER</td>\n",
       "      <td>P/20463 Waiawa</td>\n",
       "      <td>Solution Engineer</td>\n",
       "      <td>2020-11-01</td>\n",
       "      <td>2022-09-16</td>\n",
       "      <td>1201929444378086</td>\n",
       "      <td>Solutions Engineer - Waiawa</td>\n",
       "      <td>no_type</td>\n",
       "    </tr>\n",
       "    <tr>\n",
       "      <th>178</th>\n",
       "      <td>Derek Chung</td>\n",
       "      <td>AMER</td>\n",
       "      <td>P/20463 Waiawa</td>\n",
       "      <td>System Engineer</td>\n",
       "      <td>2020-11-01</td>\n",
       "      <td>2022-09-16</td>\n",
       "      <td>1201929444378082</td>\n",
       "      <td>Systems Engineer - Waiawa</td>\n",
       "      <td>no_type</td>\n",
       "    </tr>\n",
       "    <tr>\n",
       "      <th>180</th>\n",
       "      <td>ronald.baldwin.@wartsila.com</td>\n",
       "      <td>AMER</td>\n",
       "      <td>P/20463 Waiawa</td>\n",
       "      <td>SW Engineer</td>\n",
       "      <td>2020-11-01</td>\n",
       "      <td>2022-09-16</td>\n",
       "      <td>1201931074059718</td>\n",
       "      <td>Software Engineer - Waiawa</td>\n",
       "      <td>no_type</td>\n",
       "    </tr>\n",
       "    <tr>\n",
       "      <th>181</th>\n",
       "      <td>Daniel Palacios</td>\n",
       "      <td>AMER</td>\n",
       "      <td>P/20463 Waiawa</td>\n",
       "      <td>Project Manager</td>\n",
       "      <td>2020-11-01</td>\n",
       "      <td>2022-09-16</td>\n",
       "      <td>1201931074079005</td>\n",
       "      <td>Project Manager - Waiawa</td>\n",
       "      <td>no_type</td>\n",
       "    </tr>\n",
       "    <tr>\n",
       "      <th>182</th>\n",
       "      <td>Emmanuel Bacani</td>\n",
       "      <td>AMER</td>\n",
       "      <td>P/20463 Waiawa</td>\n",
       "      <td>Commissioning Engineer</td>\n",
       "      <td>2020-11-01</td>\n",
       "      <td>2022-09-16</td>\n",
       "      <td>1201931074095886</td>\n",
       "      <td>Commissioning Engineer - Waiawa</td>\n",
       "      <td>no_type</td>\n",
       "    </tr>\n",
       "  </tbody>\n",
       "</table>\n",
       "<p>131 rows × 9 columns</p>\n",
       "</div>"
      ],
      "text/plain": [
       "                    assignee_name region         eso_project_name  \\\n",
       "336                Antti Pitkänen    MEA      P/21209 Beimen BESS   \n",
       "299                   Yuxuan Wang    MEA  P/21205 Zenith - Tanami   \n",
       "322                  Steve Wilmot    MEA     P/20202 IRPH - Ormoc   \n",
       "361         pn.reddy@wartsila.com    MEA        P/21201 AGL - TIB   \n",
       "212                Antti Pitkänen   AMER    P/21454 Enel Blue Jay   \n",
       "..                            ...    ...                      ...   \n",
       "179                   Brian Pizzi   AMER           P/20463 Waiawa   \n",
       "178                   Derek Chung   AMER           P/20463 Waiawa   \n",
       "180  ronald.baldwin.@wartsila.com   AMER           P/20463 Waiawa   \n",
       "181               Daniel Palacios   AMER           P/20463 Waiawa   \n",
       "182               Emmanuel Bacani   AMER           P/20463 Waiawa   \n",
       "\n",
       "                       role start_date   due_date               gid  \\\n",
       "336   Commissioning Manager 2022-08-22 2022-09-16  1201917412620228   \n",
       "299   Commissioning Manager 2022-08-19 2022-08-26  1202736901666541   \n",
       "322   Commissioning Manager 2022-08-15 2022-10-31  1201916745738215   \n",
       "361   Commissioning Manager 2022-08-10 2023-04-12  1202736901666543   \n",
       "212   Commissioning Manager 2022-08-10 2022-10-31  1202665598646674   \n",
       "..                      ...        ...        ...               ...   \n",
       "179       Solution Engineer 2020-11-01 2022-09-16  1201929444378086   \n",
       "178         System Engineer 2020-11-01 2022-09-16  1201929444378082   \n",
       "180             SW Engineer 2020-11-01 2022-09-16  1201931074059718   \n",
       "181         Project Manager 2020-11-01 2022-09-16  1201931074079005   \n",
       "182  Commissioning Engineer 2020-11-01 2022-09-16  1201931074095886   \n",
       "\n",
       "                                           task_name project_type  \n",
       "336                  Commissioning Engineer - Beimen      no_type  \n",
       "299  Commissioning Engineer [remote] - Zenith Tanami      no_type  \n",
       "322                   Commissioning Engineer - Ormoc      no_type  \n",
       "361                 Commissioning Engineer - AGL TIB      no_type  \n",
       "212           Commissioning Engineer - Enel Blue Jay      no_type  \n",
       "..                                               ...          ...  \n",
       "179                      Solutions Engineer - Waiawa      no_type  \n",
       "178                        Systems Engineer - Waiawa      no_type  \n",
       "180                       Software Engineer - Waiawa      no_type  \n",
       "181                         Project Manager - Waiawa      no_type  \n",
       "182                  Commissioning Engineer - Waiawa      no_type  \n",
       "\n",
       "[131 rows x 9 columns]"
      ]
     },
     "execution_count": 51,
     "metadata": {},
     "output_type": "execute_result"
    }
   ],
   "source": [
    "df_rf.sort_values(by=['start_date'], ascending=False)"
   ]
  },
  {
   "cell_type": "code",
   "execution_count": 19,
   "id": "17157ced-3e24-44bd-9f91-6ac08603f135",
   "metadata": {},
   "outputs": [],
   "source": [
    "def prep_task_display_table(df):\n",
    "    df = df[['assignee_name', 'region', 'eso_project_name', 'role', 'start_date', 'due_date', 'project_type']]\n",
    "    return df"
   ]
  },
  {
   "cell_type": "code",
   "execution_count": 26,
   "id": "16d79fd9-b6db-4dd5-9a75-a08f17efd436",
   "metadata": {
    "tags": []
   },
   "outputs": [
    {
     "data": {
      "text/html": [
       "<div>\n",
       "<style scoped>\n",
       "    .dataframe tbody tr th:only-of-type {\n",
       "        vertical-align: middle;\n",
       "    }\n",
       "\n",
       "    .dataframe tbody tr th {\n",
       "        vertical-align: top;\n",
       "    }\n",
       "\n",
       "    .dataframe thead th {\n",
       "        text-align: right;\n",
       "    }\n",
       "</style>\n",
       "<table border=\"1\" class=\"dataframe\">\n",
       "  <thead>\n",
       "    <tr style=\"text-align: right;\">\n",
       "      <th></th>\n",
       "      <th>assignee_name</th>\n",
       "      <th>region</th>\n",
       "      <th>eso_project_name</th>\n",
       "      <th>role</th>\n",
       "      <th>start_date</th>\n",
       "      <th>due_date</th>\n",
       "      <th>project_type</th>\n",
       "    </tr>\n",
       "  </thead>\n",
       "  <tbody>\n",
       "    <tr>\n",
       "      <th>121</th>\n",
       "      <td>Jason Hoffman</td>\n",
       "      <td>AMER</td>\n",
       "      <td>P/21463 LeConte Energy Storage</td>\n",
       "      <td>System Engineer</td>\n",
       "      <td>2021-10-25</td>\n",
       "      <td>2022-09-22</td>\n",
       "      <td>no_type</td>\n",
       "    </tr>\n",
       "    <tr>\n",
       "      <th>122</th>\n",
       "      <td>Mina Ibrahim</td>\n",
       "      <td>AMER</td>\n",
       "      <td>P/21463 LeConte Energy Storage</td>\n",
       "      <td>CPE Electrical</td>\n",
       "      <td>2021-10-25</td>\n",
       "      <td>2022-09-22</td>\n",
       "      <td>no_type</td>\n",
       "    </tr>\n",
       "    <tr>\n",
       "      <th>123</th>\n",
       "      <td>Brian Pizzi</td>\n",
       "      <td>AMER</td>\n",
       "      <td>P/21463 LeConte Energy Storage</td>\n",
       "      <td>Solution Engineer</td>\n",
       "      <td>2022-01-01</td>\n",
       "      <td>2022-09-22</td>\n",
       "      <td>no_type</td>\n",
       "    </tr>\n",
       "    <tr>\n",
       "      <th>124</th>\n",
       "      <td>alec.stablow@wartsila.com</td>\n",
       "      <td>AMER</td>\n",
       "      <td>P/21463 LeConte Energy Storage</td>\n",
       "      <td>SW Engineer</td>\n",
       "      <td>2021-10-25</td>\n",
       "      <td>2022-09-22</td>\n",
       "      <td>no_type</td>\n",
       "    </tr>\n",
       "    <tr>\n",
       "      <th>125</th>\n",
       "      <td>unassigned</td>\n",
       "      <td>AMER</td>\n",
       "      <td>P/21463 LeConte Energy Storage</td>\n",
       "      <td>Project Manager</td>\n",
       "      <td>2021-10-27</td>\n",
       "      <td>2022-10-02</td>\n",
       "      <td>no_type</td>\n",
       "    </tr>\n",
       "    <tr>\n",
       "      <th>...</th>\n",
       "      <td>...</td>\n",
       "      <td>...</td>\n",
       "      <td>...</td>\n",
       "      <td>...</td>\n",
       "      <td>...</td>\n",
       "      <td>...</td>\n",
       "      <td>...</td>\n",
       "    </tr>\n",
       "    <tr>\n",
       "      <th>362</th>\n",
       "      <td>Lakshmanan Nellaipalli</td>\n",
       "      <td>MEA</td>\n",
       "      <td>P/21201 AGL - TIB</td>\n",
       "      <td>Project Manager</td>\n",
       "      <td>2022-07-29</td>\n",
       "      <td>2023-04-12</td>\n",
       "      <td>no_type</td>\n",
       "    </tr>\n",
       "    <tr>\n",
       "      <th>363</th>\n",
       "      <td>James Bott</td>\n",
       "      <td>MEA</td>\n",
       "      <td>P/21201 AGL - TIB</td>\n",
       "      <td>SW Engineer</td>\n",
       "      <td>2022-07-29</td>\n",
       "      <td>2023-04-12</td>\n",
       "      <td>no_type</td>\n",
       "    </tr>\n",
       "    <tr>\n",
       "      <th>364</th>\n",
       "      <td>unassigned</td>\n",
       "      <td>MEA</td>\n",
       "      <td>P/21201 AGL - TIB</td>\n",
       "      <td>Solution Engineer</td>\n",
       "      <td>2022-07-29</td>\n",
       "      <td>2023-04-12</td>\n",
       "      <td>no_type</td>\n",
       "    </tr>\n",
       "    <tr>\n",
       "      <th>365</th>\n",
       "      <td>Marc Pelletier</td>\n",
       "      <td>MEA</td>\n",
       "      <td>P/21201 AGL - TIB</td>\n",
       "      <td>CPE Electrical</td>\n",
       "      <td>2022-07-29</td>\n",
       "      <td>2023-04-12</td>\n",
       "      <td>no_type</td>\n",
       "    </tr>\n",
       "    <tr>\n",
       "      <th>366</th>\n",
       "      <td>Howard Fu</td>\n",
       "      <td>MEA</td>\n",
       "      <td>P/21201 AGL - TIB</td>\n",
       "      <td>System Engineer</td>\n",
       "      <td>2022-07-29</td>\n",
       "      <td>2023-04-12</td>\n",
       "      <td>no_type</td>\n",
       "    </tr>\n",
       "  </tbody>\n",
       "</table>\n",
       "<p>131 rows × 7 columns</p>\n",
       "</div>"
      ],
      "text/plain": [
       "                 assignee_name region                eso_project_name  \\\n",
       "121              Jason Hoffman   AMER  P/21463 LeConte Energy Storage   \n",
       "122               Mina Ibrahim   AMER  P/21463 LeConte Energy Storage   \n",
       "123                Brian Pizzi   AMER  P/21463 LeConte Energy Storage   \n",
       "124  alec.stablow@wartsila.com   AMER  P/21463 LeConte Energy Storage   \n",
       "125                 unassigned   AMER  P/21463 LeConte Energy Storage   \n",
       "..                         ...    ...                             ...   \n",
       "362     Lakshmanan Nellaipalli    MEA               P/21201 AGL - TIB   \n",
       "363                 James Bott    MEA               P/21201 AGL - TIB   \n",
       "364                 unassigned    MEA               P/21201 AGL - TIB   \n",
       "365             Marc Pelletier    MEA               P/21201 AGL - TIB   \n",
       "366                  Howard Fu    MEA               P/21201 AGL - TIB   \n",
       "\n",
       "                  role start_date   due_date project_type  \n",
       "121    System Engineer 2021-10-25 2022-09-22      no_type  \n",
       "122     CPE Electrical 2021-10-25 2022-09-22      no_type  \n",
       "123  Solution Engineer 2022-01-01 2022-09-22      no_type  \n",
       "124        SW Engineer 2021-10-25 2022-09-22      no_type  \n",
       "125    Project Manager 2021-10-27 2022-10-02      no_type  \n",
       "..                 ...        ...        ...          ...  \n",
       "362    Project Manager 2022-07-29 2023-04-12      no_type  \n",
       "363        SW Engineer 2022-07-29 2023-04-12      no_type  \n",
       "364  Solution Engineer 2022-07-29 2023-04-12      no_type  \n",
       "365     CPE Electrical 2022-07-29 2023-04-12      no_type  \n",
       "366    System Engineer 2022-07-29 2023-04-12      no_type  \n",
       "\n",
       "[131 rows x 7 columns]"
      ]
     },
     "execution_count": 26,
     "metadata": {},
     "output_type": "execute_result"
    }
   ],
   "source": [
    "prep_task_display_table(df_rf)"
   ]
  },
  {
   "cell_type": "code",
   "execution_count": 27,
   "id": "3d4dcbc6-3e1a-4203-8f42-927e28fadf75",
   "metadata": {},
   "outputs": [
    {
     "name": "stdout",
     "output_type": "stream",
     "text": [
      "<class 'pandas.core.frame.DataFrame'>\n",
      "Int64Index: 131 entries, 121 to 366\n",
      "Data columns (total 9 columns):\n",
      " #   Column            Non-Null Count  Dtype         \n",
      "---  ------            --------------  -----         \n",
      " 0   assignee_name     131 non-null    object        \n",
      " 1   region            131 non-null    object        \n",
      " 2   eso_project_name  131 non-null    object        \n",
      " 3   role              131 non-null    object        \n",
      " 4   start_date        131 non-null    datetime64[ns]\n",
      " 5   due_date          131 non-null    datetime64[ns]\n",
      " 6   gid               131 non-null    object        \n",
      " 7   task_name         131 non-null    object        \n",
      " 8   project_type      131 non-null    object        \n",
      "dtypes: datetime64[ns](2), object(7)\n",
      "memory usage: 10.2+ KB\n"
     ]
    }
   ],
   "source": [
    "df_rf.info()"
   ]
  },
  {
   "cell_type": "markdown",
   "id": "cf9e4e06-8bef-4ec2-856a-6d80da997f55",
   "metadata": {},
   "source": [
    "# Analysing for Resource Planning"
   ]
  },
  {
   "cell_type": "code",
   "execution_count": 26,
   "id": "1a58ebf1-0d9e-42ef-a961-9c47afd230b1",
   "metadata": {},
   "outputs": [
    {
     "data": {
      "text/plain": [
       "array(['AMER', 'MEA'], dtype=object)"
      ]
     },
     "execution_count": 26,
     "metadata": {},
     "output_type": "execute_result"
    }
   ],
   "source": [
    "df_rf['region'].unique()"
   ]
  },
  {
   "cell_type": "markdown",
   "id": "833c1b8f-39bd-4508-a246-719a0548800e",
   "metadata": {
    "tags": []
   },
   "source": [
    "### unique projects - simple"
   ]
  },
  {
   "cell_type": "code",
   "execution_count": 42,
   "id": "fc63e419-58c9-4eff-a2ab-989b6f22e28b",
   "metadata": {},
   "outputs": [
    {
     "data": {
      "text/plain": [
       "37"
      ]
     },
     "execution_count": 42,
     "metadata": {},
     "output_type": "execute_result"
    }
   ],
   "source": [
    "len(df_rf['eso_project_name'].unique())"
   ]
  },
  {
   "cell_type": "code",
   "execution_count": 43,
   "id": "1678d4b3-33e0-42fe-b1af-c965d0741d47",
   "metadata": {},
   "outputs": [
    {
     "data": {
      "text/plain": [
       "array(['OP/791407 - Fortune 1', 'OP/791290 - CUC Prospect (EPC)',\n",
       "       'OP/790697 Letzer A (Ming Hsing)', 'OP/782224 Pemcorp BES ',\n",
       "       'OP/781999 - Enel El Manzano', 'OP/765996 - Don Humberto',\n",
       "       'OP/725875 - BESS Hydesville Substation (EPC)',\n",
       "       'P/21463 LeConte Energy Storage', 'P/17402 WAPA RHPP [EPC] ',\n",
       "       'P/20461 Enel Azure Sky', 'P/20462 Mililani', 'P/20463 Waiawa',\n",
       "       'P/21207_BPL Bahamas', 'P/21215 Suriname', 'P/21450 Madero ',\n",
       "       'P/21452 Ignacio', 'P/21454 Enel Blue Jay',\n",
       "       'P/21213 Colbun Diego de Almagro', 'P/21464 Brookfield Rumford B',\n",
       "       'P/21465 Brookfield Bonny Eagle', 'P/21466 Brookfield Berlin',\n",
       "       'P/21467 Daggett 3B [EEQ]', 'P/21468 Enel Roseland',\n",
       "       'P/21469 GA Power Mossy Branch', 'P/21205 Zenith - Tanami',\n",
       "       'P/19201 CWP - Sapphire BESS', 'P/20202 IRPH - Ormoc',\n",
       "       'P/20208 IRPH - Tagum', 'P/21209 Beimen BESS',\n",
       "       'P/21214 Guangming BESS', 'P/20205 TMI DBS (BESS)',\n",
       "       'P/21201 AGL - TIB', 'P/21921 Ruien BESS', 'P/21922 GIGA Buffalo',\n",
       "       'P/21203 Bustleholm 50MW BESS', 'P/21204 Coventry 50MW BESS',\n",
       "       'P/22201 SSE Salisbury 49.5MW'], dtype=object)"
      ]
     },
     "execution_count": 43,
     "metadata": {},
     "output_type": "execute_result"
    }
   ],
   "source": [
    "df_rf['eso_project_name'].unique()"
   ]
  },
  {
   "cell_type": "markdown",
   "id": "d05d0d32-b250-4e3d-8e94-03e4b474f681",
   "metadata": {},
   "source": [
    "### Projects With Unassigned Tasks"
   ]
  },
  {
   "cell_type": "code",
   "execution_count": 59,
   "id": "d63c4b41-2745-43fa-97d6-c9f67550e655",
   "metadata": {},
   "outputs": [],
   "source": [
    "# to test\n",
    "def get_unassigned_task_count(df):\n",
    "    df = df[df['assignee_name'] == 'unassigned']\n",
    "    return len(df['assignee_name'].unique())"
   ]
  },
  {
   "cell_type": "code",
   "execution_count": 62,
   "id": "f02fbe34-6ad9-4c22-87e2-7cb4ee628905",
   "metadata": {},
   "outputs": [],
   "source": [
    "# to test\n",
    "def get_projects_w_unassigned_tasks(df):\n",
    "    df = df[df['assignee_name'] == 'unassigned']\n",
    "    return df['eso_project_name'].unique()"
   ]
  },
  {
   "cell_type": "code",
   "execution_count": 63,
   "id": "e67a19c3-914f-4a8e-9e9b-6871d32502dc",
   "metadata": {},
   "outputs": [],
   "source": [
    "# to test\n",
    "def get_unassigned_project_count(df):\n",
    "    return len(get_projects_w_unassigned_tasks)"
   ]
  },
  {
   "cell_type": "markdown",
   "id": "8279bc8d-60bf-4152-8100-3ea5c8342551",
   "metadata": {},
   "source": [
    "## Analysis by Role"
   ]
  },
  {
   "cell_type": "code",
   "execution_count": 32,
   "id": "39789609-cfec-4ce2-9498-2e9c34bd8c7d",
   "metadata": {},
   "outputs": [],
   "source": [
    "def get_project_count_by_role(df, role):\n",
    "    df = filter_tasks_by_role(df, [role])\n",
    "    df = remove_unassigned_tasks(df)\n",
    "    return len(df['assignee_name'].unique())"
   ]
  },
  {
   "cell_type": "code",
   "execution_count": 54,
   "id": "d005227f-a128-4268-9c94-d724cd0d60e9",
   "metadata": {},
   "outputs": [
    {
     "data": {
      "text/plain": [
       "12"
      ]
     },
     "execution_count": 54,
     "metadata": {},
     "output_type": "execute_result"
    }
   ],
   "source": [
    "get_project_count_by_role(df_rf, 'System Engineer')"
   ]
  },
  {
   "cell_type": "code",
   "execution_count": 55,
   "id": "c230e135-5bf1-44ca-bc71-3881100f505d",
   "metadata": {
    "collapsed": true,
    "jupyter": {
     "outputs_hidden": true
    },
    "tags": []
   },
   "outputs": [
    {
     "data": {
      "text/html": [
       "<div>\n",
       "<style scoped>\n",
       "    .dataframe tbody tr th:only-of-type {\n",
       "        vertical-align: middle;\n",
       "    }\n",
       "\n",
       "    .dataframe tbody tr th {\n",
       "        vertical-align: top;\n",
       "    }\n",
       "\n",
       "    .dataframe thead th {\n",
       "        text-align: right;\n",
       "    }\n",
       "</style>\n",
       "<table border=\"1\" class=\"dataframe\">\n",
       "  <thead>\n",
       "    <tr style=\"text-align: right;\">\n",
       "      <th></th>\n",
       "      <th>assignee_name</th>\n",
       "      <th>region</th>\n",
       "      <th>eso_project_name</th>\n",
       "      <th>role</th>\n",
       "      <th>start_date</th>\n",
       "      <th>due_date</th>\n",
       "      <th>gid</th>\n",
       "      <th>task_name</th>\n",
       "      <th>project_type</th>\n",
       "    </tr>\n",
       "  </thead>\n",
       "  <tbody>\n",
       "    <tr>\n",
       "      <th>23</th>\n",
       "      <td>unassigned</td>\n",
       "      <td>no_region</td>\n",
       "      <td>OP/791407 - Fortune 1</td>\n",
       "      <td>System Engineer</td>\n",
       "      <td>2022-08-29</td>\n",
       "      <td>2023-08-29</td>\n",
       "      <td>1202710563291522</td>\n",
       "      <td>Systems Engineer - Fortune 1</td>\n",
       "      <td>no_type</td>\n",
       "    </tr>\n",
       "    <tr>\n",
       "      <th>34</th>\n",
       "      <td>unassigned</td>\n",
       "      <td>no_region</td>\n",
       "      <td>OP/791290 - CUC Prospect (EPC)</td>\n",
       "      <td>System Engineer</td>\n",
       "      <td>2022-07-28</td>\n",
       "      <td>2023-07-28</td>\n",
       "      <td>1202710517456499</td>\n",
       "      <td>Systems Engineer - CUC Prospect (EPC)</td>\n",
       "      <td>no_type</td>\n",
       "    </tr>\n",
       "    <tr>\n",
       "      <th>45</th>\n",
       "      <td>unassigned</td>\n",
       "      <td>no_region</td>\n",
       "      <td>OP/790697 Letzer A (Ming Hsing)</td>\n",
       "      <td>System Engineer</td>\n",
       "      <td>2022-08-29</td>\n",
       "      <td>2023-08-29</td>\n",
       "      <td>1202710515009872</td>\n",
       "      <td>Systems Engineer - Letzer A (Ming Hsing)</td>\n",
       "      <td>no_type</td>\n",
       "    </tr>\n",
       "    <tr>\n",
       "      <th>56</th>\n",
       "      <td>unassigned</td>\n",
       "      <td>no_region</td>\n",
       "      <td>OP/782224 Pemcorp BES</td>\n",
       "      <td>System Engineer</td>\n",
       "      <td>2022-08-02</td>\n",
       "      <td>2023-08-02</td>\n",
       "      <td>1202710424749975</td>\n",
       "      <td>Systems Engineer - Pemcorp BES \\n</td>\n",
       "      <td>no_type</td>\n",
       "    </tr>\n",
       "    <tr>\n",
       "      <th>67</th>\n",
       "      <td>unassigned</td>\n",
       "      <td>no_region</td>\n",
       "      <td>OP/781999 - Enel El Manzano</td>\n",
       "      <td>System Engineer</td>\n",
       "      <td>2022-08-15</td>\n",
       "      <td>2023-08-15</td>\n",
       "      <td>1202710478073462</td>\n",
       "      <td>Systems Engineer - Enel El Manzano</td>\n",
       "      <td>no_type</td>\n",
       "    </tr>\n",
       "    <tr>\n",
       "      <th>90</th>\n",
       "      <td>unassigned</td>\n",
       "      <td>no_region</td>\n",
       "      <td>OP/765996 - Don Humberto</td>\n",
       "      <td>System Engineer</td>\n",
       "      <td>2022-08-15</td>\n",
       "      <td>2023-08-15</td>\n",
       "      <td>1202710412531401</td>\n",
       "      <td>Systems Engineer -  Don Humberto\\n</td>\n",
       "      <td>no_type</td>\n",
       "    </tr>\n",
       "    <tr>\n",
       "      <th>112</th>\n",
       "      <td>unassigned</td>\n",
       "      <td>no_region</td>\n",
       "      <td>OP/725875 - BESS Hydesville Substation (EPC)</td>\n",
       "      <td>System Engineer</td>\n",
       "      <td>2022-08-02</td>\n",
       "      <td>2023-08-02</td>\n",
       "      <td>1202710499904146</td>\n",
       "      <td>Systems Engineer - Hydesville</td>\n",
       "      <td>no_type</td>\n",
       "    </tr>\n",
       "    <tr>\n",
       "      <th>121</th>\n",
       "      <td>Jason Hoffman</td>\n",
       "      <td>AMER</td>\n",
       "      <td>P/21463 LeConte Energy Storage</td>\n",
       "      <td>System Engineer</td>\n",
       "      <td>2021-10-25</td>\n",
       "      <td>2022-09-22</td>\n",
       "      <td>1201928912493851</td>\n",
       "      <td>Systems Engineer - LeConte</td>\n",
       "      <td>no_type</td>\n",
       "    </tr>\n",
       "    <tr>\n",
       "      <th>134</th>\n",
       "      <td>Glen Jarvis</td>\n",
       "      <td>AMER</td>\n",
       "      <td>P/17402 WAPA RHPP [EPC]</td>\n",
       "      <td>System Engineer</td>\n",
       "      <td>2020-11-23</td>\n",
       "      <td>2023-07-19</td>\n",
       "      <td>1201917329214295</td>\n",
       "      <td>Systems Engineer - WAPA RHPP</td>\n",
       "      <td>no_type</td>\n",
       "    </tr>\n",
       "    <tr>\n",
       "      <th>173</th>\n",
       "      <td>Derek Chung</td>\n",
       "      <td>AMER</td>\n",
       "      <td>P/20462 Mililani</td>\n",
       "      <td>System Engineer</td>\n",
       "      <td>2022-01-04</td>\n",
       "      <td>2022-08-01</td>\n",
       "      <td>1201916716563067</td>\n",
       "      <td>Systems Engineer - Mililani</td>\n",
       "      <td>no_type</td>\n",
       "    </tr>\n",
       "    <tr>\n",
       "      <th>178</th>\n",
       "      <td>Derek Chung</td>\n",
       "      <td>AMER</td>\n",
       "      <td>P/20463 Waiawa</td>\n",
       "      <td>System Engineer</td>\n",
       "      <td>2020-11-01</td>\n",
       "      <td>2022-09-16</td>\n",
       "      <td>1201929444378082</td>\n",
       "      <td>Systems Engineer - Waiawa</td>\n",
       "      <td>no_type</td>\n",
       "    </tr>\n",
       "    <tr>\n",
       "      <th>183</th>\n",
       "      <td>Glen Jarvis</td>\n",
       "      <td>AMER</td>\n",
       "      <td>P/21207_BPL Bahamas</td>\n",
       "      <td>System Engineer</td>\n",
       "      <td>2021-09-23</td>\n",
       "      <td>2023-02-13</td>\n",
       "      <td>1201910105691338</td>\n",
       "      <td>Systems Engineer - BPL Bahamas</td>\n",
       "      <td>no_type</td>\n",
       "    </tr>\n",
       "    <tr>\n",
       "      <th>189</th>\n",
       "      <td>Mina Ibrahim</td>\n",
       "      <td>AMER</td>\n",
       "      <td>P/21215 Suriname</td>\n",
       "      <td>System Engineer</td>\n",
       "      <td>2021-11-11</td>\n",
       "      <td>2023-01-12</td>\n",
       "      <td>1201914354089728</td>\n",
       "      <td>Systems Engineer - Suriname</td>\n",
       "      <td>no_type</td>\n",
       "    </tr>\n",
       "    <tr>\n",
       "      <th>195</th>\n",
       "      <td>Aman Fatma</td>\n",
       "      <td>AMER</td>\n",
       "      <td>P/21450 Madero</td>\n",
       "      <td>System Engineer</td>\n",
       "      <td>2022-01-15</td>\n",
       "      <td>2022-08-09</td>\n",
       "      <td>1201908132397690</td>\n",
       "      <td>Systems Engineer - Madero</td>\n",
       "      <td>no_type</td>\n",
       "    </tr>\n",
       "    <tr>\n",
       "      <th>196</th>\n",
       "      <td>Pasi Saarela</td>\n",
       "      <td>AMER</td>\n",
       "      <td>P/21450 Madero</td>\n",
       "      <td>System Engineer</td>\n",
       "      <td>2022-07-15</td>\n",
       "      <td>2022-08-03</td>\n",
       "      <td>1202633645313518</td>\n",
       "      <td>Systems Engineer - Madero</td>\n",
       "      <td>no_type</td>\n",
       "    </tr>\n",
       "    <tr>\n",
       "      <th>202</th>\n",
       "      <td>Aman Fatma</td>\n",
       "      <td>AMER</td>\n",
       "      <td>P/21452 Ignacio</td>\n",
       "      <td>System Engineer</td>\n",
       "      <td>2022-01-15</td>\n",
       "      <td>2022-08-07</td>\n",
       "      <td>1201916462641025</td>\n",
       "      <td>Systems Engineer - Ignacio</td>\n",
       "      <td>no_type</td>\n",
       "    </tr>\n",
       "    <tr>\n",
       "      <th>203</th>\n",
       "      <td>Pasi Saarela</td>\n",
       "      <td>AMER</td>\n",
       "      <td>P/21452 Ignacio</td>\n",
       "      <td>System Engineer</td>\n",
       "      <td>2022-07-15</td>\n",
       "      <td>2022-08-03</td>\n",
       "      <td>1202633645313520</td>\n",
       "      <td>Systems Engineer - Ignacio</td>\n",
       "      <td>no_type</td>\n",
       "    </tr>\n",
       "    <tr>\n",
       "      <th>208</th>\n",
       "      <td>Jason Hoffman</td>\n",
       "      <td>AMER</td>\n",
       "      <td>P/21454 Enel Blue Jay</td>\n",
       "      <td>System Engineer</td>\n",
       "      <td>2021-10-25</td>\n",
       "      <td>2022-12-30</td>\n",
       "      <td>1201921339398375</td>\n",
       "      <td>Systems Engineer - Enel Blue Jay</td>\n",
       "      <td>no_type</td>\n",
       "    </tr>\n",
       "    <tr>\n",
       "      <th>219</th>\n",
       "      <td>Rob Toland</td>\n",
       "      <td>AMER</td>\n",
       "      <td>P/21213 Colbun Diego de Almagro</td>\n",
       "      <td>System Engineer</td>\n",
       "      <td>2021-09-24</td>\n",
       "      <td>2022-12-20</td>\n",
       "      <td>1201920462780523</td>\n",
       "      <td>Systems Engineer - Colbun Diego</td>\n",
       "      <td>no_type</td>\n",
       "    </tr>\n",
       "    <tr>\n",
       "      <th>220</th>\n",
       "      <td>Jason Hoffman</td>\n",
       "      <td>AMER</td>\n",
       "      <td>P/21464 Brookfield Rumford B</td>\n",
       "      <td>System Engineer</td>\n",
       "      <td>2021-10-04</td>\n",
       "      <td>2022-12-30</td>\n",
       "      <td>1201928789410421</td>\n",
       "      <td>Systems Engineer - Brookfield Rumford</td>\n",
       "      <td>no_type</td>\n",
       "    </tr>\n",
       "    <tr>\n",
       "      <th>226</th>\n",
       "      <td>Jason Hoffman</td>\n",
       "      <td>AMER</td>\n",
       "      <td>P/21465 Brookfield Bonny Eagle</td>\n",
       "      <td>System Engineer</td>\n",
       "      <td>2021-10-04</td>\n",
       "      <td>2022-12-30</td>\n",
       "      <td>1201928843206418</td>\n",
       "      <td>Systems Engineer - Brookfield Bonny Eagle</td>\n",
       "      <td>no_type</td>\n",
       "    </tr>\n",
       "    <tr>\n",
       "      <th>233</th>\n",
       "      <td>Jason Hoffman</td>\n",
       "      <td>AMER</td>\n",
       "      <td>P/21466 Brookfield Berlin</td>\n",
       "      <td>System Engineer</td>\n",
       "      <td>2021-10-04</td>\n",
       "      <td>2022-12-30</td>\n",
       "      <td>1201928844652760</td>\n",
       "      <td>Systems Engineer - Brookfield Berlin</td>\n",
       "      <td>no_type</td>\n",
       "    </tr>\n",
       "    <tr>\n",
       "      <th>263</th>\n",
       "      <td>Jason Hoffman</td>\n",
       "      <td>AMER</td>\n",
       "      <td>P/21468 Enel Roseland</td>\n",
       "      <td>System Engineer</td>\n",
       "      <td>2021-10-25</td>\n",
       "      <td>2022-12-30</td>\n",
       "      <td>1201921337210533</td>\n",
       "      <td>Systems Engineer - Enel Roseland</td>\n",
       "      <td>no_type</td>\n",
       "    </tr>\n",
       "    <tr>\n",
       "      <th>270</th>\n",
       "      <td>Rob Toland</td>\n",
       "      <td>AMER</td>\n",
       "      <td>P/21469 GA Power Mossy Branch</td>\n",
       "      <td>System Engineer</td>\n",
       "      <td>2021-09-28</td>\n",
       "      <td>2023-10-10</td>\n",
       "      <td>1201916711541539</td>\n",
       "      <td>Systems Engineer - GA Power Mossy Branch</td>\n",
       "      <td>no_type</td>\n",
       "    </tr>\n",
       "    <tr>\n",
       "      <th>293</th>\n",
       "      <td>Daniel Jurcola</td>\n",
       "      <td>MEA</td>\n",
       "      <td>P/21205 Zenith - Tanami</td>\n",
       "      <td>System Engineer</td>\n",
       "      <td>2021-06-17</td>\n",
       "      <td>2022-08-20</td>\n",
       "      <td>1201916847904501</td>\n",
       "      <td>Systems Engineer - Zenith Tanami</td>\n",
       "      <td>no_type</td>\n",
       "    </tr>\n",
       "    <tr>\n",
       "      <th>302</th>\n",
       "      <td>Daniel Jurcola</td>\n",
       "      <td>MEA</td>\n",
       "      <td>P/19201 CWP - Sapphire BESS</td>\n",
       "      <td>System Engineer</td>\n",
       "      <td>2022-06-30</td>\n",
       "      <td>2023-06-30</td>\n",
       "      <td>1201916789453704</td>\n",
       "      <td>Systems Engineer - CWP Sapphire</td>\n",
       "      <td>no_type</td>\n",
       "    </tr>\n",
       "    <tr>\n",
       "      <th>317</th>\n",
       "      <td>Daniel Jurcola</td>\n",
       "      <td>MEA</td>\n",
       "      <td>P/20202 IRPH - Ormoc</td>\n",
       "      <td>System Engineer</td>\n",
       "      <td>2021-06-30</td>\n",
       "      <td>2022-08-31</td>\n",
       "      <td>1201916745692026</td>\n",
       "      <td>Systems Engineer - Ormoc</td>\n",
       "      <td>no_type</td>\n",
       "    </tr>\n",
       "    <tr>\n",
       "      <th>323</th>\n",
       "      <td>Daniel Jurcola</td>\n",
       "      <td>MEA</td>\n",
       "      <td>P/20208 IRPH - Tagum</td>\n",
       "      <td>System Engineer</td>\n",
       "      <td>2021-09-30</td>\n",
       "      <td>2022-09-30</td>\n",
       "      <td>1201916747685405</td>\n",
       "      <td>Systems Engineer - Tagum</td>\n",
       "      <td>no_type</td>\n",
       "    </tr>\n",
       "    <tr>\n",
       "      <th>355</th>\n",
       "      <td>Howard Fu</td>\n",
       "      <td>MEA</td>\n",
       "      <td>P/20205 TMI DBS (BESS)</td>\n",
       "      <td>System Engineer</td>\n",
       "      <td>2021-10-16</td>\n",
       "      <td>2022-08-27</td>\n",
       "      <td>1201925149912758</td>\n",
       "      <td>Systems Engineer - TMI DBS</td>\n",
       "      <td>no_type</td>\n",
       "    </tr>\n",
       "    <tr>\n",
       "      <th>366</th>\n",
       "      <td>Howard Fu</td>\n",
       "      <td>MEA</td>\n",
       "      <td>P/21201 AGL - TIB</td>\n",
       "      <td>System Engineer</td>\n",
       "      <td>2022-07-29</td>\n",
       "      <td>2023-04-12</td>\n",
       "      <td>1201926419493772</td>\n",
       "      <td>Systems Engineer - AGL TIB</td>\n",
       "      <td>no_type</td>\n",
       "    </tr>\n",
       "    <tr>\n",
       "      <th>388</th>\n",
       "      <td>Mikael Hudd</td>\n",
       "      <td>EUAF</td>\n",
       "      <td>P/21921 Ruien BESS</td>\n",
       "      <td>System Engineer</td>\n",
       "      <td>2021-11-14</td>\n",
       "      <td>2022-12-05</td>\n",
       "      <td>1201911608902994</td>\n",
       "      <td>Systems Engineer - Ruien</td>\n",
       "      <td>no_type</td>\n",
       "    </tr>\n",
       "    <tr>\n",
       "      <th>393</th>\n",
       "      <td>Mahdi Shahparasti</td>\n",
       "      <td>EUAF</td>\n",
       "      <td>P/21921 Ruien BESS</td>\n",
       "      <td>System Engineer</td>\n",
       "      <td>2021-11-14</td>\n",
       "      <td>2022-12-05</td>\n",
       "      <td>1202098638704188</td>\n",
       "      <td>Systems Engineer - Ruien</td>\n",
       "      <td>no_type</td>\n",
       "    </tr>\n",
       "    <tr>\n",
       "      <th>398</th>\n",
       "      <td>Mikael Hudd</td>\n",
       "      <td>EUAF</td>\n",
       "      <td>P/21922 GIGA Buffalo</td>\n",
       "      <td>System Engineer</td>\n",
       "      <td>2021-11-30</td>\n",
       "      <td>2022-10-23</td>\n",
       "      <td>1201913379007702</td>\n",
       "      <td>Systems Engineer - GIGA Buffalo</td>\n",
       "      <td>no_type</td>\n",
       "    </tr>\n",
       "    <tr>\n",
       "      <th>403</th>\n",
       "      <td>Mahdi Shahparasti</td>\n",
       "      <td>EUAF</td>\n",
       "      <td>P/21922 GIGA Buffalo</td>\n",
       "      <td>System Engineer</td>\n",
       "      <td>2021-11-30</td>\n",
       "      <td>2022-10-23</td>\n",
       "      <td>1202098638704191</td>\n",
       "      <td>Systems Engineer - GIGA Buffalo</td>\n",
       "      <td>no_type</td>\n",
       "    </tr>\n",
       "    <tr>\n",
       "      <th>408</th>\n",
       "      <td>Jason James</td>\n",
       "      <td>EUAF</td>\n",
       "      <td>P/21203 Bustleholm 50MW BESS</td>\n",
       "      <td>System Engineer</td>\n",
       "      <td>2021-06-01</td>\n",
       "      <td>2022-11-30</td>\n",
       "      <td>1201914354272201</td>\n",
       "      <td>Systems Engineer - Bustleholm</td>\n",
       "      <td>EEQ</td>\n",
       "    </tr>\n",
       "    <tr>\n",
       "      <th>424</th>\n",
       "      <td>Jason James</td>\n",
       "      <td>EUAF</td>\n",
       "      <td>P/22201 SSE Salisbury 49.5MW</td>\n",
       "      <td>System Engineer</td>\n",
       "      <td>2022-04-01</td>\n",
       "      <td>2023-09-22</td>\n",
       "      <td>1202022529704732</td>\n",
       "      <td>Systems Engineer - SSE Salisbury</td>\n",
       "      <td>EPC</td>\n",
       "    </tr>\n",
       "  </tbody>\n",
       "</table>\n",
       "</div>"
      ],
      "text/plain": [
       "         assignee_name     region  \\\n",
       "23          unassigned  no_region   \n",
       "34          unassigned  no_region   \n",
       "45          unassigned  no_region   \n",
       "56          unassigned  no_region   \n",
       "67          unassigned  no_region   \n",
       "90          unassigned  no_region   \n",
       "112         unassigned  no_region   \n",
       "121      Jason Hoffman       AMER   \n",
       "134        Glen Jarvis       AMER   \n",
       "173        Derek Chung       AMER   \n",
       "178        Derek Chung       AMER   \n",
       "183        Glen Jarvis       AMER   \n",
       "189       Mina Ibrahim       AMER   \n",
       "195         Aman Fatma       AMER   \n",
       "196       Pasi Saarela       AMER   \n",
       "202         Aman Fatma       AMER   \n",
       "203       Pasi Saarela       AMER   \n",
       "208      Jason Hoffman       AMER   \n",
       "219         Rob Toland       AMER   \n",
       "220      Jason Hoffman       AMER   \n",
       "226      Jason Hoffman       AMER   \n",
       "233      Jason Hoffman       AMER   \n",
       "263      Jason Hoffman       AMER   \n",
       "270         Rob Toland       AMER   \n",
       "293     Daniel Jurcola        MEA   \n",
       "302     Daniel Jurcola        MEA   \n",
       "317     Daniel Jurcola        MEA   \n",
       "323     Daniel Jurcola        MEA   \n",
       "355          Howard Fu        MEA   \n",
       "366          Howard Fu        MEA   \n",
       "388        Mikael Hudd       EUAF   \n",
       "393  Mahdi Shahparasti       EUAF   \n",
       "398        Mikael Hudd       EUAF   \n",
       "403  Mahdi Shahparasti       EUAF   \n",
       "408        Jason James       EUAF   \n",
       "424        Jason James       EUAF   \n",
       "\n",
       "                                 eso_project_name             role start_date  \\\n",
       "23                          OP/791407 - Fortune 1  System Engineer 2022-08-29   \n",
       "34                 OP/791290 - CUC Prospect (EPC)  System Engineer 2022-07-28   \n",
       "45                OP/790697 Letzer A (Ming Hsing)  System Engineer 2022-08-29   \n",
       "56                         OP/782224 Pemcorp BES   System Engineer 2022-08-02   \n",
       "67                    OP/781999 - Enel El Manzano  System Engineer 2022-08-15   \n",
       "90                       OP/765996 - Don Humberto  System Engineer 2022-08-15   \n",
       "112  OP/725875 - BESS Hydesville Substation (EPC)  System Engineer 2022-08-02   \n",
       "121                P/21463 LeConte Energy Storage  System Engineer 2021-10-25   \n",
       "134                      P/17402 WAPA RHPP [EPC]   System Engineer 2020-11-23   \n",
       "173                              P/20462 Mililani  System Engineer 2022-01-04   \n",
       "178                                P/20463 Waiawa  System Engineer 2020-11-01   \n",
       "183                           P/21207_BPL Bahamas  System Engineer 2021-09-23   \n",
       "189                              P/21215 Suriname  System Engineer 2021-11-11   \n",
       "195                               P/21450 Madero   System Engineer 2022-01-15   \n",
       "196                               P/21450 Madero   System Engineer 2022-07-15   \n",
       "202                               P/21452 Ignacio  System Engineer 2022-01-15   \n",
       "203                               P/21452 Ignacio  System Engineer 2022-07-15   \n",
       "208                         P/21454 Enel Blue Jay  System Engineer 2021-10-25   \n",
       "219               P/21213 Colbun Diego de Almagro  System Engineer 2021-09-24   \n",
       "220                  P/21464 Brookfield Rumford B  System Engineer 2021-10-04   \n",
       "226                P/21465 Brookfield Bonny Eagle  System Engineer 2021-10-04   \n",
       "233                     P/21466 Brookfield Berlin  System Engineer 2021-10-04   \n",
       "263                         P/21468 Enel Roseland  System Engineer 2021-10-25   \n",
       "270                 P/21469 GA Power Mossy Branch  System Engineer 2021-09-28   \n",
       "293                       P/21205 Zenith - Tanami  System Engineer 2021-06-17   \n",
       "302                   P/19201 CWP - Sapphire BESS  System Engineer 2022-06-30   \n",
       "317                          P/20202 IRPH - Ormoc  System Engineer 2021-06-30   \n",
       "323                          P/20208 IRPH - Tagum  System Engineer 2021-09-30   \n",
       "355                        P/20205 TMI DBS (BESS)  System Engineer 2021-10-16   \n",
       "366                             P/21201 AGL - TIB  System Engineer 2022-07-29   \n",
       "388                            P/21921 Ruien BESS  System Engineer 2021-11-14   \n",
       "393                            P/21921 Ruien BESS  System Engineer 2021-11-14   \n",
       "398                          P/21922 GIGA Buffalo  System Engineer 2021-11-30   \n",
       "403                          P/21922 GIGA Buffalo  System Engineer 2021-11-30   \n",
       "408                  P/21203 Bustleholm 50MW BESS  System Engineer 2021-06-01   \n",
       "424                  P/22201 SSE Salisbury 49.5MW  System Engineer 2022-04-01   \n",
       "\n",
       "      due_date               gid                                   task_name  \\\n",
       "23  2023-08-29  1202710563291522                Systems Engineer - Fortune 1   \n",
       "34  2023-07-28  1202710517456499       Systems Engineer - CUC Prospect (EPC)   \n",
       "45  2023-08-29  1202710515009872    Systems Engineer - Letzer A (Ming Hsing)   \n",
       "56  2023-08-02  1202710424749975           Systems Engineer - Pemcorp BES \\n   \n",
       "67  2023-08-15  1202710478073462          Systems Engineer - Enel El Manzano   \n",
       "90  2023-08-15  1202710412531401          Systems Engineer -  Don Humberto\\n   \n",
       "112 2023-08-02  1202710499904146               Systems Engineer - Hydesville   \n",
       "121 2022-09-22  1201928912493851                  Systems Engineer - LeConte   \n",
       "134 2023-07-19  1201917329214295                Systems Engineer - WAPA RHPP   \n",
       "173 2022-08-01  1201916716563067                 Systems Engineer - Mililani   \n",
       "178 2022-09-16  1201929444378082                   Systems Engineer - Waiawa   \n",
       "183 2023-02-13  1201910105691338              Systems Engineer - BPL Bahamas   \n",
       "189 2023-01-12  1201914354089728                 Systems Engineer - Suriname   \n",
       "195 2022-08-09  1201908132397690                   Systems Engineer - Madero   \n",
       "196 2022-08-03  1202633645313518                   Systems Engineer - Madero   \n",
       "202 2022-08-07  1201916462641025                  Systems Engineer - Ignacio   \n",
       "203 2022-08-03  1202633645313520                  Systems Engineer - Ignacio   \n",
       "208 2022-12-30  1201921339398375            Systems Engineer - Enel Blue Jay   \n",
       "219 2022-12-20  1201920462780523             Systems Engineer - Colbun Diego   \n",
       "220 2022-12-30  1201928789410421       Systems Engineer - Brookfield Rumford   \n",
       "226 2022-12-30  1201928843206418  Systems Engineer - Brookfield Bonny Eagle    \n",
       "233 2022-12-30  1201928844652760        Systems Engineer - Brookfield Berlin   \n",
       "263 2022-12-30  1201921337210533            Systems Engineer - Enel Roseland   \n",
       "270 2023-10-10  1201916711541539    Systems Engineer - GA Power Mossy Branch   \n",
       "293 2022-08-20  1201916847904501            Systems Engineer - Zenith Tanami   \n",
       "302 2023-06-30  1201916789453704             Systems Engineer - CWP Sapphire   \n",
       "317 2022-08-31  1201916745692026                    Systems Engineer - Ormoc   \n",
       "323 2022-09-30  1201916747685405                    Systems Engineer - Tagum   \n",
       "355 2022-08-27  1201925149912758                  Systems Engineer - TMI DBS   \n",
       "366 2023-04-12  1201926419493772                  Systems Engineer - AGL TIB   \n",
       "388 2022-12-05  1201911608902994                    Systems Engineer - Ruien   \n",
       "393 2022-12-05  1202098638704188                    Systems Engineer - Ruien   \n",
       "398 2022-10-23  1201913379007702             Systems Engineer - GIGA Buffalo   \n",
       "403 2022-10-23  1202098638704191             Systems Engineer - GIGA Buffalo   \n",
       "408 2022-11-30  1201914354272201               Systems Engineer - Bustleholm   \n",
       "424 2023-09-22  1202022529704732            Systems Engineer - SSE Salisbury   \n",
       "\n",
       "    project_type  \n",
       "23       no_type  \n",
       "34       no_type  \n",
       "45       no_type  \n",
       "56       no_type  \n",
       "67       no_type  \n",
       "90       no_type  \n",
       "112      no_type  \n",
       "121      no_type  \n",
       "134      no_type  \n",
       "173      no_type  \n",
       "178      no_type  \n",
       "183      no_type  \n",
       "189      no_type  \n",
       "195      no_type  \n",
       "196      no_type  \n",
       "202      no_type  \n",
       "203      no_type  \n",
       "208      no_type  \n",
       "219      no_type  \n",
       "220      no_type  \n",
       "226      no_type  \n",
       "233      no_type  \n",
       "263      no_type  \n",
       "270      no_type  \n",
       "293      no_type  \n",
       "302      no_type  \n",
       "317      no_type  \n",
       "323      no_type  \n",
       "355      no_type  \n",
       "366      no_type  \n",
       "388      no_type  \n",
       "393      no_type  \n",
       "398      no_type  \n",
       "403      no_type  \n",
       "408         EEQ   \n",
       "424          EPC  "
      ]
     },
     "execution_count": 55,
     "metadata": {},
     "output_type": "execute_result"
    }
   ],
   "source": [
    "role = 'System Engineer'\n",
    "filter_tasks_by_role(df_rf, [role])"
   ]
  },
  {
   "cell_type": "code",
   "execution_count": 29,
   "id": "e5316347-2963-476f-8ca3-09c4fabdf6d3",
   "metadata": {},
   "outputs": [],
   "source": [
    "role_options = ['System Enginer', 'Solution Engineer', 'CPE Electrical', 'CPE Civil']"
   ]
  },
  {
   "cell_type": "code",
   "execution_count": 35,
   "id": "776f6d80-f7d5-40e4-a2c0-be3d73fa9438",
   "metadata": {},
   "outputs": [],
   "source": [
    "def get_all_role_project_counts(df, all_roles):\n",
    "    return {r : get_project_count_by_role(df_rf, r) for r in all_roles}"
   ]
  },
  {
   "cell_type": "code",
   "execution_count": 36,
   "id": "797d8f83-5255-4dbb-8daf-3849a432e049",
   "metadata": {},
   "outputs": [
    {
     "data": {
      "text/plain": [
       "{'System Enginer': 0,\n",
       " 'Solution Engineer': 7,\n",
       " 'CPE Electrical': 8,\n",
       " 'CPE Civil': 0}"
      ]
     },
     "execution_count": 36,
     "metadata": {},
     "output_type": "execute_result"
    }
   ],
   "source": [
    "get_all_role_project_counts(df_rf, role_options)"
   ]
  },
  {
   "cell_type": "code",
   "execution_count": 105,
   "id": "7cd71e20-2134-4cf1-a854-fcfc08171aca",
   "metadata": {},
   "outputs": [],
   "source": [
    "\n",
    "# To Review !!! \n",
    "## do we want unique assignee names?? \n",
    "# def make_role_counts_df(df):\n",
    "#     df_rc = remove_unassigned_tasks(df)\n",
    "#     df_rc = df_rc[df_rc['role'] != 'no_role']\n",
    "#     df_rc = df_rc.groupby(['role'])['role'].count().to_frame(name='role_count')\n",
    "#     df_rc.reset_index(inplace=True)\n",
    "#     df_rc = df_rc.sort_values(by=['role_count'], ascending=False)\n",
    "#     return df_rc\n",
    "\n",
    "    \n",
    "def make_role_counts_barchart(df):\n",
    "    df_t = make_role_counts_df(df)\n",
    "    fig = px.bar(df_t, x='role', y='role_count')\n",
    "    fig.show()\n",
    "    return\n",
    "    \n",
    "\n"
   ]
  },
  {
   "cell_type": "code",
   "execution_count": 106,
   "id": "5f9666e2-2869-4a4d-b6c1-4ed404505d6b",
   "metadata": {},
   "outputs": [
    {
     "data": {
      "application/vnd.plotly.v1+json": {
       "config": {
        "plotlyServerURL": "https://plot.ly"
       },
       "data": [
        {
         "alignmentgroup": "True",
         "hovertemplate": "role=%{x}<br>role_count=%{y}<extra></extra>",
         "legendgroup": "",
         "marker": {
          "color": "#636efa",
          "pattern": {
           "shape": ""
          }
         },
         "name": "",
         "offsetgroup": "",
         "orientation": "v",
         "showlegend": false,
         "textposition": "auto",
         "type": "bar",
         "x": [
          "System Engineer",
          "Solution Engineer",
          "Project Manager",
          "SW Engineer",
          "Commissioning Manager",
          "CPE Electrical",
          "Commissioning Technician",
          "Electrical Engineer - Delivery",
          "Site Management",
          "Civil Chief Project Engineer",
          "Civil Engineer",
          "Commissioning Engineer",
          "Electrical Site Supervisor",
          "PE Electrical"
         ],
         "xaxis": "x",
         "y": [
          23,
          21,
          19,
          18,
          11,
          10,
          2,
          2,
          2,
          1,
          1,
          1,
          1,
          1
         ],
         "yaxis": "y"
        }
       ],
       "layout": {
        "autosize": true,
        "barmode": "relative",
        "legend": {
         "tracegroupgap": 0
        },
        "margin": {
         "t": 60
        },
        "template": {
         "data": {
          "bar": [
           {
            "error_x": {
             "color": "#2a3f5f"
            },
            "error_y": {
             "color": "#2a3f5f"
            },
            "marker": {
             "line": {
              "color": "#E5ECF6",
              "width": 0.5
             },
             "pattern": {
              "fillmode": "overlay",
              "size": 10,
              "solidity": 0.2
             }
            },
            "type": "bar"
           }
          ],
          "barpolar": [
           {
            "marker": {
             "line": {
              "color": "#E5ECF6",
              "width": 0.5
             },
             "pattern": {
              "fillmode": "overlay",
              "size": 10,
              "solidity": 0.2
             }
            },
            "type": "barpolar"
           }
          ],
          "carpet": [
           {
            "aaxis": {
             "endlinecolor": "#2a3f5f",
             "gridcolor": "white",
             "linecolor": "white",
             "minorgridcolor": "white",
             "startlinecolor": "#2a3f5f"
            },
            "baxis": {
             "endlinecolor": "#2a3f5f",
             "gridcolor": "white",
             "linecolor": "white",
             "minorgridcolor": "white",
             "startlinecolor": "#2a3f5f"
            },
            "type": "carpet"
           }
          ],
          "choropleth": [
           {
            "colorbar": {
             "outlinewidth": 0,
             "ticks": ""
            },
            "type": "choropleth"
           }
          ],
          "contour": [
           {
            "colorbar": {
             "outlinewidth": 0,
             "ticks": ""
            },
            "colorscale": [
             [
              0,
              "#0d0887"
             ],
             [
              0.1111111111111111,
              "#46039f"
             ],
             [
              0.2222222222222222,
              "#7201a8"
             ],
             [
              0.3333333333333333,
              "#9c179e"
             ],
             [
              0.4444444444444444,
              "#bd3786"
             ],
             [
              0.5555555555555556,
              "#d8576b"
             ],
             [
              0.6666666666666666,
              "#ed7953"
             ],
             [
              0.7777777777777778,
              "#fb9f3a"
             ],
             [
              0.8888888888888888,
              "#fdca26"
             ],
             [
              1,
              "#f0f921"
             ]
            ],
            "type": "contour"
           }
          ],
          "contourcarpet": [
           {
            "colorbar": {
             "outlinewidth": 0,
             "ticks": ""
            },
            "type": "contourcarpet"
           }
          ],
          "heatmap": [
           {
            "colorbar": {
             "outlinewidth": 0,
             "ticks": ""
            },
            "colorscale": [
             [
              0,
              "#0d0887"
             ],
             [
              0.1111111111111111,
              "#46039f"
             ],
             [
              0.2222222222222222,
              "#7201a8"
             ],
             [
              0.3333333333333333,
              "#9c179e"
             ],
             [
              0.4444444444444444,
              "#bd3786"
             ],
             [
              0.5555555555555556,
              "#d8576b"
             ],
             [
              0.6666666666666666,
              "#ed7953"
             ],
             [
              0.7777777777777778,
              "#fb9f3a"
             ],
             [
              0.8888888888888888,
              "#fdca26"
             ],
             [
              1,
              "#f0f921"
             ]
            ],
            "type": "heatmap"
           }
          ],
          "heatmapgl": [
           {
            "colorbar": {
             "outlinewidth": 0,
             "ticks": ""
            },
            "colorscale": [
             [
              0,
              "#0d0887"
             ],
             [
              0.1111111111111111,
              "#46039f"
             ],
             [
              0.2222222222222222,
              "#7201a8"
             ],
             [
              0.3333333333333333,
              "#9c179e"
             ],
             [
              0.4444444444444444,
              "#bd3786"
             ],
             [
              0.5555555555555556,
              "#d8576b"
             ],
             [
              0.6666666666666666,
              "#ed7953"
             ],
             [
              0.7777777777777778,
              "#fb9f3a"
             ],
             [
              0.8888888888888888,
              "#fdca26"
             ],
             [
              1,
              "#f0f921"
             ]
            ],
            "type": "heatmapgl"
           }
          ],
          "histogram": [
           {
            "marker": {
             "pattern": {
              "fillmode": "overlay",
              "size": 10,
              "solidity": 0.2
             }
            },
            "type": "histogram"
           }
          ],
          "histogram2d": [
           {
            "colorbar": {
             "outlinewidth": 0,
             "ticks": ""
            },
            "colorscale": [
             [
              0,
              "#0d0887"
             ],
             [
              0.1111111111111111,
              "#46039f"
             ],
             [
              0.2222222222222222,
              "#7201a8"
             ],
             [
              0.3333333333333333,
              "#9c179e"
             ],
             [
              0.4444444444444444,
              "#bd3786"
             ],
             [
              0.5555555555555556,
              "#d8576b"
             ],
             [
              0.6666666666666666,
              "#ed7953"
             ],
             [
              0.7777777777777778,
              "#fb9f3a"
             ],
             [
              0.8888888888888888,
              "#fdca26"
             ],
             [
              1,
              "#f0f921"
             ]
            ],
            "type": "histogram2d"
           }
          ],
          "histogram2dcontour": [
           {
            "colorbar": {
             "outlinewidth": 0,
             "ticks": ""
            },
            "colorscale": [
             [
              0,
              "#0d0887"
             ],
             [
              0.1111111111111111,
              "#46039f"
             ],
             [
              0.2222222222222222,
              "#7201a8"
             ],
             [
              0.3333333333333333,
              "#9c179e"
             ],
             [
              0.4444444444444444,
              "#bd3786"
             ],
             [
              0.5555555555555556,
              "#d8576b"
             ],
             [
              0.6666666666666666,
              "#ed7953"
             ],
             [
              0.7777777777777778,
              "#fb9f3a"
             ],
             [
              0.8888888888888888,
              "#fdca26"
             ],
             [
              1,
              "#f0f921"
             ]
            ],
            "type": "histogram2dcontour"
           }
          ],
          "mesh3d": [
           {
            "colorbar": {
             "outlinewidth": 0,
             "ticks": ""
            },
            "type": "mesh3d"
           }
          ],
          "parcoords": [
           {
            "line": {
             "colorbar": {
              "outlinewidth": 0,
              "ticks": ""
             }
            },
            "type": "parcoords"
           }
          ],
          "pie": [
           {
            "automargin": true,
            "type": "pie"
           }
          ],
          "scatter": [
           {
            "fillpattern": {
             "fillmode": "overlay",
             "size": 10,
             "solidity": 0.2
            },
            "type": "scatter"
           }
          ],
          "scatter3d": [
           {
            "line": {
             "colorbar": {
              "outlinewidth": 0,
              "ticks": ""
             }
            },
            "marker": {
             "colorbar": {
              "outlinewidth": 0,
              "ticks": ""
             }
            },
            "type": "scatter3d"
           }
          ],
          "scattercarpet": [
           {
            "marker": {
             "colorbar": {
              "outlinewidth": 0,
              "ticks": ""
             }
            },
            "type": "scattercarpet"
           }
          ],
          "scattergeo": [
           {
            "marker": {
             "colorbar": {
              "outlinewidth": 0,
              "ticks": ""
             }
            },
            "type": "scattergeo"
           }
          ],
          "scattergl": [
           {
            "marker": {
             "colorbar": {
              "outlinewidth": 0,
              "ticks": ""
             }
            },
            "type": "scattergl"
           }
          ],
          "scattermapbox": [
           {
            "marker": {
             "colorbar": {
              "outlinewidth": 0,
              "ticks": ""
             }
            },
            "type": "scattermapbox"
           }
          ],
          "scatterpolar": [
           {
            "marker": {
             "colorbar": {
              "outlinewidth": 0,
              "ticks": ""
             }
            },
            "type": "scatterpolar"
           }
          ],
          "scatterpolargl": [
           {
            "marker": {
             "colorbar": {
              "outlinewidth": 0,
              "ticks": ""
             }
            },
            "type": "scatterpolargl"
           }
          ],
          "scatterternary": [
           {
            "marker": {
             "colorbar": {
              "outlinewidth": 0,
              "ticks": ""
             }
            },
            "type": "scatterternary"
           }
          ],
          "surface": [
           {
            "colorbar": {
             "outlinewidth": 0,
             "ticks": ""
            },
            "colorscale": [
             [
              0,
              "#0d0887"
             ],
             [
              0.1111111111111111,
              "#46039f"
             ],
             [
              0.2222222222222222,
              "#7201a8"
             ],
             [
              0.3333333333333333,
              "#9c179e"
             ],
             [
              0.4444444444444444,
              "#bd3786"
             ],
             [
              0.5555555555555556,
              "#d8576b"
             ],
             [
              0.6666666666666666,
              "#ed7953"
             ],
             [
              0.7777777777777778,
              "#fb9f3a"
             ],
             [
              0.8888888888888888,
              "#fdca26"
             ],
             [
              1,
              "#f0f921"
             ]
            ],
            "type": "surface"
           }
          ],
          "table": [
           {
            "cells": {
             "fill": {
              "color": "#EBF0F8"
             },
             "line": {
              "color": "white"
             }
            },
            "header": {
             "fill": {
              "color": "#C8D4E3"
             },
             "line": {
              "color": "white"
             }
            },
            "type": "table"
           }
          ]
         },
         "layout": {
          "annotationdefaults": {
           "arrowcolor": "#2a3f5f",
           "arrowhead": 0,
           "arrowwidth": 1
          },
          "autotypenumbers": "strict",
          "coloraxis": {
           "colorbar": {
            "outlinewidth": 0,
            "ticks": ""
           }
          },
          "colorscale": {
           "diverging": [
            [
             0,
             "#8e0152"
            ],
            [
             0.1,
             "#c51b7d"
            ],
            [
             0.2,
             "#de77ae"
            ],
            [
             0.3,
             "#f1b6da"
            ],
            [
             0.4,
             "#fde0ef"
            ],
            [
             0.5,
             "#f7f7f7"
            ],
            [
             0.6,
             "#e6f5d0"
            ],
            [
             0.7,
             "#b8e186"
            ],
            [
             0.8,
             "#7fbc41"
            ],
            [
             0.9,
             "#4d9221"
            ],
            [
             1,
             "#276419"
            ]
           ],
           "sequential": [
            [
             0,
             "#0d0887"
            ],
            [
             0.1111111111111111,
             "#46039f"
            ],
            [
             0.2222222222222222,
             "#7201a8"
            ],
            [
             0.3333333333333333,
             "#9c179e"
            ],
            [
             0.4444444444444444,
             "#bd3786"
            ],
            [
             0.5555555555555556,
             "#d8576b"
            ],
            [
             0.6666666666666666,
             "#ed7953"
            ],
            [
             0.7777777777777778,
             "#fb9f3a"
            ],
            [
             0.8888888888888888,
             "#fdca26"
            ],
            [
             1,
             "#f0f921"
            ]
           ],
           "sequentialminus": [
            [
             0,
             "#0d0887"
            ],
            [
             0.1111111111111111,
             "#46039f"
            ],
            [
             0.2222222222222222,
             "#7201a8"
            ],
            [
             0.3333333333333333,
             "#9c179e"
            ],
            [
             0.4444444444444444,
             "#bd3786"
            ],
            [
             0.5555555555555556,
             "#d8576b"
            ],
            [
             0.6666666666666666,
             "#ed7953"
            ],
            [
             0.7777777777777778,
             "#fb9f3a"
            ],
            [
             0.8888888888888888,
             "#fdca26"
            ],
            [
             1,
             "#f0f921"
            ]
           ]
          },
          "colorway": [
           "#636efa",
           "#EF553B",
           "#00cc96",
           "#ab63fa",
           "#FFA15A",
           "#19d3f3",
           "#FF6692",
           "#B6E880",
           "#FF97FF",
           "#FECB52"
          ],
          "font": {
           "color": "#2a3f5f"
          },
          "geo": {
           "bgcolor": "white",
           "lakecolor": "white",
           "landcolor": "#E5ECF6",
           "showlakes": true,
           "showland": true,
           "subunitcolor": "white"
          },
          "hoverlabel": {
           "align": "left"
          },
          "hovermode": "closest",
          "mapbox": {
           "style": "light"
          },
          "paper_bgcolor": "white",
          "plot_bgcolor": "#E5ECF6",
          "polar": {
           "angularaxis": {
            "gridcolor": "white",
            "linecolor": "white",
            "ticks": ""
           },
           "bgcolor": "#E5ECF6",
           "radialaxis": {
            "gridcolor": "white",
            "linecolor": "white",
            "ticks": ""
           }
          },
          "scene": {
           "xaxis": {
            "backgroundcolor": "#E5ECF6",
            "gridcolor": "white",
            "gridwidth": 2,
            "linecolor": "white",
            "showbackground": true,
            "ticks": "",
            "zerolinecolor": "white"
           },
           "yaxis": {
            "backgroundcolor": "#E5ECF6",
            "gridcolor": "white",
            "gridwidth": 2,
            "linecolor": "white",
            "showbackground": true,
            "ticks": "",
            "zerolinecolor": "white"
           },
           "zaxis": {
            "backgroundcolor": "#E5ECF6",
            "gridcolor": "white",
            "gridwidth": 2,
            "linecolor": "white",
            "showbackground": true,
            "ticks": "",
            "zerolinecolor": "white"
           }
          },
          "shapedefaults": {
           "line": {
            "color": "#2a3f5f"
           }
          },
          "ternary": {
           "aaxis": {
            "gridcolor": "white",
            "linecolor": "white",
            "ticks": ""
           },
           "baxis": {
            "gridcolor": "white",
            "linecolor": "white",
            "ticks": ""
           },
           "bgcolor": "#E5ECF6",
           "caxis": {
            "gridcolor": "white",
            "linecolor": "white",
            "ticks": ""
           }
          },
          "title": {
           "x": 0.05
          },
          "xaxis": {
           "automargin": true,
           "gridcolor": "white",
           "linecolor": "white",
           "ticks": "",
           "title": {
            "standoff": 15
           },
           "zerolinecolor": "white",
           "zerolinewidth": 2
          },
          "yaxis": {
           "automargin": true,
           "gridcolor": "white",
           "linecolor": "white",
           "ticks": "",
           "title": {
            "standoff": 15
           },
           "zerolinecolor": "white",
           "zerolinewidth": 2
          }
         }
        },
        "xaxis": {
         "anchor": "y",
         "autorange": true,
         "domain": [
          0,
          1
         ],
         "range": [
          -0.5,
          13.5
         ],
         "title": {
          "text": "role"
         },
         "type": "category"
        },
        "yaxis": {
         "anchor": "x",
         "autorange": true,
         "domain": [
          0,
          1
         ],
         "range": [
          0,
          24.210526315789473
         ],
         "title": {
          "text": "role_count"
         },
         "type": "linear"
        }
       }
      },
      "image/png": "[encoded data removed]",
      "text/html": [
       "<div>                            <div id=\"97dc6474-d827-453c-9f2f-eda4b2cc8de5\" class=\"plotly-graph-div\" style=\"height:525px; width:100%;\"></div>            <script type=\"text/javascript\">                require([\"plotly\"], function(Plotly) {                    window.PLOTLYENV=window.PLOTLYENV || {};                                    if (document.getElementById(\"97dc6474-d827-453c-9f2f-eda4b2cc8de5\")) {                    Plotly.newPlot(                        \"97dc6474-d827-453c-9f2f-eda4b2cc8de5\",                        [{\"alignmentgroup\":\"True\",\"hovertemplate\":\"role=%{x}<br>role_count=%{y}<extra></extra>\",\"legendgroup\":\"\",\"marker\":{\"color\":\"#636efa\",\"pattern\":{\"shape\":\"\"}},\"name\":\"\",\"offsetgroup\":\"\",\"orientation\":\"v\",\"showlegend\":false,\"textposition\":\"auto\",\"x\":[\"System Engineer\",\"Solution Engineer\",\"Project Manager\",\"SW Engineer\",\"Commissioning Manager\",\"CPE Electrical\",\"Commissioning Technician\",\"Electrical Engineer - Delivery\",\"Site Management\",\"Civil Chief Project Engineer\",\"Civil Engineer\",\"Commissioning Engineer\",\"Electrical Site Supervisor\",\"PE Electrical\"],\"xaxis\":\"x\",\"y\":[23,21,19,18,11,10,2,2,2,1,1,1,1,1],\"yaxis\":\"y\",\"type\":\"bar\"}],                        {\"template\":{\"data\":{\"histogram2dcontour\":[{\"type\":\"histogram2dcontour\",\"colorbar\":{\"outlinewidth\":0,\"ticks\":\"\"},\"colorscale\":[[0.0,\"#0d0887\"],[0.1111111111111111,\"#46039f\"],[0.2222222222222222,\"#7201a8\"],[0.3333333333333333,\"#9c179e\"],[0.4444444444444444,\"#bd3786\"],[0.5555555555555556,\"#d8576b\"],[0.6666666666666666,\"#ed7953\"],[0.7777777777777778,\"#fb9f3a\"],[0.8888888888888888,\"#fdca26\"],[1.0,\"#f0f921\"]]}],\"choropleth\":[{\"type\":\"choropleth\",\"colorbar\":{\"outlinewidth\":0,\"ticks\":\"\"}}],\"histogram2d\":[{\"type\":\"histogram2d\",\"colorbar\":{\"outlinewidth\":0,\"ticks\":\"\"},\"colorscale\":[[0.0,\"#0d0887\"],[0.1111111111111111,\"#46039f\"],[0.2222222222222222,\"#7201a8\"],[0.3333333333333333,\"#9c179e\"],[0.4444444444444444,\"#bd3786\"],[0.5555555555555556,\"#d8576b\"],[0.6666666666666666,\"#ed7953\"],[0.7777777777777778,\"#fb9f3a\"],[0.8888888888888888,\"#fdca26\"],[1.0,\"#f0f921\"]]}],\"heatmap\":[{\"type\":\"heatmap\",\"colorbar\":{\"outlinewidth\":0,\"ticks\":\"\"},\"colorscale\":[[0.0,\"#0d0887\"],[0.1111111111111111,\"#46039f\"],[0.2222222222222222,\"#7201a8\"],[0.3333333333333333,\"#9c179e\"],[0.4444444444444444,\"#bd3786\"],[0.5555555555555556,\"#d8576b\"],[0.6666666666666666,\"#ed7953\"],[0.7777777777777778,\"#fb9f3a\"],[0.8888888888888888,\"#fdca26\"],[1.0,\"#f0f921\"]]}],\"heatmapgl\":[{\"type\":\"heatmapgl\",\"colorbar\":{\"outlinewidth\":0,\"ticks\":\"\"},\"colorscale\":[[0.0,\"#0d0887\"],[0.1111111111111111,\"#46039f\"],[0.2222222222222222,\"#7201a8\"],[0.3333333333333333,\"#9c179e\"],[0.4444444444444444,\"#bd3786\"],[0.5555555555555556,\"#d8576b\"],[0.6666666666666666,\"#ed7953\"],[0.7777777777777778,\"#fb9f3a\"],[0.8888888888888888,\"#fdca26\"],[1.0,\"#f0f921\"]]}],\"contourcarpet\":[{\"type\":\"contourcarpet\",\"colorbar\":{\"outlinewidth\":0,\"ticks\":\"\"}}],\"contour\":[{\"type\":\"contour\",\"colorbar\":{\"outlinewidth\":0,\"ticks\":\"\"},\"colorscale\":[[0.0,\"#0d0887\"],[0.1111111111111111,\"#46039f\"],[0.2222222222222222,\"#7201a8\"],[0.3333333333333333,\"#9c179e\"],[0.4444444444444444,\"#bd3786\"],[0.5555555555555556,\"#d8576b\"],[0.6666666666666666,\"#ed7953\"],[0.7777777777777778,\"#fb9f3a\"],[0.8888888888888888,\"#fdca26\"],[1.0,\"#f0f921\"]]}],\"surface\":[{\"type\":\"surface\",\"colorbar\":{\"outlinewidth\":0,\"ticks\":\"\"},\"colorscale\":[[0.0,\"#0d0887\"],[0.1111111111111111,\"#46039f\"],[0.2222222222222222,\"#7201a8\"],[0.3333333333333333,\"#9c179e\"],[0.4444444444444444,\"#bd3786\"],[0.5555555555555556,\"#d8576b\"],[0.6666666666666666,\"#ed7953\"],[0.7777777777777778,\"#fb9f3a\"],[0.8888888888888888,\"#fdca26\"],[1.0,\"#f0f921\"]]}],\"mesh3d\":[{\"type\":\"mesh3d\",\"colorbar\":{\"outlinewidth\":0,\"ticks\":\"\"}}],\"scatter\":[{\"fillpattern\":{\"fillmode\":\"overlay\",\"size\":10,\"solidity\":0.2},\"type\":\"scatter\"}],\"parcoords\":[{\"type\":\"parcoords\",\"line\":{\"colorbar\":{\"outlinewidth\":0,\"ticks\":\"\"}}}],\"scatterpolargl\":[{\"type\":\"scatterpolargl\",\"marker\":{\"colorbar\":{\"outlinewidth\":0,\"ticks\":\"\"}}}],\"bar\":[{\"error_x\":{\"color\":\"#2a3f5f\"},\"error_y\":{\"color\":\"#2a3f5f\"},\"marker\":{\"line\":{\"color\":\"#E5ECF6\",\"width\":0.5},\"pattern\":{\"fillmode\":\"overlay\",\"size\":10,\"solidity\":0.2}},\"type\":\"bar\"}],\"scattergeo\":[{\"type\":\"scattergeo\",\"marker\":{\"colorbar\":{\"outlinewidth\":0,\"ticks\":\"\"}}}],\"scatterpolar\":[{\"type\":\"scatterpolar\",\"marker\":{\"colorbar\":{\"outlinewidth\":0,\"ticks\":\"\"}}}],\"histogram\":[{\"marker\":{\"pattern\":{\"fillmode\":\"overlay\",\"size\":10,\"solidity\":0.2}},\"type\":\"histogram\"}],\"scattergl\":[{\"type\":\"scattergl\",\"marker\":{\"colorbar\":{\"outlinewidth\":0,\"ticks\":\"\"}}}],\"scatter3d\":[{\"type\":\"scatter3d\",\"line\":{\"colorbar\":{\"outlinewidth\":0,\"ticks\":\"\"}},\"marker\":{\"colorbar\":{\"outlinewidth\":0,\"ticks\":\"\"}}}],\"scattermapbox\":[{\"type\":\"scattermapbox\",\"marker\":{\"colorbar\":{\"outlinewidth\":0,\"ticks\":\"\"}}}],\"scatterternary\":[{\"type\":\"scatterternary\",\"marker\":{\"colorbar\":{\"outlinewidth\":0,\"ticks\":\"\"}}}],\"scattercarpet\":[{\"type\":\"scattercarpet\",\"marker\":{\"colorbar\":{\"outlinewidth\":0,\"ticks\":\"\"}}}],\"carpet\":[{\"aaxis\":{\"endlinecolor\":\"#2a3f5f\",\"gridcolor\":\"white\",\"linecolor\":\"white\",\"minorgridcolor\":\"white\",\"startlinecolor\":\"#2a3f5f\"},\"baxis\":{\"endlinecolor\":\"#2a3f5f\",\"gridcolor\":\"white\",\"linecolor\":\"white\",\"minorgridcolor\":\"white\",\"startlinecolor\":\"#2a3f5f\"},\"type\":\"carpet\"}],\"table\":[{\"cells\":{\"fill\":{\"color\":\"#EBF0F8\"},\"line\":{\"color\":\"white\"}},\"header\":{\"fill\":{\"color\":\"#C8D4E3\"},\"line\":{\"color\":\"white\"}},\"type\":\"table\"}],\"barpolar\":[{\"marker\":{\"line\":{\"color\":\"#E5ECF6\",\"width\":0.5},\"pattern\":{\"fillmode\":\"overlay\",\"size\":10,\"solidity\":0.2}},\"type\":\"barpolar\"}],\"pie\":[{\"automargin\":true,\"type\":\"pie\"}]},\"layout\":{\"autotypenumbers\":\"strict\",\"colorway\":[\"#636efa\",\"#EF553B\",\"#00cc96\",\"#ab63fa\",\"#FFA15A\",\"#19d3f3\",\"#FF6692\",\"#B6E880\",\"#FF97FF\",\"#FECB52\"],\"font\":{\"color\":\"#2a3f5f\"},\"hovermode\":\"closest\",\"hoverlabel\":{\"align\":\"left\"},\"paper_bgcolor\":\"white\",\"plot_bgcolor\":\"#E5ECF6\",\"polar\":{\"bgcolor\":\"#E5ECF6\",\"angularaxis\":{\"gridcolor\":\"white\",\"linecolor\":\"white\",\"ticks\":\"\"},\"radialaxis\":{\"gridcolor\":\"white\",\"linecolor\":\"white\",\"ticks\":\"\"}},\"ternary\":{\"bgcolor\":\"#E5ECF6\",\"aaxis\":{\"gridcolor\":\"white\",\"linecolor\":\"white\",\"ticks\":\"\"},\"baxis\":{\"gridcolor\":\"white\",\"linecolor\":\"white\",\"ticks\":\"\"},\"caxis\":{\"gridcolor\":\"white\",\"linecolor\":\"white\",\"ticks\":\"\"}},\"coloraxis\":{\"colorbar\":{\"outlinewidth\":0,\"ticks\":\"\"}},\"colorscale\":{\"sequential\":[[0.0,\"#0d0887\"],[0.1111111111111111,\"#46039f\"],[0.2222222222222222,\"#7201a8\"],[0.3333333333333333,\"#9c179e\"],[0.4444444444444444,\"#bd3786\"],[0.5555555555555556,\"#d8576b\"],[0.6666666666666666,\"#ed7953\"],[0.7777777777777778,\"#fb9f3a\"],[0.8888888888888888,\"#fdca26\"],[1.0,\"#f0f921\"]],\"sequentialminus\":[[0.0,\"#0d0887\"],[0.1111111111111111,\"#46039f\"],[0.2222222222222222,\"#7201a8\"],[0.3333333333333333,\"#9c179e\"],[0.4444444444444444,\"#bd3786\"],[0.5555555555555556,\"#d8576b\"],[0.6666666666666666,\"#ed7953\"],[0.7777777777777778,\"#fb9f3a\"],[0.8888888888888888,\"#fdca26\"],[1.0,\"#f0f921\"]],\"diverging\":[[0,\"#8e0152\"],[0.1,\"#c51b7d\"],[0.2,\"#de77ae\"],[0.3,\"#f1b6da\"],[0.4,\"#fde0ef\"],[0.5,\"#f7f7f7\"],[0.6,\"#e6f5d0\"],[0.7,\"#b8e186\"],[0.8,\"#7fbc41\"],[0.9,\"#4d9221\"],[1,\"#276419\"]]},\"xaxis\":{\"gridcolor\":\"white\",\"linecolor\":\"white\",\"ticks\":\"\",\"title\":{\"standoff\":15},\"zerolinecolor\":\"white\",\"automargin\":true,\"zerolinewidth\":2},\"yaxis\":{\"gridcolor\":\"white\",\"linecolor\":\"white\",\"ticks\":\"\",\"title\":{\"standoff\":15},\"zerolinecolor\":\"white\",\"automargin\":true,\"zerolinewidth\":2},\"scene\":{\"xaxis\":{\"backgroundcolor\":\"#E5ECF6\",\"gridcolor\":\"white\",\"linecolor\":\"white\",\"showbackground\":true,\"ticks\":\"\",\"zerolinecolor\":\"white\",\"gridwidth\":2},\"yaxis\":{\"backgroundcolor\":\"#E5ECF6\",\"gridcolor\":\"white\",\"linecolor\":\"white\",\"showbackground\":true,\"ticks\":\"\",\"zerolinecolor\":\"white\",\"gridwidth\":2},\"zaxis\":{\"backgroundcolor\":\"#E5ECF6\",\"gridcolor\":\"white\",\"linecolor\":\"white\",\"showbackground\":true,\"ticks\":\"\",\"zerolinecolor\":\"white\",\"gridwidth\":2}},\"shapedefaults\":{\"line\":{\"color\":\"#2a3f5f\"}},\"annotationdefaults\":{\"arrowcolor\":\"#2a3f5f\",\"arrowhead\":0,\"arrowwidth\":1},\"geo\":{\"bgcolor\":\"white\",\"landcolor\":\"#E5ECF6\",\"subunitcolor\":\"white\",\"showland\":true,\"showlakes\":true,\"lakecolor\":\"white\"},\"title\":{\"x\":0.05},\"mapbox\":{\"style\":\"light\"}}},\"xaxis\":{\"anchor\":\"y\",\"domain\":[0.0,1.0],\"title\":{\"text\":\"role\"}},\"yaxis\":{\"anchor\":\"x\",\"domain\":[0.0,1.0],\"title\":{\"text\":\"role_count\"}},\"legend\":{\"tracegroupgap\":0},\"margin\":{\"t\":60},\"barmode\":\"relative\"},                        {\"responsive\": true}                    ).then(function(){\n",
       "                            \n",
       "var gd = document.getElementById('97dc6474-d827-453c-9f2f-eda4b2cc8de5');\n",
       "var x = new MutationObserver(function (mutations, observer) {{\n",
       "        var display = window.getComputedStyle(gd).display;\n",
       "        if (!display || display === 'none') {{\n",
       "            console.log([gd, 'removed!']);\n",
       "            Plotly.purge(gd);\n",
       "            observer.disconnect();\n",
       "        }}\n",
       "}});\n",
       "\n",
       "// Listen for the removal of the full notebook cells\n",
       "var notebookContainer = gd.closest('#notebook-container');\n",
       "if (notebookContainer) {{\n",
       "    x.observe(notebookContainer, {childList: true});\n",
       "}}\n",
       "\n",
       "// Listen for the clearing of the current output cell\n",
       "var outputEl = gd.closest('.output');\n",
       "if (outputEl) {{\n",
       "    x.observe(outputEl, {childList: true});\n",
       "}}\n",
       "\n",
       "                        })                };                });            </script>        </div>"
      ]
     },
     "metadata": {},
     "output_type": "display_data"
    }
   ],
   "source": [
    "make_role_counts_df(df_rf)\n",
    "make_role_counts_barchart(df_rf)"
   ]
  },
  {
   "cell_type": "markdown",
   "id": "d5041c24-5cfd-40cf-a1bf-94c913ccb31c",
   "metadata": {},
   "source": [
    "# Time Binning Analysis"
   ]
  },
  {
   "cell_type": "markdown",
   "id": "5e1116d7-7115-472e-9fac-6c27f5576d1a",
   "metadata": {},
   "source": [
    "- Resource \n",
    "    - good info on date ranges\n",
    "    - timestamps \n",
    "    - utilizing native time series functions when df index is timestamp type\n",
    "    \n",
    "https://stackoverflow.com/questions/27365467/can-pandas-plot-a-histogram-of-dates\n",
    "\n",
    "https://davidbpython.com/advanced_python/slides/handout-83-3.html"
   ]
  },
  {
   "cell_type": "code",
   "execution_count": null,
   "id": "0ac0ad3c-ad7d-4088-b510-179703b52dbc",
   "metadata": {},
   "outputs": [],
   "source": []
  }
 ],
 "metadata": {
  "kernelspec": {
   "display_name": "Python 3 (ipykernel)",
   "language": "python",
   "name": "python3"
  },
  "language_info": {
   "codemirror_mode": {
    "name": "ipython",
    "version": 3
   },
   "file_extension": ".py",
   "mimetype": "text/x-python",
   "name": "python",
   "nbconvert_exporter": "python",
   "pygments_lexer": "ipython3",
   "version": "3.10.6"
  }
 },
 "nbformat": 4,
 "nbformat_minor": 5
}
