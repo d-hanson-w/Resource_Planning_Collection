{
 "cells": [
  {
   "cell_type": "code",
   "execution_count": 1,
   "id": "faad2371-827d-4ae1-9cb4-e82d08810ec7",
   "metadata": {},
   "outputs": [],
   "source": [
    "import pandas as pd\n",
    "import datetime as dt"
   ]
  },
  {
   "cell_type": "code",
   "execution_count": 2,
   "id": "d5c8107c-1dd1-4373-8ce9-8d8c537a5b6c",
   "metadata": {},
   "outputs": [],
   "source": [
    "date1 = '2022-01-01'\n",
    "date2 = '2025-01-01'"
   ]
  },
  {
   "cell_type": "code",
   "execution_count": 4,
   "id": "3ff66639-ad32-42e4-9576-30211b8cff15",
   "metadata": {},
   "outputs": [],
   "source": [
    "date_range = pd.date_range(date1, date2)"
   ]
  },
  {
   "cell_type": "code",
   "execution_count": 7,
   "id": "9bae4bc0-ab06-45c2-9389-d39b3d65094a",
   "metadata": {},
   "outputs": [
    {
     "data": {
      "text/plain": [
       "DatetimeIndex(['2022-01-01', '2022-01-02', '2022-01-03', '2022-01-04',\n",
       "               '2022-01-05', '2022-01-06', '2022-01-07', '2022-01-08',\n",
       "               '2022-01-09', '2022-01-10',\n",
       "               ...\n",
       "               '2024-12-23', '2024-12-24', '2024-12-25', '2024-12-26',\n",
       "               '2024-12-27', '2024-12-28', '2024-12-29', '2024-12-30',\n",
       "               '2024-12-31', '2025-01-01'],\n",
       "              dtype='datetime64[ns]', length=1097, freq='D')"
      ]
     },
     "execution_count": 7,
     "metadata": {},
     "output_type": "execute_result"
    }
   ],
   "source": [
    "date_range"
   ]
  },
  {
   "cell_type": "code",
   "execution_count": null,
   "id": "2f1f835f-7b3b-4b49-8601-2435e583f56e",
   "metadata": {},
   "outputs": [],
   "source": []
  }
 ],
 "metadata": {
  "kernelspec": {
   "display_name": "Python 3 (ipykernel)",
   "language": "python",
   "name": "python3"
  },
  "language_info": {
   "codemirror_mode": {
    "name": "ipython",
    "version": 3
   },
   "file_extension": ".py",
   "mimetype": "text/x-python",
   "name": "python",
   "nbconvert_exporter": "python",
   "pygments_lexer": "ipython3",
   "version": "3.10.6"
  }
 },
 "nbformat": 4,
 "nbformat_minor": 5
}
