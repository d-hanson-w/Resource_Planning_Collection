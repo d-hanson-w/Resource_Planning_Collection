{
 "cells": [
  {
   "cell_type": "code",
   "execution_count": 3,
   "id": "70057ae9-8931-4701-84eb-bed83cf88c40",
   "metadata": {},
   "outputs": [],
   "source": [
    "import pandas as pd\n",
    "import numpy as np\n",
    "import plotly\n",
    "import importlib\n",
    "import asana\n",
    "import wartsila_asana_utils as wa\n",
    "\n",
    "import plotly.express as px"
   ]
  },
  {
   "cell_type": "code",
   "execution_count": 4,
   "id": "94166719-8c9b-4ba7-b86f-0e90c2df6f42",
   "metadata": {},
   "outputs": [
    {
     "data": {
      "text/plain": [
       "<module 'wartsila_asana_utils' from 'C:\\\\Users\\\\dha042\\\\Documents\\\\W_Development\\\\Resource_Planning\\\\wartsila_asana_utils.py'>"
      ]
     },
     "execution_count": 4,
     "metadata": {},
     "output_type": "execute_result"
    }
   ],
   "source": [
    "importlib.reload(wa)"
   ]
  },
  {
   "cell_type": "code",
   "execution_count": 47,
   "id": "1e355151-ffac-465d-a5d2-4b7cec4f53e0",
   "metadata": {},
   "outputs": [],
   "source": [
    "#load all task data\n",
    "rsc_task_list = wa.get_api_rsc_tasks()\n",
    "df_tasks = wa.make_rsc_tasks_df(rsc_task_list)\n",
    "df_tasks = wa.prep_task_display_table(df_tasks)"
   ]
  },
  {
   "cell_type": "code",
   "execution_count": 48,
   "id": "6121c4db-7397-4357-97c8-9ffb4fd21e6e",
   "metadata": {},
   "outputs": [
    {
     "data": {
      "text/plain": [
       "['AMER', 'EUAF', 'MEA', 'no_region']"
      ]
     },
     "execution_count": 48,
     "metadata": {},
     "output_type": "execute_result"
    }
   ],
   "source": [
    "role_options = sorted(df_tasks['region'].unique().tolist())\n",
    "role_options"
   ]
  },
  {
   "cell_type": "code",
   "execution_count": 10,
   "id": "5f01aa26-94de-48a0-8cdb-ff5aac82e583",
   "metadata": {},
   "outputs": [],
   "source": [
    "\n",
    "df_dag = df_tasks[df_tasks['role'].isin(['Commissioning Manager', 'Commissioning Engineer'])]\n",
    "df_dag = df_dag[df_dag['eso_project_name'].str.contains('Dagget')]\n",
    "\n",
    "\n",
    "    "
   ]
  },
  {
   "cell_type": "code",
   "execution_count": 11,
   "id": "c09237a1-4dc4-494f-8d48-f3a180d908c5",
   "metadata": {},
   "outputs": [
    {
     "data": {
      "application/vnd.plotly.v1+json": {
       "config": {
        "plotlyServerURL": "https://plot.ly"
       },
       "data": [
        {
         "alignmentgroup": "True",
         "base": [
          "2023-02-20T00:00:00",
          "2023-02-20T00:00:00",
          "2022-12-09T00:00:00",
          "2022-12-09T00:00:00",
          "2023-01-20T00:00:00",
          "2023-01-20T00:00:00",
          "2022-12-09T00:00:00",
          "2022-12-09T00:00:00"
         ],
         "hovertemplate": "start_date=%{base}<br>due_date=%{x}<br>eso_project_name=%{y}<extra></extra>",
         "legendgroup": "",
         "marker": {
          "color": "#636efa",
          "pattern": {
           "shape": ""
          }
         },
         "name": "",
         "offsetgroup": "",
         "orientation": "h",
         "showlegend": false,
         "textposition": "auto",
         "type": "bar",
         "x": [
          8640000000,
          8640000000,
          6480000000,
          6480000000,
          2851200000,
          2851200000,
          6480000000,
          6480000000
         ],
         "xaxis": "x",
         "y": [
          "P/21467 Daggett 3A [EEQ]",
          "P/21467 Daggett 3A [EEQ]",
          "P/21467 Daggett 3B [EEQ]",
          "P/21467 Daggett 3B [EEQ]",
          "P/21467 Daggett 3CD [EEQ]",
          "P/21467 Daggett 3CD [EEQ]",
          "P/21467 Daggett 3E [EEQ]",
          "P/21467 Daggett 3E [EEQ]"
         ],
         "yaxis": "y"
        }
       ],
       "layout": {
        "autosize": true,
        "barmode": "overlay",
        "legend": {
         "tracegroupgap": 0
        },
        "margin": {
         "t": 60
        },
        "template": {
         "data": {
          "bar": [
           {
            "error_x": {
             "color": "#2a3f5f"
            },
            "error_y": {
             "color": "#2a3f5f"
            },
            "marker": {
             "line": {
              "color": "#E5ECF6",
              "width": 0.5
             },
             "pattern": {
              "fillmode": "overlay",
              "size": 10,
              "solidity": 0.2
             }
            },
            "type": "bar"
           }
          ],
          "barpolar": [
           {
            "marker": {
             "line": {
              "color": "#E5ECF6",
              "width": 0.5
             },
             "pattern": {
              "fillmode": "overlay",
              "size": 10,
              "solidity": 0.2
             }
            },
            "type": "barpolar"
           }
          ],
          "carpet": [
           {
            "aaxis": {
             "endlinecolor": "#2a3f5f",
             "gridcolor": "white",
             "linecolor": "white",
             "minorgridcolor": "white",
             "startlinecolor": "#2a3f5f"
            },
            "baxis": {
             "endlinecolor": "#2a3f5f",
             "gridcolor": "white",
             "linecolor": "white",
             "minorgridcolor": "white",
             "startlinecolor": "#2a3f5f"
            },
            "type": "carpet"
           }
          ],
          "choropleth": [
           {
            "colorbar": {
             "outlinewidth": 0,
             "ticks": ""
            },
            "type": "choropleth"
           }
          ],
          "contour": [
           {
            "colorbar": {
             "outlinewidth": 0,
             "ticks": ""
            },
            "colorscale": [
             [
              0,
              "#0d0887"
             ],
             [
              0.1111111111111111,
              "#46039f"
             ],
             [
              0.2222222222222222,
              "#7201a8"
             ],
             [
              0.3333333333333333,
              "#9c179e"
             ],
             [
              0.4444444444444444,
              "#bd3786"
             ],
             [
              0.5555555555555556,
              "#d8576b"
             ],
             [
              0.6666666666666666,
              "#ed7953"
             ],
             [
              0.7777777777777778,
              "#fb9f3a"
             ],
             [
              0.8888888888888888,
              "#fdca26"
             ],
             [
              1,
              "#f0f921"
             ]
            ],
            "type": "contour"
           }
          ],
          "contourcarpet": [
           {
            "colorbar": {
             "outlinewidth": 0,
             "ticks": ""
            },
            "type": "contourcarpet"
           }
          ],
          "heatmap": [
           {
            "colorbar": {
             "outlinewidth": 0,
             "ticks": ""
            },
            "colorscale": [
             [
              0,
              "#0d0887"
             ],
             [
              0.1111111111111111,
              "#46039f"
             ],
             [
              0.2222222222222222,
              "#7201a8"
             ],
             [
              0.3333333333333333,
              "#9c179e"
             ],
             [
              0.4444444444444444,
              "#bd3786"
             ],
             [
              0.5555555555555556,
              "#d8576b"
             ],
             [
              0.6666666666666666,
              "#ed7953"
             ],
             [
              0.7777777777777778,
              "#fb9f3a"
             ],
             [
              0.8888888888888888,
              "#fdca26"
             ],
             [
              1,
              "#f0f921"
             ]
            ],
            "type": "heatmap"
           }
          ],
          "heatmapgl": [
           {
            "colorbar": {
             "outlinewidth": 0,
             "ticks": ""
            },
            "colorscale": [
             [
              0,
              "#0d0887"
             ],
             [
              0.1111111111111111,
              "#46039f"
             ],
             [
              0.2222222222222222,
              "#7201a8"
             ],
             [
              0.3333333333333333,
              "#9c179e"
             ],
             [
              0.4444444444444444,
              "#bd3786"
             ],
             [
              0.5555555555555556,
              "#d8576b"
             ],
             [
              0.6666666666666666,
              "#ed7953"
             ],
             [
              0.7777777777777778,
              "#fb9f3a"
             ],
             [
              0.8888888888888888,
              "#fdca26"
             ],
             [
              1,
              "#f0f921"
             ]
            ],
            "type": "heatmapgl"
           }
          ],
          "histogram": [
           {
            "marker": {
             "pattern": {
              "fillmode": "overlay",
              "size": 10,
              "solidity": 0.2
             }
            },
            "type": "histogram"
           }
          ],
          "histogram2d": [
           {
            "colorbar": {
             "outlinewidth": 0,
             "ticks": ""
            },
            "colorscale": [
             [
              0,
              "#0d0887"
             ],
             [
              0.1111111111111111,
              "#46039f"
             ],
             [
              0.2222222222222222,
              "#7201a8"
             ],
             [
              0.3333333333333333,
              "#9c179e"
             ],
             [
              0.4444444444444444,
              "#bd3786"
             ],
             [
              0.5555555555555556,
              "#d8576b"
             ],
             [
              0.6666666666666666,
              "#ed7953"
             ],
             [
              0.7777777777777778,
              "#fb9f3a"
             ],
             [
              0.8888888888888888,
              "#fdca26"
             ],
             [
              1,
              "#f0f921"
             ]
            ],
            "type": "histogram2d"
           }
          ],
          "histogram2dcontour": [
           {
            "colorbar": {
             "outlinewidth": 0,
             "ticks": ""
            },
            "colorscale": [
             [
              0,
              "#0d0887"
             ],
             [
              0.1111111111111111,
              "#46039f"
             ],
             [
              0.2222222222222222,
              "#7201a8"
             ],
             [
              0.3333333333333333,
              "#9c179e"
             ],
             [
              0.4444444444444444,
              "#bd3786"
             ],
             [
              0.5555555555555556,
              "#d8576b"
             ],
             [
              0.6666666666666666,
              "#ed7953"
             ],
             [
              0.7777777777777778,
              "#fb9f3a"
             ],
             [
              0.8888888888888888,
              "#fdca26"
             ],
             [
              1,
              "#f0f921"
             ]
            ],
            "type": "histogram2dcontour"
           }
          ],
          "mesh3d": [
           {
            "colorbar": {
             "outlinewidth": 0,
             "ticks": ""
            },
            "type": "mesh3d"
           }
          ],
          "parcoords": [
           {
            "line": {
             "colorbar": {
              "outlinewidth": 0,
              "ticks": ""
             }
            },
            "type": "parcoords"
           }
          ],
          "pie": [
           {
            "automargin": true,
            "type": "pie"
           }
          ],
          "scatter": [
           {
            "fillpattern": {
             "fillmode": "overlay",
             "size": 10,
             "solidity": 0.2
            },
            "type": "scatter"
           }
          ],
          "scatter3d": [
           {
            "line": {
             "colorbar": {
              "outlinewidth": 0,
              "ticks": ""
             }
            },
            "marker": {
             "colorbar": {
              "outlinewidth": 0,
              "ticks": ""
             }
            },
            "type": "scatter3d"
           }
          ],
          "scattercarpet": [
           {
            "marker": {
             "colorbar": {
              "outlinewidth": 0,
              "ticks": ""
             }
            },
            "type": "scattercarpet"
           }
          ],
          "scattergeo": [
           {
            "marker": {
             "colorbar": {
              "outlinewidth": 0,
              "ticks": ""
             }
            },
            "type": "scattergeo"
           }
          ],
          "scattergl": [
           {
            "marker": {
             "colorbar": {
              "outlinewidth": 0,
              "ticks": ""
             }
            },
            "type": "scattergl"
           }
          ],
          "scattermapbox": [
           {
            "marker": {
             "colorbar": {
              "outlinewidth": 0,
              "ticks": ""
             }
            },
            "type": "scattermapbox"
           }
          ],
          "scatterpolar": [
           {
            "marker": {
             "colorbar": {
              "outlinewidth": 0,
              "ticks": ""
             }
            },
            "type": "scatterpolar"
           }
          ],
          "scatterpolargl": [
           {
            "marker": {
             "colorbar": {
              "outlinewidth": 0,
              "ticks": ""
             }
            },
            "type": "scatterpolargl"
           }
          ],
          "scatterternary": [
           {
            "marker": {
             "colorbar": {
              "outlinewidth": 0,
              "ticks": ""
             }
            },
            "type": "scatterternary"
           }
          ],
          "surface": [
           {
            "colorbar": {
             "outlinewidth": 0,
             "ticks": ""
            },
            "colorscale": [
             [
              0,
              "#0d0887"
             ],
             [
              0.1111111111111111,
              "#46039f"
             ],
             [
              0.2222222222222222,
              "#7201a8"
             ],
             [
              0.3333333333333333,
              "#9c179e"
             ],
             [
              0.4444444444444444,
              "#bd3786"
             ],
             [
              0.5555555555555556,
              "#d8576b"
             ],
             [
              0.6666666666666666,
              "#ed7953"
             ],
             [
              0.7777777777777778,
              "#fb9f3a"
             ],
             [
              0.8888888888888888,
              "#fdca26"
             ],
             [
              1,
              "#f0f921"
             ]
            ],
            "type": "surface"
           }
          ],
          "table": [
           {
            "cells": {
             "fill": {
              "color": "#EBF0F8"
             },
             "line": {
              "color": "white"
             }
            },
            "header": {
             "fill": {
              "color": "#C8D4E3"
             },
             "line": {
              "color": "white"
             }
            },
            "type": "table"
           }
          ]
         },
         "layout": {
          "annotationdefaults": {
           "arrowcolor": "#2a3f5f",
           "arrowhead": 0,
           "arrowwidth": 1
          },
          "autotypenumbers": "strict",
          "coloraxis": {
           "colorbar": {
            "outlinewidth": 0,
            "ticks": ""
           }
          },
          "colorscale": {
           "diverging": [
            [
             0,
             "#8e0152"
            ],
            [
             0.1,
             "#c51b7d"
            ],
            [
             0.2,
             "#de77ae"
            ],
            [
             0.3,
             "#f1b6da"
            ],
            [
             0.4,
             "#fde0ef"
            ],
            [
             0.5,
             "#f7f7f7"
            ],
            [
             0.6,
             "#e6f5d0"
            ],
            [
             0.7,
             "#b8e186"
            ],
            [
             0.8,
             "#7fbc41"
            ],
            [
             0.9,
             "#4d9221"
            ],
            [
             1,
             "#276419"
            ]
           ],
           "sequential": [
            [
             0,
             "#0d0887"
            ],
            [
             0.1111111111111111,
             "#46039f"
            ],
            [
             0.2222222222222222,
             "#7201a8"
            ],
            [
             0.3333333333333333,
             "#9c179e"
            ],
            [
             0.4444444444444444,
             "#bd3786"
            ],
            [
             0.5555555555555556,
             "#d8576b"
            ],
            [
             0.6666666666666666,
             "#ed7953"
            ],
            [
             0.7777777777777778,
             "#fb9f3a"
            ],
            [
             0.8888888888888888,
             "#fdca26"
            ],
            [
             1,
             "#f0f921"
            ]
           ],
           "sequentialminus": [
            [
             0,
             "#0d0887"
            ],
            [
             0.1111111111111111,
             "#46039f"
            ],
            [
             0.2222222222222222,
             "#7201a8"
            ],
            [
             0.3333333333333333,
             "#9c179e"
            ],
            [
             0.4444444444444444,
             "#bd3786"
            ],
            [
             0.5555555555555556,
             "#d8576b"
            ],
            [
             0.6666666666666666,
             "#ed7953"
            ],
            [
             0.7777777777777778,
             "#fb9f3a"
            ],
            [
             0.8888888888888888,
             "#fdca26"
            ],
            [
             1,
             "#f0f921"
            ]
           ]
          },
          "colorway": [
           "#636efa",
           "#EF553B",
           "#00cc96",
           "#ab63fa",
           "#FFA15A",
           "#19d3f3",
           "#FF6692",
           "#B6E880",
           "#FF97FF",
           "#FECB52"
          ],
          "font": {
           "color": "#2a3f5f"
          },
          "geo": {
           "bgcolor": "white",
           "lakecolor": "white",
           "landcolor": "#E5ECF6",
           "showlakes": true,
           "showland": true,
           "subunitcolor": "white"
          },
          "hoverlabel": {
           "align": "left"
          },
          "hovermode": "closest",
          "mapbox": {
           "style": "light"
          },
          "paper_bgcolor": "white",
          "plot_bgcolor": "#E5ECF6",
          "polar": {
           "angularaxis": {
            "gridcolor": "white",
            "linecolor": "white",
            "ticks": ""
           },
           "bgcolor": "#E5ECF6",
           "radialaxis": {
            "gridcolor": "white",
            "linecolor": "white",
            "ticks": ""
           }
          },
          "scene": {
           "xaxis": {
            "backgroundcolor": "#E5ECF6",
            "gridcolor": "white",
            "gridwidth": 2,
            "linecolor": "white",
            "showbackground": true,
            "ticks": "",
            "zerolinecolor": "white"
           },
           "yaxis": {
            "backgroundcolor": "#E5ECF6",
            "gridcolor": "white",
            "gridwidth": 2,
            "linecolor": "white",
            "showbackground": true,
            "ticks": "",
            "zerolinecolor": "white"
           },
           "zaxis": {
            "backgroundcolor": "#E5ECF6",
            "gridcolor": "white",
            "gridwidth": 2,
            "linecolor": "white",
            "showbackground": true,
            "ticks": "",
            "zerolinecolor": "white"
           }
          },
          "shapedefaults": {
           "line": {
            "color": "#2a3f5f"
           }
          },
          "ternary": {
           "aaxis": {
            "gridcolor": "white",
            "linecolor": "white",
            "ticks": ""
           },
           "baxis": {
            "gridcolor": "white",
            "linecolor": "white",
            "ticks": ""
           },
           "bgcolor": "#E5ECF6",
           "caxis": {
            "gridcolor": "white",
            "linecolor": "white",
            "ticks": ""
           }
          },
          "title": {
           "x": 0.05
          },
          "xaxis": {
           "automargin": true,
           "gridcolor": "white",
           "linecolor": "white",
           "ticks": "",
           "title": {
            "standoff": 15
           },
           "zerolinecolor": "white",
           "zerolinewidth": 2
          },
          "yaxis": {
           "automargin": true,
           "gridcolor": "white",
           "linecolor": "white",
           "ticks": "",
           "title": {
            "standoff": 15
           },
           "zerolinecolor": "white",
           "zerolinewidth": 2
          }
         }
        },
        "xaxis": {
         "anchor": "y",
         "autorange": true,
         "domain": [
          0,
          1
         ],
         "range": [
          "2022-11-29 09:20",
          "2023-06-09 14:40"
         ],
         "type": "date"
        },
        "yaxis": {
         "anchor": "x",
         "autorange": true,
         "domain": [
          0,
          1
         ],
         "range": [
          -0.5,
          3.5
         ],
         "title": {
          "text": "eso_project_name"
         },
         "type": "category"
        }
       }
      },
      "image/png": "[encoded data removed]",
      "text/html": [
       "<div>                            <div id=\"83dfb969-4528-4982-9168-c5e26e98324e\" class=\"plotly-graph-div\" style=\"height:525px; width:100%;\"></div>            <script type=\"text/javascript\">                require([\"plotly\"], function(Plotly) {                    window.PLOTLYENV=window.PLOTLYENV || {};                                    if (document.getElementById(\"83dfb969-4528-4982-9168-c5e26e98324e\")) {                    Plotly.newPlot(                        \"83dfb969-4528-4982-9168-c5e26e98324e\",                        [{\"alignmentgroup\":\"True\",\"base\":[\"2023-02-20T00:00:00\",\"2023-02-20T00:00:00\",\"2022-12-09T00:00:00\",\"2022-12-09T00:00:00\",\"2023-01-20T00:00:00\",\"2023-01-20T00:00:00\",\"2022-12-09T00:00:00\",\"2022-12-09T00:00:00\"],\"hovertemplate\":\"start_date=%{base}<br>due_date=%{x}<br>eso_project_name=%{y}<extra></extra>\",\"legendgroup\":\"\",\"marker\":{\"color\":\"#636efa\",\"pattern\":{\"shape\":\"\"}},\"name\":\"\",\"offsetgroup\":\"\",\"orientation\":\"h\",\"showlegend\":false,\"textposition\":\"auto\",\"x\":[8640000000.0,8640000000.0,6480000000.0,6480000000.0,2851200000.0,2851200000.0,6480000000.0,6480000000.0],\"xaxis\":\"x\",\"y\":[\"P/21467 Daggett 3A [EEQ]\",\"P/21467 Daggett 3A [EEQ]\",\"P/21467 Daggett 3B [EEQ]\",\"P/21467 Daggett 3B [EEQ]\",\"P/21467 Daggett 3CD [EEQ]\",\"P/21467 Daggett 3CD [EEQ]\",\"P/21467 Daggett 3E [EEQ]\",\"P/21467 Daggett 3E [EEQ]\"],\"yaxis\":\"y\",\"type\":\"bar\"}],                        {\"template\":{\"data\":{\"histogram2dcontour\":[{\"type\":\"histogram2dcontour\",\"colorbar\":{\"outlinewidth\":0,\"ticks\":\"\"},\"colorscale\":[[0.0,\"#0d0887\"],[0.1111111111111111,\"#46039f\"],[0.2222222222222222,\"#7201a8\"],[0.3333333333333333,\"#9c179e\"],[0.4444444444444444,\"#bd3786\"],[0.5555555555555556,\"#d8576b\"],[0.6666666666666666,\"#ed7953\"],[0.7777777777777778,\"#fb9f3a\"],[0.8888888888888888,\"#fdca26\"],[1.0,\"#f0f921\"]]}],\"choropleth\":[{\"type\":\"choropleth\",\"colorbar\":{\"outlinewidth\":0,\"ticks\":\"\"}}],\"histogram2d\":[{\"type\":\"histogram2d\",\"colorbar\":{\"outlinewidth\":0,\"ticks\":\"\"},\"colorscale\":[[0.0,\"#0d0887\"],[0.1111111111111111,\"#46039f\"],[0.2222222222222222,\"#7201a8\"],[0.3333333333333333,\"#9c179e\"],[0.4444444444444444,\"#bd3786\"],[0.5555555555555556,\"#d8576b\"],[0.6666666666666666,\"#ed7953\"],[0.7777777777777778,\"#fb9f3a\"],[0.8888888888888888,\"#fdca26\"],[1.0,\"#f0f921\"]]}],\"heatmap\":[{\"type\":\"heatmap\",\"colorbar\":{\"outlinewidth\":0,\"ticks\":\"\"},\"colorscale\":[[0.0,\"#0d0887\"],[0.1111111111111111,\"#46039f\"],[0.2222222222222222,\"#7201a8\"],[0.3333333333333333,\"#9c179e\"],[0.4444444444444444,\"#bd3786\"],[0.5555555555555556,\"#d8576b\"],[0.6666666666666666,\"#ed7953\"],[0.7777777777777778,\"#fb9f3a\"],[0.8888888888888888,\"#fdca26\"],[1.0,\"#f0f921\"]]}],\"heatmapgl\":[{\"type\":\"heatmapgl\",\"colorbar\":{\"outlinewidth\":0,\"ticks\":\"\"},\"colorscale\":[[0.0,\"#0d0887\"],[0.1111111111111111,\"#46039f\"],[0.2222222222222222,\"#7201a8\"],[0.3333333333333333,\"#9c179e\"],[0.4444444444444444,\"#bd3786\"],[0.5555555555555556,\"#d8576b\"],[0.6666666666666666,\"#ed7953\"],[0.7777777777777778,\"#fb9f3a\"],[0.8888888888888888,\"#fdca26\"],[1.0,\"#f0f921\"]]}],\"contourcarpet\":[{\"type\":\"contourcarpet\",\"colorbar\":{\"outlinewidth\":0,\"ticks\":\"\"}}],\"contour\":[{\"type\":\"contour\",\"colorbar\":{\"outlinewidth\":0,\"ticks\":\"\"},\"colorscale\":[[0.0,\"#0d0887\"],[0.1111111111111111,\"#46039f\"],[0.2222222222222222,\"#7201a8\"],[0.3333333333333333,\"#9c179e\"],[0.4444444444444444,\"#bd3786\"],[0.5555555555555556,\"#d8576b\"],[0.6666666666666666,\"#ed7953\"],[0.7777777777777778,\"#fb9f3a\"],[0.8888888888888888,\"#fdca26\"],[1.0,\"#f0f921\"]]}],\"surface\":[{\"type\":\"surface\",\"colorbar\":{\"outlinewidth\":0,\"ticks\":\"\"},\"colorscale\":[[0.0,\"#0d0887\"],[0.1111111111111111,\"#46039f\"],[0.2222222222222222,\"#7201a8\"],[0.3333333333333333,\"#9c179e\"],[0.4444444444444444,\"#bd3786\"],[0.5555555555555556,\"#d8576b\"],[0.6666666666666666,\"#ed7953\"],[0.7777777777777778,\"#fb9f3a\"],[0.8888888888888888,\"#fdca26\"],[1.0,\"#f0f921\"]]}],\"mesh3d\":[{\"type\":\"mesh3d\",\"colorbar\":{\"outlinewidth\":0,\"ticks\":\"\"}}],\"scatter\":[{\"fillpattern\":{\"fillmode\":\"overlay\",\"size\":10,\"solidity\":0.2},\"type\":\"scatter\"}],\"parcoords\":[{\"type\":\"parcoords\",\"line\":{\"colorbar\":{\"outlinewidth\":0,\"ticks\":\"\"}}}],\"scatterpolargl\":[{\"type\":\"scatterpolargl\",\"marker\":{\"colorbar\":{\"outlinewidth\":0,\"ticks\":\"\"}}}],\"bar\":[{\"error_x\":{\"color\":\"#2a3f5f\"},\"error_y\":{\"color\":\"#2a3f5f\"},\"marker\":{\"line\":{\"color\":\"#E5ECF6\",\"width\":0.5},\"pattern\":{\"fillmode\":\"overlay\",\"size\":10,\"solidity\":0.2}},\"type\":\"bar\"}],\"scattergeo\":[{\"type\":\"scattergeo\",\"marker\":{\"colorbar\":{\"outlinewidth\":0,\"ticks\":\"\"}}}],\"scatterpolar\":[{\"type\":\"scatterpolar\",\"marker\":{\"colorbar\":{\"outlinewidth\":0,\"ticks\":\"\"}}}],\"histogram\":[{\"marker\":{\"pattern\":{\"fillmode\":\"overlay\",\"size\":10,\"solidity\":0.2}},\"type\":\"histogram\"}],\"scattergl\":[{\"type\":\"scattergl\",\"marker\":{\"colorbar\":{\"outlinewidth\":0,\"ticks\":\"\"}}}],\"scatter3d\":[{\"type\":\"scatter3d\",\"line\":{\"colorbar\":{\"outlinewidth\":0,\"ticks\":\"\"}},\"marker\":{\"colorbar\":{\"outlinewidth\":0,\"ticks\":\"\"}}}],\"scattermapbox\":[{\"type\":\"scattermapbox\",\"marker\":{\"colorbar\":{\"outlinewidth\":0,\"ticks\":\"\"}}}],\"scatterternary\":[{\"type\":\"scatterternary\",\"marker\":{\"colorbar\":{\"outlinewidth\":0,\"ticks\":\"\"}}}],\"scattercarpet\":[{\"type\":\"scattercarpet\",\"marker\":{\"colorbar\":{\"outlinewidth\":0,\"ticks\":\"\"}}}],\"carpet\":[{\"aaxis\":{\"endlinecolor\":\"#2a3f5f\",\"gridcolor\":\"white\",\"linecolor\":\"white\",\"minorgridcolor\":\"white\",\"startlinecolor\":\"#2a3f5f\"},\"baxis\":{\"endlinecolor\":\"#2a3f5f\",\"gridcolor\":\"white\",\"linecolor\":\"white\",\"minorgridcolor\":\"white\",\"startlinecolor\":\"#2a3f5f\"},\"type\":\"carpet\"}],\"table\":[{\"cells\":{\"fill\":{\"color\":\"#EBF0F8\"},\"line\":{\"color\":\"white\"}},\"header\":{\"fill\":{\"color\":\"#C8D4E3\"},\"line\":{\"color\":\"white\"}},\"type\":\"table\"}],\"barpolar\":[{\"marker\":{\"line\":{\"color\":\"#E5ECF6\",\"width\":0.5},\"pattern\":{\"fillmode\":\"overlay\",\"size\":10,\"solidity\":0.2}},\"type\":\"barpolar\"}],\"pie\":[{\"automargin\":true,\"type\":\"pie\"}]},\"layout\":{\"autotypenumbers\":\"strict\",\"colorway\":[\"#636efa\",\"#EF553B\",\"#00cc96\",\"#ab63fa\",\"#FFA15A\",\"#19d3f3\",\"#FF6692\",\"#B6E880\",\"#FF97FF\",\"#FECB52\"],\"font\":{\"color\":\"#2a3f5f\"},\"hovermode\":\"closest\",\"hoverlabel\":{\"align\":\"left\"},\"paper_bgcolor\":\"white\",\"plot_bgcolor\":\"#E5ECF6\",\"polar\":{\"bgcolor\":\"#E5ECF6\",\"angularaxis\":{\"gridcolor\":\"white\",\"linecolor\":\"white\",\"ticks\":\"\"},\"radialaxis\":{\"gridcolor\":\"white\",\"linecolor\":\"white\",\"ticks\":\"\"}},\"ternary\":{\"bgcolor\":\"#E5ECF6\",\"aaxis\":{\"gridcolor\":\"white\",\"linecolor\":\"white\",\"ticks\":\"\"},\"baxis\":{\"gridcolor\":\"white\",\"linecolor\":\"white\",\"ticks\":\"\"},\"caxis\":{\"gridcolor\":\"white\",\"linecolor\":\"white\",\"ticks\":\"\"}},\"coloraxis\":{\"colorbar\":{\"outlinewidth\":0,\"ticks\":\"\"}},\"colorscale\":{\"sequential\":[[0.0,\"#0d0887\"],[0.1111111111111111,\"#46039f\"],[0.2222222222222222,\"#7201a8\"],[0.3333333333333333,\"#9c179e\"],[0.4444444444444444,\"#bd3786\"],[0.5555555555555556,\"#d8576b\"],[0.6666666666666666,\"#ed7953\"],[0.7777777777777778,\"#fb9f3a\"],[0.8888888888888888,\"#fdca26\"],[1.0,\"#f0f921\"]],\"sequentialminus\":[[0.0,\"#0d0887\"],[0.1111111111111111,\"#46039f\"],[0.2222222222222222,\"#7201a8\"],[0.3333333333333333,\"#9c179e\"],[0.4444444444444444,\"#bd3786\"],[0.5555555555555556,\"#d8576b\"],[0.6666666666666666,\"#ed7953\"],[0.7777777777777778,\"#fb9f3a\"],[0.8888888888888888,\"#fdca26\"],[1.0,\"#f0f921\"]],\"diverging\":[[0,\"#8e0152\"],[0.1,\"#c51b7d\"],[0.2,\"#de77ae\"],[0.3,\"#f1b6da\"],[0.4,\"#fde0ef\"],[0.5,\"#f7f7f7\"],[0.6,\"#e6f5d0\"],[0.7,\"#b8e186\"],[0.8,\"#7fbc41\"],[0.9,\"#4d9221\"],[1,\"#276419\"]]},\"xaxis\":{\"gridcolor\":\"white\",\"linecolor\":\"white\",\"ticks\":\"\",\"title\":{\"standoff\":15},\"zerolinecolor\":\"white\",\"automargin\":true,\"zerolinewidth\":2},\"yaxis\":{\"gridcolor\":\"white\",\"linecolor\":\"white\",\"ticks\":\"\",\"title\":{\"standoff\":15},\"zerolinecolor\":\"white\",\"automargin\":true,\"zerolinewidth\":2},\"scene\":{\"xaxis\":{\"backgroundcolor\":\"#E5ECF6\",\"gridcolor\":\"white\",\"linecolor\":\"white\",\"showbackground\":true,\"ticks\":\"\",\"zerolinecolor\":\"white\",\"gridwidth\":2},\"yaxis\":{\"backgroundcolor\":\"#E5ECF6\",\"gridcolor\":\"white\",\"linecolor\":\"white\",\"showbackground\":true,\"ticks\":\"\",\"zerolinecolor\":\"white\",\"gridwidth\":2},\"zaxis\":{\"backgroundcolor\":\"#E5ECF6\",\"gridcolor\":\"white\",\"linecolor\":\"white\",\"showbackground\":true,\"ticks\":\"\",\"zerolinecolor\":\"white\",\"gridwidth\":2}},\"shapedefaults\":{\"line\":{\"color\":\"#2a3f5f\"}},\"annotationdefaults\":{\"arrowcolor\":\"#2a3f5f\",\"arrowhead\":0,\"arrowwidth\":1},\"geo\":{\"bgcolor\":\"white\",\"landcolor\":\"#E5ECF6\",\"subunitcolor\":\"white\",\"showland\":true,\"showlakes\":true,\"lakecolor\":\"white\"},\"title\":{\"x\":0.05},\"mapbox\":{\"style\":\"light\"}}},\"xaxis\":{\"anchor\":\"y\",\"domain\":[0.0,1.0],\"type\":\"date\"},\"yaxis\":{\"anchor\":\"x\",\"domain\":[0.0,1.0],\"title\":{\"text\":\"eso_project_name\"}},\"legend\":{\"tracegroupgap\":0},\"margin\":{\"t\":60},\"barmode\":\"overlay\"},                        {\"responsive\": true}                    ).then(function(){\n",
       "                            \n",
       "var gd = document.getElementById('83dfb969-4528-4982-9168-c5e26e98324e');\n",
       "var x = new MutationObserver(function (mutations, observer) {{\n",
       "        var display = window.getComputedStyle(gd).display;\n",
       "        if (!display || display === 'none') {{\n",
       "            console.log([gd, 'removed!']);\n",
       "            Plotly.purge(gd);\n",
       "            observer.disconnect();\n",
       "        }}\n",
       "}});\n",
       "\n",
       "// Listen for the removal of the full notebook cells\n",
       "var notebookContainer = gd.closest('#notebook-container');\n",
       "if (notebookContainer) {{\n",
       "    x.observe(notebookContainer, {childList: true});\n",
       "}}\n",
       "\n",
       "// Listen for the clearing of the current output cell\n",
       "var outputEl = gd.closest('.output');\n",
       "if (outputEl) {{\n",
       "    x.observe(outputEl, {childList: true});\n",
       "}}\n",
       "\n",
       "                        })                };                });            </script>        </div>"
      ]
     },
     "metadata": {},
     "output_type": "display_data"
    }
   ],
   "source": [
    "px.timeline(df_dag, x_start='start_date', x_end='due_date', y='eso_project_name')"
   ]
  },
  {
   "cell_type": "code",
   "execution_count": 59,
   "id": "1802306c-58cb-4ce6-9766-a6708858f13d",
   "metadata": {},
   "outputs": [
    {
     "data": {
      "application/vnd.plotly.v1+json": {
       "config": {
        "plotlyServerURL": "https://plot.ly"
       },
       "data": [
        {
         "alignmentgroup": "True",
         "base": [
          "2023-02-20T00:00:00",
          null,
          null,
          null,
          null,
          null,
          "2023-02-20T00:00:00",
          "2021-12-01T00:00:00",
          null,
          "2022-06-27T00:00:00",
          null,
          null,
          "2022-12-09T00:00:00",
          "2022-12-09T00:00:00",
          null,
          null,
          null,
          null,
          null,
          "2023-01-20T00:00:00",
          "2023-01-20T00:00:00",
          null,
          null,
          null,
          null,
          null,
          "2022-12-09T00:00:00",
          "2022-12-09T00:00:00"
         ],
         "hovertemplate": "start_date=%{base}<br>due_date=%{x}<br>eso_project_name=%{y}<extra></extra>",
         "legendgroup": "",
         "marker": {
          "color": "#636efa",
          "pattern": {
           "shape": ""
          }
         },
         "name": "",
         "offsetgroup": "",
         "orientation": "h",
         "showlegend": false,
         "textposition": "auto",
         "type": "bar",
         "x": [
          8640000000,
          null,
          null,
          null,
          null,
          null,
          8640000000,
          45273600000,
          null,
          23932800000,
          null,
          null,
          6480000000,
          6480000000,
          null,
          null,
          null,
          null,
          null,
          2851200000,
          2851200000,
          null,
          null,
          null,
          null,
          null,
          6480000000,
          6480000000
         ],
         "xaxis": "x",
         "y": [
          "Daggett 3 Group CmEng",
          "Daggett 3 Group",
          "Daggett 3 Group",
          "Daggett 3 Group",
          "Daggett 3 Group",
          "Daggett 3 Group",
          "Daggett 3 Group CmMgr",
          "Daggett 3 Group",
          "Daggett 3 Group",
          "Daggett 3 Group",
          "Daggett 3 Group",
          "Daggett 3 Group",
          "Daggett 3 Group CmMgr",
          "Daggett 3 Group CmEng",
          "Daggett 3 Group",
          "Daggett 3 Group",
          "Daggett 3 Group",
          "Daggett 3 Group",
          "Daggett 3 Group",
          "Daggett 3 Group CmMgr",
          "Daggett 3 Group CmEng",
          "Daggett 3 Group",
          "Daggett 3 Group",
          "Daggett 3 Group",
          "Daggett 3 Group",
          "Daggett 3 Group",
          "Daggett 3 Group CmMgr",
          "Daggett 3 Group CmEng"
         ],
         "yaxis": "y"
        }
       ],
       "layout": {
        "autosize": true,
        "barmode": "overlay",
        "legend": {
         "tracegroupgap": 0
        },
        "margin": {
         "t": 60
        },
        "template": {
         "data": {
          "bar": [
           {
            "error_x": {
             "color": "#2a3f5f"
            },
            "error_y": {
             "color": "#2a3f5f"
            },
            "marker": {
             "line": {
              "color": "#E5ECF6",
              "width": 0.5
             },
             "pattern": {
              "fillmode": "overlay",
              "size": 10,
              "solidity": 0.2
             }
            },
            "type": "bar"
           }
          ],
          "barpolar": [
           {
            "marker": {
             "line": {
              "color": "#E5ECF6",
              "width": 0.5
             },
             "pattern": {
              "fillmode": "overlay",
              "size": 10,
              "solidity": 0.2
             }
            },
            "type": "barpolar"
           }
          ],
          "carpet": [
           {
            "aaxis": {
             "endlinecolor": "#2a3f5f",
             "gridcolor": "white",
             "linecolor": "white",
             "minorgridcolor": "white",
             "startlinecolor": "#2a3f5f"
            },
            "baxis": {
             "endlinecolor": "#2a3f5f",
             "gridcolor": "white",
             "linecolor": "white",
             "minorgridcolor": "white",
             "startlinecolor": "#2a3f5f"
            },
            "type": "carpet"
           }
          ],
          "choropleth": [
           {
            "colorbar": {
             "outlinewidth": 0,
             "ticks": ""
            },
            "type": "choropleth"
           }
          ],
          "contour": [
           {
            "colorbar": {
             "outlinewidth": 0,
             "ticks": ""
            },
            "colorscale": [
             [
              0,
              "#0d0887"
             ],
             [
              0.1111111111111111,
              "#46039f"
             ],
             [
              0.2222222222222222,
              "#7201a8"
             ],
             [
              0.3333333333333333,
              "#9c179e"
             ],
             [
              0.4444444444444444,
              "#bd3786"
             ],
             [
              0.5555555555555556,
              "#d8576b"
             ],
             [
              0.6666666666666666,
              "#ed7953"
             ],
             [
              0.7777777777777778,
              "#fb9f3a"
             ],
             [
              0.8888888888888888,
              "#fdca26"
             ],
             [
              1,
              "#f0f921"
             ]
            ],
            "type": "contour"
           }
          ],
          "contourcarpet": [
           {
            "colorbar": {
             "outlinewidth": 0,
             "ticks": ""
            },
            "type": "contourcarpet"
           }
          ],
          "heatmap": [
           {
            "colorbar": {
             "outlinewidth": 0,
             "ticks": ""
            },
            "colorscale": [
             [
              0,
              "#0d0887"
             ],
             [
              0.1111111111111111,
              "#46039f"
             ],
             [
              0.2222222222222222,
              "#7201a8"
             ],
             [
              0.3333333333333333,
              "#9c179e"
             ],
             [
              0.4444444444444444,
              "#bd3786"
             ],
             [
              0.5555555555555556,
              "#d8576b"
             ],
             [
              0.6666666666666666,
              "#ed7953"
             ],
             [
              0.7777777777777778,
              "#fb9f3a"
             ],
             [
              0.8888888888888888,
              "#fdca26"
             ],
             [
              1,
              "#f0f921"
             ]
            ],
            "type": "heatmap"
           }
          ],
          "heatmapgl": [
           {
            "colorbar": {
             "outlinewidth": 0,
             "ticks": ""
            },
            "colorscale": [
             [
              0,
              "#0d0887"
             ],
             [
              0.1111111111111111,
              "#46039f"
             ],
             [
              0.2222222222222222,
              "#7201a8"
             ],
             [
              0.3333333333333333,
              "#9c179e"
             ],
             [
              0.4444444444444444,
              "#bd3786"
             ],
             [
              0.5555555555555556,
              "#d8576b"
             ],
             [
              0.6666666666666666,
              "#ed7953"
             ],
             [
              0.7777777777777778,
              "#fb9f3a"
             ],
             [
              0.8888888888888888,
              "#fdca26"
             ],
             [
              1,
              "#f0f921"
             ]
            ],
            "type": "heatmapgl"
           }
          ],
          "histogram": [
           {
            "marker": {
             "pattern": {
              "fillmode": "overlay",
              "size": 10,
              "solidity": 0.2
             }
            },
            "type": "histogram"
           }
          ],
          "histogram2d": [
           {
            "colorbar": {
             "outlinewidth": 0,
             "ticks": ""
            },
            "colorscale": [
             [
              0,
              "#0d0887"
             ],
             [
              0.1111111111111111,
              "#46039f"
             ],
             [
              0.2222222222222222,
              "#7201a8"
             ],
             [
              0.3333333333333333,
              "#9c179e"
             ],
             [
              0.4444444444444444,
              "#bd3786"
             ],
             [
              0.5555555555555556,
              "#d8576b"
             ],
             [
              0.6666666666666666,
              "#ed7953"
             ],
             [
              0.7777777777777778,
              "#fb9f3a"
             ],
             [
              0.8888888888888888,
              "#fdca26"
             ],
             [
              1,
              "#f0f921"
             ]
            ],
            "type": "histogram2d"
           }
          ],
          "histogram2dcontour": [
           {
            "colorbar": {
             "outlinewidth": 0,
             "ticks": ""
            },
            "colorscale": [
             [
              0,
              "#0d0887"
             ],
             [
              0.1111111111111111,
              "#46039f"
             ],
             [
              0.2222222222222222,
              "#7201a8"
             ],
             [
              0.3333333333333333,
              "#9c179e"
             ],
             [
              0.4444444444444444,
              "#bd3786"
             ],
             [
              0.5555555555555556,
              "#d8576b"
             ],
             [
              0.6666666666666666,
              "#ed7953"
             ],
             [
              0.7777777777777778,
              "#fb9f3a"
             ],
             [
              0.8888888888888888,
              "#fdca26"
             ],
             [
              1,
              "#f0f921"
             ]
            ],
            "type": "histogram2dcontour"
           }
          ],
          "mesh3d": [
           {
            "colorbar": {
             "outlinewidth": 0,
             "ticks": ""
            },
            "type": "mesh3d"
           }
          ],
          "parcoords": [
           {
            "line": {
             "colorbar": {
              "outlinewidth": 0,
              "ticks": ""
             }
            },
            "type": "parcoords"
           }
          ],
          "pie": [
           {
            "automargin": true,
            "type": "pie"
           }
          ],
          "scatter": [
           {
            "fillpattern": {
             "fillmode": "overlay",
             "size": 10,
             "solidity": 0.2
            },
            "type": "scatter"
           }
          ],
          "scatter3d": [
           {
            "line": {
             "colorbar": {
              "outlinewidth": 0,
              "ticks": ""
             }
            },
            "marker": {
             "colorbar": {
              "outlinewidth": 0,
              "ticks": ""
             }
            },
            "type": "scatter3d"
           }
          ],
          "scattercarpet": [
           {
            "marker": {
             "colorbar": {
              "outlinewidth": 0,
              "ticks": ""
             }
            },
            "type": "scattercarpet"
           }
          ],
          "scattergeo": [
           {
            "marker": {
             "colorbar": {
              "outlinewidth": 0,
              "ticks": ""
             }
            },
            "type": "scattergeo"
           }
          ],
          "scattergl": [
           {
            "marker": {
             "colorbar": {
              "outlinewidth": 0,
              "ticks": ""
             }
            },
            "type": "scattergl"
           }
          ],
          "scattermapbox": [
           {
            "marker": {
             "colorbar": {
              "outlinewidth": 0,
              "ticks": ""
             }
            },
            "type": "scattermapbox"
           }
          ],
          "scatterpolar": [
           {
            "marker": {
             "colorbar": {
              "outlinewidth": 0,
              "ticks": ""
             }
            },
            "type": "scatterpolar"
           }
          ],
          "scatterpolargl": [
           {
            "marker": {
             "colorbar": {
              "outlinewidth": 0,
              "ticks": ""
             }
            },
            "type": "scatterpolargl"
           }
          ],
          "scatterternary": [
           {
            "marker": {
             "colorbar": {
              "outlinewidth": 0,
              "ticks": ""
             }
            },
            "type": "scatterternary"
           }
          ],
          "surface": [
           {
            "colorbar": {
             "outlinewidth": 0,
             "ticks": ""
            },
            "colorscale": [
             [
              0,
              "#0d0887"
             ],
             [
              0.1111111111111111,
              "#46039f"
             ],
             [
              0.2222222222222222,
              "#7201a8"
             ],
             [
              0.3333333333333333,
              "#9c179e"
             ],
             [
              0.4444444444444444,
              "#bd3786"
             ],
             [
              0.5555555555555556,
              "#d8576b"
             ],
             [
              0.6666666666666666,
              "#ed7953"
             ],
             [
              0.7777777777777778,
              "#fb9f3a"
             ],
             [
              0.8888888888888888,
              "#fdca26"
             ],
             [
              1,
              "#f0f921"
             ]
            ],
            "type": "surface"
           }
          ],
          "table": [
           {
            "cells": {
             "fill": {
              "color": "#EBF0F8"
             },
             "line": {
              "color": "white"
             }
            },
            "header": {
             "fill": {
              "color": "#C8D4E3"
             },
             "line": {
              "color": "white"
             }
            },
            "type": "table"
           }
          ]
         },
         "layout": {
          "annotationdefaults": {
           "arrowcolor": "#2a3f5f",
           "arrowhead": 0,
           "arrowwidth": 1
          },
          "autotypenumbers": "strict",
          "coloraxis": {
           "colorbar": {
            "outlinewidth": 0,
            "ticks": ""
           }
          },
          "colorscale": {
           "diverging": [
            [
             0,
             "#8e0152"
            ],
            [
             0.1,
             "#c51b7d"
            ],
            [
             0.2,
             "#de77ae"
            ],
            [
             0.3,
             "#f1b6da"
            ],
            [
             0.4,
             "#fde0ef"
            ],
            [
             0.5,
             "#f7f7f7"
            ],
            [
             0.6,
             "#e6f5d0"
            ],
            [
             0.7,
             "#b8e186"
            ],
            [
             0.8,
             "#7fbc41"
            ],
            [
             0.9,
             "#4d9221"
            ],
            [
             1,
             "#276419"
            ]
           ],
           "sequential": [
            [
             0,
             "#0d0887"
            ],
            [
             0.1111111111111111,
             "#46039f"
            ],
            [
             0.2222222222222222,
             "#7201a8"
            ],
            [
             0.3333333333333333,
             "#9c179e"
            ],
            [
             0.4444444444444444,
             "#bd3786"
            ],
            [
             0.5555555555555556,
             "#d8576b"
            ],
            [
             0.6666666666666666,
             "#ed7953"
            ],
            [
             0.7777777777777778,
             "#fb9f3a"
            ],
            [
             0.8888888888888888,
             "#fdca26"
            ],
            [
             1,
             "#f0f921"
            ]
           ],
           "sequentialminus": [
            [
             0,
             "#0d0887"
            ],
            [
             0.1111111111111111,
             "#46039f"
            ],
            [
             0.2222222222222222,
             "#7201a8"
            ],
            [
             0.3333333333333333,
             "#9c179e"
            ],
            [
             0.4444444444444444,
             "#bd3786"
            ],
            [
             0.5555555555555556,
             "#d8576b"
            ],
            [
             0.6666666666666666,
             "#ed7953"
            ],
            [
             0.7777777777777778,
             "#fb9f3a"
            ],
            [
             0.8888888888888888,
             "#fdca26"
            ],
            [
             1,
             "#f0f921"
            ]
           ]
          },
          "colorway": [
           "#636efa",
           "#EF553B",
           "#00cc96",
           "#ab63fa",
           "#FFA15A",
           "#19d3f3",
           "#FF6692",
           "#B6E880",
           "#FF97FF",
           "#FECB52"
          ],
          "font": {
           "color": "#2a3f5f"
          },
          "geo": {
           "bgcolor": "white",
           "lakecolor": "white",
           "landcolor": "#E5ECF6",
           "showlakes": true,
           "showland": true,
           "subunitcolor": "white"
          },
          "hoverlabel": {
           "align": "left"
          },
          "hovermode": "closest",
          "mapbox": {
           "style": "light"
          },
          "paper_bgcolor": "white",
          "plot_bgcolor": "#E5ECF6",
          "polar": {
           "angularaxis": {
            "gridcolor": "white",
            "linecolor": "white",
            "ticks": ""
           },
           "bgcolor": "#E5ECF6",
           "radialaxis": {
            "gridcolor": "white",
            "linecolor": "white",
            "ticks": ""
           }
          },
          "scene": {
           "xaxis": {
            "backgroundcolor": "#E5ECF6",
            "gridcolor": "white",
            "gridwidth": 2,
            "linecolor": "white",
            "showbackground": true,
            "ticks": "",
            "zerolinecolor": "white"
           },
           "yaxis": {
            "backgroundcolor": "#E5ECF6",
            "gridcolor": "white",
            "gridwidth": 2,
            "linecolor": "white",
            "showbackground": true,
            "ticks": "",
            "zerolinecolor": "white"
           },
           "zaxis": {
            "backgroundcolor": "#E5ECF6",
            "gridcolor": "white",
            "gridwidth": 2,
            "linecolor": "white",
            "showbackground": true,
            "ticks": "",
            "zerolinecolor": "white"
           }
          },
          "shapedefaults": {
           "line": {
            "color": "#2a3f5f"
           }
          },
          "ternary": {
           "aaxis": {
            "gridcolor": "white",
            "linecolor": "white",
            "ticks": ""
           },
           "baxis": {
            "gridcolor": "white",
            "linecolor": "white",
            "ticks": ""
           },
           "bgcolor": "#E5ECF6",
           "caxis": {
            "gridcolor": "white",
            "linecolor": "white",
            "ticks": ""
           }
          },
          "title": {
           "x": 0.05
          },
          "xaxis": {
           "automargin": true,
           "gridcolor": "white",
           "linecolor": "white",
           "ticks": "",
           "title": {
            "standoff": 15
           },
           "zerolinecolor": "white",
           "zerolinewidth": 2
          },
          "yaxis": {
           "automargin": true,
           "gridcolor": "white",
           "linecolor": "white",
           "ticks": "",
           "title": {
            "standoff": 15
           },
           "zerolinecolor": "white",
           "zerolinewidth": 2
          }
         }
        },
        "xaxis": {
         "anchor": "y",
         "autorange": true,
         "domain": [
          0,
          1
         ],
         "range": [
          "2021-10-31 16:00",
          "2023-06-30 08:00"
         ],
         "type": "date"
        },
        "yaxis": {
         "anchor": "x",
         "autorange": true,
         "domain": [
          0,
          1
         ],
         "range": [
          -0.5,
          2.5
         ],
         "title": {
          "text": "eso_project_name"
         },
         "type": "category"
        }
       }
      },
      "image/png": "[encoded data removed]",
      "text/html": [
       "<div>                            <div id=\"5d72466f-45b6-468c-beb8-1ca1d1637f52\" class=\"plotly-graph-div\" style=\"height:525px; width:100%;\"></div>            <script type=\"text/javascript\">                require([\"plotly\"], function(Plotly) {                    window.PLOTLYENV=window.PLOTLYENV || {};                                    if (document.getElementById(\"5d72466f-45b6-468c-beb8-1ca1d1637f52\")) {                    Plotly.newPlot(                        \"5d72466f-45b6-468c-beb8-1ca1d1637f52\",                        [{\"alignmentgroup\":\"True\",\"base\":[\"2023-02-20T00:00:00\",null,null,null,null,null,\"2023-02-20T00:00:00\",\"2021-12-01T00:00:00\",null,\"2022-06-27T00:00:00\",null,null,\"2022-12-09T00:00:00\",\"2022-12-09T00:00:00\",null,null,null,null,null,\"2023-01-20T00:00:00\",\"2023-01-20T00:00:00\",null,null,null,null,null,\"2022-12-09T00:00:00\",\"2022-12-09T00:00:00\"],\"hovertemplate\":\"start_date=%{base}<br>due_date=%{x}<br>eso_project_name=%{y}<extra></extra>\",\"legendgroup\":\"\",\"marker\":{\"color\":\"#636efa\",\"pattern\":{\"shape\":\"\"}},\"name\":\"\",\"offsetgroup\":\"\",\"orientation\":\"h\",\"showlegend\":false,\"textposition\":\"auto\",\"x\":[8640000000.0,null,null,null,null,null,8640000000.0,45273600000.0,null,23932800000.0,null,null,6480000000.0,6480000000.0,null,null,null,null,null,2851200000.0,2851200000.0,null,null,null,null,null,6480000000.0,6480000000.0],\"xaxis\":\"x\",\"y\":[\"Daggett 3 Group CmEng\",\"Daggett 3 Group\",\"Daggett 3 Group\",\"Daggett 3 Group\",\"Daggett 3 Group\",\"Daggett 3 Group\",\"Daggett 3 Group CmMgr\",\"Daggett 3 Group\",\"Daggett 3 Group\",\"Daggett 3 Group\",\"Daggett 3 Group\",\"Daggett 3 Group\",\"Daggett 3 Group CmMgr\",\"Daggett 3 Group CmEng\",\"Daggett 3 Group\",\"Daggett 3 Group\",\"Daggett 3 Group\",\"Daggett 3 Group\",\"Daggett 3 Group\",\"Daggett 3 Group CmMgr\",\"Daggett 3 Group CmEng\",\"Daggett 3 Group\",\"Daggett 3 Group\",\"Daggett 3 Group\",\"Daggett 3 Group\",\"Daggett 3 Group\",\"Daggett 3 Group CmMgr\",\"Daggett 3 Group CmEng\"],\"yaxis\":\"y\",\"type\":\"bar\"}],                        {\"template\":{\"data\":{\"histogram2dcontour\":[{\"type\":\"histogram2dcontour\",\"colorbar\":{\"outlinewidth\":0,\"ticks\":\"\"},\"colorscale\":[[0.0,\"#0d0887\"],[0.1111111111111111,\"#46039f\"],[0.2222222222222222,\"#7201a8\"],[0.3333333333333333,\"#9c179e\"],[0.4444444444444444,\"#bd3786\"],[0.5555555555555556,\"#d8576b\"],[0.6666666666666666,\"#ed7953\"],[0.7777777777777778,\"#fb9f3a\"],[0.8888888888888888,\"#fdca26\"],[1.0,\"#f0f921\"]]}],\"choropleth\":[{\"type\":\"choropleth\",\"colorbar\":{\"outlinewidth\":0,\"ticks\":\"\"}}],\"histogram2d\":[{\"type\":\"histogram2d\",\"colorbar\":{\"outlinewidth\":0,\"ticks\":\"\"},\"colorscale\":[[0.0,\"#0d0887\"],[0.1111111111111111,\"#46039f\"],[0.2222222222222222,\"#7201a8\"],[0.3333333333333333,\"#9c179e\"],[0.4444444444444444,\"#bd3786\"],[0.5555555555555556,\"#d8576b\"],[0.6666666666666666,\"#ed7953\"],[0.7777777777777778,\"#fb9f3a\"],[0.8888888888888888,\"#fdca26\"],[1.0,\"#f0f921\"]]}],\"heatmap\":[{\"type\":\"heatmap\",\"colorbar\":{\"outlinewidth\":0,\"ticks\":\"\"},\"colorscale\":[[0.0,\"#0d0887\"],[0.1111111111111111,\"#46039f\"],[0.2222222222222222,\"#7201a8\"],[0.3333333333333333,\"#9c179e\"],[0.4444444444444444,\"#bd3786\"],[0.5555555555555556,\"#d8576b\"],[0.6666666666666666,\"#ed7953\"],[0.7777777777777778,\"#fb9f3a\"],[0.8888888888888888,\"#fdca26\"],[1.0,\"#f0f921\"]]}],\"heatmapgl\":[{\"type\":\"heatmapgl\",\"colorbar\":{\"outlinewidth\":0,\"ticks\":\"\"},\"colorscale\":[[0.0,\"#0d0887\"],[0.1111111111111111,\"#46039f\"],[0.2222222222222222,\"#7201a8\"],[0.3333333333333333,\"#9c179e\"],[0.4444444444444444,\"#bd3786\"],[0.5555555555555556,\"#d8576b\"],[0.6666666666666666,\"#ed7953\"],[0.7777777777777778,\"#fb9f3a\"],[0.8888888888888888,\"#fdca26\"],[1.0,\"#f0f921\"]]}],\"contourcarpet\":[{\"type\":\"contourcarpet\",\"colorbar\":{\"outlinewidth\":0,\"ticks\":\"\"}}],\"contour\":[{\"type\":\"contour\",\"colorbar\":{\"outlinewidth\":0,\"ticks\":\"\"},\"colorscale\":[[0.0,\"#0d0887\"],[0.1111111111111111,\"#46039f\"],[0.2222222222222222,\"#7201a8\"],[0.3333333333333333,\"#9c179e\"],[0.4444444444444444,\"#bd3786\"],[0.5555555555555556,\"#d8576b\"],[0.6666666666666666,\"#ed7953\"],[0.7777777777777778,\"#fb9f3a\"],[0.8888888888888888,\"#fdca26\"],[1.0,\"#f0f921\"]]}],\"surface\":[{\"type\":\"surface\",\"colorbar\":{\"outlinewidth\":0,\"ticks\":\"\"},\"colorscale\":[[0.0,\"#0d0887\"],[0.1111111111111111,\"#46039f\"],[0.2222222222222222,\"#7201a8\"],[0.3333333333333333,\"#9c179e\"],[0.4444444444444444,\"#bd3786\"],[0.5555555555555556,\"#d8576b\"],[0.6666666666666666,\"#ed7953\"],[0.7777777777777778,\"#fb9f3a\"],[0.8888888888888888,\"#fdca26\"],[1.0,\"#f0f921\"]]}],\"mesh3d\":[{\"type\":\"mesh3d\",\"colorbar\":{\"outlinewidth\":0,\"ticks\":\"\"}}],\"scatter\":[{\"fillpattern\":{\"fillmode\":\"overlay\",\"size\":10,\"solidity\":0.2},\"type\":\"scatter\"}],\"parcoords\":[{\"type\":\"parcoords\",\"line\":{\"colorbar\":{\"outlinewidth\":0,\"ticks\":\"\"}}}],\"scatterpolargl\":[{\"type\":\"scatterpolargl\",\"marker\":{\"colorbar\":{\"outlinewidth\":0,\"ticks\":\"\"}}}],\"bar\":[{\"error_x\":{\"color\":\"#2a3f5f\"},\"error_y\":{\"color\":\"#2a3f5f\"},\"marker\":{\"line\":{\"color\":\"#E5ECF6\",\"width\":0.5},\"pattern\":{\"fillmode\":\"overlay\",\"size\":10,\"solidity\":0.2}},\"type\":\"bar\"}],\"scattergeo\":[{\"type\":\"scattergeo\",\"marker\":{\"colorbar\":{\"outlinewidth\":0,\"ticks\":\"\"}}}],\"scatterpolar\":[{\"type\":\"scatterpolar\",\"marker\":{\"colorbar\":{\"outlinewidth\":0,\"ticks\":\"\"}}}],\"histogram\":[{\"marker\":{\"pattern\":{\"fillmode\":\"overlay\",\"size\":10,\"solidity\":0.2}},\"type\":\"histogram\"}],\"scattergl\":[{\"type\":\"scattergl\",\"marker\":{\"colorbar\":{\"outlinewidth\":0,\"ticks\":\"\"}}}],\"scatter3d\":[{\"type\":\"scatter3d\",\"line\":{\"colorbar\":{\"outlinewidth\":0,\"ticks\":\"\"}},\"marker\":{\"colorbar\":{\"outlinewidth\":0,\"ticks\":\"\"}}}],\"scattermapbox\":[{\"type\":\"scattermapbox\",\"marker\":{\"colorbar\":{\"outlinewidth\":0,\"ticks\":\"\"}}}],\"scatterternary\":[{\"type\":\"scatterternary\",\"marker\":{\"colorbar\":{\"outlinewidth\":0,\"ticks\":\"\"}}}],\"scattercarpet\":[{\"type\":\"scattercarpet\",\"marker\":{\"colorbar\":{\"outlinewidth\":0,\"ticks\":\"\"}}}],\"carpet\":[{\"aaxis\":{\"endlinecolor\":\"#2a3f5f\",\"gridcolor\":\"white\",\"linecolor\":\"white\",\"minorgridcolor\":\"white\",\"startlinecolor\":\"#2a3f5f\"},\"baxis\":{\"endlinecolor\":\"#2a3f5f\",\"gridcolor\":\"white\",\"linecolor\":\"white\",\"minorgridcolor\":\"white\",\"startlinecolor\":\"#2a3f5f\"},\"type\":\"carpet\"}],\"table\":[{\"cells\":{\"fill\":{\"color\":\"#EBF0F8\"},\"line\":{\"color\":\"white\"}},\"header\":{\"fill\":{\"color\":\"#C8D4E3\"},\"line\":{\"color\":\"white\"}},\"type\":\"table\"}],\"barpolar\":[{\"marker\":{\"line\":{\"color\":\"#E5ECF6\",\"width\":0.5},\"pattern\":{\"fillmode\":\"overlay\",\"size\":10,\"solidity\":0.2}},\"type\":\"barpolar\"}],\"pie\":[{\"automargin\":true,\"type\":\"pie\"}]},\"layout\":{\"autotypenumbers\":\"strict\",\"colorway\":[\"#636efa\",\"#EF553B\",\"#00cc96\",\"#ab63fa\",\"#FFA15A\",\"#19d3f3\",\"#FF6692\",\"#B6E880\",\"#FF97FF\",\"#FECB52\"],\"font\":{\"color\":\"#2a3f5f\"},\"hovermode\":\"closest\",\"hoverlabel\":{\"align\":\"left\"},\"paper_bgcolor\":\"white\",\"plot_bgcolor\":\"#E5ECF6\",\"polar\":{\"bgcolor\":\"#E5ECF6\",\"angularaxis\":{\"gridcolor\":\"white\",\"linecolor\":\"white\",\"ticks\":\"\"},\"radialaxis\":{\"gridcolor\":\"white\",\"linecolor\":\"white\",\"ticks\":\"\"}},\"ternary\":{\"bgcolor\":\"#E5ECF6\",\"aaxis\":{\"gridcolor\":\"white\",\"linecolor\":\"white\",\"ticks\":\"\"},\"baxis\":{\"gridcolor\":\"white\",\"linecolor\":\"white\",\"ticks\":\"\"},\"caxis\":{\"gridcolor\":\"white\",\"linecolor\":\"white\",\"ticks\":\"\"}},\"coloraxis\":{\"colorbar\":{\"outlinewidth\":0,\"ticks\":\"\"}},\"colorscale\":{\"sequential\":[[0.0,\"#0d0887\"],[0.1111111111111111,\"#46039f\"],[0.2222222222222222,\"#7201a8\"],[0.3333333333333333,\"#9c179e\"],[0.4444444444444444,\"#bd3786\"],[0.5555555555555556,\"#d8576b\"],[0.6666666666666666,\"#ed7953\"],[0.7777777777777778,\"#fb9f3a\"],[0.8888888888888888,\"#fdca26\"],[1.0,\"#f0f921\"]],\"sequentialminus\":[[0.0,\"#0d0887\"],[0.1111111111111111,\"#46039f\"],[0.2222222222222222,\"#7201a8\"],[0.3333333333333333,\"#9c179e\"],[0.4444444444444444,\"#bd3786\"],[0.5555555555555556,\"#d8576b\"],[0.6666666666666666,\"#ed7953\"],[0.7777777777777778,\"#fb9f3a\"],[0.8888888888888888,\"#fdca26\"],[1.0,\"#f0f921\"]],\"diverging\":[[0,\"#8e0152\"],[0.1,\"#c51b7d\"],[0.2,\"#de77ae\"],[0.3,\"#f1b6da\"],[0.4,\"#fde0ef\"],[0.5,\"#f7f7f7\"],[0.6,\"#e6f5d0\"],[0.7,\"#b8e186\"],[0.8,\"#7fbc41\"],[0.9,\"#4d9221\"],[1,\"#276419\"]]},\"xaxis\":{\"gridcolor\":\"white\",\"linecolor\":\"white\",\"ticks\":\"\",\"title\":{\"standoff\":15},\"zerolinecolor\":\"white\",\"automargin\":true,\"zerolinewidth\":2},\"yaxis\":{\"gridcolor\":\"white\",\"linecolor\":\"white\",\"ticks\":\"\",\"title\":{\"standoff\":15},\"zerolinecolor\":\"white\",\"automargin\":true,\"zerolinewidth\":2},\"scene\":{\"xaxis\":{\"backgroundcolor\":\"#E5ECF6\",\"gridcolor\":\"white\",\"linecolor\":\"white\",\"showbackground\":true,\"ticks\":\"\",\"zerolinecolor\":\"white\",\"gridwidth\":2},\"yaxis\":{\"backgroundcolor\":\"#E5ECF6\",\"gridcolor\":\"white\",\"linecolor\":\"white\",\"showbackground\":true,\"ticks\":\"\",\"zerolinecolor\":\"white\",\"gridwidth\":2},\"zaxis\":{\"backgroundcolor\":\"#E5ECF6\",\"gridcolor\":\"white\",\"linecolor\":\"white\",\"showbackground\":true,\"ticks\":\"\",\"zerolinecolor\":\"white\",\"gridwidth\":2}},\"shapedefaults\":{\"line\":{\"color\":\"#2a3f5f\"}},\"annotationdefaults\":{\"arrowcolor\":\"#2a3f5f\",\"arrowhead\":0,\"arrowwidth\":1},\"geo\":{\"bgcolor\":\"white\",\"landcolor\":\"#E5ECF6\",\"subunitcolor\":\"white\",\"showland\":true,\"showlakes\":true,\"lakecolor\":\"white\"},\"title\":{\"x\":0.05},\"mapbox\":{\"style\":\"light\"}}},\"xaxis\":{\"anchor\":\"y\",\"domain\":[0.0,1.0],\"type\":\"date\"},\"yaxis\":{\"anchor\":\"x\",\"domain\":[0.0,1.0],\"title\":{\"text\":\"eso_project_name\"}},\"legend\":{\"tracegroupgap\":0},\"margin\":{\"t\":60},\"barmode\":\"overlay\"},                        {\"responsive\": true}                    ).then(function(){\n",
       "                            \n",
       "var gd = document.getElementById('5d72466f-45b6-468c-beb8-1ca1d1637f52');\n",
       "var x = new MutationObserver(function (mutations, observer) {{\n",
       "        var display = window.getComputedStyle(gd).display;\n",
       "        if (!display || display === 'none') {{\n",
       "            console.log([gd, 'removed!']);\n",
       "            Plotly.purge(gd);\n",
       "            observer.disconnect();\n",
       "        }}\n",
       "}});\n",
       "\n",
       "// Listen for the removal of the full notebook cells\n",
       "var notebookContainer = gd.closest('#notebook-container');\n",
       "if (notebookContainer) {{\n",
       "    x.observe(notebookContainer, {childList: true});\n",
       "}}\n",
       "\n",
       "// Listen for the clearing of the current output cell\n",
       "var outputEl = gd.closest('.output');\n",
       "if (outputEl) {{\n",
       "    x.observe(outputEl, {childList: true});\n",
       "}}\n",
       "\n",
       "                        })                };                });            </script>        </div>"
      ]
     },
     "metadata": {},
     "output_type": "display_data"
    },
    {
     "data": {
      "application/vnd.plotly.v1+json": {
       "config": {
        "plotlyServerURL": "https://plot.ly"
       },
       "data": [
        {
         "alignmentgroup": "True",
         "base": [
          null,
          null,
          null,
          null,
          null,
          null,
          null,
          null,
          "2022-09-01T00:00:00",
          "2022-09-03T00:00:00",
          "2022-09-02T00:00:00",
          "2023-04-03T00:00:00",
          "2022-09-29T00:00:00",
          "2023-04-03T00:00:00",
          "2023-04-03T00:00:00",
          "2022-09-29T00:00:00",
          "2023-04-03T00:00:00",
          "2023-04-03T00:00:00",
          "2023-01-31T00:00:00",
          "2023-01-31T00:00:00",
          "2023-01-31T00:00:00",
          "2023-01-31T00:00:00",
          "2022-10-14T00:00:00",
          "2022-10-14T00:00:00",
          "2023-04-01T00:00:00",
          "2023-04-18T00:00:00",
          "2023-04-18T00:00:00",
          "2023-04-18T00:00:00",
          "2023-04-18T00:00:00",
          "2023-02-15T00:00:00",
          "2023-02-15T00:00:00",
          "2023-02-15T00:00:00",
          "2023-02-15T00:00:00",
          "2022-09-05T00:00:00",
          "2022-09-05T00:00:00",
          "2023-05-08T00:00:00",
          "2023-03-08T00:00:00",
          "2023-03-08T00:00:00",
          "2023-03-08T00:00:00",
          "2023-03-08T00:00:00",
          "2023-01-05T00:00:00",
          "2023-01-05T00:00:00",
          "2023-01-05T00:00:00",
          "2023-01-05T00:00:00",
          "2022-08-29T00:00:00",
          "2022-08-29T00:00:00",
          "2023-02-01T00:00:00",
          "2023-03-01T00:00:00",
          "2023-03-01T00:00:00",
          "2023-03-01T00:00:00",
          "2023-03-01T00:00:00",
          "2022-12-29T00:00:00",
          "2022-12-29T00:00:00",
          "2022-12-29T00:00:00",
          "2022-12-29T00:00:00",
          "2022-07-28T00:00:00",
          "2022-07-28T00:00:00",
          "2023-03-30T00:00:00",
          "2023-01-30T00:00:00",
          "2023-01-30T00:00:00",
          "2023-01-30T00:00:00",
          "2023-01-30T00:00:00",
          "2022-11-29T00:00:00",
          "2022-11-29T00:00:00",
          "2022-11-29T00:00:00",
          "2022-11-29T00:00:00",
          "2022-08-29T00:00:00",
          "2022-08-29T00:00:00",
          "2023-03-01T00:00:00",
          "2023-03-01T00:00:00",
          "2023-03-01T00:00:00",
          "2023-03-01T00:00:00",
          "2023-03-01T00:00:00",
          "2022-12-29T00:00:00",
          "2022-12-29T00:00:00",
          "2022-12-29T00:00:00",
          "2022-12-29T00:00:00",
          "2022-08-02T00:00:00",
          "2022-08-02T00:00:00",
          "2023-05-02T00:00:00",
          "2023-02-02T00:00:00",
          "2023-02-02T00:00:00",
          "2023-02-02T00:00:00",
          "2023-02-02T00:00:00",
          "2022-12-02T00:00:00",
          "2022-12-02T00:00:00",
          "2022-12-02T00:00:00",
          "2022-12-02T00:00:00",
          "2022-08-15T00:00:00",
          "2022-08-15T00:00:00",
          "2023-02-15T00:00:00",
          "2023-02-15T00:00:00",
          "2023-02-15T00:00:00",
          "2023-02-15T00:00:00",
          "2023-02-15T00:00:00",
          "2022-12-15T00:00:00",
          "2022-12-15T00:00:00",
          "2022-12-15T00:00:00",
          "2022-12-15T00:00:00",
          "2022-09-14T00:00:00",
          "2022-09-14T00:00:00",
          "2023-06-17T00:00:00",
          "2023-03-17T00:00:00",
          "2023-03-17T00:00:00",
          "2023-03-17T00:00:00",
          "2023-03-17T00:00:00",
          "2023-01-16T00:00:00",
          "2023-01-16T00:00:00",
          "2023-01-16T00:00:00",
          "2023-01-16T00:00:00",
          "2022-08-15T00:00:00",
          "2023-06-15T00:00:00",
          "2022-08-15T00:00:00",
          "2023-02-15T00:00:00",
          "2023-02-15T00:00:00",
          "2023-02-15T00:00:00",
          "2023-02-15T00:00:00",
          "2022-12-15T00:00:00",
          "2022-12-15T00:00:00",
          "2022-12-15T00:00:00",
          "2022-12-15T00:00:00",
          "2023-01-11T00:00:00",
          "2023-01-11T00:00:00",
          "2023-10-01T00:00:00",
          "2023-07-14T00:00:00",
          "2023-07-14T00:00:00",
          "2023-07-14T00:00:00",
          "2023-07-14T00:00:00",
          "2023-05-15T00:00:00",
          "2023-05-15T00:00:00",
          "2023-05-15T00:00:00",
          "2023-05-15T00:00:00",
          "2022-08-02T00:00:00",
          "2023-02-02T00:00:00",
          "2022-08-02T00:00:00",
          "2022-12-22T00:00:00",
          "2023-02-02T00:00:00",
          "2023-02-02T00:00:00",
          "2023-02-02T00:00:00",
          "2022-12-02T00:00:00",
          "2022-12-02T00:00:00",
          "2022-12-02T00:00:00",
          "2022-12-02T00:00:00",
          "2021-10-25T00:00:00",
          "2021-10-25T00:00:00",
          "2022-01-01T00:00:00",
          "2021-10-25T00:00:00",
          "2021-10-27T00:00:00",
          "2022-02-04T00:00:00",
          "2021-10-25T00:00:00",
          "2022-03-19T00:00:00",
          "2022-08-26T00:00:00",
          "2021-10-25T00:00:00",
          "2022-05-23T00:00:00",
          "2022-06-20T00:00:00",
          "2022-03-20T00:00:00",
          "2022-03-21T00:00:00",
          "2020-11-23T00:00:00",
          "2020-11-23T00:00:00",
          "2020-11-23T00:00:00",
          "2022-10-14T00:00:00",
          "2020-11-23T00:00:00",
          "2022-10-14T00:00:00",
          "2020-11-23T00:00:00",
          "2020-11-23T00:00:00",
          "2021-11-01T00:00:00",
          "2021-11-01T00:00:00",
          "2021-11-01T00:00:00",
          "2021-11-01T00:00:00",
          "2021-11-01T00:00:00",
          "2021-11-01T00:00:00",
          "2021-11-01T00:00:00",
          "2021-11-01T00:00:00",
          null,
          null,
          null,
          null,
          null,
          null,
          null,
          "2021-11-01T00:00:00",
          "2021-11-01T00:00:00",
          "2021-11-01T00:00:00",
          "2021-11-01T00:00:00",
          "2021-11-01T00:00:00",
          "2021-11-01T00:00:00",
          "2021-11-01T00:00:00",
          "2021-11-01T00:00:00",
          "2022-01-27T00:00:00",
          null,
          "2021-10-16T00:00:00",
          "2021-10-19T00:00:00",
          null,
          "2022-07-22T00:00:00",
          null,
          null,
          "2022-09-12T00:00:00",
          "2022-01-04T00:00:00",
          "2022-01-04T00:00:00",
          "2022-01-04T00:00:00",
          "2022-01-04T00:00:00",
          "2022-01-04T00:00:00",
          "2020-11-01T00:00:00",
          "2020-11-01T00:00:00",
          "2020-11-01T00:00:00",
          "2020-11-01T00:00:00",
          "2020-11-01T00:00:00",
          "2021-09-23T00:00:00",
          "2021-09-23T00:00:00",
          "2021-09-23T00:00:00",
          "2021-09-23T00:00:00",
          "2021-09-23T00:00:00",
          "2023-01-02T00:00:00",
          "2023-01-12T00:00:00",
          "2021-11-11T00:00:00",
          "2021-11-11T00:00:00",
          "2022-02-10T00:00:00",
          "2021-11-11T00:00:00",
          "2021-11-11T00:00:00",
          "2022-10-01T00:00:00",
          "2022-01-15T00:00:00",
          "2022-07-15T00:00:00",
          null,
          "2021-10-28T00:00:00",
          "2021-10-28T00:00:00",
          "2021-10-28T00:00:00",
          "2021-10-28T00:00:00",
          "2022-01-15T00:00:00",
          "2022-07-15T00:00:00",
          "2022-01-07T00:00:00",
          "2021-10-28T00:00:00",
          "2021-10-08T00:00:00",
          "2021-10-28T00:00:00",
          "2021-10-25T00:00:00",
          null,
          "2021-10-01T00:00:00",
          "2022-01-03T00:00:00",
          "2022-09-14T00:00:00",
          "2021-05-21T00:00:00",
          null,
          "2021-09-24T00:00:00",
          "2021-09-24T00:00:00",
          "2021-09-24T00:00:00",
          "2022-09-13T00:00:00",
          "2021-09-24T00:00:00",
          "2021-10-04T00:00:00",
          "2022-11-28T00:00:00",
          null,
          "2022-03-01T00:00:00",
          "2022-02-01T00:00:00",
          "2022-03-01T00:00:00",
          null,
          "2021-10-04T00:00:00",
          null,
          null,
          "2022-03-01T00:00:00",
          "2022-11-01T00:00:00",
          "2022-03-01T00:00:00",
          "2022-03-01T00:00:00",
          null,
          "2021-10-04T00:00:00",
          null,
          "2022-03-01T00:00:00",
          "2023-02-01T00:00:00",
          "2022-03-01T00:00:00",
          "2022-03-01T00:00:00",
          null,
          "2023-02-20T00:00:00",
          null,
          null,
          null,
          null,
          null,
          "2023-02-20T00:00:00",
          "2021-12-01T00:00:00",
          null,
          "2022-06-27T00:00:00",
          null,
          null,
          "2022-12-09T00:00:00",
          "2022-12-09T00:00:00",
          null,
          null,
          null,
          null,
          null,
          "2023-01-20T00:00:00",
          "2023-01-20T00:00:00",
          null,
          null,
          null,
          null,
          null,
          "2022-12-09T00:00:00",
          "2022-12-09T00:00:00",
          "2021-10-25T00:00:00",
          "2022-09-15T00:00:00",
          null,
          "2021-10-25T00:00:00",
          "2022-01-03T00:00:00",
          "2021-05-17T00:00:00",
          "2021-09-28T00:00:00",
          "2021-09-28T00:00:00",
          "2021-09-28T00:00:00",
          "2021-09-28T00:00:00",
          "2021-09-28T00:00:00",
          "2021-09-28T00:00:00",
          "2023-03-18T00:00:00",
          null,
          null,
          null,
          null,
          null,
          "2022-03-28T00:00:00",
          "2022-02-10T00:00:00",
          null,
          "2022-02-10T00:00:00",
          "2022-02-10T00:00:00",
          "2022-02-10T00:00:00",
          "2022-02-10T00:00:00",
          "2023-02-01T00:00:00",
          "2022-02-10T00:00:00",
          "2022-02-10T00:00:00",
          null,
          "2021-06-17T00:00:00",
          "2021-06-21T00:00:00",
          "2021-06-21T00:00:00",
          "2021-06-21T00:00:00",
          "2021-06-21T00:00:00",
          "2022-07-28T00:00:00",
          "2022-08-13T00:00:00",
          "2021-06-21T00:00:00",
          "2021-06-21T00:00:00",
          "2022-06-30T00:00:00",
          "2022-06-30T00:00:00",
          "2022-06-30T00:00:00",
          "2022-06-30T00:00:00",
          "2022-06-30T00:00:00",
          "2022-06-30T00:00:00",
          "2022-06-30T00:00:00",
          "2021-04-07T00:00:00",
          "2021-04-07T00:00:00",
          "2021-04-07T00:00:00",
          "2021-04-07T00:00:00",
          "2021-04-07T00:00:00",
          "2021-04-07T00:00:00",
          "2021-04-07T00:00:00",
          "2021-04-07T00:00:00",
          "2021-06-30T00:00:00",
          "2021-06-30T00:00:00",
          "2021-06-30T00:00:00",
          "2021-06-30T00:00:00",
          "2021-06-30T00:00:00",
          "2022-08-22T00:00:00",
          "2021-09-30T00:00:00",
          "2021-09-30T00:00:00",
          "2021-09-30T00:00:00",
          "2021-09-30T00:00:00",
          "2021-09-30T00:00:00",
          "2021-09-30T00:00:00",
          "2021-09-30T00:00:00",
          "2021-09-30T00:00:00",
          "2021-08-11T00:00:00",
          "2021-07-26T00:00:00",
          "2021-07-26T00:00:00",
          "2021-07-26T00:00:00",
          "2021-07-26T00:00:00",
          "2022-08-22T00:00:00",
          "2021-07-26T00:00:00",
          "2021-07-26T00:00:00",
          "2021-10-15T00:00:00",
          "2021-10-15T00:00:00",
          "2021-10-15T00:00:00",
          "2021-10-15T00:00:00",
          "2021-10-15T00:00:00",
          "2022-09-19T00:00:00",
          "2021-10-15T00:00:00",
          "2022-06-18T00:00:00",
          "2021-10-16T00:00:00",
          "2021-10-16T00:00:00",
          null,
          "2021-10-16T00:00:00",
          "2021-10-16T00:00:00",
          "2021-10-16T00:00:00",
          "2021-10-16T00:00:00",
          "2021-10-16T00:00:00",
          "2021-10-16T00:00:00",
          "2022-07-29T00:00:00",
          "2022-07-29T00:00:00",
          "2022-07-29T00:00:00",
          "2022-07-29T00:00:00",
          "2022-09-03T00:00:00",
          "2022-08-10T00:00:00",
          "2022-07-29T00:00:00",
          "2022-07-29T00:00:00",
          "2022-07-29T00:00:00",
          "2022-07-29T00:00:00",
          "2022-07-29T00:00:00",
          null,
          null,
          null,
          null,
          null,
          null,
          null,
          null,
          null,
          null,
          null,
          null,
          null,
          null,
          null,
          null,
          null,
          null,
          null,
          null,
          null,
          "2021-11-14T00:00:00",
          "2021-11-14T00:00:00",
          "2021-11-14T00:00:00",
          "2021-11-14T00:00:00",
          "2021-11-14T00:00:00",
          "2021-11-14T00:00:00",
          "2022-08-26T00:00:00",
          "2021-11-14T00:00:00",
          "2022-08-01T00:00:00",
          null,
          "2021-11-30T00:00:00",
          "2021-11-30T00:00:00",
          "2021-11-30T00:00:00",
          "2021-11-30T00:00:00",
          "2021-11-30T00:00:00",
          "2021-11-30T00:00:00",
          "2022-08-09T00:00:00",
          "2021-11-30T00:00:00",
          "2022-07-18T00:00:00",
          null,
          "2021-06-01T00:00:00",
          "2021-06-01T00:00:00",
          "2021-06-01T00:00:00",
          "2021-06-01T00:00:00",
          "2021-06-01T00:00:00",
          "2022-09-19T00:00:00",
          "2021-06-01T00:00:00",
          "2021-06-01T00:00:00",
          "2022-09-12T00:00:00",
          "2022-04-24T00:00:00",
          "2022-04-24T00:00:00",
          "2022-04-24T00:00:00",
          "2022-04-24T00:00:00",
          "2023-02-01T00:00:00",
          "2022-04-24T00:00:00",
          "2022-04-24T00:00:00",
          "2022-04-01T00:00:00",
          "2022-04-01T00:00:00",
          "2022-04-01T00:00:00",
          "2022-04-01T00:00:00",
          "2022-04-01T00:00:00",
          "2022-04-01T00:00:00",
          "2023-04-18T00:00:00",
          null,
          null
         ],
         "hovertemplate": "start_date=%{base}<br>due_date=%{x}<br>eso_project_name=%{y}<extra></extra>",
         "legendgroup": "",
         "marker": {
          "color": "#636efa",
          "pattern": {
           "shape": ""
          }
         },
         "name": "",
         "offsetgroup": "",
         "orientation": "h",
         "showlegend": false,
         "textposition": "auto",
         "type": "bar",
         "x": [
          null,
          null,
          null,
          null,
          null,
          null,
          null,
          null,
          691200000,
          950400000,
          950400000,
          15465600000,
          31536000000,
          15465600000,
          15465600000,
          31536000000,
          20908800000,
          15465600000,
          20822400000,
          12873600000,
          12873600000,
          12873600000,
          31708800000,
          31708800000,
          20995200000,
          15638400000,
          15638400000,
          15638400000,
          15638400000,
          12873600000,
          20995200000,
          12873600000,
          12873600000,
          31536000000,
          31536000000,
          18230400000,
          15638400000,
          15638400000,
          15638400000,
          15638400000,
          20995200000,
          13046400000,
          13046400000,
          13046400000,
          31536000000,
          31536000000,
          18057600000,
          15638400000,
          15638400000,
          15638400000,
          15638400000,
          20995200000,
          13046400000,
          13046400000,
          13046400000,
          31536000000,
          31536000000,
          11491200000,
          15465600000,
          15465600000,
          15465600000,
          15465600000,
          20822400000,
          12873600000,
          12873600000,
          12873600000,
          31536000000,
          31536000000,
          26179200000,
          15638400000,
          15638400000,
          15638400000,
          15638400000,
          20995200000,
          13046400000,
          13046400000,
          13046400000,
          31536000000,
          31536000000,
          19612800000,
          15638400000,
          15638400000,
          15638400000,
          15638400000,
          20995200000,
          13046400000,
          13046400000,
          13046400000,
          31536000000,
          31536000000,
          15638400000,
          15638400000,
          15638400000,
          15638400000,
          15638400000,
          20995200000,
          13046400000,
          13046400000,
          13046400000,
          31536000000,
          31536000000,
          20908800000,
          15638400000,
          15638400000,
          15638400000,
          15638400000,
          20822400000,
          12873600000,
          12873600000,
          12873600000,
          31536000000,
          21168000000,
          31536000000,
          15638400000,
          15638400000,
          15638400000,
          15638400000,
          20995200000,
          13046400000,
          13046400000,
          13046400000,
          31536000000,
          31536000000,
          16675200000,
          15638400000,
          15638400000,
          15638400000,
          15638400000,
          20822400000,
          12873600000,
          12873600000,
          12873600000,
          31536000000,
          15638400000,
          31536000000,
          18316800000,
          15638400000,
          15638400000,
          15638400000,
          20995200000,
          13046400000,
          13046400000,
          13046400000,
          28684800000,
          28684800000,
          22809600000,
          28684800000,
          29376000000,
          17798400000,
          28684800000,
          13824000000,
          3024000000,
          26784000000,
          8640000000,
          3456000000,
          14083200000,
          13910400000,
          83635200000,
          60652800000,
          82252800000,
          21427200000,
          82252800000,
          12355200000,
          83635200000,
          83635200000,
          18230400000,
          18230400000,
          18230400000,
          18230400000,
          18230400000,
          18230400000,
          18230400000,
          18230400000,
          null,
          null,
          null,
          null,
          null,
          null,
          null,
          18230400000,
          18230400000,
          18230400000,
          18230400000,
          18230400000,
          18230400000,
          18230400000,
          18230400000,
          18662400000,
          null,
          27561600000,
          27302400000,
          null,
          8726400000,
          null,
          null,
          6825600000,
          20476800000,
          18057600000,
          18057600000,
          18057600000,
          18489600000,
          61516800000,
          61516800000,
          59097600000,
          62726400000,
          62899200000,
          43891200000,
          43891200000,
          43891200000,
          43891200000,
          43891200000,
          3628800000,
          518400000,
          36892800000,
          36892800000,
          28252800000,
          36892800000,
          36806400000,
          6566400000,
          32832000000,
          1641600000,
          null,
          24624000000,
          24624000000,
          24624000000,
          26524800000,
          32832000000,
          1641600000,
          18316800000,
          24451200000,
          26179200000,
          26697600000,
          37238400000,
          null,
          39312000000,
          31190400000,
          6480000000,
          50803200000,
          null,
          39052800000,
          39052800000,
          39052800000,
          6048000000,
          39052800000,
          39052800000,
          5529600000,
          null,
          26265600000,
          28684800000,
          26265600000,
          null,
          39052800000,
          null,
          null,
          26265600000,
          4406400000,
          26265600000,
          26265600000,
          null,
          39052800000,
          null,
          25920000000,
          5011200000,
          26265600000,
          26265600000,
          null,
          8640000000,
          null,
          null,
          null,
          null,
          null,
          8640000000,
          45273600000,
          null,
          23932800000,
          null,
          null,
          6480000000,
          6480000000,
          null,
          null,
          null,
          null,
          null,
          2851200000,
          2851200000,
          null,
          null,
          null,
          null,
          null,
          6480000000,
          6480000000,
          37238400000,
          6307200000,
          null,
          37238400000,
          31190400000,
          51148800000,
          64108800000,
          64108800000,
          64108800000,
          64108800000,
          64108800000,
          64108800000,
          16156800000,
          null,
          null,
          null,
          null,
          null,
          20304000000,
          34560000000,
          null,
          34560000000,
          34560000000,
          34560000000,
          34560000000,
          3801600000,
          34560000000,
          27993600000,
          null,
          37065600000,
          36720000000,
          36720000000,
          36720000000,
          37670400000,
          691200000,
          1123200000,
          31536000000,
          31536000000,
          31536000000,
          31536000000,
          31536000000,
          31536000000,
          31536000000,
          31536000000,
          31536000000,
          31536000000,
          31536000000,
          31536000000,
          31536000000,
          31536000000,
          31536000000,
          31536000000,
          31536000000,
          36892800000,
          36720000000,
          36720000000,
          36806400000,
          36720000000,
          11232000000,
          31536000000,
          31536000000,
          31536000000,
          31536000000,
          31536000000,
          31536000000,
          31536000000,
          31536000000,
          29203200000,
          29203200000,
          29203200000,
          29203200000,
          29203200000,
          2160000000,
          29203200000,
          29203200000,
          23587200000,
          23587200000,
          23587200000,
          23587200000,
          23587200000,
          3628800000,
          23587200000,
          6480000000,
          19785600000,
          19785600000,
          null,
          32745600000,
          27475200000,
          27302400000,
          27302400000,
          27216000000,
          27216000000,
          22204800000,
          22204800000,
          22204800000,
          22204800000,
          19094400000,
          21168000000,
          22204800000,
          22204800000,
          22204800000,
          22204800000,
          22204800000,
          null,
          null,
          null,
          null,
          null,
          null,
          null,
          null,
          null,
          null,
          null,
          null,
          null,
          null,
          null,
          null,
          null,
          null,
          null,
          null,
          null,
          33350400000,
          33350400000,
          33350400000,
          33350400000,
          33350400000,
          33350400000,
          9590400000,
          33350400000,
          10886400000,
          null,
          28252800000,
          28252800000,
          28252800000,
          28252800000,
          28252800000,
          28252800000,
          8899200000,
          28252800000,
          3801600000,
          null,
          47260800000,
          47260800000,
          47260800000,
          47260800000,
          47260800000,
          7689600000,
          47260800000,
          39571200000,
          6912000000,
          35251200000,
          35251200000,
          35251200000,
          35251200000,
          10108800000,
          35251200000,
          35251200000,
          46569600000,
          46569600000,
          46569600000,
          46569600000,
          46569600000,
          46569600000,
          12355200000,
          null,
          null
         ],
         "xaxis": "x",
         "y": [
          "project_name_error",
          "project_name_error",
          "project_name_error",
          "project_name_error",
          "project_name_error",
          "project_name_error",
          "project_name_error",
          "project_name_error",
          "no_eso_project",
          "no_eso_project",
          "no_eso_project",
          "OP/769325 - Niuchaopu",
          "OP/769325 - Niuchaopu",
          "OP/769325 - Niuchaopu",
          "OP/769325 - Niuchaopu",
          "OP/769325 - Niuchaopu",
          "OP/769325 - Niuchaopu",
          "OP/769325 - Niuchaopu",
          "OP/769325 - Niuchaopu",
          "OP/769325 - Niuchaopu",
          "OP/769325 - Niuchaopu",
          "OP/769325 - Niuchaopu",
          "OP/795054 - Letzer B",
          "OP/795054 - Letzer B",
          "OP/795054 - Letzer B",
          "OP/795054 - Letzer B",
          "OP/795054 - Letzer B",
          "OP/795054 - Letzer B",
          "OP/795054 - Letzer B",
          "OP/795054 - Letzer B",
          "OP/795054 - Letzer B",
          "OP/795054 - Letzer B",
          "OP/795054 - Letzer B",
          "OP/793616 - Colbun Diego Almagro (Expansion)",
          "OP/793616 - Colbun Diego Almagro (Expansion)",
          "OP/793616 - Colbun Diego Almagro (Expansion)",
          "OP/793616 - Colbun Diego Almagro (Expansion)",
          "OP/793616 - Colbun Diego Almagro (Expansion)",
          "OP/793616 - Colbun Diego Almagro (Expansion)",
          "OP/793616 - Colbun Diego Almagro (Expansion)",
          "OP/793616 - Colbun Diego Almagro (Expansion)",
          "OP/793616 - Colbun Diego Almagro (Expansion)",
          "OP/793616 - Colbun Diego Almagro (Expansion)",
          "OP/793616 - Colbun Diego Almagro (Expansion)",
          "OP/791407 - Fortune 1",
          "OP/791407 - Fortune 1",
          "OP/791407 - Fortune 1",
          "OP/791407 - Fortune 1",
          "OP/791407 - Fortune 1",
          "OP/791407 - Fortune 1",
          "OP/791407 - Fortune 1",
          "OP/791407 - Fortune 1",
          "OP/791407 - Fortune 1",
          "OP/791407 - Fortune 1",
          "OP/791407 - Fortune 1",
          "OP/791290 - CUC Prospect (EPC)",
          "OP/791290 - CUC Prospect (EPC)",
          "OP/791290 - CUC Prospect (EPC)",
          "OP/791290 - CUC Prospect (EPC)",
          "OP/791290 - CUC Prospect (EPC)",
          "OP/791290 - CUC Prospect (EPC)",
          "OP/791290 - CUC Prospect (EPC)",
          "OP/791290 - CUC Prospect (EPC)",
          "OP/791290 - CUC Prospect (EPC)",
          "OP/791290 - CUC Prospect (EPC)",
          "OP/791290 - CUC Prospect (EPC)",
          "OP/790697 Letzer A (Ming Hsing)",
          "OP/790697 Letzer A (Ming Hsing)",
          "OP/790697 Letzer A (Ming Hsing)",
          "OP/790697 Letzer A (Ming Hsing)",
          "OP/790697 Letzer A (Ming Hsing)",
          "OP/790697 Letzer A (Ming Hsing)",
          "OP/790697 Letzer A (Ming Hsing)",
          "OP/790697 Letzer A (Ming Hsing)",
          "OP/790697 Letzer A (Ming Hsing)",
          "OP/790697 Letzer A (Ming Hsing)",
          "OP/790697 Letzer A (Ming Hsing)",
          "OP/782224 Pemcorp BES ",
          "OP/782224 Pemcorp BES ",
          "OP/782224 Pemcorp BES ",
          "OP/782224 Pemcorp BES ",
          "OP/782224 Pemcorp BES ",
          "OP/782224 Pemcorp BES ",
          "OP/782224 Pemcorp BES ",
          "OP/782224 Pemcorp BES ",
          "OP/782224 Pemcorp BES ",
          "OP/782224 Pemcorp BES ",
          "OP/782224 Pemcorp BES ",
          "OP/781999 - Enel El Manzano",
          "OP/781999 - Enel El Manzano",
          "OP/781999 - Enel El Manzano",
          "OP/781999 - Enel El Manzano",
          "OP/781999 - Enel El Manzano",
          "OP/781999 - Enel El Manzano",
          "OP/781999 - Enel El Manzano",
          "OP/781999 - Enel El Manzano",
          "OP/781999 - Enel El Manzano",
          "OP/781999 - Enel El Manzano",
          "OP/781999 - Enel El Manzano",
          "OP/765991 - Enel Chillingham",
          "OP/765991 - Enel Chillingham",
          "OP/765991 - Enel Chillingham",
          "OP/765991 - Enel Chillingham",
          "OP/765991 - Enel Chillingham",
          "OP/765991 - Enel Chillingham",
          "OP/765991 - Enel Chillingham",
          "OP/765991 - Enel Chillingham",
          "OP/765991 - Enel Chillingham",
          "OP/765991 - Enel Chillingham",
          "OP/765991 - Enel Chillingham",
          "OP/765996 - Don Humberto",
          "OP/765996 - Don Humberto",
          "OP/765996 - Don Humberto",
          "OP/765996 - Don Humberto",
          "OP/765996 - Don Humberto",
          "OP/765996 - Don Humberto",
          "OP/765996 - Don Humberto",
          "OP/765996 - Don Humberto",
          "OP/765996 - Don Humberto",
          "OP/765996 - Don Humberto",
          "OP/765996 - Don Humberto",
          "OP/747855 - Origin Eraring",
          "OP/747855 - Origin Eraring",
          "OP/747855 - Origin Eraring",
          "OP/747855 - Origin Eraring",
          "OP/747855 - Origin Eraring",
          "OP/747855 - Origin Eraring",
          "OP/747855 - Origin Eraring",
          "OP/747855 - Origin Eraring",
          "OP/747855 - Origin Eraring",
          "OP/747855 - Origin Eraring",
          "OP/747855 - Origin Eraring",
          "OP/725875 - BESS Hydesville Substation (EPC)",
          "OP/725875 - BESS Hydesville Substation (EPC)",
          "OP/725875 - BESS Hydesville Substation (EPC)",
          "OP/725875 - BESS Hydesville Substation (EPC)",
          "OP/725875 - BESS Hydesville Substation (EPC)",
          "OP/725875 - BESS Hydesville Substation (EPC)",
          "OP/725875 - BESS Hydesville Substation (EPC)",
          "OP/725875 - BESS Hydesville Substation (EPC)",
          "OP/725875 - BESS Hydesville Substation (EPC)",
          "OP/725875 - BESS Hydesville Substation (EPC)",
          "OP/725875 - BESS Hydesville Substation (EPC)",
          "P/21463 LeConte Energy Storage",
          "P/21463 LeConte Energy Storage",
          "P/21463 LeConte Energy Storage",
          "P/21463 LeConte Energy Storage",
          "P/21463 LeConte Energy Storage",
          "P/21463 LeConte Energy Storage",
          "P/21463 LeConte Energy Storage",
          "P/21463 LeConte Energy Storage",
          "P/21463 LeConte Energy Storage",
          "P/21463 LeConte Energy Storage",
          "P/21463 LeConte Energy Storage",
          "P/21463 LeConte Energy Storage",
          "P/21463 LeConte Energy Storage",
          "P/21463 LeConte Energy Storage",
          "P/17402 WAPA RHPP [EPC] ",
          "P/17402 WAPA RHPP [EPC] ",
          "P/17402 WAPA RHPP [EPC] ",
          "P/17402 WAPA RHPP [EPC] ",
          "P/17402 WAPA RHPP [EPC] ",
          "P/17402 WAPA RHPP [EPC] ",
          "P/17402 WAPA RHPP [EPC] ",
          "P/17402 WAPA RHPP [EPC] ",
          "P/19469 AEP Martinsville",
          "P/19469 AEP Martinsville",
          "P/19469 AEP Martinsville",
          "P/19469 AEP Martinsville",
          "P/19469 AEP Martinsville",
          "P/19469 AEP Martinsville",
          "P/19469 AEP Martinsville",
          "P/19469 AEP Martinsville",
          "P/20210 Eurus LaPaz (Eolica Coromuel) [EEQ] ",
          "P/20210 Eurus LaPaz (Eolica Coromuel) [EEQ] ",
          "P/20210 Eurus LaPaz (Eolica Coromuel) [EEQ] ",
          "P/20210 Eurus LaPaz (Eolica Coromuel) [EEQ] ",
          "P/20210 Eurus LaPaz (Eolica Coromuel) [EEQ] ",
          "P/20210 Eurus LaPaz (Eolica Coromuel) [EEQ] ",
          "P/20210 Eurus LaPaz (Eolica Coromuel) [EEQ] ",
          "P/20458 AEP South River",
          "P/20458 AEP South River",
          "P/20458 AEP South River",
          "P/20458 AEP South River",
          "P/20458 AEP South River",
          "P/20458 AEP South River",
          "P/20458 AEP South River",
          "P/20458 AEP South River",
          "P/20461 Enel Azure Sky",
          "P/20461 Enel Azure Sky",
          "P/20461 Enel Azure Sky",
          "P/20461 Enel Azure Sky",
          "P/20461 Enel Azure Sky",
          "P/20461 Enel Azure Sky",
          "P/20461 Enel Azure Sky",
          "P/20461 Enel Azure Sky",
          "no_eso_project",
          "P/20462 Mililani",
          "P/20462 Mililani",
          "P/20462 Mililani",
          "P/20462 Mililani",
          "P/20462 Mililani",
          "P/20463 Waiawa",
          "P/20463 Waiawa",
          "P/20463 Waiawa",
          "P/20463 Waiawa",
          "P/20463 Waiawa",
          "P/21207_BPL Bahamas",
          "P/21207_BPL Bahamas",
          "P/21207_BPL Bahamas",
          "P/21207_BPL Bahamas",
          "P/21207_BPL Bahamas",
          "P/21207_BPL Bahamas",
          "P/21207_BPL Bahamas",
          "P/21215 Suriname",
          "P/21215 Suriname",
          "P/21215 Suriname",
          "P/21215 Suriname",
          "P/21215 Suriname",
          "P/21215 Suriname",
          "P/21450 Madero ",
          "P/21450 Madero ",
          "P/21450 Madero ",
          "P/21450 Madero ",
          "P/21450 Madero ",
          "P/21450 Madero ",
          "P/21450 Madero ",
          "P/21452 Ignacio",
          "P/21452 Ignacio",
          "P/21452 Ignacio",
          "P/21452 Ignacio",
          "P/21452 Ignacio",
          "P/21452 Ignacio",
          "P/21454 Enel Blue Jay",
          "P/21454 Enel Blue Jay",
          "P/21454 Enel Blue Jay",
          "P/21454 Enel Blue Jay",
          "P/21454 Enel Blue Jay",
          "P/21454 Enel Blue Jay",
          "P/21454 Enel Blue Jay",
          "P/21213 Colbun Diego de Almagro",
          "P/21213 Colbun Diego de Almagro",
          "P/21213 Colbun Diego de Almagro",
          "P/21213 Colbun Diego de Almagro",
          "P/21213 Colbun Diego de Almagro",
          "P/21464 Brookfield Rumford B",
          "P/21464 Brookfield Rumford B",
          "P/21464 Brookfield Rumford B",
          "P/21464 Brookfield Rumford B",
          "P/21464 Brookfield Rumford B",
          "P/21464 Brookfield Rumford B",
          "P/21464 Brookfield Rumford B",
          "P/21465 Brookfield Bonny Eagle",
          "P/21465 Brookfield Bonny Eagle",
          "no_eso_project",
          "P/21465 Brookfield Bonny Eagle",
          "P/21465 Brookfield Bonny Eagle",
          "P/21465 Brookfield Bonny Eagle",
          "P/21465 Brookfield Bonny Eagle",
          "P/21465 Brookfield Bonny Eagle",
          "P/21466 Brookfield Berlin",
          "P/21466 Brookfield Berlin",
          "P/21466 Brookfield Berlin",
          "P/21466 Brookfield Berlin",
          "P/21466 Brookfield Berlin",
          "P/21466 Brookfield Berlin",
          "P/21466 Brookfield Berlin",
          "Daggett 3 Group CmEng",
          "Daggett 3 Group",
          "Daggett 3 Group",
          "Daggett 3 Group",
          "Daggett 3 Group",
          "Daggett 3 Group",
          "Daggett 3 Group CmMgr",
          "Daggett 3 Group",
          "Daggett 3 Group",
          "Daggett 3 Group",
          "Daggett 3 Group",
          "Daggett 3 Group",
          "Daggett 3 Group CmMgr",
          "Daggett 3 Group CmEng",
          "Daggett 3 Group",
          "Daggett 3 Group",
          "Daggett 3 Group",
          "Daggett 3 Group",
          "Daggett 3 Group",
          "Daggett 3 Group CmMgr",
          "Daggett 3 Group CmEng",
          "Daggett 3 Group",
          "Daggett 3 Group",
          "Daggett 3 Group",
          "Daggett 3 Group",
          "Daggett 3 Group",
          "Daggett 3 Group CmMgr",
          "Daggett 3 Group CmEng",
          "P/21468 Enel Roseland",
          "P/21468 Enel Roseland",
          "P/21468 Enel Roseland",
          "P/21468 Enel Roseland",
          "P/21468 Enel Roseland",
          "P/21468 Enel Roseland",
          "P/21469 GA Power Mossy Branch",
          "P/21469 GA Power Mossy Branch",
          "P/21469 GA Power Mossy Branch",
          "P/21469 GA Power Mossy Branch",
          "P/21469 GA Power Mossy Branch",
          "P/21469 GA Power Mossy Branch",
          "P/21469 GA Power Mossy Branch",
          "P/22451 Duke Riverside",
          "P/22451 Duke Riverside",
          "P/22451 Duke Riverside",
          "P/22451 Duke Riverside",
          "P/22451 Duke Riverside",
          "P/22451 Duke Riverside",
          "P/22452 Bonaire Expansion",
          "P/22452 Bonaire Expansion",
          "P/22452 Bonaire Expansion",
          "P/22452 Bonaire Expansion",
          "P/22452 Bonaire Expansion",
          "P/22452 Bonaire Expansion",
          "P/22452 Bonaire Expansion",
          "P/22452 Bonaire Expansion",
          "P/22452 Bonaire Expansion",
          "P/22452 Bonaire Expansion",
          "P/21205 Zenith - Tanami",
          "P/21205 Zenith - Tanami",
          "P/21205 Zenith - Tanami",
          "P/21205 Zenith - Tanami",
          "P/21205 Zenith - Tanami",
          "P/21205 Zenith - Tanami",
          "P/21205 Zenith - Tanami",
          "P/21205 Zenith - Tanami",
          "no_eso_project",
          "P/19201 CWP - Sapphire BESS",
          "P/19201 CWP - Sapphire BESS",
          "P/19201 CWP - Sapphire BESS",
          "P/19201 CWP - Sapphire BESS",
          "P/19201 CWP - Sapphire BESS",
          "P/19201 CWP - Sapphire BESS",
          "P/19201 CWP - Sapphire BESS",
          "P/19206 BCCPP - Limay",
          "P/19206 BCCPP - Limay",
          "P/19206 BCCPP - Limay",
          "P/19206 BCCPP - Limay",
          "P/19206 BCCPP - Limay",
          "P/19206 BCCPP - Limay",
          "P/19206 BCCPP - Limay",
          "P/19206 BCCPP - Limay",
          "P/20202 IRPH - Ormoc",
          "P/20202 IRPH - Ormoc",
          "P/20202 IRPH - Ormoc",
          "P/20202 IRPH - Ormoc",
          "P/20202 IRPH - Ormoc",
          "P/20202 IRPH - Ormoc",
          "P/20208 IRPH - Tagum",
          "P/20208 IRPH - Tagum",
          "P/20208 IRPH - Tagum",
          "P/20208 IRPH - Tagum",
          "P/20208 IRPH - Tagum",
          "P/20208 IRPH - Tagum",
          "P/20208 IRPH - Tagum",
          "P/20208 IRPH - Tagum",
          "P/21209 Beimen BESS",
          "P/21209 Beimen BESS",
          "P/21209 Beimen BESS",
          "P/21209 Beimen BESS",
          "P/21209 Beimen BESS",
          "P/21209 Beimen BESS",
          "P/21209 Beimen BESS",
          "P/21209 Beimen BESS",
          "P/21214 Guangming BESS",
          "P/21214 Guangming BESS",
          "P/21214 Guangming BESS",
          "P/21214 Guangming BESS",
          "P/21214 Guangming BESS",
          "P/21214 Guangming BESS",
          "P/21214 Guangming BESS",
          "P/21214 Guangming BESS",
          "P/20205 TMI DBS (BESS)",
          "P/20205 TMI DBS (BESS)",
          "no_eso_project",
          "P/20205 TMI DBS (BESS)",
          "P/20205 TMI DBS (BESS)",
          "P/20205 TMI DBS (BESS)",
          "P/20205 TMI DBS (BESS)",
          "P/20205 TMI DBS (BESS)",
          "P/20205 TMI DBS (BESS)",
          "P/21201 AGL - TIB",
          "P/21201 AGL - TIB",
          "P/21201 AGL - TIB",
          "P/21201 AGL - TIB",
          "P/21201 AGL - TIB",
          "P/21201 AGL - TIB",
          "P/21201 AGL - TIB",
          "P/21201 AGL - TIB",
          "P/21201 AGL - TIB",
          "P/21201 AGL - TIB",
          "P/21201 AGL - TIB",
          "P/22202 Kavalan - Supernova",
          "P/22202 Kavalan - Supernova",
          "P/22202 Kavalan - Supernova",
          "P/22202 Kavalan - Supernova",
          "P/22202 Kavalan - Supernova",
          "P/22202 Kavalan - Supernova",
          "P/22202 Kavalan - Supernova",
          "P/22202 Kavalan - Supernova",
          "P/19208 IRPH - Toledo",
          "P/19208 IRPH - Toledo",
          "P/19208 IRPH - Toledo",
          "P/19208 IRPH - Toledo",
          "P/19208 IRPH - Toledo",
          "P/19208 IRPH - Toledo",
          "P/22205 Leopard Cat",
          "P/22205 Leopard Cat",
          "P/22205 Leopard Cat",
          "P/22205 Leopard Cat",
          "P/22205 Leopard Cat",
          "P/22205 Leopard Cat",
          "P/22205 Leopard Cat",
          "P/21921 Ruien BESS",
          "P/21921 Ruien BESS",
          "P/21921 Ruien BESS",
          "P/21921 Ruien BESS",
          "P/21921 Ruien BESS",
          "P/21921 Ruien BESS",
          "P/21921 Ruien BESS",
          "P/21921 Ruien BESS",
          "P/21921 Ruien BESS",
          "no_eso_project",
          "P/21922 GIGA Buffalo",
          "P/21922 GIGA Buffalo",
          "P/21922 GIGA Buffalo",
          "P/21922 GIGA Buffalo",
          "P/21922 GIGA Buffalo",
          "P/21922 GIGA Buffalo",
          "P/21922 GIGA Buffalo",
          "P/21922 GIGA Buffalo",
          "P/21922 GIGA Buffalo",
          "no_eso_project",
          "P/21203 Bustleholm 50MW BESS",
          "P/21203 Bustleholm 50MW BESS",
          "P/21203 Bustleholm 50MW BESS",
          "P/21203 Bustleholm 50MW BESS",
          "P/21203 Bustleholm 50MW BESS",
          "P/21203 Bustleholm 50MW BESS",
          "P/21203 Bustleholm 50MW BESS",
          "P/21203 Bustleholm 50MW BESS",
          "P/21203 Bustleholm 50MW BESS",
          "P/21204 Coventry 50MW BESS",
          "P/21204 Coventry 50MW BESS",
          "P/21204 Coventry 50MW BESS",
          "P/21204 Coventry 50MW BESS",
          "P/21204 Coventry 50MW BESS",
          "P/21204 Coventry 50MW BESS",
          "P/21204 Coventry 50MW BESS",
          "P/22201 SSE Salisbury 49.5MW",
          "P/22201 SSE Salisbury 49.5MW",
          "P/22201 SSE Salisbury 49.5MW",
          "P/22201 SSE Salisbury 49.5MW",
          "P/22201 SSE Salisbury 49.5MW",
          "P/22201 SSE Salisbury 49.5MW",
          "P/22201 SSE Salisbury 49.5MW",
          "P/22201 SSE Salisbury 49.5MW",
          "P/22201 SSE Salisbury 49.5MW"
         ],
         "yaxis": "y"
        }
       ],
       "layout": {
        "autosize": true,
        "barmode": "overlay",
        "legend": {
         "tracegroupgap": 0
        },
        "margin": {
         "t": 60
        },
        "template": {
         "data": {
          "bar": [
           {
            "error_x": {
             "color": "#2a3f5f"
            },
            "error_y": {
             "color": "#2a3f5f"
            },
            "marker": {
             "line": {
              "color": "#E5ECF6",
              "width": 0.5
             },
             "pattern": {
              "fillmode": "overlay",
              "size": 10,
              "solidity": 0.2
             }
            },
            "type": "bar"
           }
          ],
          "barpolar": [
           {
            "marker": {
             "line": {
              "color": "#E5ECF6",
              "width": 0.5
             },
             "pattern": {
              "fillmode": "overlay",
              "size": 10,
              "solidity": 0.2
             }
            },
            "type": "barpolar"
           }
          ],
          "carpet": [
           {
            "aaxis": {
             "endlinecolor": "#2a3f5f",
             "gridcolor": "white",
             "linecolor": "white",
             "minorgridcolor": "white",
             "startlinecolor": "#2a3f5f"
            },
            "baxis": {
             "endlinecolor": "#2a3f5f",
             "gridcolor": "white",
             "linecolor": "white",
             "minorgridcolor": "white",
             "startlinecolor": "#2a3f5f"
            },
            "type": "carpet"
           }
          ],
          "choropleth": [
           {
            "colorbar": {
             "outlinewidth": 0,
             "ticks": ""
            },
            "type": "choropleth"
           }
          ],
          "contour": [
           {
            "colorbar": {
             "outlinewidth": 0,
             "ticks": ""
            },
            "colorscale": [
             [
              0,
              "#0d0887"
             ],
             [
              0.1111111111111111,
              "#46039f"
             ],
             [
              0.2222222222222222,
              "#7201a8"
             ],
             [
              0.3333333333333333,
              "#9c179e"
             ],
             [
              0.4444444444444444,
              "#bd3786"
             ],
             [
              0.5555555555555556,
              "#d8576b"
             ],
             [
              0.6666666666666666,
              "#ed7953"
             ],
             [
              0.7777777777777778,
              "#fb9f3a"
             ],
             [
              0.8888888888888888,
              "#fdca26"
             ],
             [
              1,
              "#f0f921"
             ]
            ],
            "type": "contour"
           }
          ],
          "contourcarpet": [
           {
            "colorbar": {
             "outlinewidth": 0,
             "ticks": ""
            },
            "type": "contourcarpet"
           }
          ],
          "heatmap": [
           {
            "colorbar": {
             "outlinewidth": 0,
             "ticks": ""
            },
            "colorscale": [
             [
              0,
              "#0d0887"
             ],
             [
              0.1111111111111111,
              "#46039f"
             ],
             [
              0.2222222222222222,
              "#7201a8"
             ],
             [
              0.3333333333333333,
              "#9c179e"
             ],
             [
              0.4444444444444444,
              "#bd3786"
             ],
             [
              0.5555555555555556,
              "#d8576b"
             ],
             [
              0.6666666666666666,
              "#ed7953"
             ],
             [
              0.7777777777777778,
              "#fb9f3a"
             ],
             [
              0.8888888888888888,
              "#fdca26"
             ],
             [
              1,
              "#f0f921"
             ]
            ],
            "type": "heatmap"
           }
          ],
          "heatmapgl": [
           {
            "colorbar": {
             "outlinewidth": 0,
             "ticks": ""
            },
            "colorscale": [
             [
              0,
              "#0d0887"
             ],
             [
              0.1111111111111111,
              "#46039f"
             ],
             [
              0.2222222222222222,
              "#7201a8"
             ],
             [
              0.3333333333333333,
              "#9c179e"
             ],
             [
              0.4444444444444444,
              "#bd3786"
             ],
             [
              0.5555555555555556,
              "#d8576b"
             ],
             [
              0.6666666666666666,
              "#ed7953"
             ],
             [
              0.7777777777777778,
              "#fb9f3a"
             ],
             [
              0.8888888888888888,
              "#fdca26"
             ],
             [
              1,
              "#f0f921"
             ]
            ],
            "type": "heatmapgl"
           }
          ],
          "histogram": [
           {
            "marker": {
             "pattern": {
              "fillmode": "overlay",
              "size": 10,
              "solidity": 0.2
             }
            },
            "type": "histogram"
           }
          ],
          "histogram2d": [
           {
            "colorbar": {
             "outlinewidth": 0,
             "ticks": ""
            },
            "colorscale": [
             [
              0,
              "#0d0887"
             ],
             [
              0.1111111111111111,
              "#46039f"
             ],
             [
              0.2222222222222222,
              "#7201a8"
             ],
             [
              0.3333333333333333,
              "#9c179e"
             ],
             [
              0.4444444444444444,
              "#bd3786"
             ],
             [
              0.5555555555555556,
              "#d8576b"
             ],
             [
              0.6666666666666666,
              "#ed7953"
             ],
             [
              0.7777777777777778,
              "#fb9f3a"
             ],
             [
              0.8888888888888888,
              "#fdca26"
             ],
             [
              1,
              "#f0f921"
             ]
            ],
            "type": "histogram2d"
           }
          ],
          "histogram2dcontour": [
           {
            "colorbar": {
             "outlinewidth": 0,
             "ticks": ""
            },
            "colorscale": [
             [
              0,
              "#0d0887"
             ],
             [
              0.1111111111111111,
              "#46039f"
             ],
             [
              0.2222222222222222,
              "#7201a8"
             ],
             [
              0.3333333333333333,
              "#9c179e"
             ],
             [
              0.4444444444444444,
              "#bd3786"
             ],
             [
              0.5555555555555556,
              "#d8576b"
             ],
             [
              0.6666666666666666,
              "#ed7953"
             ],
             [
              0.7777777777777778,
              "#fb9f3a"
             ],
             [
              0.8888888888888888,
              "#fdca26"
             ],
             [
              1,
              "#f0f921"
             ]
            ],
            "type": "histogram2dcontour"
           }
          ],
          "mesh3d": [
           {
            "colorbar": {
             "outlinewidth": 0,
             "ticks": ""
            },
            "type": "mesh3d"
           }
          ],
          "parcoords": [
           {
            "line": {
             "colorbar": {
              "outlinewidth": 0,
              "ticks": ""
             }
            },
            "type": "parcoords"
           }
          ],
          "pie": [
           {
            "automargin": true,
            "type": "pie"
           }
          ],
          "scatter": [
           {
            "fillpattern": {
             "fillmode": "overlay",
             "size": 10,
             "solidity": 0.2
            },
            "type": "scatter"
           }
          ],
          "scatter3d": [
           {
            "line": {
             "colorbar": {
              "outlinewidth": 0,
              "ticks": ""
             }
            },
            "marker": {
             "colorbar": {
              "outlinewidth": 0,
              "ticks": ""
             }
            },
            "type": "scatter3d"
           }
          ],
          "scattercarpet": [
           {
            "marker": {
             "colorbar": {
              "outlinewidth": 0,
              "ticks": ""
             }
            },
            "type": "scattercarpet"
           }
          ],
          "scattergeo": [
           {
            "marker": {
             "colorbar": {
              "outlinewidth": 0,
              "ticks": ""
             }
            },
            "type": "scattergeo"
           }
          ],
          "scattergl": [
           {
            "marker": {
             "colorbar": {
              "outlinewidth": 0,
              "ticks": ""
             }
            },
            "type": "scattergl"
           }
          ],
          "scattermapbox": [
           {
            "marker": {
             "colorbar": {
              "outlinewidth": 0,
              "ticks": ""
             }
            },
            "type": "scattermapbox"
           }
          ],
          "scatterpolar": [
           {
            "marker": {
             "colorbar": {
              "outlinewidth": 0,
              "ticks": ""
             }
            },
            "type": "scatterpolar"
           }
          ],
          "scatterpolargl": [
           {
            "marker": {
             "colorbar": {
              "outlinewidth": 0,
              "ticks": ""
             }
            },
            "type": "scatterpolargl"
           }
          ],
          "scatterternary": [
           {
            "marker": {
             "colorbar": {
              "outlinewidth": 0,
              "ticks": ""
             }
            },
            "type": "scatterternary"
           }
          ],
          "surface": [
           {
            "colorbar": {
             "outlinewidth": 0,
             "ticks": ""
            },
            "colorscale": [
             [
              0,
              "#0d0887"
             ],
             [
              0.1111111111111111,
              "#46039f"
             ],
             [
              0.2222222222222222,
              "#7201a8"
             ],
             [
              0.3333333333333333,
              "#9c179e"
             ],
             [
              0.4444444444444444,
              "#bd3786"
             ],
             [
              0.5555555555555556,
              "#d8576b"
             ],
             [
              0.6666666666666666,
              "#ed7953"
             ],
             [
              0.7777777777777778,
              "#fb9f3a"
             ],
             [
              0.8888888888888888,
              "#fdca26"
             ],
             [
              1,
              "#f0f921"
             ]
            ],
            "type": "surface"
           }
          ],
          "table": [
           {
            "cells": {
             "fill": {
              "color": "#EBF0F8"
             },
             "line": {
              "color": "white"
             }
            },
            "header": {
             "fill": {
              "color": "#C8D4E3"
             },
             "line": {
              "color": "white"
             }
            },
            "type": "table"
           }
          ]
         },
         "layout": {
          "annotationdefaults": {
           "arrowcolor": "#2a3f5f",
           "arrowhead": 0,
           "arrowwidth": 1
          },
          "autotypenumbers": "strict",
          "coloraxis": {
           "colorbar": {
            "outlinewidth": 0,
            "ticks": ""
           }
          },
          "colorscale": {
           "diverging": [
            [
             0,
             "#8e0152"
            ],
            [
             0.1,
             "#c51b7d"
            ],
            [
             0.2,
             "#de77ae"
            ],
            [
             0.3,
             "#f1b6da"
            ],
            [
             0.4,
             "#fde0ef"
            ],
            [
             0.5,
             "#f7f7f7"
            ],
            [
             0.6,
             "#e6f5d0"
            ],
            [
             0.7,
             "#b8e186"
            ],
            [
             0.8,
             "#7fbc41"
            ],
            [
             0.9,
             "#4d9221"
            ],
            [
             1,
             "#276419"
            ]
           ],
           "sequential": [
            [
             0,
             "#0d0887"
            ],
            [
             0.1111111111111111,
             "#46039f"
            ],
            [
             0.2222222222222222,
             "#7201a8"
            ],
            [
             0.3333333333333333,
             "#9c179e"
            ],
            [
             0.4444444444444444,
             "#bd3786"
            ],
            [
             0.5555555555555556,
             "#d8576b"
            ],
            [
             0.6666666666666666,
             "#ed7953"
            ],
            [
             0.7777777777777778,
             "#fb9f3a"
            ],
            [
             0.8888888888888888,
             "#fdca26"
            ],
            [
             1,
             "#f0f921"
            ]
           ],
           "sequentialminus": [
            [
             0,
             "#0d0887"
            ],
            [
             0.1111111111111111,
             "#46039f"
            ],
            [
             0.2222222222222222,
             "#7201a8"
            ],
            [
             0.3333333333333333,
             "#9c179e"
            ],
            [
             0.4444444444444444,
             "#bd3786"
            ],
            [
             0.5555555555555556,
             "#d8576b"
            ],
            [
             0.6666666666666666,
             "#ed7953"
            ],
            [
             0.7777777777777778,
             "#fb9f3a"
            ],
            [
             0.8888888888888888,
             "#fdca26"
            ],
            [
             1,
             "#f0f921"
            ]
           ]
          },
          "colorway": [
           "#636efa",
           "#EF553B",
           "#00cc96",
           "#ab63fa",
           "#FFA15A",
           "#19d3f3",
           "#FF6692",
           "#B6E880",
           "#FF97FF",
           "#FECB52"
          ],
          "font": {
           "color": "#2a3f5f"
          },
          "geo": {
           "bgcolor": "white",
           "lakecolor": "white",
           "landcolor": "#E5ECF6",
           "showlakes": true,
           "showland": true,
           "subunitcolor": "white"
          },
          "hoverlabel": {
           "align": "left"
          },
          "hovermode": "closest",
          "mapbox": {
           "style": "light"
          },
          "paper_bgcolor": "white",
          "plot_bgcolor": "#E5ECF6",
          "polar": {
           "angularaxis": {
            "gridcolor": "white",
            "linecolor": "white",
            "ticks": ""
           },
           "bgcolor": "#E5ECF6",
           "radialaxis": {
            "gridcolor": "white",
            "linecolor": "white",
            "ticks": ""
           }
          },
          "scene": {
           "xaxis": {
            "backgroundcolor": "#E5ECF6",
            "gridcolor": "white",
            "gridwidth": 2,
            "linecolor": "white",
            "showbackground": true,
            "ticks": "",
            "zerolinecolor": "white"
           },
           "yaxis": {
            "backgroundcolor": "#E5ECF6",
            "gridcolor": "white",
            "gridwidth": 2,
            "linecolor": "white",
            "showbackground": true,
            "ticks": "",
            "zerolinecolor": "white"
           },
           "zaxis": {
            "backgroundcolor": "#E5ECF6",
            "gridcolor": "white",
            "gridwidth": 2,
            "linecolor": "white",
            "showbackground": true,
            "ticks": "",
            "zerolinecolor": "white"
           }
          },
          "shapedefaults": {
           "line": {
            "color": "#2a3f5f"
           }
          },
          "ternary": {
           "aaxis": {
            "gridcolor": "white",
            "linecolor": "white",
            "ticks": ""
           },
           "baxis": {
            "gridcolor": "white",
            "linecolor": "white",
            "ticks": ""
           },
           "bgcolor": "#E5ECF6",
           "caxis": {
            "gridcolor": "white",
            "linecolor": "white",
            "ticks": ""
           }
          },
          "title": {
           "x": 0.05
          },
          "xaxis": {
           "automargin": true,
           "gridcolor": "white",
           "linecolor": "white",
           "ticks": "",
           "title": {
            "standoff": 15
           },
           "zerolinecolor": "white",
           "zerolinewidth": 2
          },
          "yaxis": {
           "automargin": true,
           "gridcolor": "white",
           "linecolor": "white",
           "ticks": "",
           "title": {
            "standoff": 15
           },
           "zerolinecolor": "white",
           "zerolinewidth": 2
          }
         }
        },
        "xaxis": {
         "anchor": "y",
         "autorange": true,
         "domain": [
          0,
          1
         ],
         "range": [
          "2020-08-23 04:00",
          "2024-06-19 20:00"
         ],
         "type": "date"
        },
        "yaxis": {
         "anchor": "x",
         "autorange": true,
         "domain": [
          0,
          1
         ],
         "range": [
          -0.5,
          54.5
         ],
         "title": {
          "text": "eso_project_name"
         },
         "type": "category"
        }
       }
      },
      "image/png": "[encoded data removed]",
      "text/html": [
       "<div>                            <div id=\"e866c55c-7689-4021-820c-769774b1fa30\" class=\"plotly-graph-div\" style=\"height:525px; width:100%;\"></div>            <script type=\"text/javascript\">                require([\"plotly\"], function(Plotly) {                    window.PLOTLYENV=window.PLOTLYENV || {};                                    if (document.getElementById(\"e866c55c-7689-4021-820c-769774b1fa30\")) {                    Plotly.newPlot(                        \"e866c55c-7689-4021-820c-769774b1fa30\",                        [{\"alignmentgroup\":\"True\",\"base\":[null,null,null,null,null,null,null,null,\"2022-09-01T00:00:00\",\"2022-09-03T00:00:00\",\"2022-09-02T00:00:00\",\"2023-04-03T00:00:00\",\"2022-09-29T00:00:00\",\"2023-04-03T00:00:00\",\"2023-04-03T00:00:00\",\"2022-09-29T00:00:00\",\"2023-04-03T00:00:00\",\"2023-04-03T00:00:00\",\"2023-01-31T00:00:00\",\"2023-01-31T00:00:00\",\"2023-01-31T00:00:00\",\"2023-01-31T00:00:00\",\"2022-10-14T00:00:00\",\"2022-10-14T00:00:00\",\"2023-04-01T00:00:00\",\"2023-04-18T00:00:00\",\"2023-04-18T00:00:00\",\"2023-04-18T00:00:00\",\"2023-04-18T00:00:00\",\"2023-02-15T00:00:00\",\"2023-02-15T00:00:00\",\"2023-02-15T00:00:00\",\"2023-02-15T00:00:00\",\"2022-09-05T00:00:00\",\"2022-09-05T00:00:00\",\"2023-05-08T00:00:00\",\"2023-03-08T00:00:00\",\"2023-03-08T00:00:00\",\"2023-03-08T00:00:00\",\"2023-03-08T00:00:00\",\"2023-01-05T00:00:00\",\"2023-01-05T00:00:00\",\"2023-01-05T00:00:00\",\"2023-01-05T00:00:00\",\"2022-08-29T00:00:00\",\"2022-08-29T00:00:00\",\"2023-02-01T00:00:00\",\"2023-03-01T00:00:00\",\"2023-03-01T00:00:00\",\"2023-03-01T00:00:00\",\"2023-03-01T00:00:00\",\"2022-12-29T00:00:00\",\"2022-12-29T00:00:00\",\"2022-12-29T00:00:00\",\"2022-12-29T00:00:00\",\"2022-07-28T00:00:00\",\"2022-07-28T00:00:00\",\"2023-03-30T00:00:00\",\"2023-01-30T00:00:00\",\"2023-01-30T00:00:00\",\"2023-01-30T00:00:00\",\"2023-01-30T00:00:00\",\"2022-11-29T00:00:00\",\"2022-11-29T00:00:00\",\"2022-11-29T00:00:00\",\"2022-11-29T00:00:00\",\"2022-08-29T00:00:00\",\"2022-08-29T00:00:00\",\"2023-03-01T00:00:00\",\"2023-03-01T00:00:00\",\"2023-03-01T00:00:00\",\"2023-03-01T00:00:00\",\"2023-03-01T00:00:00\",\"2022-12-29T00:00:00\",\"2022-12-29T00:00:00\",\"2022-12-29T00:00:00\",\"2022-12-29T00:00:00\",\"2022-08-02T00:00:00\",\"2022-08-02T00:00:00\",\"2023-05-02T00:00:00\",\"2023-02-02T00:00:00\",\"2023-02-02T00:00:00\",\"2023-02-02T00:00:00\",\"2023-02-02T00:00:00\",\"2022-12-02T00:00:00\",\"2022-12-02T00:00:00\",\"2022-12-02T00:00:00\",\"2022-12-02T00:00:00\",\"2022-08-15T00:00:00\",\"2022-08-15T00:00:00\",\"2023-02-15T00:00:00\",\"2023-02-15T00:00:00\",\"2023-02-15T00:00:00\",\"2023-02-15T00:00:00\",\"2023-02-15T00:00:00\",\"2022-12-15T00:00:00\",\"2022-12-15T00:00:00\",\"2022-12-15T00:00:00\",\"2022-12-15T00:00:00\",\"2022-09-14T00:00:00\",\"2022-09-14T00:00:00\",\"2023-06-17T00:00:00\",\"2023-03-17T00:00:00\",\"2023-03-17T00:00:00\",\"2023-03-17T00:00:00\",\"2023-03-17T00:00:00\",\"2023-01-16T00:00:00\",\"2023-01-16T00:00:00\",\"2023-01-16T00:00:00\",\"2023-01-16T00:00:00\",\"2022-08-15T00:00:00\",\"2023-06-15T00:00:00\",\"2022-08-15T00:00:00\",\"2023-02-15T00:00:00\",\"2023-02-15T00:00:00\",\"2023-02-15T00:00:00\",\"2023-02-15T00:00:00\",\"2022-12-15T00:00:00\",\"2022-12-15T00:00:00\",\"2022-12-15T00:00:00\",\"2022-12-15T00:00:00\",\"2023-01-11T00:00:00\",\"2023-01-11T00:00:00\",\"2023-10-01T00:00:00\",\"2023-07-14T00:00:00\",\"2023-07-14T00:00:00\",\"2023-07-14T00:00:00\",\"2023-07-14T00:00:00\",\"2023-05-15T00:00:00\",\"2023-05-15T00:00:00\",\"2023-05-15T00:00:00\",\"2023-05-15T00:00:00\",\"2022-08-02T00:00:00\",\"2023-02-02T00:00:00\",\"2022-08-02T00:00:00\",\"2022-12-22T00:00:00\",\"2023-02-02T00:00:00\",\"2023-02-02T00:00:00\",\"2023-02-02T00:00:00\",\"2022-12-02T00:00:00\",\"2022-12-02T00:00:00\",\"2022-12-02T00:00:00\",\"2022-12-02T00:00:00\",\"2021-10-25T00:00:00\",\"2021-10-25T00:00:00\",\"2022-01-01T00:00:00\",\"2021-10-25T00:00:00\",\"2021-10-27T00:00:00\",\"2022-02-04T00:00:00\",\"2021-10-25T00:00:00\",\"2022-03-19T00:00:00\",\"2022-08-26T00:00:00\",\"2021-10-25T00:00:00\",\"2022-05-23T00:00:00\",\"2022-06-20T00:00:00\",\"2022-03-20T00:00:00\",\"2022-03-21T00:00:00\",\"2020-11-23T00:00:00\",\"2020-11-23T00:00:00\",\"2020-11-23T00:00:00\",\"2022-10-14T00:00:00\",\"2020-11-23T00:00:00\",\"2022-10-14T00:00:00\",\"2020-11-23T00:00:00\",\"2020-11-23T00:00:00\",\"2021-11-01T00:00:00\",\"2021-11-01T00:00:00\",\"2021-11-01T00:00:00\",\"2021-11-01T00:00:00\",\"2021-11-01T00:00:00\",\"2021-11-01T00:00:00\",\"2021-11-01T00:00:00\",\"2021-11-01T00:00:00\",null,null,null,null,null,null,null,\"2021-11-01T00:00:00\",\"2021-11-01T00:00:00\",\"2021-11-01T00:00:00\",\"2021-11-01T00:00:00\",\"2021-11-01T00:00:00\",\"2021-11-01T00:00:00\",\"2021-11-01T00:00:00\",\"2021-11-01T00:00:00\",\"2022-01-27T00:00:00\",null,\"2021-10-16T00:00:00\",\"2021-10-19T00:00:00\",null,\"2022-07-22T00:00:00\",null,null,\"2022-09-12T00:00:00\",\"2022-01-04T00:00:00\",\"2022-01-04T00:00:00\",\"2022-01-04T00:00:00\",\"2022-01-04T00:00:00\",\"2022-01-04T00:00:00\",\"2020-11-01T00:00:00\",\"2020-11-01T00:00:00\",\"2020-11-01T00:00:00\",\"2020-11-01T00:00:00\",\"2020-11-01T00:00:00\",\"2021-09-23T00:00:00\",\"2021-09-23T00:00:00\",\"2021-09-23T00:00:00\",\"2021-09-23T00:00:00\",\"2021-09-23T00:00:00\",\"2023-01-02T00:00:00\",\"2023-01-12T00:00:00\",\"2021-11-11T00:00:00\",\"2021-11-11T00:00:00\",\"2022-02-10T00:00:00\",\"2021-11-11T00:00:00\",\"2021-11-11T00:00:00\",\"2022-10-01T00:00:00\",\"2022-01-15T00:00:00\",\"2022-07-15T00:00:00\",null,\"2021-10-28T00:00:00\",\"2021-10-28T00:00:00\",\"2021-10-28T00:00:00\",\"2021-10-28T00:00:00\",\"2022-01-15T00:00:00\",\"2022-07-15T00:00:00\",\"2022-01-07T00:00:00\",\"2021-10-28T00:00:00\",\"2021-10-08T00:00:00\",\"2021-10-28T00:00:00\",\"2021-10-25T00:00:00\",null,\"2021-10-01T00:00:00\",\"2022-01-03T00:00:00\",\"2022-09-14T00:00:00\",\"2021-05-21T00:00:00\",null,\"2021-09-24T00:00:00\",\"2021-09-24T00:00:00\",\"2021-09-24T00:00:00\",\"2022-09-13T00:00:00\",\"2021-09-24T00:00:00\",\"2021-10-04T00:00:00\",\"2022-11-28T00:00:00\",null,\"2022-03-01T00:00:00\",\"2022-02-01T00:00:00\",\"2022-03-01T00:00:00\",null,\"2021-10-04T00:00:00\",null,null,\"2022-03-01T00:00:00\",\"2022-11-01T00:00:00\",\"2022-03-01T00:00:00\",\"2022-03-01T00:00:00\",null,\"2021-10-04T00:00:00\",null,\"2022-03-01T00:00:00\",\"2023-02-01T00:00:00\",\"2022-03-01T00:00:00\",\"2022-03-01T00:00:00\",null,\"2023-02-20T00:00:00\",null,null,null,null,null,\"2023-02-20T00:00:00\",\"2021-12-01T00:00:00\",null,\"2022-06-27T00:00:00\",null,null,\"2022-12-09T00:00:00\",\"2022-12-09T00:00:00\",null,null,null,null,null,\"2023-01-20T00:00:00\",\"2023-01-20T00:00:00\",null,null,null,null,null,\"2022-12-09T00:00:00\",\"2022-12-09T00:00:00\",\"2021-10-25T00:00:00\",\"2022-09-15T00:00:00\",null,\"2021-10-25T00:00:00\",\"2022-01-03T00:00:00\",\"2021-05-17T00:00:00\",\"2021-09-28T00:00:00\",\"2021-09-28T00:00:00\",\"2021-09-28T00:00:00\",\"2021-09-28T00:00:00\",\"2021-09-28T00:00:00\",\"2021-09-28T00:00:00\",\"2023-03-18T00:00:00\",null,null,null,null,null,\"2022-03-28T00:00:00\",\"2022-02-10T00:00:00\",null,\"2022-02-10T00:00:00\",\"2022-02-10T00:00:00\",\"2022-02-10T00:00:00\",\"2022-02-10T00:00:00\",\"2023-02-01T00:00:00\",\"2022-02-10T00:00:00\",\"2022-02-10T00:00:00\",null,\"2021-06-17T00:00:00\",\"2021-06-21T00:00:00\",\"2021-06-21T00:00:00\",\"2021-06-21T00:00:00\",\"2021-06-21T00:00:00\",\"2022-07-28T00:00:00\",\"2022-08-13T00:00:00\",\"2021-06-21T00:00:00\",\"2021-06-21T00:00:00\",\"2022-06-30T00:00:00\",\"2022-06-30T00:00:00\",\"2022-06-30T00:00:00\",\"2022-06-30T00:00:00\",\"2022-06-30T00:00:00\",\"2022-06-30T00:00:00\",\"2022-06-30T00:00:00\",\"2021-04-07T00:00:00\",\"2021-04-07T00:00:00\",\"2021-04-07T00:00:00\",\"2021-04-07T00:00:00\",\"2021-04-07T00:00:00\",\"2021-04-07T00:00:00\",\"2021-04-07T00:00:00\",\"2021-04-07T00:00:00\",\"2021-06-30T00:00:00\",\"2021-06-30T00:00:00\",\"2021-06-30T00:00:00\",\"2021-06-30T00:00:00\",\"2021-06-30T00:00:00\",\"2022-08-22T00:00:00\",\"2021-09-30T00:00:00\",\"2021-09-30T00:00:00\",\"2021-09-30T00:00:00\",\"2021-09-30T00:00:00\",\"2021-09-30T00:00:00\",\"2021-09-30T00:00:00\",\"2021-09-30T00:00:00\",\"2021-09-30T00:00:00\",\"2021-08-11T00:00:00\",\"2021-07-26T00:00:00\",\"2021-07-26T00:00:00\",\"2021-07-26T00:00:00\",\"2021-07-26T00:00:00\",\"2022-08-22T00:00:00\",\"2021-07-26T00:00:00\",\"2021-07-26T00:00:00\",\"2021-10-15T00:00:00\",\"2021-10-15T00:00:00\",\"2021-10-15T00:00:00\",\"2021-10-15T00:00:00\",\"2021-10-15T00:00:00\",\"2022-09-19T00:00:00\",\"2021-10-15T00:00:00\",\"2022-06-18T00:00:00\",\"2021-10-16T00:00:00\",\"2021-10-16T00:00:00\",null,\"2021-10-16T00:00:00\",\"2021-10-16T00:00:00\",\"2021-10-16T00:00:00\",\"2021-10-16T00:00:00\",\"2021-10-16T00:00:00\",\"2021-10-16T00:00:00\",\"2022-07-29T00:00:00\",\"2022-07-29T00:00:00\",\"2022-07-29T00:00:00\",\"2022-07-29T00:00:00\",\"2022-09-03T00:00:00\",\"2022-08-10T00:00:00\",\"2022-07-29T00:00:00\",\"2022-07-29T00:00:00\",\"2022-07-29T00:00:00\",\"2022-07-29T00:00:00\",\"2022-07-29T00:00:00\",null,null,null,null,null,null,null,null,null,null,null,null,null,null,null,null,null,null,null,null,null,\"2021-11-14T00:00:00\",\"2021-11-14T00:00:00\",\"2021-11-14T00:00:00\",\"2021-11-14T00:00:00\",\"2021-11-14T00:00:00\",\"2021-11-14T00:00:00\",\"2022-08-26T00:00:00\",\"2021-11-14T00:00:00\",\"2022-08-01T00:00:00\",null,\"2021-11-30T00:00:00\",\"2021-11-30T00:00:00\",\"2021-11-30T00:00:00\",\"2021-11-30T00:00:00\",\"2021-11-30T00:00:00\",\"2021-11-30T00:00:00\",\"2022-08-09T00:00:00\",\"2021-11-30T00:00:00\",\"2022-07-18T00:00:00\",null,\"2021-06-01T00:00:00\",\"2021-06-01T00:00:00\",\"2021-06-01T00:00:00\",\"2021-06-01T00:00:00\",\"2021-06-01T00:00:00\",\"2022-09-19T00:00:00\",\"2021-06-01T00:00:00\",\"2021-06-01T00:00:00\",\"2022-09-12T00:00:00\",\"2022-04-24T00:00:00\",\"2022-04-24T00:00:00\",\"2022-04-24T00:00:00\",\"2022-04-24T00:00:00\",\"2023-02-01T00:00:00\",\"2022-04-24T00:00:00\",\"2022-04-24T00:00:00\",\"2022-04-01T00:00:00\",\"2022-04-01T00:00:00\",\"2022-04-01T00:00:00\",\"2022-04-01T00:00:00\",\"2022-04-01T00:00:00\",\"2022-04-01T00:00:00\",\"2023-04-18T00:00:00\",null,null],\"hovertemplate\":\"start_date=%{base}<br>due_date=%{x}<br>eso_project_name=%{y}<extra></extra>\",\"legendgroup\":\"\",\"marker\":{\"color\":\"#636efa\",\"pattern\":{\"shape\":\"\"}},\"name\":\"\",\"offsetgroup\":\"\",\"orientation\":\"h\",\"showlegend\":false,\"textposition\":\"auto\",\"x\":[null,null,null,null,null,null,null,null,691200000.0,950400000.0,950400000.0,15465600000.0,31536000000.0,15465600000.0,15465600000.0,31536000000.0,20908800000.0,15465600000.0,20822400000.0,12873600000.0,12873600000.0,12873600000.0,31708800000.0,31708800000.0,20995200000.0,15638400000.0,15638400000.0,15638400000.0,15638400000.0,12873600000.0,20995200000.0,12873600000.0,12873600000.0,31536000000.0,31536000000.0,18230400000.0,15638400000.0,15638400000.0,15638400000.0,15638400000.0,20995200000.0,13046400000.0,13046400000.0,13046400000.0,31536000000.0,31536000000.0,18057600000.0,15638400000.0,15638400000.0,15638400000.0,15638400000.0,20995200000.0,13046400000.0,13046400000.0,13046400000.0,31536000000.0,31536000000.0,11491200000.0,15465600000.0,15465600000.0,15465600000.0,15465600000.0,20822400000.0,12873600000.0,12873600000.0,12873600000.0,31536000000.0,31536000000.0,26179200000.0,15638400000.0,15638400000.0,15638400000.0,15638400000.0,20995200000.0,13046400000.0,13046400000.0,13046400000.0,31536000000.0,31536000000.0,19612800000.0,15638400000.0,15638400000.0,15638400000.0,15638400000.0,20995200000.0,13046400000.0,13046400000.0,13046400000.0,31536000000.0,31536000000.0,15638400000.0,15638400000.0,15638400000.0,15638400000.0,15638400000.0,20995200000.0,13046400000.0,13046400000.0,13046400000.0,31536000000.0,31536000000.0,20908800000.0,15638400000.0,15638400000.0,15638400000.0,15638400000.0,20822400000.0,12873600000.0,12873600000.0,12873600000.0,31536000000.0,21168000000.0,31536000000.0,15638400000.0,15638400000.0,15638400000.0,15638400000.0,20995200000.0,13046400000.0,13046400000.0,13046400000.0,31536000000.0,31536000000.0,16675200000.0,15638400000.0,15638400000.0,15638400000.0,15638400000.0,20822400000.0,12873600000.0,12873600000.0,12873600000.0,31536000000.0,15638400000.0,31536000000.0,18316800000.0,15638400000.0,15638400000.0,15638400000.0,20995200000.0,13046400000.0,13046400000.0,13046400000.0,28684800000.0,28684800000.0,22809600000.0,28684800000.0,29376000000.0,17798400000.0,28684800000.0,13824000000.0,3024000000.0,26784000000.0,8640000000.0,3456000000.0,14083200000.0,13910400000.0,83635200000.0,60652800000.0,82252800000.0,21427200000.0,82252800000.0,12355200000.0,83635200000.0,83635200000.0,18230400000.0,18230400000.0,18230400000.0,18230400000.0,18230400000.0,18230400000.0,18230400000.0,18230400000.0,null,null,null,null,null,null,null,18230400000.0,18230400000.0,18230400000.0,18230400000.0,18230400000.0,18230400000.0,18230400000.0,18230400000.0,18662400000.0,null,27561600000.0,27302400000.0,null,8726400000.0,null,null,6825600000.0,20476800000.0,18057600000.0,18057600000.0,18057600000.0,18489600000.0,61516800000.0,61516800000.0,59097600000.0,62726400000.0,62899200000.0,43891200000.0,43891200000.0,43891200000.0,43891200000.0,43891200000.0,3628800000.0,518400000.0,36892800000.0,36892800000.0,28252800000.0,36892800000.0,36806400000.0,6566400000.0,32832000000.0,1641600000.0,null,24624000000.0,24624000000.0,24624000000.0,26524800000.0,32832000000.0,1641600000.0,18316800000.0,24451200000.0,26179200000.0,26697600000.0,37238400000.0,null,39312000000.0,31190400000.0,6480000000.0,50803200000.0,null,39052800000.0,39052800000.0,39052800000.0,6048000000.0,39052800000.0,39052800000.0,5529600000.0,null,26265600000.0,28684800000.0,26265600000.0,null,39052800000.0,null,null,26265600000.0,4406400000.0,26265600000.0,26265600000.0,null,39052800000.0,null,25920000000.0,5011200000.0,26265600000.0,26265600000.0,null,8640000000.0,null,null,null,null,null,8640000000.0,45273600000.0,null,23932800000.0,null,null,6480000000.0,6480000000.0,null,null,null,null,null,2851200000.0,2851200000.0,null,null,null,null,null,6480000000.0,6480000000.0,37238400000.0,6307200000.0,null,37238400000.0,31190400000.0,51148800000.0,64108800000.0,64108800000.0,64108800000.0,64108800000.0,64108800000.0,64108800000.0,16156800000.0,null,null,null,null,null,20304000000.0,34560000000.0,null,34560000000.0,34560000000.0,34560000000.0,34560000000.0,3801600000.0,34560000000.0,27993600000.0,null,37065600000.0,36720000000.0,36720000000.0,36720000000.0,37670400000.0,691200000.0,1123200000.0,31536000000.0,31536000000.0,31536000000.0,31536000000.0,31536000000.0,31536000000.0,31536000000.0,31536000000.0,31536000000.0,31536000000.0,31536000000.0,31536000000.0,31536000000.0,31536000000.0,31536000000.0,31536000000.0,31536000000.0,36892800000.0,36720000000.0,36720000000.0,36806400000.0,36720000000.0,11232000000.0,31536000000.0,31536000000.0,31536000000.0,31536000000.0,31536000000.0,31536000000.0,31536000000.0,31536000000.0,29203200000.0,29203200000.0,29203200000.0,29203200000.0,29203200000.0,2160000000.0,29203200000.0,29203200000.0,23587200000.0,23587200000.0,23587200000.0,23587200000.0,23587200000.0,3628800000.0,23587200000.0,6480000000.0,19785600000.0,19785600000.0,null,32745600000.0,27475200000.0,27302400000.0,27302400000.0,27216000000.0,27216000000.0,22204800000.0,22204800000.0,22204800000.0,22204800000.0,19094400000.0,21168000000.0,22204800000.0,22204800000.0,22204800000.0,22204800000.0,22204800000.0,null,null,null,null,null,null,null,null,null,null,null,null,null,null,null,null,null,null,null,null,null,33350400000.0,33350400000.0,33350400000.0,33350400000.0,33350400000.0,33350400000.0,9590400000.0,33350400000.0,10886400000.0,null,28252800000.0,28252800000.0,28252800000.0,28252800000.0,28252800000.0,28252800000.0,8899200000.0,28252800000.0,3801600000.0,null,47260800000.0,47260800000.0,47260800000.0,47260800000.0,47260800000.0,7689600000.0,47260800000.0,39571200000.0,6912000000.0,35251200000.0,35251200000.0,35251200000.0,35251200000.0,10108800000.0,35251200000.0,35251200000.0,46569600000.0,46569600000.0,46569600000.0,46569600000.0,46569600000.0,46569600000.0,12355200000.0,null,null],\"xaxis\":\"x\",\"y\":[\"project_name_error\",\"project_name_error\",\"project_name_error\",\"project_name_error\",\"project_name_error\",\"project_name_error\",\"project_name_error\",\"project_name_error\",\"no_eso_project\",\"no_eso_project\",\"no_eso_project\",\"OP/769325 - Niuchaopu\",\"OP/769325 - Niuchaopu\",\"OP/769325 - Niuchaopu\",\"OP/769325 - Niuchaopu\",\"OP/769325 - Niuchaopu\",\"OP/769325 - Niuchaopu\",\"OP/769325 - Niuchaopu\",\"OP/769325 - Niuchaopu\",\"OP/769325 - Niuchaopu\",\"OP/769325 - Niuchaopu\",\"OP/769325 - Niuchaopu\",\"OP/795054 - Letzer B\",\"OP/795054 - Letzer B\",\"OP/795054 - Letzer B\",\"OP/795054 - Letzer B\",\"OP/795054 - Letzer B\",\"OP/795054 - Letzer B\",\"OP/795054 - Letzer B\",\"OP/795054 - Letzer B\",\"OP/795054 - Letzer B\",\"OP/795054 - Letzer B\",\"OP/795054 - Letzer B\",\"OP/793616 - Colbun Diego Almagro (Expansion)\",\"OP/793616 - Colbun Diego Almagro (Expansion)\",\"OP/793616 - Colbun Diego Almagro (Expansion)\",\"OP/793616 - Colbun Diego Almagro (Expansion)\",\"OP/793616 - Colbun Diego Almagro (Expansion)\",\"OP/793616 - Colbun Diego Almagro (Expansion)\",\"OP/793616 - Colbun Diego Almagro (Expansion)\",\"OP/793616 - Colbun Diego Almagro (Expansion)\",\"OP/793616 - Colbun Diego Almagro (Expansion)\",\"OP/793616 - Colbun Diego Almagro (Expansion)\",\"OP/793616 - Colbun Diego Almagro (Expansion)\",\"OP/791407 - Fortune 1\",\"OP/791407 - Fortune 1\",\"OP/791407 - Fortune 1\",\"OP/791407 - Fortune 1\",\"OP/791407 - Fortune 1\",\"OP/791407 - Fortune 1\",\"OP/791407 - Fortune 1\",\"OP/791407 - Fortune 1\",\"OP/791407 - Fortune 1\",\"OP/791407 - Fortune 1\",\"OP/791407 - Fortune 1\",\"OP/791290 - CUC Prospect (EPC)\",\"OP/791290 - CUC Prospect (EPC)\",\"OP/791290 - CUC Prospect (EPC)\",\"OP/791290 - CUC Prospect (EPC)\",\"OP/791290 - CUC Prospect (EPC)\",\"OP/791290 - CUC Prospect (EPC)\",\"OP/791290 - CUC Prospect (EPC)\",\"OP/791290 - CUC Prospect (EPC)\",\"OP/791290 - CUC Prospect (EPC)\",\"OP/791290 - CUC Prospect (EPC)\",\"OP/791290 - CUC Prospect (EPC)\",\"OP/790697 Letzer A (Ming Hsing)\",\"OP/790697 Letzer A (Ming Hsing)\",\"OP/790697 Letzer A (Ming Hsing)\",\"OP/790697 Letzer A (Ming Hsing)\",\"OP/790697 Letzer A (Ming Hsing)\",\"OP/790697 Letzer A (Ming Hsing)\",\"OP/790697 Letzer A (Ming Hsing)\",\"OP/790697 Letzer A (Ming Hsing)\",\"OP/790697 Letzer A (Ming Hsing)\",\"OP/790697 Letzer A (Ming Hsing)\",\"OP/790697 Letzer A (Ming Hsing)\",\"OP/782224 Pemcorp BES \",\"OP/782224 Pemcorp BES \",\"OP/782224 Pemcorp BES \",\"OP/782224 Pemcorp BES \",\"OP/782224 Pemcorp BES \",\"OP/782224 Pemcorp BES \",\"OP/782224 Pemcorp BES \",\"OP/782224 Pemcorp BES \",\"OP/782224 Pemcorp BES \",\"OP/782224 Pemcorp BES \",\"OP/782224 Pemcorp BES \",\"OP/781999 - Enel El Manzano\",\"OP/781999 - Enel El Manzano\",\"OP/781999 - Enel El Manzano\",\"OP/781999 - Enel El Manzano\",\"OP/781999 - Enel El Manzano\",\"OP/781999 - Enel El Manzano\",\"OP/781999 - Enel El Manzano\",\"OP/781999 - Enel El Manzano\",\"OP/781999 - Enel El Manzano\",\"OP/781999 - Enel El Manzano\",\"OP/781999 - Enel El Manzano\",\"OP/765991 - Enel Chillingham\",\"OP/765991 - Enel Chillingham\",\"OP/765991 - Enel Chillingham\",\"OP/765991 - Enel Chillingham\",\"OP/765991 - Enel Chillingham\",\"OP/765991 - Enel Chillingham\",\"OP/765991 - Enel Chillingham\",\"OP/765991 - Enel Chillingham\",\"OP/765991 - Enel Chillingham\",\"OP/765991 - Enel Chillingham\",\"OP/765991 - Enel Chillingham\",\"OP/765996 - Don Humberto\",\"OP/765996 - Don Humberto\",\"OP/765996 - Don Humberto\",\"OP/765996 - Don Humberto\",\"OP/765996 - Don Humberto\",\"OP/765996 - Don Humberto\",\"OP/765996 - Don Humberto\",\"OP/765996 - Don Humberto\",\"OP/765996 - Don Humberto\",\"OP/765996 - Don Humberto\",\"OP/765996 - Don Humberto\",\"OP/747855 - Origin Eraring\",\"OP/747855 - Origin Eraring\",\"OP/747855 - Origin Eraring\",\"OP/747855 - Origin Eraring\",\"OP/747855 - Origin Eraring\",\"OP/747855 - Origin Eraring\",\"OP/747855 - Origin Eraring\",\"OP/747855 - Origin Eraring\",\"OP/747855 - Origin Eraring\",\"OP/747855 - Origin Eraring\",\"OP/747855 - Origin Eraring\",\"OP/725875 - BESS Hydesville Substation (EPC)\",\"OP/725875 - BESS Hydesville Substation (EPC)\",\"OP/725875 - BESS Hydesville Substation (EPC)\",\"OP/725875 - BESS Hydesville Substation (EPC)\",\"OP/725875 - BESS Hydesville Substation (EPC)\",\"OP/725875 - BESS Hydesville Substation (EPC)\",\"OP/725875 - BESS Hydesville Substation (EPC)\",\"OP/725875 - BESS Hydesville Substation (EPC)\",\"OP/725875 - BESS Hydesville Substation (EPC)\",\"OP/725875 - BESS Hydesville Substation (EPC)\",\"OP/725875 - BESS Hydesville Substation (EPC)\",\"P/21463 LeConte Energy Storage\",\"P/21463 LeConte Energy Storage\",\"P/21463 LeConte Energy Storage\",\"P/21463 LeConte Energy Storage\",\"P/21463 LeConte Energy Storage\",\"P/21463 LeConte Energy Storage\",\"P/21463 LeConte Energy Storage\",\"P/21463 LeConte Energy Storage\",\"P/21463 LeConte Energy Storage\",\"P/21463 LeConte Energy Storage\",\"P/21463 LeConte Energy Storage\",\"P/21463 LeConte Energy Storage\",\"P/21463 LeConte Energy Storage\",\"P/21463 LeConte Energy Storage\",\"P/17402 WAPA RHPP [EPC] \",\"P/17402 WAPA RHPP [EPC] \",\"P/17402 WAPA RHPP [EPC] \",\"P/17402 WAPA RHPP [EPC] \",\"P/17402 WAPA RHPP [EPC] \",\"P/17402 WAPA RHPP [EPC] \",\"P/17402 WAPA RHPP [EPC] \",\"P/17402 WAPA RHPP [EPC] \",\"P/19469 AEP Martinsville\",\"P/19469 AEP Martinsville\",\"P/19469 AEP Martinsville\",\"P/19469 AEP Martinsville\",\"P/19469 AEP Martinsville\",\"P/19469 AEP Martinsville\",\"P/19469 AEP Martinsville\",\"P/19469 AEP Martinsville\",\"P/20210 Eurus LaPaz (Eolica Coromuel) [EEQ] \",\"P/20210 Eurus LaPaz (Eolica Coromuel) [EEQ] \",\"P/20210 Eurus LaPaz (Eolica Coromuel) [EEQ] \",\"P/20210 Eurus LaPaz (Eolica Coromuel) [EEQ] \",\"P/20210 Eurus LaPaz (Eolica Coromuel) [EEQ] \",\"P/20210 Eurus LaPaz (Eolica Coromuel) [EEQ] \",\"P/20210 Eurus LaPaz (Eolica Coromuel) [EEQ] \",\"P/20458 AEP South River\",\"P/20458 AEP South River\",\"P/20458 AEP South River\",\"P/20458 AEP South River\",\"P/20458 AEP South River\",\"P/20458 AEP South River\",\"P/20458 AEP South River\",\"P/20458 AEP South River\",\"P/20461 Enel Azure Sky\",\"P/20461 Enel Azure Sky\",\"P/20461 Enel Azure Sky\",\"P/20461 Enel Azure Sky\",\"P/20461 Enel Azure Sky\",\"P/20461 Enel Azure Sky\",\"P/20461 Enel Azure Sky\",\"P/20461 Enel Azure Sky\",\"no_eso_project\",\"P/20462 Mililani\",\"P/20462 Mililani\",\"P/20462 Mililani\",\"P/20462 Mililani\",\"P/20462 Mililani\",\"P/20463 Waiawa\",\"P/20463 Waiawa\",\"P/20463 Waiawa\",\"P/20463 Waiawa\",\"P/20463 Waiawa\",\"P/21207_BPL Bahamas\",\"P/21207_BPL Bahamas\",\"P/21207_BPL Bahamas\",\"P/21207_BPL Bahamas\",\"P/21207_BPL Bahamas\",\"P/21207_BPL Bahamas\",\"P/21207_BPL Bahamas\",\"P/21215 Suriname\",\"P/21215 Suriname\",\"P/21215 Suriname\",\"P/21215 Suriname\",\"P/21215 Suriname\",\"P/21215 Suriname\",\"P/21450 Madero \",\"P/21450 Madero \",\"P/21450 Madero \",\"P/21450 Madero \",\"P/21450 Madero \",\"P/21450 Madero \",\"P/21450 Madero \",\"P/21452 Ignacio\",\"P/21452 Ignacio\",\"P/21452 Ignacio\",\"P/21452 Ignacio\",\"P/21452 Ignacio\",\"P/21452 Ignacio\",\"P/21454 Enel Blue Jay\",\"P/21454 Enel Blue Jay\",\"P/21454 Enel Blue Jay\",\"P/21454 Enel Blue Jay\",\"P/21454 Enel Blue Jay\",\"P/21454 Enel Blue Jay\",\"P/21454 Enel Blue Jay\",\"P/21213 Colbun Diego de Almagro\",\"P/21213 Colbun Diego de Almagro\",\"P/21213 Colbun Diego de Almagro\",\"P/21213 Colbun Diego de Almagro\",\"P/21213 Colbun Diego de Almagro\",\"P/21464 Brookfield Rumford B\",\"P/21464 Brookfield Rumford B\",\"P/21464 Brookfield Rumford B\",\"P/21464 Brookfield Rumford B\",\"P/21464 Brookfield Rumford B\",\"P/21464 Brookfield Rumford B\",\"P/21464 Brookfield Rumford B\",\"P/21465 Brookfield Bonny Eagle\",\"P/21465 Brookfield Bonny Eagle\",\"no_eso_project\",\"P/21465 Brookfield Bonny Eagle\",\"P/21465 Brookfield Bonny Eagle\",\"P/21465 Brookfield Bonny Eagle\",\"P/21465 Brookfield Bonny Eagle\",\"P/21465 Brookfield Bonny Eagle\",\"P/21466 Brookfield Berlin\",\"P/21466 Brookfield Berlin\",\"P/21466 Brookfield Berlin\",\"P/21466 Brookfield Berlin\",\"P/21466 Brookfield Berlin\",\"P/21466 Brookfield Berlin\",\"P/21466 Brookfield Berlin\",\"Daggett 3 Group CmEng\",\"Daggett 3 Group\",\"Daggett 3 Group\",\"Daggett 3 Group\",\"Daggett 3 Group\",\"Daggett 3 Group\",\"Daggett 3 Group CmMgr\",\"Daggett 3 Group\",\"Daggett 3 Group\",\"Daggett 3 Group\",\"Daggett 3 Group\",\"Daggett 3 Group\",\"Daggett 3 Group CmMgr\",\"Daggett 3 Group CmEng\",\"Daggett 3 Group\",\"Daggett 3 Group\",\"Daggett 3 Group\",\"Daggett 3 Group\",\"Daggett 3 Group\",\"Daggett 3 Group CmMgr\",\"Daggett 3 Group CmEng\",\"Daggett 3 Group\",\"Daggett 3 Group\",\"Daggett 3 Group\",\"Daggett 3 Group\",\"Daggett 3 Group\",\"Daggett 3 Group CmMgr\",\"Daggett 3 Group CmEng\",\"P/21468 Enel Roseland\",\"P/21468 Enel Roseland\",\"P/21468 Enel Roseland\",\"P/21468 Enel Roseland\",\"P/21468 Enel Roseland\",\"P/21468 Enel Roseland\",\"P/21469 GA Power Mossy Branch\",\"P/21469 GA Power Mossy Branch\",\"P/21469 GA Power Mossy Branch\",\"P/21469 GA Power Mossy Branch\",\"P/21469 GA Power Mossy Branch\",\"P/21469 GA Power Mossy Branch\",\"P/21469 GA Power Mossy Branch\",\"P/22451 Duke Riverside\",\"P/22451 Duke Riverside\",\"P/22451 Duke Riverside\",\"P/22451 Duke Riverside\",\"P/22451 Duke Riverside\",\"P/22451 Duke Riverside\",\"P/22452 Bonaire Expansion\",\"P/22452 Bonaire Expansion\",\"P/22452 Bonaire Expansion\",\"P/22452 Bonaire Expansion\",\"P/22452 Bonaire Expansion\",\"P/22452 Bonaire Expansion\",\"P/22452 Bonaire Expansion\",\"P/22452 Bonaire Expansion\",\"P/22452 Bonaire Expansion\",\"P/22452 Bonaire Expansion\",\"P/21205 Zenith - Tanami\",\"P/21205 Zenith - Tanami\",\"P/21205 Zenith - Tanami\",\"P/21205 Zenith - Tanami\",\"P/21205 Zenith - Tanami\",\"P/21205 Zenith - Tanami\",\"P/21205 Zenith - Tanami\",\"P/21205 Zenith - Tanami\",\"no_eso_project\",\"P/19201 CWP - Sapphire BESS\",\"P/19201 CWP - Sapphire BESS\",\"P/19201 CWP - Sapphire BESS\",\"P/19201 CWP - Sapphire BESS\",\"P/19201 CWP - Sapphire BESS\",\"P/19201 CWP - Sapphire BESS\",\"P/19201 CWP - Sapphire BESS\",\"P/19206 BCCPP - Limay\",\"P/19206 BCCPP - Limay\",\"P/19206 BCCPP - Limay\",\"P/19206 BCCPP - Limay\",\"P/19206 BCCPP - Limay\",\"P/19206 BCCPP - Limay\",\"P/19206 BCCPP - Limay\",\"P/19206 BCCPP - Limay\",\"P/20202 IRPH - Ormoc\",\"P/20202 IRPH - Ormoc\",\"P/20202 IRPH - Ormoc\",\"P/20202 IRPH - Ormoc\",\"P/20202 IRPH - Ormoc\",\"P/20202 IRPH - Ormoc\",\"P/20208 IRPH - Tagum\",\"P/20208 IRPH - Tagum\",\"P/20208 IRPH - Tagum\",\"P/20208 IRPH - Tagum\",\"P/20208 IRPH - Tagum\",\"P/20208 IRPH - Tagum\",\"P/20208 IRPH - Tagum\",\"P/20208 IRPH - Tagum\",\"P/21209 Beimen BESS\",\"P/21209 Beimen BESS\",\"P/21209 Beimen BESS\",\"P/21209 Beimen BESS\",\"P/21209 Beimen BESS\",\"P/21209 Beimen BESS\",\"P/21209 Beimen BESS\",\"P/21209 Beimen BESS\",\"P/21214 Guangming BESS\",\"P/21214 Guangming BESS\",\"P/21214 Guangming BESS\",\"P/21214 Guangming BESS\",\"P/21214 Guangming BESS\",\"P/21214 Guangming BESS\",\"P/21214 Guangming BESS\",\"P/21214 Guangming BESS\",\"P/20205 TMI DBS (BESS)\",\"P/20205 TMI DBS (BESS)\",\"no_eso_project\",\"P/20205 TMI DBS (BESS)\",\"P/20205 TMI DBS (BESS)\",\"P/20205 TMI DBS (BESS)\",\"P/20205 TMI DBS (BESS)\",\"P/20205 TMI DBS (BESS)\",\"P/20205 TMI DBS (BESS)\",\"P/21201 AGL - TIB\",\"P/21201 AGL - TIB\",\"P/21201 AGL - TIB\",\"P/21201 AGL - TIB\",\"P/21201 AGL - TIB\",\"P/21201 AGL - TIB\",\"P/21201 AGL - TIB\",\"P/21201 AGL - TIB\",\"P/21201 AGL - TIB\",\"P/21201 AGL - TIB\",\"P/21201 AGL - TIB\",\"P/22202 Kavalan - Supernova\",\"P/22202 Kavalan - Supernova\",\"P/22202 Kavalan - Supernova\",\"P/22202 Kavalan - Supernova\",\"P/22202 Kavalan - Supernova\",\"P/22202 Kavalan - Supernova\",\"P/22202 Kavalan - Supernova\",\"P/22202 Kavalan - Supernova\",\"P/19208 IRPH - Toledo\",\"P/19208 IRPH - Toledo\",\"P/19208 IRPH - Toledo\",\"P/19208 IRPH - Toledo\",\"P/19208 IRPH - Toledo\",\"P/19208 IRPH - Toledo\",\"P/22205 Leopard Cat\",\"P/22205 Leopard Cat\",\"P/22205 Leopard Cat\",\"P/22205 Leopard Cat\",\"P/22205 Leopard Cat\",\"P/22205 Leopard Cat\",\"P/22205 Leopard Cat\",\"P/21921 Ruien BESS\",\"P/21921 Ruien BESS\",\"P/21921 Ruien BESS\",\"P/21921 Ruien BESS\",\"P/21921 Ruien BESS\",\"P/21921 Ruien BESS\",\"P/21921 Ruien BESS\",\"P/21921 Ruien BESS\",\"P/21921 Ruien BESS\",\"no_eso_project\",\"P/21922 GIGA Buffalo\",\"P/21922 GIGA Buffalo\",\"P/21922 GIGA Buffalo\",\"P/21922 GIGA Buffalo\",\"P/21922 GIGA Buffalo\",\"P/21922 GIGA Buffalo\",\"P/21922 GIGA Buffalo\",\"P/21922 GIGA Buffalo\",\"P/21922 GIGA Buffalo\",\"no_eso_project\",\"P/21203 Bustleholm 50MW BESS\",\"P/21203 Bustleholm 50MW BESS\",\"P/21203 Bustleholm 50MW BESS\",\"P/21203 Bustleholm 50MW BESS\",\"P/21203 Bustleholm 50MW BESS\",\"P/21203 Bustleholm 50MW BESS\",\"P/21203 Bustleholm 50MW BESS\",\"P/21203 Bustleholm 50MW BESS\",\"P/21203 Bustleholm 50MW BESS\",\"P/21204 Coventry 50MW BESS\",\"P/21204 Coventry 50MW BESS\",\"P/21204 Coventry 50MW BESS\",\"P/21204 Coventry 50MW BESS\",\"P/21204 Coventry 50MW BESS\",\"P/21204 Coventry 50MW BESS\",\"P/21204 Coventry 50MW BESS\",\"P/22201 SSE Salisbury 49.5MW\",\"P/22201 SSE Salisbury 49.5MW\",\"P/22201 SSE Salisbury 49.5MW\",\"P/22201 SSE Salisbury 49.5MW\",\"P/22201 SSE Salisbury 49.5MW\",\"P/22201 SSE Salisbury 49.5MW\",\"P/22201 SSE Salisbury 49.5MW\",\"P/22201 SSE Salisbury 49.5MW\",\"P/22201 SSE Salisbury 49.5MW\"],\"yaxis\":\"y\",\"type\":\"bar\"}],                        {\"template\":{\"data\":{\"histogram2dcontour\":[{\"type\":\"histogram2dcontour\",\"colorbar\":{\"outlinewidth\":0,\"ticks\":\"\"},\"colorscale\":[[0.0,\"#0d0887\"],[0.1111111111111111,\"#46039f\"],[0.2222222222222222,\"#7201a8\"],[0.3333333333333333,\"#9c179e\"],[0.4444444444444444,\"#bd3786\"],[0.5555555555555556,\"#d8576b\"],[0.6666666666666666,\"#ed7953\"],[0.7777777777777778,\"#fb9f3a\"],[0.8888888888888888,\"#fdca26\"],[1.0,\"#f0f921\"]]}],\"choropleth\":[{\"type\":\"choropleth\",\"colorbar\":{\"outlinewidth\":0,\"ticks\":\"\"}}],\"histogram2d\":[{\"type\":\"histogram2d\",\"colorbar\":{\"outlinewidth\":0,\"ticks\":\"\"},\"colorscale\":[[0.0,\"#0d0887\"],[0.1111111111111111,\"#46039f\"],[0.2222222222222222,\"#7201a8\"],[0.3333333333333333,\"#9c179e\"],[0.4444444444444444,\"#bd3786\"],[0.5555555555555556,\"#d8576b\"],[0.6666666666666666,\"#ed7953\"],[0.7777777777777778,\"#fb9f3a\"],[0.8888888888888888,\"#fdca26\"],[1.0,\"#f0f921\"]]}],\"heatmap\":[{\"type\":\"heatmap\",\"colorbar\":{\"outlinewidth\":0,\"ticks\":\"\"},\"colorscale\":[[0.0,\"#0d0887\"],[0.1111111111111111,\"#46039f\"],[0.2222222222222222,\"#7201a8\"],[0.3333333333333333,\"#9c179e\"],[0.4444444444444444,\"#bd3786\"],[0.5555555555555556,\"#d8576b\"],[0.6666666666666666,\"#ed7953\"],[0.7777777777777778,\"#fb9f3a\"],[0.8888888888888888,\"#fdca26\"],[1.0,\"#f0f921\"]]}],\"heatmapgl\":[{\"type\":\"heatmapgl\",\"colorbar\":{\"outlinewidth\":0,\"ticks\":\"\"},\"colorscale\":[[0.0,\"#0d0887\"],[0.1111111111111111,\"#46039f\"],[0.2222222222222222,\"#7201a8\"],[0.3333333333333333,\"#9c179e\"],[0.4444444444444444,\"#bd3786\"],[0.5555555555555556,\"#d8576b\"],[0.6666666666666666,\"#ed7953\"],[0.7777777777777778,\"#fb9f3a\"],[0.8888888888888888,\"#fdca26\"],[1.0,\"#f0f921\"]]}],\"contourcarpet\":[{\"type\":\"contourcarpet\",\"colorbar\":{\"outlinewidth\":0,\"ticks\":\"\"}}],\"contour\":[{\"type\":\"contour\",\"colorbar\":{\"outlinewidth\":0,\"ticks\":\"\"},\"colorscale\":[[0.0,\"#0d0887\"],[0.1111111111111111,\"#46039f\"],[0.2222222222222222,\"#7201a8\"],[0.3333333333333333,\"#9c179e\"],[0.4444444444444444,\"#bd3786\"],[0.5555555555555556,\"#d8576b\"],[0.6666666666666666,\"#ed7953\"],[0.7777777777777778,\"#fb9f3a\"],[0.8888888888888888,\"#fdca26\"],[1.0,\"#f0f921\"]]}],\"surface\":[{\"type\":\"surface\",\"colorbar\":{\"outlinewidth\":0,\"ticks\":\"\"},\"colorscale\":[[0.0,\"#0d0887\"],[0.1111111111111111,\"#46039f\"],[0.2222222222222222,\"#7201a8\"],[0.3333333333333333,\"#9c179e\"],[0.4444444444444444,\"#bd3786\"],[0.5555555555555556,\"#d8576b\"],[0.6666666666666666,\"#ed7953\"],[0.7777777777777778,\"#fb9f3a\"],[0.8888888888888888,\"#fdca26\"],[1.0,\"#f0f921\"]]}],\"mesh3d\":[{\"type\":\"mesh3d\",\"colorbar\":{\"outlinewidth\":0,\"ticks\":\"\"}}],\"scatter\":[{\"fillpattern\":{\"fillmode\":\"overlay\",\"size\":10,\"solidity\":0.2},\"type\":\"scatter\"}],\"parcoords\":[{\"type\":\"parcoords\",\"line\":{\"colorbar\":{\"outlinewidth\":0,\"ticks\":\"\"}}}],\"scatterpolargl\":[{\"type\":\"scatterpolargl\",\"marker\":{\"colorbar\":{\"outlinewidth\":0,\"ticks\":\"\"}}}],\"bar\":[{\"error_x\":{\"color\":\"#2a3f5f\"},\"error_y\":{\"color\":\"#2a3f5f\"},\"marker\":{\"line\":{\"color\":\"#E5ECF6\",\"width\":0.5},\"pattern\":{\"fillmode\":\"overlay\",\"size\":10,\"solidity\":0.2}},\"type\":\"bar\"}],\"scattergeo\":[{\"type\":\"scattergeo\",\"marker\":{\"colorbar\":{\"outlinewidth\":0,\"ticks\":\"\"}}}],\"scatterpolar\":[{\"type\":\"scatterpolar\",\"marker\":{\"colorbar\":{\"outlinewidth\":0,\"ticks\":\"\"}}}],\"histogram\":[{\"marker\":{\"pattern\":{\"fillmode\":\"overlay\",\"size\":10,\"solidity\":0.2}},\"type\":\"histogram\"}],\"scattergl\":[{\"type\":\"scattergl\",\"marker\":{\"colorbar\":{\"outlinewidth\":0,\"ticks\":\"\"}}}],\"scatter3d\":[{\"type\":\"scatter3d\",\"line\":{\"colorbar\":{\"outlinewidth\":0,\"ticks\":\"\"}},\"marker\":{\"colorbar\":{\"outlinewidth\":0,\"ticks\":\"\"}}}],\"scattermapbox\":[{\"type\":\"scattermapbox\",\"marker\":{\"colorbar\":{\"outlinewidth\":0,\"ticks\":\"\"}}}],\"scatterternary\":[{\"type\":\"scatterternary\",\"marker\":{\"colorbar\":{\"outlinewidth\":0,\"ticks\":\"\"}}}],\"scattercarpet\":[{\"type\":\"scattercarpet\",\"marker\":{\"colorbar\":{\"outlinewidth\":0,\"ticks\":\"\"}}}],\"carpet\":[{\"aaxis\":{\"endlinecolor\":\"#2a3f5f\",\"gridcolor\":\"white\",\"linecolor\":\"white\",\"minorgridcolor\":\"white\",\"startlinecolor\":\"#2a3f5f\"},\"baxis\":{\"endlinecolor\":\"#2a3f5f\",\"gridcolor\":\"white\",\"linecolor\":\"white\",\"minorgridcolor\":\"white\",\"startlinecolor\":\"#2a3f5f\"},\"type\":\"carpet\"}],\"table\":[{\"cells\":{\"fill\":{\"color\":\"#EBF0F8\"},\"line\":{\"color\":\"white\"}},\"header\":{\"fill\":{\"color\":\"#C8D4E3\"},\"line\":{\"color\":\"white\"}},\"type\":\"table\"}],\"barpolar\":[{\"marker\":{\"line\":{\"color\":\"#E5ECF6\",\"width\":0.5},\"pattern\":{\"fillmode\":\"overlay\",\"size\":10,\"solidity\":0.2}},\"type\":\"barpolar\"}],\"pie\":[{\"automargin\":true,\"type\":\"pie\"}]},\"layout\":{\"autotypenumbers\":\"strict\",\"colorway\":[\"#636efa\",\"#EF553B\",\"#00cc96\",\"#ab63fa\",\"#FFA15A\",\"#19d3f3\",\"#FF6692\",\"#B6E880\",\"#FF97FF\",\"#FECB52\"],\"font\":{\"color\":\"#2a3f5f\"},\"hovermode\":\"closest\",\"hoverlabel\":{\"align\":\"left\"},\"paper_bgcolor\":\"white\",\"plot_bgcolor\":\"#E5ECF6\",\"polar\":{\"bgcolor\":\"#E5ECF6\",\"angularaxis\":{\"gridcolor\":\"white\",\"linecolor\":\"white\",\"ticks\":\"\"},\"radialaxis\":{\"gridcolor\":\"white\",\"linecolor\":\"white\",\"ticks\":\"\"}},\"ternary\":{\"bgcolor\":\"#E5ECF6\",\"aaxis\":{\"gridcolor\":\"white\",\"linecolor\":\"white\",\"ticks\":\"\"},\"baxis\":{\"gridcolor\":\"white\",\"linecolor\":\"white\",\"ticks\":\"\"},\"caxis\":{\"gridcolor\":\"white\",\"linecolor\":\"white\",\"ticks\":\"\"}},\"coloraxis\":{\"colorbar\":{\"outlinewidth\":0,\"ticks\":\"\"}},\"colorscale\":{\"sequential\":[[0.0,\"#0d0887\"],[0.1111111111111111,\"#46039f\"],[0.2222222222222222,\"#7201a8\"],[0.3333333333333333,\"#9c179e\"],[0.4444444444444444,\"#bd3786\"],[0.5555555555555556,\"#d8576b\"],[0.6666666666666666,\"#ed7953\"],[0.7777777777777778,\"#fb9f3a\"],[0.8888888888888888,\"#fdca26\"],[1.0,\"#f0f921\"]],\"sequentialminus\":[[0.0,\"#0d0887\"],[0.1111111111111111,\"#46039f\"],[0.2222222222222222,\"#7201a8\"],[0.3333333333333333,\"#9c179e\"],[0.4444444444444444,\"#bd3786\"],[0.5555555555555556,\"#d8576b\"],[0.6666666666666666,\"#ed7953\"],[0.7777777777777778,\"#fb9f3a\"],[0.8888888888888888,\"#fdca26\"],[1.0,\"#f0f921\"]],\"diverging\":[[0,\"#8e0152\"],[0.1,\"#c51b7d\"],[0.2,\"#de77ae\"],[0.3,\"#f1b6da\"],[0.4,\"#fde0ef\"],[0.5,\"#f7f7f7\"],[0.6,\"#e6f5d0\"],[0.7,\"#b8e186\"],[0.8,\"#7fbc41\"],[0.9,\"#4d9221\"],[1,\"#276419\"]]},\"xaxis\":{\"gridcolor\":\"white\",\"linecolor\":\"white\",\"ticks\":\"\",\"title\":{\"standoff\":15},\"zerolinecolor\":\"white\",\"automargin\":true,\"zerolinewidth\":2},\"yaxis\":{\"gridcolor\":\"white\",\"linecolor\":\"white\",\"ticks\":\"\",\"title\":{\"standoff\":15},\"zerolinecolor\":\"white\",\"automargin\":true,\"zerolinewidth\":2},\"scene\":{\"xaxis\":{\"backgroundcolor\":\"#E5ECF6\",\"gridcolor\":\"white\",\"linecolor\":\"white\",\"showbackground\":true,\"ticks\":\"\",\"zerolinecolor\":\"white\",\"gridwidth\":2},\"yaxis\":{\"backgroundcolor\":\"#E5ECF6\",\"gridcolor\":\"white\",\"linecolor\":\"white\",\"showbackground\":true,\"ticks\":\"\",\"zerolinecolor\":\"white\",\"gridwidth\":2},\"zaxis\":{\"backgroundcolor\":\"#E5ECF6\",\"gridcolor\":\"white\",\"linecolor\":\"white\",\"showbackground\":true,\"ticks\":\"\",\"zerolinecolor\":\"white\",\"gridwidth\":2}},\"shapedefaults\":{\"line\":{\"color\":\"#2a3f5f\"}},\"annotationdefaults\":{\"arrowcolor\":\"#2a3f5f\",\"arrowhead\":0,\"arrowwidth\":1},\"geo\":{\"bgcolor\":\"white\",\"landcolor\":\"#E5ECF6\",\"subunitcolor\":\"white\",\"showland\":true,\"showlakes\":true,\"lakecolor\":\"white\"},\"title\":{\"x\":0.05},\"mapbox\":{\"style\":\"light\"}}},\"xaxis\":{\"anchor\":\"y\",\"domain\":[0.0,1.0],\"type\":\"date\"},\"yaxis\":{\"anchor\":\"x\",\"domain\":[0.0,1.0],\"title\":{\"text\":\"eso_project_name\"}},\"legend\":{\"tracegroupgap\":0},\"margin\":{\"t\":60},\"barmode\":\"overlay\"},                        {\"responsive\": true}                    ).then(function(){\n",
       "                            \n",
       "var gd = document.getElementById('e866c55c-7689-4021-820c-769774b1fa30');\n",
       "var x = new MutationObserver(function (mutations, observer) {{\n",
       "        var display = window.getComputedStyle(gd).display;\n",
       "        if (!display || display === 'none') {{\n",
       "            console.log([gd, 'removed!']);\n",
       "            Plotly.purge(gd);\n",
       "            observer.disconnect();\n",
       "        }}\n",
       "}});\n",
       "\n",
       "// Listen for the removal of the full notebook cells\n",
       "var notebookContainer = gd.closest('#notebook-container');\n",
       "if (notebookContainer) {{\n",
       "    x.observe(notebookContainer, {childList: true});\n",
       "}}\n",
       "\n",
       "// Listen for the clearing of the current output cell\n",
       "var outputEl = gd.closest('.output');\n",
       "if (outputEl) {{\n",
       "    x.observe(outputEl, {childList: true});\n",
       "}}\n",
       "\n",
       "                        })                };                });            </script>        </div>"
      ]
     },
     "metadata": {},
     "output_type": "display_data"
    }
   ],
   "source": [
    "def make_project_groups(df):\n",
    "    df['eso_sub_project'] = df['eso_project_name']\n",
    "\n",
    "    # Dagget 3 Group\n",
    "    daggett3_mask = df['eso_project_name'].str.contains('Daggett 3')\n",
    "    df.loc[df['eso_project_name'].str.contains('Daggett 3'), 'eso_project_name']='Daggett 3 Group'\n",
    "    daggett3_group_mask = df['eso_project_name'] == 'Daggett 3 Group'\n",
    "    \n",
    "    dag_ce_mask = (daggett3_group_mask) & (df['role']=='Commissioning Engineer')\n",
    "    dag_cm_mask = (daggett3_group_mask) & (df['role']=='Commissioning Manager')\n",
    "    \n",
    "    df.loc[dag_ce_mask, 'eso_project_name'] = 'Daggett 3 Group CmEng'\n",
    "    df.loc[dag_cm_mask, 'eso_project_name'] = 'Daggett 3 Group CmMgr'\n",
    "    \n",
    "    return df\n",
    "\n",
    "df_out = make_project_groups(df_tasks.copy())\n",
    "\n",
    "daggett3_group_mask = df_out['eso_project_name'] == 'Daggett 3 Group'\n",
    "d3cx_mask = (df_out['eso_project_name'] == 'Daggett 3 CE') | (df_out['eso_project_name'] == 'Daggett 3 CM')\n",
    "df_out[d3cx_mask]\n",
    "\n",
    "all_dag3_mask = df_out['eso_project_name'].str.contains('Daggett 3')\n",
    "px.timeline(df_out[all_dag3_mask], x_start='start_date', x_end='due_date', y='eso_project_name').show()\n",
    "\n",
    "# px.timeline(df_out[daggett3_group_mask], x_start='start_date', x_end='due_date', y='eso_project_name').show()\n",
    "px.timeline(df_out, x_start='start_date', x_end='due_date', y='eso_project_name')"
   ]
  },
  {
   "cell_type": "code",
   "execution_count": 46,
   "id": "dbfa4d2f-a70a-4063-9609-e7d593cff0af",
   "metadata": {
    "tags": []
   },
   "outputs": [
    {
     "data": {
      "application/vnd.plotly.v1+json": {
       "config": {
        "plotlyServerURL": "https://plot.ly"
       },
       "data": [
        {
         "alignmentgroup": "True",
         "base": [
          "2023-02-20T00:00:00",
          null,
          null,
          null,
          null,
          null,
          "2023-02-20T00:00:00",
          "2021-12-01T00:00:00",
          null,
          "2022-06-27T00:00:00",
          null,
          null,
          "2022-12-09T00:00:00",
          "2022-12-09T00:00:00",
          null,
          null,
          null,
          null,
          null,
          "2023-01-20T00:00:00",
          "2023-01-20T00:00:00",
          null,
          null,
          null,
          null,
          null,
          "2022-12-09T00:00:00",
          "2022-12-09T00:00:00"
         ],
         "hovertemplate": "start_date=%{base}<br>due_date=%{x}<br>eso_project_group=%{y}<extra></extra>",
         "legendgroup": "",
         "marker": {
          "color": "#636efa",
          "pattern": {
           "shape": ""
          }
         },
         "name": "",
         "offsetgroup": "",
         "orientation": "h",
         "showlegend": false,
         "textposition": "auto",
         "type": "bar",
         "x": [
          8640000000,
          null,
          null,
          null,
          null,
          null,
          8640000000,
          45273600000,
          null,
          23932800000,
          null,
          null,
          6480000000,
          6480000000,
          null,
          null,
          null,
          null,
          null,
          2851200000,
          2851200000,
          null,
          null,
          null,
          null,
          null,
          6480000000,
          6480000000
         ],
         "xaxis": "x",
         "y": [
          "Daggett 3 CE",
          "Daggett 3 Group",
          "Daggett 3 Group",
          "Daggett 3 Group",
          "Daggett 3 Group",
          "Daggett 3 Group",
          "Daggett 3 CM",
          "Daggett 3 Group",
          "Daggett 3 Group",
          "Daggett 3 Group",
          "Daggett 3 Group",
          "Daggett 3 Group",
          "Daggett 3 CM",
          "Daggett 3 CE",
          "Daggett 3 Group",
          "Daggett 3 Group",
          "Daggett 3 Group",
          "Daggett 3 Group",
          "Daggett 3 Group",
          "Daggett 3 CM",
          "Daggett 3 CE",
          "Daggett 3 Group",
          "Daggett 3 Group",
          "Daggett 3 Group",
          "Daggett 3 Group",
          "Daggett 3 Group",
          "Daggett 3 CM",
          "Daggett 3 CE"
         ],
         "yaxis": "y"
        }
       ],
       "layout": {
        "autosize": true,
        "barmode": "overlay",
        "legend": {
         "tracegroupgap": 0
        },
        "margin": {
         "t": 60
        },
        "template": {
         "data": {
          "bar": [
           {
            "error_x": {
             "color": "#2a3f5f"
            },
            "error_y": {
             "color": "#2a3f5f"
            },
            "marker": {
             "line": {
              "color": "#E5ECF6",
              "width": 0.5
             },
             "pattern": {
              "fillmode": "overlay",
              "size": 10,
              "solidity": 0.2
             }
            },
            "type": "bar"
           }
          ],
          "barpolar": [
           {
            "marker": {
             "line": {
              "color": "#E5ECF6",
              "width": 0.5
             },
             "pattern": {
              "fillmode": "overlay",
              "size": 10,
              "solidity": 0.2
             }
            },
            "type": "barpolar"
           }
          ],
          "carpet": [
           {
            "aaxis": {
             "endlinecolor": "#2a3f5f",
             "gridcolor": "white",
             "linecolor": "white",
             "minorgridcolor": "white",
             "startlinecolor": "#2a3f5f"
            },
            "baxis": {
             "endlinecolor": "#2a3f5f",
             "gridcolor": "white",
             "linecolor": "white",
             "minorgridcolor": "white",
             "startlinecolor": "#2a3f5f"
            },
            "type": "carpet"
           }
          ],
          "choropleth": [
           {
            "colorbar": {
             "outlinewidth": 0,
             "ticks": ""
            },
            "type": "choropleth"
           }
          ],
          "contour": [
           {
            "colorbar": {
             "outlinewidth": 0,
             "ticks": ""
            },
            "colorscale": [
             [
              0,
              "#0d0887"
             ],
             [
              0.1111111111111111,
              "#46039f"
             ],
             [
              0.2222222222222222,
              "#7201a8"
             ],
             [
              0.3333333333333333,
              "#9c179e"
             ],
             [
              0.4444444444444444,
              "#bd3786"
             ],
             [
              0.5555555555555556,
              "#d8576b"
             ],
             [
              0.6666666666666666,
              "#ed7953"
             ],
             [
              0.7777777777777778,
              "#fb9f3a"
             ],
             [
              0.8888888888888888,
              "#fdca26"
             ],
             [
              1,
              "#f0f921"
             ]
            ],
            "type": "contour"
           }
          ],
          "contourcarpet": [
           {
            "colorbar": {
             "outlinewidth": 0,
             "ticks": ""
            },
            "type": "contourcarpet"
           }
          ],
          "heatmap": [
           {
            "colorbar": {
             "outlinewidth": 0,
             "ticks": ""
            },
            "colorscale": [
             [
              0,
              "#0d0887"
             ],
             [
              0.1111111111111111,
              "#46039f"
             ],
             [
              0.2222222222222222,
              "#7201a8"
             ],
             [
              0.3333333333333333,
              "#9c179e"
             ],
             [
              0.4444444444444444,
              "#bd3786"
             ],
             [
              0.5555555555555556,
              "#d8576b"
             ],
             [
              0.6666666666666666,
              "#ed7953"
             ],
             [
              0.7777777777777778,
              "#fb9f3a"
             ],
             [
              0.8888888888888888,
              "#fdca26"
             ],
             [
              1,
              "#f0f921"
             ]
            ],
            "type": "heatmap"
           }
          ],
          "heatmapgl": [
           {
            "colorbar": {
             "outlinewidth": 0,
             "ticks": ""
            },
            "colorscale": [
             [
              0,
              "#0d0887"
             ],
             [
              0.1111111111111111,
              "#46039f"
             ],
             [
              0.2222222222222222,
              "#7201a8"
             ],
             [
              0.3333333333333333,
              "#9c179e"
             ],
             [
              0.4444444444444444,
              "#bd3786"
             ],
             [
              0.5555555555555556,
              "#d8576b"
             ],
             [
              0.6666666666666666,
              "#ed7953"
             ],
             [
              0.7777777777777778,
              "#fb9f3a"
             ],
             [
              0.8888888888888888,
              "#fdca26"
             ],
             [
              1,
              "#f0f921"
             ]
            ],
            "type": "heatmapgl"
           }
          ],
          "histogram": [
           {
            "marker": {
             "pattern": {
              "fillmode": "overlay",
              "size": 10,
              "solidity": 0.2
             }
            },
            "type": "histogram"
           }
          ],
          "histogram2d": [
           {
            "colorbar": {
             "outlinewidth": 0,
             "ticks": ""
            },
            "colorscale": [
             [
              0,
              "#0d0887"
             ],
             [
              0.1111111111111111,
              "#46039f"
             ],
             [
              0.2222222222222222,
              "#7201a8"
             ],
             [
              0.3333333333333333,
              "#9c179e"
             ],
             [
              0.4444444444444444,
              "#bd3786"
             ],
             [
              0.5555555555555556,
              "#d8576b"
             ],
             [
              0.6666666666666666,
              "#ed7953"
             ],
             [
              0.7777777777777778,
              "#fb9f3a"
             ],
             [
              0.8888888888888888,
              "#fdca26"
             ],
             [
              1,
              "#f0f921"
             ]
            ],
            "type": "histogram2d"
           }
          ],
          "histogram2dcontour": [
           {
            "colorbar": {
             "outlinewidth": 0,
             "ticks": ""
            },
            "colorscale": [
             [
              0,
              "#0d0887"
             ],
             [
              0.1111111111111111,
              "#46039f"
             ],
             [
              0.2222222222222222,
              "#7201a8"
             ],
             [
              0.3333333333333333,
              "#9c179e"
             ],
             [
              0.4444444444444444,
              "#bd3786"
             ],
             [
              0.5555555555555556,
              "#d8576b"
             ],
             [
              0.6666666666666666,
              "#ed7953"
             ],
             [
              0.7777777777777778,
              "#fb9f3a"
             ],
             [
              0.8888888888888888,
              "#fdca26"
             ],
             [
              1,
              "#f0f921"
             ]
            ],
            "type": "histogram2dcontour"
           }
          ],
          "mesh3d": [
           {
            "colorbar": {
             "outlinewidth": 0,
             "ticks": ""
            },
            "type": "mesh3d"
           }
          ],
          "parcoords": [
           {
            "line": {
             "colorbar": {
              "outlinewidth": 0,
              "ticks": ""
             }
            },
            "type": "parcoords"
           }
          ],
          "pie": [
           {
            "automargin": true,
            "type": "pie"
           }
          ],
          "scatter": [
           {
            "fillpattern": {
             "fillmode": "overlay",
             "size": 10,
             "solidity": 0.2
            },
            "type": "scatter"
           }
          ],
          "scatter3d": [
           {
            "line": {
             "colorbar": {
              "outlinewidth": 0,
              "ticks": ""
             }
            },
            "marker": {
             "colorbar": {
              "outlinewidth": 0,
              "ticks": ""
             }
            },
            "type": "scatter3d"
           }
          ],
          "scattercarpet": [
           {
            "marker": {
             "colorbar": {
              "outlinewidth": 0,
              "ticks": ""
             }
            },
            "type": "scattercarpet"
           }
          ],
          "scattergeo": [
           {
            "marker": {
             "colorbar": {
              "outlinewidth": 0,
              "ticks": ""
             }
            },
            "type": "scattergeo"
           }
          ],
          "scattergl": [
           {
            "marker": {
             "colorbar": {
              "outlinewidth": 0,
              "ticks": ""
             }
            },
            "type": "scattergl"
           }
          ],
          "scattermapbox": [
           {
            "marker": {
             "colorbar": {
              "outlinewidth": 0,
              "ticks": ""
             }
            },
            "type": "scattermapbox"
           }
          ],
          "scatterpolar": [
           {
            "marker": {
             "colorbar": {
              "outlinewidth": 0,
              "ticks": ""
             }
            },
            "type": "scatterpolar"
           }
          ],
          "scatterpolargl": [
           {
            "marker": {
             "colorbar": {
              "outlinewidth": 0,
              "ticks": ""
             }
            },
            "type": "scatterpolargl"
           }
          ],
          "scatterternary": [
           {
            "marker": {
             "colorbar": {
              "outlinewidth": 0,
              "ticks": ""
             }
            },
            "type": "scatterternary"
           }
          ],
          "surface": [
           {
            "colorbar": {
             "outlinewidth": 0,
             "ticks": ""
            },
            "colorscale": [
             [
              0,
              "#0d0887"
             ],
             [
              0.1111111111111111,
              "#46039f"
             ],
             [
              0.2222222222222222,
              "#7201a8"
             ],
             [
              0.3333333333333333,
              "#9c179e"
             ],
             [
              0.4444444444444444,
              "#bd3786"
             ],
             [
              0.5555555555555556,
              "#d8576b"
             ],
             [
              0.6666666666666666,
              "#ed7953"
             ],
             [
              0.7777777777777778,
              "#fb9f3a"
             ],
             [
              0.8888888888888888,
              "#fdca26"
             ],
             [
              1,
              "#f0f921"
             ]
            ],
            "type": "surface"
           }
          ],
          "table": [
           {
            "cells": {
             "fill": {
              "color": "#EBF0F8"
             },
             "line": {
              "color": "white"
             }
            },
            "header": {
             "fill": {
              "color": "#C8D4E3"
             },
             "line": {
              "color": "white"
             }
            },
            "type": "table"
           }
          ]
         },
         "layout": {
          "annotationdefaults": {
           "arrowcolor": "#2a3f5f",
           "arrowhead": 0,
           "arrowwidth": 1
          },
          "autotypenumbers": "strict",
          "coloraxis": {
           "colorbar": {
            "outlinewidth": 0,
            "ticks": ""
           }
          },
          "colorscale": {
           "diverging": [
            [
             0,
             "#8e0152"
            ],
            [
             0.1,
             "#c51b7d"
            ],
            [
             0.2,
             "#de77ae"
            ],
            [
             0.3,
             "#f1b6da"
            ],
            [
             0.4,
             "#fde0ef"
            ],
            [
             0.5,
             "#f7f7f7"
            ],
            [
             0.6,
             "#e6f5d0"
            ],
            [
             0.7,
             "#b8e186"
            ],
            [
             0.8,
             "#7fbc41"
            ],
            [
             0.9,
             "#4d9221"
            ],
            [
             1,
             "#276419"
            ]
           ],
           "sequential": [
            [
             0,
             "#0d0887"
            ],
            [
             0.1111111111111111,
             "#46039f"
            ],
            [
             0.2222222222222222,
             "#7201a8"
            ],
            [
             0.3333333333333333,
             "#9c179e"
            ],
            [
             0.4444444444444444,
             "#bd3786"
            ],
            [
             0.5555555555555556,
             "#d8576b"
            ],
            [
             0.6666666666666666,
             "#ed7953"
            ],
            [
             0.7777777777777778,
             "#fb9f3a"
            ],
            [
             0.8888888888888888,
             "#fdca26"
            ],
            [
             1,
             "#f0f921"
            ]
           ],
           "sequentialminus": [
            [
             0,
             "#0d0887"
            ],
            [
             0.1111111111111111,
             "#46039f"
            ],
            [
             0.2222222222222222,
             "#7201a8"
            ],
            [
             0.3333333333333333,
             "#9c179e"
            ],
            [
             0.4444444444444444,
             "#bd3786"
            ],
            [
             0.5555555555555556,
             "#d8576b"
            ],
            [
             0.6666666666666666,
             "#ed7953"
            ],
            [
             0.7777777777777778,
             "#fb9f3a"
            ],
            [
             0.8888888888888888,
             "#fdca26"
            ],
            [
             1,
             "#f0f921"
            ]
           ]
          },
          "colorway": [
           "#636efa",
           "#EF553B",
           "#00cc96",
           "#ab63fa",
           "#FFA15A",
           "#19d3f3",
           "#FF6692",
           "#B6E880",
           "#FF97FF",
           "#FECB52"
          ],
          "font": {
           "color": "#2a3f5f"
          },
          "geo": {
           "bgcolor": "white",
           "lakecolor": "white",
           "landcolor": "#E5ECF6",
           "showlakes": true,
           "showland": true,
           "subunitcolor": "white"
          },
          "hoverlabel": {
           "align": "left"
          },
          "hovermode": "closest",
          "mapbox": {
           "style": "light"
          },
          "paper_bgcolor": "white",
          "plot_bgcolor": "#E5ECF6",
          "polar": {
           "angularaxis": {
            "gridcolor": "white",
            "linecolor": "white",
            "ticks": ""
           },
           "bgcolor": "#E5ECF6",
           "radialaxis": {
            "gridcolor": "white",
            "linecolor": "white",
            "ticks": ""
           }
          },
          "scene": {
           "xaxis": {
            "backgroundcolor": "#E5ECF6",
            "gridcolor": "white",
            "gridwidth": 2,
            "linecolor": "white",
            "showbackground": true,
            "ticks": "",
            "zerolinecolor": "white"
           },
           "yaxis": {
            "backgroundcolor": "#E5ECF6",
            "gridcolor": "white",
            "gridwidth": 2,
            "linecolor": "white",
            "showbackground": true,
            "ticks": "",
            "zerolinecolor": "white"
           },
           "zaxis": {
            "backgroundcolor": "#E5ECF6",
            "gridcolor": "white",
            "gridwidth": 2,
            "linecolor": "white",
            "showbackground": true,
            "ticks": "",
            "zerolinecolor": "white"
           }
          },
          "shapedefaults": {
           "line": {
            "color": "#2a3f5f"
           }
          },
          "ternary": {
           "aaxis": {
            "gridcolor": "white",
            "linecolor": "white",
            "ticks": ""
           },
           "baxis": {
            "gridcolor": "white",
            "linecolor": "white",
            "ticks": ""
           },
           "bgcolor": "#E5ECF6",
           "caxis": {
            "gridcolor": "white",
            "linecolor": "white",
            "ticks": ""
           }
          },
          "title": {
           "x": 0.05
          },
          "xaxis": {
           "automargin": true,
           "gridcolor": "white",
           "linecolor": "white",
           "ticks": "",
           "title": {
            "standoff": 15
           },
           "zerolinecolor": "white",
           "zerolinewidth": 2
          },
          "yaxis": {
           "automargin": true,
           "gridcolor": "white",
           "linecolor": "white",
           "ticks": "",
           "title": {
            "standoff": 15
           },
           "zerolinecolor": "white",
           "zerolinewidth": 2
          }
         }
        },
        "xaxis": {
         "anchor": "y",
         "autorange": true,
         "domain": [
          0,
          1
         ],
         "range": [
          "2021-10-31 16:00",
          "2023-06-30 08:00"
         ],
         "type": "date"
        },
        "yaxis": {
         "anchor": "x",
         "autorange": true,
         "domain": [
          0,
          1
         ],
         "range": [
          -0.5,
          2.5
         ],
         "title": {
          "text": "eso_project_group"
         },
         "type": "category"
        }
       }
      },
      "image/png": "[encoded data removed]",
      "text/html": [
       "<div>                            <div id=\"5b93c023-760d-4d2b-bb17-9f60a9f32bfa\" class=\"plotly-graph-div\" style=\"height:525px; width:100%;\"></div>            <script type=\"text/javascript\">                require([\"plotly\"], function(Plotly) {                    window.PLOTLYENV=window.PLOTLYENV || {};                                    if (document.getElementById(\"5b93c023-760d-4d2b-bb17-9f60a9f32bfa\")) {                    Plotly.newPlot(                        \"5b93c023-760d-4d2b-bb17-9f60a9f32bfa\",                        [{\"alignmentgroup\":\"True\",\"base\":[\"2023-02-20T00:00:00\",null,null,null,null,null,\"2023-02-20T00:00:00\",\"2021-12-01T00:00:00\",null,\"2022-06-27T00:00:00\",null,null,\"2022-12-09T00:00:00\",\"2022-12-09T00:00:00\",null,null,null,null,null,\"2023-01-20T00:00:00\",\"2023-01-20T00:00:00\",null,null,null,null,null,\"2022-12-09T00:00:00\",\"2022-12-09T00:00:00\"],\"hovertemplate\":\"start_date=%{base}<br>due_date=%{x}<br>eso_project_group=%{y}<extra></extra>\",\"legendgroup\":\"\",\"marker\":{\"color\":\"#636efa\",\"pattern\":{\"shape\":\"\"}},\"name\":\"\",\"offsetgroup\":\"\",\"orientation\":\"h\",\"showlegend\":false,\"textposition\":\"auto\",\"x\":[8640000000.0,null,null,null,null,null,8640000000.0,45273600000.0,null,23932800000.0,null,null,6480000000.0,6480000000.0,null,null,null,null,null,2851200000.0,2851200000.0,null,null,null,null,null,6480000000.0,6480000000.0],\"xaxis\":\"x\",\"y\":[\"Daggett 3 CE\",\"Daggett 3 Group\",\"Daggett 3 Group\",\"Daggett 3 Group\",\"Daggett 3 Group\",\"Daggett 3 Group\",\"Daggett 3 CM\",\"Daggett 3 Group\",\"Daggett 3 Group\",\"Daggett 3 Group\",\"Daggett 3 Group\",\"Daggett 3 Group\",\"Daggett 3 CM\",\"Daggett 3 CE\",\"Daggett 3 Group\",\"Daggett 3 Group\",\"Daggett 3 Group\",\"Daggett 3 Group\",\"Daggett 3 Group\",\"Daggett 3 CM\",\"Daggett 3 CE\",\"Daggett 3 Group\",\"Daggett 3 Group\",\"Daggett 3 Group\",\"Daggett 3 Group\",\"Daggett 3 Group\",\"Daggett 3 CM\",\"Daggett 3 CE\"],\"yaxis\":\"y\",\"type\":\"bar\"}],                        {\"template\":{\"data\":{\"histogram2dcontour\":[{\"type\":\"histogram2dcontour\",\"colorbar\":{\"outlinewidth\":0,\"ticks\":\"\"},\"colorscale\":[[0.0,\"#0d0887\"],[0.1111111111111111,\"#46039f\"],[0.2222222222222222,\"#7201a8\"],[0.3333333333333333,\"#9c179e\"],[0.4444444444444444,\"#bd3786\"],[0.5555555555555556,\"#d8576b\"],[0.6666666666666666,\"#ed7953\"],[0.7777777777777778,\"#fb9f3a\"],[0.8888888888888888,\"#fdca26\"],[1.0,\"#f0f921\"]]}],\"choropleth\":[{\"type\":\"choropleth\",\"colorbar\":{\"outlinewidth\":0,\"ticks\":\"\"}}],\"histogram2d\":[{\"type\":\"histogram2d\",\"colorbar\":{\"outlinewidth\":0,\"ticks\":\"\"},\"colorscale\":[[0.0,\"#0d0887\"],[0.1111111111111111,\"#46039f\"],[0.2222222222222222,\"#7201a8\"],[0.3333333333333333,\"#9c179e\"],[0.4444444444444444,\"#bd3786\"],[0.5555555555555556,\"#d8576b\"],[0.6666666666666666,\"#ed7953\"],[0.7777777777777778,\"#fb9f3a\"],[0.8888888888888888,\"#fdca26\"],[1.0,\"#f0f921\"]]}],\"heatmap\":[{\"type\":\"heatmap\",\"colorbar\":{\"outlinewidth\":0,\"ticks\":\"\"},\"colorscale\":[[0.0,\"#0d0887\"],[0.1111111111111111,\"#46039f\"],[0.2222222222222222,\"#7201a8\"],[0.3333333333333333,\"#9c179e\"],[0.4444444444444444,\"#bd3786\"],[0.5555555555555556,\"#d8576b\"],[0.6666666666666666,\"#ed7953\"],[0.7777777777777778,\"#fb9f3a\"],[0.8888888888888888,\"#fdca26\"],[1.0,\"#f0f921\"]]}],\"heatmapgl\":[{\"type\":\"heatmapgl\",\"colorbar\":{\"outlinewidth\":0,\"ticks\":\"\"},\"colorscale\":[[0.0,\"#0d0887\"],[0.1111111111111111,\"#46039f\"],[0.2222222222222222,\"#7201a8\"],[0.3333333333333333,\"#9c179e\"],[0.4444444444444444,\"#bd3786\"],[0.5555555555555556,\"#d8576b\"],[0.6666666666666666,\"#ed7953\"],[0.7777777777777778,\"#fb9f3a\"],[0.8888888888888888,\"#fdca26\"],[1.0,\"#f0f921\"]]}],\"contourcarpet\":[{\"type\":\"contourcarpet\",\"colorbar\":{\"outlinewidth\":0,\"ticks\":\"\"}}],\"contour\":[{\"type\":\"contour\",\"colorbar\":{\"outlinewidth\":0,\"ticks\":\"\"},\"colorscale\":[[0.0,\"#0d0887\"],[0.1111111111111111,\"#46039f\"],[0.2222222222222222,\"#7201a8\"],[0.3333333333333333,\"#9c179e\"],[0.4444444444444444,\"#bd3786\"],[0.5555555555555556,\"#d8576b\"],[0.6666666666666666,\"#ed7953\"],[0.7777777777777778,\"#fb9f3a\"],[0.8888888888888888,\"#fdca26\"],[1.0,\"#f0f921\"]]}],\"surface\":[{\"type\":\"surface\",\"colorbar\":{\"outlinewidth\":0,\"ticks\":\"\"},\"colorscale\":[[0.0,\"#0d0887\"],[0.1111111111111111,\"#46039f\"],[0.2222222222222222,\"#7201a8\"],[0.3333333333333333,\"#9c179e\"],[0.4444444444444444,\"#bd3786\"],[0.5555555555555556,\"#d8576b\"],[0.6666666666666666,\"#ed7953\"],[0.7777777777777778,\"#fb9f3a\"],[0.8888888888888888,\"#fdca26\"],[1.0,\"#f0f921\"]]}],\"mesh3d\":[{\"type\":\"mesh3d\",\"colorbar\":{\"outlinewidth\":0,\"ticks\":\"\"}}],\"scatter\":[{\"fillpattern\":{\"fillmode\":\"overlay\",\"size\":10,\"solidity\":0.2},\"type\":\"scatter\"}],\"parcoords\":[{\"type\":\"parcoords\",\"line\":{\"colorbar\":{\"outlinewidth\":0,\"ticks\":\"\"}}}],\"scatterpolargl\":[{\"type\":\"scatterpolargl\",\"marker\":{\"colorbar\":{\"outlinewidth\":0,\"ticks\":\"\"}}}],\"bar\":[{\"error_x\":{\"color\":\"#2a3f5f\"},\"error_y\":{\"color\":\"#2a3f5f\"},\"marker\":{\"line\":{\"color\":\"#E5ECF6\",\"width\":0.5},\"pattern\":{\"fillmode\":\"overlay\",\"size\":10,\"solidity\":0.2}},\"type\":\"bar\"}],\"scattergeo\":[{\"type\":\"scattergeo\",\"marker\":{\"colorbar\":{\"outlinewidth\":0,\"ticks\":\"\"}}}],\"scatterpolar\":[{\"type\":\"scatterpolar\",\"marker\":{\"colorbar\":{\"outlinewidth\":0,\"ticks\":\"\"}}}],\"histogram\":[{\"marker\":{\"pattern\":{\"fillmode\":\"overlay\",\"size\":10,\"solidity\":0.2}},\"type\":\"histogram\"}],\"scattergl\":[{\"type\":\"scattergl\",\"marker\":{\"colorbar\":{\"outlinewidth\":0,\"ticks\":\"\"}}}],\"scatter3d\":[{\"type\":\"scatter3d\",\"line\":{\"colorbar\":{\"outlinewidth\":0,\"ticks\":\"\"}},\"marker\":{\"colorbar\":{\"outlinewidth\":0,\"ticks\":\"\"}}}],\"scattermapbox\":[{\"type\":\"scattermapbox\",\"marker\":{\"colorbar\":{\"outlinewidth\":0,\"ticks\":\"\"}}}],\"scatterternary\":[{\"type\":\"scatterternary\",\"marker\":{\"colorbar\":{\"outlinewidth\":0,\"ticks\":\"\"}}}],\"scattercarpet\":[{\"type\":\"scattercarpet\",\"marker\":{\"colorbar\":{\"outlinewidth\":0,\"ticks\":\"\"}}}],\"carpet\":[{\"aaxis\":{\"endlinecolor\":\"#2a3f5f\",\"gridcolor\":\"white\",\"linecolor\":\"white\",\"minorgridcolor\":\"white\",\"startlinecolor\":\"#2a3f5f\"},\"baxis\":{\"endlinecolor\":\"#2a3f5f\",\"gridcolor\":\"white\",\"linecolor\":\"white\",\"minorgridcolor\":\"white\",\"startlinecolor\":\"#2a3f5f\"},\"type\":\"carpet\"}],\"table\":[{\"cells\":{\"fill\":{\"color\":\"#EBF0F8\"},\"line\":{\"color\":\"white\"}},\"header\":{\"fill\":{\"color\":\"#C8D4E3\"},\"line\":{\"color\":\"white\"}},\"type\":\"table\"}],\"barpolar\":[{\"marker\":{\"line\":{\"color\":\"#E5ECF6\",\"width\":0.5},\"pattern\":{\"fillmode\":\"overlay\",\"size\":10,\"solidity\":0.2}},\"type\":\"barpolar\"}],\"pie\":[{\"automargin\":true,\"type\":\"pie\"}]},\"layout\":{\"autotypenumbers\":\"strict\",\"colorway\":[\"#636efa\",\"#EF553B\",\"#00cc96\",\"#ab63fa\",\"#FFA15A\",\"#19d3f3\",\"#FF6692\",\"#B6E880\",\"#FF97FF\",\"#FECB52\"],\"font\":{\"color\":\"#2a3f5f\"},\"hovermode\":\"closest\",\"hoverlabel\":{\"align\":\"left\"},\"paper_bgcolor\":\"white\",\"plot_bgcolor\":\"#E5ECF6\",\"polar\":{\"bgcolor\":\"#E5ECF6\",\"angularaxis\":{\"gridcolor\":\"white\",\"linecolor\":\"white\",\"ticks\":\"\"},\"radialaxis\":{\"gridcolor\":\"white\",\"linecolor\":\"white\",\"ticks\":\"\"}},\"ternary\":{\"bgcolor\":\"#E5ECF6\",\"aaxis\":{\"gridcolor\":\"white\",\"linecolor\":\"white\",\"ticks\":\"\"},\"baxis\":{\"gridcolor\":\"white\",\"linecolor\":\"white\",\"ticks\":\"\"},\"caxis\":{\"gridcolor\":\"white\",\"linecolor\":\"white\",\"ticks\":\"\"}},\"coloraxis\":{\"colorbar\":{\"outlinewidth\":0,\"ticks\":\"\"}},\"colorscale\":{\"sequential\":[[0.0,\"#0d0887\"],[0.1111111111111111,\"#46039f\"],[0.2222222222222222,\"#7201a8\"],[0.3333333333333333,\"#9c179e\"],[0.4444444444444444,\"#bd3786\"],[0.5555555555555556,\"#d8576b\"],[0.6666666666666666,\"#ed7953\"],[0.7777777777777778,\"#fb9f3a\"],[0.8888888888888888,\"#fdca26\"],[1.0,\"#f0f921\"]],\"sequentialminus\":[[0.0,\"#0d0887\"],[0.1111111111111111,\"#46039f\"],[0.2222222222222222,\"#7201a8\"],[0.3333333333333333,\"#9c179e\"],[0.4444444444444444,\"#bd3786\"],[0.5555555555555556,\"#d8576b\"],[0.6666666666666666,\"#ed7953\"],[0.7777777777777778,\"#fb9f3a\"],[0.8888888888888888,\"#fdca26\"],[1.0,\"#f0f921\"]],\"diverging\":[[0,\"#8e0152\"],[0.1,\"#c51b7d\"],[0.2,\"#de77ae\"],[0.3,\"#f1b6da\"],[0.4,\"#fde0ef\"],[0.5,\"#f7f7f7\"],[0.6,\"#e6f5d0\"],[0.7,\"#b8e186\"],[0.8,\"#7fbc41\"],[0.9,\"#4d9221\"],[1,\"#276419\"]]},\"xaxis\":{\"gridcolor\":\"white\",\"linecolor\":\"white\",\"ticks\":\"\",\"title\":{\"standoff\":15},\"zerolinecolor\":\"white\",\"automargin\":true,\"zerolinewidth\":2},\"yaxis\":{\"gridcolor\":\"white\",\"linecolor\":\"white\",\"ticks\":\"\",\"title\":{\"standoff\":15},\"zerolinecolor\":\"white\",\"automargin\":true,\"zerolinewidth\":2},\"scene\":{\"xaxis\":{\"backgroundcolor\":\"#E5ECF6\",\"gridcolor\":\"white\",\"linecolor\":\"white\",\"showbackground\":true,\"ticks\":\"\",\"zerolinecolor\":\"white\",\"gridwidth\":2},\"yaxis\":{\"backgroundcolor\":\"#E5ECF6\",\"gridcolor\":\"white\",\"linecolor\":\"white\",\"showbackground\":true,\"ticks\":\"\",\"zerolinecolor\":\"white\",\"gridwidth\":2},\"zaxis\":{\"backgroundcolor\":\"#E5ECF6\",\"gridcolor\":\"white\",\"linecolor\":\"white\",\"showbackground\":true,\"ticks\":\"\",\"zerolinecolor\":\"white\",\"gridwidth\":2}},\"shapedefaults\":{\"line\":{\"color\":\"#2a3f5f\"}},\"annotationdefaults\":{\"arrowcolor\":\"#2a3f5f\",\"arrowhead\":0,\"arrowwidth\":1},\"geo\":{\"bgcolor\":\"white\",\"landcolor\":\"#E5ECF6\",\"subunitcolor\":\"white\",\"showland\":true,\"showlakes\":true,\"lakecolor\":\"white\"},\"title\":{\"x\":0.05},\"mapbox\":{\"style\":\"light\"}}},\"xaxis\":{\"anchor\":\"y\",\"domain\":[0.0,1.0],\"type\":\"date\"},\"yaxis\":{\"anchor\":\"x\",\"domain\":[0.0,1.0],\"title\":{\"text\":\"eso_project_group\"}},\"legend\":{\"tracegroupgap\":0},\"margin\":{\"t\":60},\"barmode\":\"overlay\"},                        {\"responsive\": true}                    ).then(function(){\n",
       "                            \n",
       "var gd = document.getElementById('5b93c023-760d-4d2b-bb17-9f60a9f32bfa');\n",
       "var x = new MutationObserver(function (mutations, observer) {{\n",
       "        var display = window.getComputedStyle(gd).display;\n",
       "        if (!display || display === 'none') {{\n",
       "            console.log([gd, 'removed!']);\n",
       "            Plotly.purge(gd);\n",
       "            observer.disconnect();\n",
       "        }}\n",
       "}});\n",
       "\n",
       "// Listen for the removal of the full notebook cells\n",
       "var notebookContainer = gd.closest('#notebook-container');\n",
       "if (notebookContainer) {{\n",
       "    x.observe(notebookContainer, {childList: true});\n",
       "}}\n",
       "\n",
       "// Listen for the clearing of the current output cell\n",
       "var outputEl = gd.closest('.output');\n",
       "if (outputEl) {{\n",
       "    x.observe(outputEl, {childList: true});\n",
       "}}\n",
       "\n",
       "                        })                };                });            </script>        </div>"
      ]
     },
     "metadata": {},
     "output_type": "display_data"
    }
   ],
   "source": [
    "# daggett3_group_mask = df_out['eso_project_group'] == 'Daggett 3 Group'\n",
    "# dag_ce_mask = (daggett3_group_mask) & (df_out['role']=='Commissioning Engineer')\n",
    "# dag_cm_mask = (daggett3_group_mask) & (df_out['role']=='Commissioning Manager')\n",
    "\n",
    "# df_out.loc[dag_ce_mask, 'eso_project_group'] = 'Daggett 3 CE'\n",
    "# df_out.loc[dag_cm_mask, 'eso_project_group'] = 'Daggett 3 CM'\n",
    "\n",
    "d3cx_mask = (df_out['eso_project_group'] == 'Daggett 3 CE') | (df_out['eso_project_group'] == 'Daggett 3 CM')\n",
    "df_out[d3cx_mask]\n",
    "\n",
    "all_dag3_mask = df_out['eso_project_group'].str.contains('Daggett 3')\n",
    "px.timeline(df_out[all_dag3_mask], x_start='start_date', x_end='due_date', y='eso_project_group')\n"
   ]
  },
  {
   "cell_type": "code",
   "execution_count": 30,
   "id": "31e73d2d-c0f6-4ecd-b2c4-34147a587cda",
   "metadata": {},
   "outputs": [
    {
     "data": {
      "text/html": [
       "<div>\n",
       "<style scoped>\n",
       "    .dataframe tbody tr th:only-of-type {\n",
       "        vertical-align: middle;\n",
       "    }\n",
       "\n",
       "    .dataframe tbody tr th {\n",
       "        vertical-align: top;\n",
       "    }\n",
       "\n",
       "    .dataframe thead th {\n",
       "        text-align: right;\n",
       "    }\n",
       "</style>\n",
       "<table border=\"1\" class=\"dataframe\">\n",
       "  <thead>\n",
       "    <tr style=\"text-align: right;\">\n",
       "      <th></th>\n",
       "      <th>assignee_name</th>\n",
       "      <th>role</th>\n",
       "      <th>region</th>\n",
       "      <th>eso_project_name</th>\n",
       "      <th>start_date</th>\n",
       "      <th>due_date</th>\n",
       "      <th>project_type</th>\n",
       "    </tr>\n",
       "  </thead>\n",
       "  <tbody>\n",
       "    <tr>\n",
       "      <th>267</th>\n",
       "      <td>raul de jesus</td>\n",
       "      <td>Commissioning Engineer</td>\n",
       "      <td>AMER</td>\n",
       "      <td>P/21467 Daggett 3A [EEQ]</td>\n",
       "      <td>2023-02-20</td>\n",
       "      <td>2023-05-31</td>\n",
       "      <td>no_type</td>\n",
       "    </tr>\n",
       "    <tr>\n",
       "      <th>268</th>\n",
       "      <td>Glen Jarvis</td>\n",
       "      <td>System Engineer</td>\n",
       "      <td>AMER</td>\n",
       "      <td>P/21467 Daggett 3A [EEQ]</td>\n",
       "      <td>NaT</td>\n",
       "      <td>NaT</td>\n",
       "      <td>no_type</td>\n",
       "    </tr>\n",
       "    <tr>\n",
       "      <th>269</th>\n",
       "      <td>Robert Björkman</td>\n",
       "      <td>CPE Electrical</td>\n",
       "      <td>AMER</td>\n",
       "      <td>P/21467 Daggett 3A [EEQ]</td>\n",
       "      <td>NaT</td>\n",
       "      <td>NaT</td>\n",
       "      <td>no_type</td>\n",
       "    </tr>\n",
       "    <tr>\n",
       "      <th>270</th>\n",
       "      <td>Rigel G</td>\n",
       "      <td>Solution Engineer</td>\n",
       "      <td>AMER</td>\n",
       "      <td>P/21467 Daggett 3A [EEQ]</td>\n",
       "      <td>NaT</td>\n",
       "      <td>NaT</td>\n",
       "      <td>no_type</td>\n",
       "    </tr>\n",
       "    <tr>\n",
       "      <th>271</th>\n",
       "      <td>unassigned</td>\n",
       "      <td>SW Engineer</td>\n",
       "      <td>AMER</td>\n",
       "      <td>P/21467 Daggett 3A [EEQ]</td>\n",
       "      <td>NaT</td>\n",
       "      <td>NaT</td>\n",
       "      <td>no_type</td>\n",
       "    </tr>\n",
       "    <tr>\n",
       "      <th>272</th>\n",
       "      <td>Edward Simon</td>\n",
       "      <td>Project Manager</td>\n",
       "      <td>AMER</td>\n",
       "      <td>P/21467 Daggett 3A [EEQ]</td>\n",
       "      <td>NaT</td>\n",
       "      <td>NaT</td>\n",
       "      <td>no_type</td>\n",
       "    </tr>\n",
       "    <tr>\n",
       "      <th>273</th>\n",
       "      <td>raul de jesus</td>\n",
       "      <td>Commissioning Manager</td>\n",
       "      <td>AMER</td>\n",
       "      <td>P/21467 Daggett 3A [EEQ]</td>\n",
       "      <td>2023-02-20</td>\n",
       "      <td>2023-05-31</td>\n",
       "      <td>no_type</td>\n",
       "    </tr>\n",
       "    <tr>\n",
       "      <th>274</th>\n",
       "      <td>Glen Jarvis</td>\n",
       "      <td>System Engineer</td>\n",
       "      <td>AMER</td>\n",
       "      <td>P/21467 Daggett 3B [EEQ]</td>\n",
       "      <td>2021-12-01</td>\n",
       "      <td>2023-05-09</td>\n",
       "      <td>no_type</td>\n",
       "    </tr>\n",
       "    <tr>\n",
       "      <th>275</th>\n",
       "      <td>Robert Björkman</td>\n",
       "      <td>CPE Electrical</td>\n",
       "      <td>AMER</td>\n",
       "      <td>P/21467 Daggett 3B [EEQ]</td>\n",
       "      <td>NaT</td>\n",
       "      <td>NaT</td>\n",
       "      <td>no_type</td>\n",
       "    </tr>\n",
       "    <tr>\n",
       "      <th>276</th>\n",
       "      <td>Rigel G</td>\n",
       "      <td>Solution Engineer</td>\n",
       "      <td>AMER</td>\n",
       "      <td>P/21467 Daggett 3B [EEQ]</td>\n",
       "      <td>2022-06-27</td>\n",
       "      <td>2023-03-31</td>\n",
       "      <td>no_type</td>\n",
       "    </tr>\n",
       "    <tr>\n",
       "      <th>277</th>\n",
       "      <td>unassigned</td>\n",
       "      <td>SW Engineer</td>\n",
       "      <td>AMER</td>\n",
       "      <td>P/21467 Daggett 3B [EEQ]</td>\n",
       "      <td>NaT</td>\n",
       "      <td>NaT</td>\n",
       "      <td>no_type</td>\n",
       "    </tr>\n",
       "    <tr>\n",
       "      <th>278</th>\n",
       "      <td>Edward Simon</td>\n",
       "      <td>Project Manager</td>\n",
       "      <td>AMER</td>\n",
       "      <td>P/21467 Daggett 3B [EEQ]</td>\n",
       "      <td>NaT</td>\n",
       "      <td>NaT</td>\n",
       "      <td>no_type</td>\n",
       "    </tr>\n",
       "    <tr>\n",
       "      <th>279</th>\n",
       "      <td>raul de jesus</td>\n",
       "      <td>Commissioning Manager</td>\n",
       "      <td>AMER</td>\n",
       "      <td>P/21467 Daggett 3B [EEQ]</td>\n",
       "      <td>2022-12-09</td>\n",
       "      <td>2023-02-22</td>\n",
       "      <td>no_type</td>\n",
       "    </tr>\n",
       "    <tr>\n",
       "      <th>280</th>\n",
       "      <td>raul de jesus</td>\n",
       "      <td>Commissioning Engineer</td>\n",
       "      <td>AMER</td>\n",
       "      <td>P/21467 Daggett 3B [EEQ]</td>\n",
       "      <td>2022-12-09</td>\n",
       "      <td>2023-02-22</td>\n",
       "      <td>no_type</td>\n",
       "    </tr>\n",
       "    <tr>\n",
       "      <th>281</th>\n",
       "      <td>Glen Jarvis</td>\n",
       "      <td>System Engineer</td>\n",
       "      <td>AMER</td>\n",
       "      <td>P/21467 Daggett 3CD [EEQ]</td>\n",
       "      <td>NaT</td>\n",
       "      <td>NaT</td>\n",
       "      <td>no_type</td>\n",
       "    </tr>\n",
       "    <tr>\n",
       "      <th>282</th>\n",
       "      <td>Robert Björkman</td>\n",
       "      <td>CPE Electrical</td>\n",
       "      <td>AMER</td>\n",
       "      <td>P/21467 Daggett 3CD [EEQ]</td>\n",
       "      <td>NaT</td>\n",
       "      <td>NaT</td>\n",
       "      <td>no_type</td>\n",
       "    </tr>\n",
       "    <tr>\n",
       "      <th>283</th>\n",
       "      <td>Brian Pizzi</td>\n",
       "      <td>Solution Engineer</td>\n",
       "      <td>AMER</td>\n",
       "      <td>P/21467 Daggett 3CD [EEQ]</td>\n",
       "      <td>NaT</td>\n",
       "      <td>NaT</td>\n",
       "      <td>no_type</td>\n",
       "    </tr>\n",
       "    <tr>\n",
       "      <th>284</th>\n",
       "      <td>unassigned</td>\n",
       "      <td>SW Engineer</td>\n",
       "      <td>AMER</td>\n",
       "      <td>P/21467 Daggett 3CD [EEQ]</td>\n",
       "      <td>NaT</td>\n",
       "      <td>NaT</td>\n",
       "      <td>no_type</td>\n",
       "    </tr>\n",
       "    <tr>\n",
       "      <th>285</th>\n",
       "      <td>Edward Simon</td>\n",
       "      <td>Project Manager</td>\n",
       "      <td>AMER</td>\n",
       "      <td>P/21467 Daggett 3CD [EEQ]</td>\n",
       "      <td>NaT</td>\n",
       "      <td>NaT</td>\n",
       "      <td>no_type</td>\n",
       "    </tr>\n",
       "    <tr>\n",
       "      <th>286</th>\n",
       "      <td>raul de jesus</td>\n",
       "      <td>Commissioning Manager</td>\n",
       "      <td>AMER</td>\n",
       "      <td>P/21467 Daggett 3CD [EEQ]</td>\n",
       "      <td>2023-01-20</td>\n",
       "      <td>2023-02-22</td>\n",
       "      <td>no_type</td>\n",
       "    </tr>\n",
       "    <tr>\n",
       "      <th>287</th>\n",
       "      <td>raul de jesus</td>\n",
       "      <td>Commissioning Engineer</td>\n",
       "      <td>AMER</td>\n",
       "      <td>P/21467 Daggett 3CD [EEQ]</td>\n",
       "      <td>2023-01-20</td>\n",
       "      <td>2023-02-22</td>\n",
       "      <td>no_type</td>\n",
       "    </tr>\n",
       "    <tr>\n",
       "      <th>288</th>\n",
       "      <td>Glen Jarvis</td>\n",
       "      <td>System Engineer</td>\n",
       "      <td>AMER</td>\n",
       "      <td>P/21467 Daggett 3E [EEQ]</td>\n",
       "      <td>NaT</td>\n",
       "      <td>NaT</td>\n",
       "      <td>no_type</td>\n",
       "    </tr>\n",
       "    <tr>\n",
       "      <th>289</th>\n",
       "      <td>Robert Björkman</td>\n",
       "      <td>CPE Electrical</td>\n",
       "      <td>AMER</td>\n",
       "      <td>P/21467 Daggett 3E [EEQ]</td>\n",
       "      <td>NaT</td>\n",
       "      <td>NaT</td>\n",
       "      <td>no_type</td>\n",
       "    </tr>\n",
       "    <tr>\n",
       "      <th>290</th>\n",
       "      <td>Brian Pizzi</td>\n",
       "      <td>Solution Engineer</td>\n",
       "      <td>AMER</td>\n",
       "      <td>P/21467 Daggett 3E [EEQ]</td>\n",
       "      <td>NaT</td>\n",
       "      <td>NaT</td>\n",
       "      <td>no_type</td>\n",
       "    </tr>\n",
       "    <tr>\n",
       "      <th>291</th>\n",
       "      <td>unassigned</td>\n",
       "      <td>SW Engineer</td>\n",
       "      <td>AMER</td>\n",
       "      <td>P/21467 Daggett 3E [EEQ]</td>\n",
       "      <td>NaT</td>\n",
       "      <td>NaT</td>\n",
       "      <td>no_type</td>\n",
       "    </tr>\n",
       "    <tr>\n",
       "      <th>292</th>\n",
       "      <td>Edward Simon</td>\n",
       "      <td>Project Manager</td>\n",
       "      <td>AMER</td>\n",
       "      <td>P/21467 Daggett 3E [EEQ]</td>\n",
       "      <td>NaT</td>\n",
       "      <td>NaT</td>\n",
       "      <td>no_type</td>\n",
       "    </tr>\n",
       "    <tr>\n",
       "      <th>293</th>\n",
       "      <td>raul de jesus</td>\n",
       "      <td>Commissioning Manager</td>\n",
       "      <td>AMER</td>\n",
       "      <td>P/21467 Daggett 3E [EEQ]</td>\n",
       "      <td>2022-12-09</td>\n",
       "      <td>2023-02-22</td>\n",
       "      <td>no_type</td>\n",
       "    </tr>\n",
       "    <tr>\n",
       "      <th>294</th>\n",
       "      <td>raul de jesus</td>\n",
       "      <td>Commissioning Engineer</td>\n",
       "      <td>AMER</td>\n",
       "      <td>P/21467 Daggett 3E [EEQ]</td>\n",
       "      <td>2022-12-09</td>\n",
       "      <td>2023-02-22</td>\n",
       "      <td>no_type</td>\n",
       "    </tr>\n",
       "  </tbody>\n",
       "</table>\n",
       "</div>"
      ],
      "text/plain": [
       "       assignee_name                    role region  \\\n",
       "267    raul de jesus  Commissioning Engineer   AMER   \n",
       "268      Glen Jarvis         System Engineer   AMER   \n",
       "269  Robert Björkman          CPE Electrical   AMER   \n",
       "270          Rigel G       Solution Engineer   AMER   \n",
       "271       unassigned             SW Engineer   AMER   \n",
       "272     Edward Simon         Project Manager   AMER   \n",
       "273    raul de jesus   Commissioning Manager   AMER   \n",
       "274      Glen Jarvis         System Engineer   AMER   \n",
       "275  Robert Björkman          CPE Electrical   AMER   \n",
       "276          Rigel G       Solution Engineer   AMER   \n",
       "277       unassigned             SW Engineer   AMER   \n",
       "278     Edward Simon         Project Manager   AMER   \n",
       "279    raul de jesus   Commissioning Manager   AMER   \n",
       "280    raul de jesus  Commissioning Engineer   AMER   \n",
       "281      Glen Jarvis         System Engineer   AMER   \n",
       "282  Robert Björkman          CPE Electrical   AMER   \n",
       "283      Brian Pizzi       Solution Engineer   AMER   \n",
       "284       unassigned             SW Engineer   AMER   \n",
       "285     Edward Simon         Project Manager   AMER   \n",
       "286    raul de jesus   Commissioning Manager   AMER   \n",
       "287    raul de jesus  Commissioning Engineer   AMER   \n",
       "288      Glen Jarvis         System Engineer   AMER   \n",
       "289  Robert Björkman          CPE Electrical   AMER   \n",
       "290      Brian Pizzi       Solution Engineer   AMER   \n",
       "291       unassigned             SW Engineer   AMER   \n",
       "292     Edward Simon         Project Manager   AMER   \n",
       "293    raul de jesus   Commissioning Manager   AMER   \n",
       "294    raul de jesus  Commissioning Engineer   AMER   \n",
       "\n",
       "              eso_project_name start_date   due_date project_type  \n",
       "267   P/21467 Daggett 3A [EEQ] 2023-02-20 2023-05-31      no_type  \n",
       "268   P/21467 Daggett 3A [EEQ]        NaT        NaT      no_type  \n",
       "269   P/21467 Daggett 3A [EEQ]        NaT        NaT      no_type  \n",
       "270   P/21467 Daggett 3A [EEQ]        NaT        NaT      no_type  \n",
       "271   P/21467 Daggett 3A [EEQ]        NaT        NaT      no_type  \n",
       "272   P/21467 Daggett 3A [EEQ]        NaT        NaT      no_type  \n",
       "273   P/21467 Daggett 3A [EEQ] 2023-02-20 2023-05-31      no_type  \n",
       "274   P/21467 Daggett 3B [EEQ] 2021-12-01 2023-05-09      no_type  \n",
       "275   P/21467 Daggett 3B [EEQ]        NaT        NaT      no_type  \n",
       "276   P/21467 Daggett 3B [EEQ] 2022-06-27 2023-03-31      no_type  \n",
       "277   P/21467 Daggett 3B [EEQ]        NaT        NaT      no_type  \n",
       "278   P/21467 Daggett 3B [EEQ]        NaT        NaT      no_type  \n",
       "279   P/21467 Daggett 3B [EEQ] 2022-12-09 2023-02-22      no_type  \n",
       "280   P/21467 Daggett 3B [EEQ] 2022-12-09 2023-02-22      no_type  \n",
       "281  P/21467 Daggett 3CD [EEQ]        NaT        NaT      no_type  \n",
       "282  P/21467 Daggett 3CD [EEQ]        NaT        NaT      no_type  \n",
       "283  P/21467 Daggett 3CD [EEQ]        NaT        NaT      no_type  \n",
       "284  P/21467 Daggett 3CD [EEQ]        NaT        NaT      no_type  \n",
       "285  P/21467 Daggett 3CD [EEQ]        NaT        NaT      no_type  \n",
       "286  P/21467 Daggett 3CD [EEQ] 2023-01-20 2023-02-22      no_type  \n",
       "287  P/21467 Daggett 3CD [EEQ] 2023-01-20 2023-02-22      no_type  \n",
       "288   P/21467 Daggett 3E [EEQ]        NaT        NaT      no_type  \n",
       "289   P/21467 Daggett 3E [EEQ]        NaT        NaT      no_type  \n",
       "290   P/21467 Daggett 3E [EEQ]        NaT        NaT      no_type  \n",
       "291   P/21467 Daggett 3E [EEQ]        NaT        NaT      no_type  \n",
       "292   P/21467 Daggett 3E [EEQ]        NaT        NaT      no_type  \n",
       "293   P/21467 Daggett 3E [EEQ] 2022-12-09 2023-02-22      no_type  \n",
       "294   P/21467 Daggett 3E [EEQ] 2022-12-09 2023-02-22      no_type  "
      ]
     },
     "execution_count": 30,
     "metadata": {},
     "output_type": "execute_result"
    }
   ],
   "source": [
    "df= df_tasks.copy()\n",
    "daggett3_mask = df['eso_project_name'].str.contains('Daggett 3')\n",
    "\n",
    "df[daggett3_mask] "
   ]
  },
  {
   "cell_type": "code",
   "execution_count": 31,
   "id": "852bff92-dd01-4d3c-bb2a-c8f111500bf9",
   "metadata": {},
   "outputs": [
    {
     "data": {
      "text/html": [
       "<div>\n",
       "<style scoped>\n",
       "    .dataframe tbody tr th:only-of-type {\n",
       "        vertical-align: middle;\n",
       "    }\n",
       "\n",
       "    .dataframe tbody tr th {\n",
       "        vertical-align: top;\n",
       "    }\n",
       "\n",
       "    .dataframe thead th {\n",
       "        text-align: right;\n",
       "    }\n",
       "</style>\n",
       "<table border=\"1\" class=\"dataframe\">\n",
       "  <thead>\n",
       "    <tr style=\"text-align: right;\">\n",
       "      <th></th>\n",
       "      <th>assignee_name</th>\n",
       "      <th>role</th>\n",
       "      <th>region</th>\n",
       "      <th>eso_project_name</th>\n",
       "      <th>start_date</th>\n",
       "      <th>due_date</th>\n",
       "      <th>project_type</th>\n",
       "    </tr>\n",
       "  </thead>\n",
       "  <tbody>\n",
       "    <tr>\n",
       "      <th>289</th>\n",
       "      <td>Robert Björkman</td>\n",
       "      <td>CPE Electrical</td>\n",
       "      <td>AMER</td>\n",
       "      <td>P/21467 Daggett 3E [EEQ]</td>\n",
       "      <td>NaT</td>\n",
       "      <td>NaT</td>\n",
       "      <td>no_type</td>\n",
       "    </tr>\n",
       "    <tr>\n",
       "      <th>269</th>\n",
       "      <td>Robert Björkman</td>\n",
       "      <td>CPE Electrical</td>\n",
       "      <td>AMER</td>\n",
       "      <td>P/21467 Daggett 3A [EEQ]</td>\n",
       "      <td>NaT</td>\n",
       "      <td>NaT</td>\n",
       "      <td>no_type</td>\n",
       "    </tr>\n",
       "    <tr>\n",
       "      <th>282</th>\n",
       "      <td>Robert Björkman</td>\n",
       "      <td>CPE Electrical</td>\n",
       "      <td>AMER</td>\n",
       "      <td>P/21467 Daggett 3CD [EEQ]</td>\n",
       "      <td>NaT</td>\n",
       "      <td>NaT</td>\n",
       "      <td>no_type</td>\n",
       "    </tr>\n",
       "    <tr>\n",
       "      <th>275</th>\n",
       "      <td>Robert Björkman</td>\n",
       "      <td>CPE Electrical</td>\n",
       "      <td>AMER</td>\n",
       "      <td>P/21467 Daggett 3B [EEQ]</td>\n",
       "      <td>NaT</td>\n",
       "      <td>NaT</td>\n",
       "      <td>no_type</td>\n",
       "    </tr>\n",
       "    <tr>\n",
       "      <th>267</th>\n",
       "      <td>raul de jesus</td>\n",
       "      <td>Commissioning Engineer</td>\n",
       "      <td>AMER</td>\n",
       "      <td>P/21467 Daggett 3A [EEQ]</td>\n",
       "      <td>2023-02-20</td>\n",
       "      <td>2023-05-31</td>\n",
       "      <td>no_type</td>\n",
       "    </tr>\n",
       "    <tr>\n",
       "      <th>287</th>\n",
       "      <td>raul de jesus</td>\n",
       "      <td>Commissioning Engineer</td>\n",
       "      <td>AMER</td>\n",
       "      <td>P/21467 Daggett 3CD [EEQ]</td>\n",
       "      <td>2023-01-20</td>\n",
       "      <td>2023-02-22</td>\n",
       "      <td>no_type</td>\n",
       "    </tr>\n",
       "    <tr>\n",
       "      <th>280</th>\n",
       "      <td>raul de jesus</td>\n",
       "      <td>Commissioning Engineer</td>\n",
       "      <td>AMER</td>\n",
       "      <td>P/21467 Daggett 3B [EEQ]</td>\n",
       "      <td>2022-12-09</td>\n",
       "      <td>2023-02-22</td>\n",
       "      <td>no_type</td>\n",
       "    </tr>\n",
       "    <tr>\n",
       "      <th>294</th>\n",
       "      <td>raul de jesus</td>\n",
       "      <td>Commissioning Engineer</td>\n",
       "      <td>AMER</td>\n",
       "      <td>P/21467 Daggett 3E [EEQ]</td>\n",
       "      <td>2022-12-09</td>\n",
       "      <td>2023-02-22</td>\n",
       "      <td>no_type</td>\n",
       "    </tr>\n",
       "    <tr>\n",
       "      <th>279</th>\n",
       "      <td>raul de jesus</td>\n",
       "      <td>Commissioning Manager</td>\n",
       "      <td>AMER</td>\n",
       "      <td>P/21467 Daggett 3B [EEQ]</td>\n",
       "      <td>2022-12-09</td>\n",
       "      <td>2023-02-22</td>\n",
       "      <td>no_type</td>\n",
       "    </tr>\n",
       "    <tr>\n",
       "      <th>293</th>\n",
       "      <td>raul de jesus</td>\n",
       "      <td>Commissioning Manager</td>\n",
       "      <td>AMER</td>\n",
       "      <td>P/21467 Daggett 3E [EEQ]</td>\n",
       "      <td>2022-12-09</td>\n",
       "      <td>2023-02-22</td>\n",
       "      <td>no_type</td>\n",
       "    </tr>\n",
       "    <tr>\n",
       "      <th>286</th>\n",
       "      <td>raul de jesus</td>\n",
       "      <td>Commissioning Manager</td>\n",
       "      <td>AMER</td>\n",
       "      <td>P/21467 Daggett 3CD [EEQ]</td>\n",
       "      <td>2023-01-20</td>\n",
       "      <td>2023-02-22</td>\n",
       "      <td>no_type</td>\n",
       "    </tr>\n",
       "    <tr>\n",
       "      <th>273</th>\n",
       "      <td>raul de jesus</td>\n",
       "      <td>Commissioning Manager</td>\n",
       "      <td>AMER</td>\n",
       "      <td>P/21467 Daggett 3A [EEQ]</td>\n",
       "      <td>2023-02-20</td>\n",
       "      <td>2023-05-31</td>\n",
       "      <td>no_type</td>\n",
       "    </tr>\n",
       "    <tr>\n",
       "      <th>272</th>\n",
       "      <td>Edward Simon</td>\n",
       "      <td>Project Manager</td>\n",
       "      <td>AMER</td>\n",
       "      <td>P/21467 Daggett 3A [EEQ]</td>\n",
       "      <td>NaT</td>\n",
       "      <td>NaT</td>\n",
       "      <td>no_type</td>\n",
       "    </tr>\n",
       "    <tr>\n",
       "      <th>292</th>\n",
       "      <td>Edward Simon</td>\n",
       "      <td>Project Manager</td>\n",
       "      <td>AMER</td>\n",
       "      <td>P/21467 Daggett 3E [EEQ]</td>\n",
       "      <td>NaT</td>\n",
       "      <td>NaT</td>\n",
       "      <td>no_type</td>\n",
       "    </tr>\n",
       "    <tr>\n",
       "      <th>278</th>\n",
       "      <td>Edward Simon</td>\n",
       "      <td>Project Manager</td>\n",
       "      <td>AMER</td>\n",
       "      <td>P/21467 Daggett 3B [EEQ]</td>\n",
       "      <td>NaT</td>\n",
       "      <td>NaT</td>\n",
       "      <td>no_type</td>\n",
       "    </tr>\n",
       "    <tr>\n",
       "      <th>285</th>\n",
       "      <td>Edward Simon</td>\n",
       "      <td>Project Manager</td>\n",
       "      <td>AMER</td>\n",
       "      <td>P/21467 Daggett 3CD [EEQ]</td>\n",
       "      <td>NaT</td>\n",
       "      <td>NaT</td>\n",
       "      <td>no_type</td>\n",
       "    </tr>\n",
       "    <tr>\n",
       "      <th>291</th>\n",
       "      <td>unassigned</td>\n",
       "      <td>SW Engineer</td>\n",
       "      <td>AMER</td>\n",
       "      <td>P/21467 Daggett 3E [EEQ]</td>\n",
       "      <td>NaT</td>\n",
       "      <td>NaT</td>\n",
       "      <td>no_type</td>\n",
       "    </tr>\n",
       "    <tr>\n",
       "      <th>284</th>\n",
       "      <td>unassigned</td>\n",
       "      <td>SW Engineer</td>\n",
       "      <td>AMER</td>\n",
       "      <td>P/21467 Daggett 3CD [EEQ]</td>\n",
       "      <td>NaT</td>\n",
       "      <td>NaT</td>\n",
       "      <td>no_type</td>\n",
       "    </tr>\n",
       "    <tr>\n",
       "      <th>271</th>\n",
       "      <td>unassigned</td>\n",
       "      <td>SW Engineer</td>\n",
       "      <td>AMER</td>\n",
       "      <td>P/21467 Daggett 3A [EEQ]</td>\n",
       "      <td>NaT</td>\n",
       "      <td>NaT</td>\n",
       "      <td>no_type</td>\n",
       "    </tr>\n",
       "    <tr>\n",
       "      <th>277</th>\n",
       "      <td>unassigned</td>\n",
       "      <td>SW Engineer</td>\n",
       "      <td>AMER</td>\n",
       "      <td>P/21467 Daggett 3B [EEQ]</td>\n",
       "      <td>NaT</td>\n",
       "      <td>NaT</td>\n",
       "      <td>no_type</td>\n",
       "    </tr>\n",
       "    <tr>\n",
       "      <th>270</th>\n",
       "      <td>Rigel G</td>\n",
       "      <td>Solution Engineer</td>\n",
       "      <td>AMER</td>\n",
       "      <td>P/21467 Daggett 3A [EEQ]</td>\n",
       "      <td>NaT</td>\n",
       "      <td>NaT</td>\n",
       "      <td>no_type</td>\n",
       "    </tr>\n",
       "    <tr>\n",
       "      <th>290</th>\n",
       "      <td>Brian Pizzi</td>\n",
       "      <td>Solution Engineer</td>\n",
       "      <td>AMER</td>\n",
       "      <td>P/21467 Daggett 3E [EEQ]</td>\n",
       "      <td>NaT</td>\n",
       "      <td>NaT</td>\n",
       "      <td>no_type</td>\n",
       "    </tr>\n",
       "    <tr>\n",
       "      <th>276</th>\n",
       "      <td>Rigel G</td>\n",
       "      <td>Solution Engineer</td>\n",
       "      <td>AMER</td>\n",
       "      <td>P/21467 Daggett 3B [EEQ]</td>\n",
       "      <td>2022-06-27</td>\n",
       "      <td>2023-03-31</td>\n",
       "      <td>no_type</td>\n",
       "    </tr>\n",
       "    <tr>\n",
       "      <th>283</th>\n",
       "      <td>Brian Pizzi</td>\n",
       "      <td>Solution Engineer</td>\n",
       "      <td>AMER</td>\n",
       "      <td>P/21467 Daggett 3CD [EEQ]</td>\n",
       "      <td>NaT</td>\n",
       "      <td>NaT</td>\n",
       "      <td>no_type</td>\n",
       "    </tr>\n",
       "    <tr>\n",
       "      <th>281</th>\n",
       "      <td>Glen Jarvis</td>\n",
       "      <td>System Engineer</td>\n",
       "      <td>AMER</td>\n",
       "      <td>P/21467 Daggett 3CD [EEQ]</td>\n",
       "      <td>NaT</td>\n",
       "      <td>NaT</td>\n",
       "      <td>no_type</td>\n",
       "    </tr>\n",
       "    <tr>\n",
       "      <th>288</th>\n",
       "      <td>Glen Jarvis</td>\n",
       "      <td>System Engineer</td>\n",
       "      <td>AMER</td>\n",
       "      <td>P/21467 Daggett 3E [EEQ]</td>\n",
       "      <td>NaT</td>\n",
       "      <td>NaT</td>\n",
       "      <td>no_type</td>\n",
       "    </tr>\n",
       "    <tr>\n",
       "      <th>268</th>\n",
       "      <td>Glen Jarvis</td>\n",
       "      <td>System Engineer</td>\n",
       "      <td>AMER</td>\n",
       "      <td>P/21467 Daggett 3A [EEQ]</td>\n",
       "      <td>NaT</td>\n",
       "      <td>NaT</td>\n",
       "      <td>no_type</td>\n",
       "    </tr>\n",
       "    <tr>\n",
       "      <th>274</th>\n",
       "      <td>Glen Jarvis</td>\n",
       "      <td>System Engineer</td>\n",
       "      <td>AMER</td>\n",
       "      <td>P/21467 Daggett 3B [EEQ]</td>\n",
       "      <td>2021-12-01</td>\n",
       "      <td>2023-05-09</td>\n",
       "      <td>no_type</td>\n",
       "    </tr>\n",
       "  </tbody>\n",
       "</table>\n",
       "</div>"
      ],
      "text/plain": [
       "       assignee_name                    role region  \\\n",
       "289  Robert Björkman          CPE Electrical   AMER   \n",
       "269  Robert Björkman          CPE Electrical   AMER   \n",
       "282  Robert Björkman          CPE Electrical   AMER   \n",
       "275  Robert Björkman          CPE Electrical   AMER   \n",
       "267    raul de jesus  Commissioning Engineer   AMER   \n",
       "287    raul de jesus  Commissioning Engineer   AMER   \n",
       "280    raul de jesus  Commissioning Engineer   AMER   \n",
       "294    raul de jesus  Commissioning Engineer   AMER   \n",
       "279    raul de jesus   Commissioning Manager   AMER   \n",
       "293    raul de jesus   Commissioning Manager   AMER   \n",
       "286    raul de jesus   Commissioning Manager   AMER   \n",
       "273    raul de jesus   Commissioning Manager   AMER   \n",
       "272     Edward Simon         Project Manager   AMER   \n",
       "292     Edward Simon         Project Manager   AMER   \n",
       "278     Edward Simon         Project Manager   AMER   \n",
       "285     Edward Simon         Project Manager   AMER   \n",
       "291       unassigned             SW Engineer   AMER   \n",
       "284       unassigned             SW Engineer   AMER   \n",
       "271       unassigned             SW Engineer   AMER   \n",
       "277       unassigned             SW Engineer   AMER   \n",
       "270          Rigel G       Solution Engineer   AMER   \n",
       "290      Brian Pizzi       Solution Engineer   AMER   \n",
       "276          Rigel G       Solution Engineer   AMER   \n",
       "283      Brian Pizzi       Solution Engineer   AMER   \n",
       "281      Glen Jarvis         System Engineer   AMER   \n",
       "288      Glen Jarvis         System Engineer   AMER   \n",
       "268      Glen Jarvis         System Engineer   AMER   \n",
       "274      Glen Jarvis         System Engineer   AMER   \n",
       "\n",
       "              eso_project_name start_date   due_date project_type  \n",
       "289   P/21467 Daggett 3E [EEQ]        NaT        NaT      no_type  \n",
       "269   P/21467 Daggett 3A [EEQ]        NaT        NaT      no_type  \n",
       "282  P/21467 Daggett 3CD [EEQ]        NaT        NaT      no_type  \n",
       "275   P/21467 Daggett 3B [EEQ]        NaT        NaT      no_type  \n",
       "267   P/21467 Daggett 3A [EEQ] 2023-02-20 2023-05-31      no_type  \n",
       "287  P/21467 Daggett 3CD [EEQ] 2023-01-20 2023-02-22      no_type  \n",
       "280   P/21467 Daggett 3B [EEQ] 2022-12-09 2023-02-22      no_type  \n",
       "294   P/21467 Daggett 3E [EEQ] 2022-12-09 2023-02-22      no_type  \n",
       "279   P/21467 Daggett 3B [EEQ] 2022-12-09 2023-02-22      no_type  \n",
       "293   P/21467 Daggett 3E [EEQ] 2022-12-09 2023-02-22      no_type  \n",
       "286  P/21467 Daggett 3CD [EEQ] 2023-01-20 2023-02-22      no_type  \n",
       "273   P/21467 Daggett 3A [EEQ] 2023-02-20 2023-05-31      no_type  \n",
       "272   P/21467 Daggett 3A [EEQ]        NaT        NaT      no_type  \n",
       "292   P/21467 Daggett 3E [EEQ]        NaT        NaT      no_type  \n",
       "278   P/21467 Daggett 3B [EEQ]        NaT        NaT      no_type  \n",
       "285  P/21467 Daggett 3CD [EEQ]        NaT        NaT      no_type  \n",
       "291   P/21467 Daggett 3E [EEQ]        NaT        NaT      no_type  \n",
       "284  P/21467 Daggett 3CD [EEQ]        NaT        NaT      no_type  \n",
       "271   P/21467 Daggett 3A [EEQ]        NaT        NaT      no_type  \n",
       "277   P/21467 Daggett 3B [EEQ]        NaT        NaT      no_type  \n",
       "270   P/21467 Daggett 3A [EEQ]        NaT        NaT      no_type  \n",
       "290   P/21467 Daggett 3E [EEQ]        NaT        NaT      no_type  \n",
       "276   P/21467 Daggett 3B [EEQ] 2022-06-27 2023-03-31      no_type  \n",
       "283  P/21467 Daggett 3CD [EEQ]        NaT        NaT      no_type  \n",
       "281  P/21467 Daggett 3CD [EEQ]        NaT        NaT      no_type  \n",
       "288   P/21467 Daggett 3E [EEQ]        NaT        NaT      no_type  \n",
       "268   P/21467 Daggett 3A [EEQ]        NaT        NaT      no_type  \n",
       "274   P/21467 Daggett 3B [EEQ] 2021-12-01 2023-05-09      no_type  "
      ]
     },
     "execution_count": 31,
     "metadata": {},
     "output_type": "execute_result"
    }
   ],
   "source": [
    "df_tasks[df_tasks['eso_project_name'].str.contains('Dagget')].sort_values('role')"
   ]
  },
  {
   "cell_type": "code",
   "execution_count": null,
   "id": "45a03c2b-430e-413a-8d1f-acde2a4c4765",
   "metadata": {},
   "outputs": [],
   "source": []
  }
 ],
 "metadata": {
  "kernelspec": {
   "display_name": "Python 3 (ipykernel)",
   "language": "python",
   "name": "python3"
  },
  "language_info": {
   "codemirror_mode": {
    "name": "ipython",
    "version": 3
   },
   "file_extension": ".py",
   "mimetype": "text/x-python",
   "name": "python",
   "nbconvert_exporter": "python",
   "pygments_lexer": "ipython3",
   "version": "3.10.6"
  }
 },
 "nbformat": 4,
 "nbformat_minor": 5
}
