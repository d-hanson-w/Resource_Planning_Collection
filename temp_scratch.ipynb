{
 "cells": [
  {
   "cell_type": "code",
   "execution_count": 2,
   "id": "52fe1216-ad31-4e98-8cb9-b4222d0ca189",
   "metadata": {},
   "outputs": [],
   "source": [
    "import random as rand\n",
    "import numpy as np"
   ]
  },
  {
   "cell_type": "code",
   "execution_count": 11,
   "id": "95b47078-b0ab-4975-ae1c-81e3b90486fd",
   "metadata": {},
   "outputs": [
    {
     "data": {
      "text/plain": [
       "0.1"
      ]
     },
     "execution_count": 11,
     "metadata": {},
     "output_type": "execute_result"
    }
   ],
   "source": [
    "round(rand.random(),1)"
   ]
  },
  {
   "cell_type": "code",
   "execution_count": 14,
   "id": "293e15a7-c964-46ee-9795-1c509c1afd18",
   "metadata": {},
   "outputs": [
    {
     "data": {
      "text/plain": [
       "0.2"
      ]
     },
     "execution_count": 14,
     "metadata": {},
     "output_type": "execute_result"
    }
   ],
   "source": [
    "round(np.random.random(),1)"
   ]
  },
  {
   "cell_type": "code",
   "execution_count": null,
   "id": "9ddb7f81-d44a-4519-a4f9-8fdd084321b0",
   "metadata": {},
   "outputs": [],
   "source": []
  }
 ],
 "metadata": {
  "kernelspec": {
   "display_name": "Python 3 (ipykernel)",
   "language": "python",
   "name": "python3"
  },
  "language_info": {
   "codemirror_mode": {
    "name": "ipython",
    "version": 3
   },
   "file_extension": ".py",
   "mimetype": "text/x-python",
   "name": "python",
   "nbconvert_exporter": "python",
   "pygments_lexer": "ipython3",
   "version": "3.10.6"
  }
 },
 "nbformat": 4,
 "nbformat_minor": 5
}
