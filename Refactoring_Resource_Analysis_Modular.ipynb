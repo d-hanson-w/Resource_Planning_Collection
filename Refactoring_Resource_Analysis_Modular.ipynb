{
 "cells": [
  {
   "cell_type": "code",
   "execution_count": 2,
   "id": "36c1d9f3-61bc-4931-ab08-6bfc058de145",
   "metadata": {},
   "outputs": [],
   "source": [
    "import pandas as pd\n",
    "import numpy as np\n",
    "import plotly\n",
    "import importlib\n",
    "import asana\n",
    "import wartsila_asana_utils as wa\n",
    "\n",
    "import plotly.express as px"
   ]
  },
  {
   "cell_type": "code",
   "execution_count": 3,
   "id": "76796543-d3cc-4c89-9ae3-52673a634955",
   "metadata": {},
   "outputs": [
    {
     "data": {
      "text/plain": [
       "<module 'wartsila_asana_utils' from 'C:\\\\Users\\\\dha042\\\\Documents\\\\W_Development\\\\Resource_Planning\\\\wartsila_asana_utils.py'>"
      ]
     },
     "execution_count": 3,
     "metadata": {},
     "output_type": "execute_result"
    }
   ],
   "source": [
    "importlib.reload(wa)"
   ]
  },
  {
   "cell_type": "markdown",
   "id": "2c4f0f32-4c1b-4561-b97e-aa2025142964",
   "metadata": {},
   "source": [
    "# Refactoring the resource Analysis"
   ]
  },
  {
   "cell_type": "code",
   "execution_count": null,
   "id": "10eea63e-0453-4620-bfad-7ebc3ec99a01",
   "metadata": {},
   "outputs": [],
   "source": [
    "### Initial Data PreProcessing \n",
    "def prepare_data_for_analysis(df_in, use_pj_groups=True)\n",
    "    \"\"\"\n",
    "    Input\n",
    "    -----\n",
    "    df_in : dataframe - preformatted tasks from asan api\n",
    "    use_pj_groups : apply groupings to colocated Wartsila Projects\n",
    "    \n",
    "    Returns\n",
    "    -------\n",
    "    \n",
    "    \n",
    "    \"\"\"\n",
    "\n",
    "    if use_pj_groups:\n",
    "        df_tasks = make_project_groups(df_in.copy())\n",
    "        print('using groups')\n",
    "    else:\n",
    "        df_tasks = df_in.copy()\n",
    "   \n",
    "    ## Unassigned - Cx\n",
    "    # get all cx 'unassigned' tasks (denoted by 'Antti Pitkanen' as assignee)\n",
    "    df_t = df_tasks\n",
    "    df_t = df_t[df_t['assignee_name']=='Antti Pitkänen']\n",
    "\n",
    "    ## Reference Cx Personnel\n",
    "    pdb_list = wa.get_persondb_api_data()\n",
    "    df_personnel_master = wa.make_persondb_df(pdb_list)\n",
    "    df_p_all = df_personnel_master.copy()\n",
    "\n",
    "    cx_all_persons = df_p_all[df_p_all['role'].isin(['Commissioning Manager', 'Commissioning Engineer'])].sort_values('region')\n",
    "    cx_all_persons_count = cx_all_persons['person_name'].nunique()\n",
    "    list_all_cx_persons = cx_all_persons['person_name'].tolist()\n",
    "\n",
    "    ## Assigned - Cx\n",
    "    # Get tasks assigned to Cx Managers or Cx Engineers\n",
    "    roles_list = ['Commissioning Manager', 'Commissioning Engineer']\n",
    "    df_ass = df_tasks.copy()\n",
    "    df_ass = df_ass[df_ass['role'].isin(roles_list)]\n",
    "\n",
    "    # exclude unassigned tasks\n",
    "    df_ass = df_tasks.copy()\n",
    "    exclude_assignee_list = ['Antti Pitkänen', 'unassigned']\n",
    "    df_ass = df_ass[~df_ass['assignee_name'].isin(exclude_assignee_list)]\n",
    "\n",
    "    # verify assignees against master list\n",
    "    # todo determine if we need to add region filter\n",
    "    df_ass = df_ass[df_ass['assignee_name'].isin(cx_all_persons['person_name'].to_list())]\n",
    "\n",
    "    ## Assigned and Unassigned \n",
    "    df_cx_all = pd.concat([df_t, df_ass])\n",
    "    \n",
    "    return df_cx_all, df_t, df_ass"
   ]
  },
  {
   "cell_type": "code",
   "execution_count": null,
   "id": "a0126eca-7429-416c-97fb-e8a4d53ca915",
   "metadata": {},
   "outputs": [],
   "source": [
    "### Applying Analysis Functions \n",
    "    ## return values\n",
    "\n",
    "### Create Plots"
   ]
  },
  {
   "cell_type": "code",
   "execution_count": null,
   "id": "2425bc5b-4863-4056-acfa-d78af08ad69c",
   "metadata": {},
   "outputs": [],
   "source": []
  }
 ],
 "metadata": {
  "kernelspec": {
   "display_name": "Python 3 (ipykernel)",
   "language": "python",
   "name": "python3"
  },
  "language_info": {
   "codemirror_mode": {
    "name": "ipython",
    "version": 3
   },
   "file_extension": ".py",
   "mimetype": "text/x-python",
   "name": "python",
   "nbconvert_exporter": "python",
   "pygments_lexer": "ipython3",
   "version": "3.10.6"
  }
 },
 "nbformat": 4,
 "nbformat_minor": 5
}
