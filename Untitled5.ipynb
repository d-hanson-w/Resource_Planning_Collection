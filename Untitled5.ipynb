{
 "cells": [
  {
   "cell_type": "code",
   "execution_count": 1,
   "id": "0293e5be-4596-4510-a71e-435d3ea0b70c",
   "metadata": {},
   "outputs": [],
   "source": [
    "    eeq_multiplier_dict = {\n",
    "    'Commissioning Manager': 1.0,\n",
    "    'Commissioning Engineer' : 1.0, \n",
    "    'System Engineer' : 0.2, \n",
    "    'Solution Engineer' : 0.2, \n",
    "    'CPE Civil' : 0.3, \n",
    "    'CPE Electrical' : 0.3, \n",
    "    }    \n",
    "    \n",
    "    eeq_options = eeq_multiplier_dict.keys()"
   ]
  },
  {
   "cell_type": "code",
   "execution_count": 3,
   "id": "71429029-b2e2-4107-a672-b68aa1131be2",
   "metadata": {},
   "outputs": [
    {
     "data": {
      "text/plain": [
       "['Commissioning Manager',\n",
       " 'Commissioning Engineer',\n",
       " 'System Engineer',\n",
       " 'Solution Engineer',\n",
       " 'CPE Civil',\n",
       " 'CPE Electrical']"
      ]
     },
     "execution_count": 3,
     "metadata": {},
     "output_type": "execute_result"
    }
   ],
   "source": [
    "list(eeq_options)"
   ]
  },
  {
   "cell_type": "code",
   "execution_count": 5,
   "id": "cc242e6b-27e2-4539-b469-d8b557e3163e",
   "metadata": {},
   "outputs": [
    {
     "data": {
      "text/plain": [
       "[1.0, 1.0, 0.2, 0.2, 0.3, 0.3]"
      ]
     },
     "execution_count": 5,
     "metadata": {},
     "output_type": "execute_result"
    }
   ],
   "source": [
    "list(eeq_multiplier_dict.values())"
   ]
  },
  {
   "cell_type": "code",
   "execution_count": null,
   "id": "90db9c0f-0c73-477c-9913-5a4f23a120e3",
   "metadata": {},
   "outputs": [],
   "source": []
  }
 ],
 "metadata": {
  "kernelspec": {
   "display_name": "Python 3 (ipykernel)",
   "language": "python",
   "name": "python3"
  },
  "language_info": {
   "codemirror_mode": {
    "name": "ipython",
    "version": 3
   },
   "file_extension": ".py",
   "mimetype": "text/x-python",
   "name": "python",
   "nbconvert_exporter": "python",
   "pygments_lexer": "ipython3",
   "version": "3.10.6"
  }
 },
 "nbformat": 4,
 "nbformat_minor": 5
}
