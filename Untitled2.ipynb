{
 "cells": [
  {
   "cell_type": "code",
   "execution_count": 7,
   "id": "70593bcb-c922-4065-9a83-1a15e0ded852",
   "metadata": {},
   "outputs": [],
   "source": [
    "import pandas as pd\n",
    "import datetime"
   ]
  },
  {
   "cell_type": "code",
   "execution_count": null,
   "id": "038ce4b7-9b2b-4535-baa0-dd06a633ce7c",
   "metadata": {},
   "outputs": [],
   "source": []
  },
  {
   "cell_type": "code",
   "execution_count": 1,
   "id": "147c9ae0-ec16-42af-bb5b-f9a5a55a8747",
   "metadata": {},
   "outputs": [],
   "source": [
    "# prepare future projects df "
   ]
  },
  {
   "cell_type": "code",
   "execution_count": null,
   "id": "441caf47-49da-40e0-a69e-86e0e6681639",
   "metadata": {},
   "outputs": [],
   "source": [
    "dict_month_active_projects_count()"
   ]
  },
  {
   "cell_type": "code",
   "execution_count": 4,
   "id": "71a0cf15-8d4f-4f6b-9e47-bf6fbcc4a114",
   "metadata": {},
   "outputs": [],
   "source": [
    "# month range\n",
    "min_date = \"2022-08-31\"\n",
    "max_date = \"2023-06-30\"\n",
    "date_ranges_m = pd.period_range(min_date, max_date, freq='M')"
   ]
  },
  {
   "cell_type": "code",
   "execution_count": 11,
   "id": "a3f2e359-5ee3-4277-ac40-99e981bf9b68",
   "metadata": {},
   "outputs": [
    {
     "data": {
      "text/html": [
       "<div>\n",
       "<style scoped>\n",
       "    .dataframe tbody tr th:only-of-type {\n",
       "        vertical-align: middle;\n",
       "    }\n",
       "\n",
       "    .dataframe tbody tr th {\n",
       "        vertical-align: top;\n",
       "    }\n",
       "\n",
       "    .dataframe thead th {\n",
       "        text-align: right;\n",
       "    }\n",
       "</style>\n",
       "<table border=\"1\" class=\"dataframe\">\n",
       "  <thead>\n",
       "    <tr style=\"text-align: right;\">\n",
       "      <th></th>\n",
       "      <th>year_month</th>\n",
       "    </tr>\n",
       "  </thead>\n",
       "  <tbody>\n",
       "    <tr>\n",
       "      <th>0</th>\n",
       "      <td>2022-08</td>\n",
       "    </tr>\n",
       "    <tr>\n",
       "      <th>1</th>\n",
       "      <td>2022-09</td>\n",
       "    </tr>\n",
       "    <tr>\n",
       "      <th>2</th>\n",
       "      <td>2022-10</td>\n",
       "    </tr>\n",
       "    <tr>\n",
       "      <th>3</th>\n",
       "      <td>2022-11</td>\n",
       "    </tr>\n",
       "    <tr>\n",
       "      <th>4</th>\n",
       "      <td>2022-12</td>\n",
       "    </tr>\n",
       "    <tr>\n",
       "      <th>5</th>\n",
       "      <td>2023-01</td>\n",
       "    </tr>\n",
       "    <tr>\n",
       "      <th>6</th>\n",
       "      <td>2023-02</td>\n",
       "    </tr>\n",
       "    <tr>\n",
       "      <th>7</th>\n",
       "      <td>2023-03</td>\n",
       "    </tr>\n",
       "    <tr>\n",
       "      <th>8</th>\n",
       "      <td>2023-04</td>\n",
       "    </tr>\n",
       "    <tr>\n",
       "      <th>9</th>\n",
       "      <td>2023-05</td>\n",
       "    </tr>\n",
       "    <tr>\n",
       "      <th>10</th>\n",
       "      <td>2023-06</td>\n",
       "    </tr>\n",
       "  </tbody>\n",
       "</table>\n",
       "</div>"
      ],
      "text/plain": [
       "   year_month\n",
       "0     2022-08\n",
       "1     2022-09\n",
       "2     2022-10\n",
       "3     2022-11\n",
       "4     2022-12\n",
       "5     2023-01\n",
       "6     2023-02\n",
       "7     2023-03\n",
       "8     2023-04\n",
       "9     2023-05\n",
       "10    2023-06"
      ]
     },
     "execution_count": 11,
     "metadata": {},
     "output_type": "execute_result"
    }
   ],
   "source": [
    "df_date_ref_m = pd.DataFrame(date_ranges_m, columns=['year_month'])"
   ]
  },
  {
   "cell_type": "code",
   "execution_count": 41,
   "id": "1d8156c3-6bcc-4f54-a423-b7b8c6f9edac",
   "metadata": {},
   "outputs": [],
   "source": [
    "def make_manual_date_ref():\n",
    "    dates_ref_list = [\n",
    "        ['2022-08-01','2022-08-31','2022-august'],\n",
    "        ['2022-09-01','2022-09-30','2022-september'],\n",
    "        ['2022-10-01','2022-10-31','2022-october'],\n",
    "        ['2022-11-01','2022-11-30','2022-november'],\n",
    "        ['2022-12-01','2022-12-31','2023-december'],\n",
    "        ['2023-01-01','2023-01-31','2023-january'],\n",
    "        ['2023-02-01','2023-02-28','2023-february'],\n",
    "        ['2023-03-01','2023-03-31','2023-march'],\n",
    "        ['2023-04-01','2023-04-30','2023-april'],\n",
    "        ['2023-05-01','2023-05-31','2023-may'],\n",
    "        ['2023-06-01','2023-06-30','2023-june'],\n",
    "    ]\n",
    "\n",
    "    df_dates_ref = pd.DataFrame(dates_ref_list, columns=['first_of_month','end_of_month','year_month'])\n",
    "\n",
    "    df_dates_ref['first_of_month'] = pd.to_datetime(df_dates_ref['first_of_month'])\n",
    "    df_dates_ref['end_of_month'] = pd.to_datetime(df_dates_ref['end_of_month'])\n",
    "    \n",
    "    return df_dates_ref"
   ]
  },
  {
   "cell_type": "code",
   "execution_count": 43,
   "id": "5c4061ea-3fa6-4752-a4bd-e020efd4223d",
   "metadata": {},
   "outputs": [
    {
     "data": {
      "text/html": [
       "<div>\n",
       "<style scoped>\n",
       "    .dataframe tbody tr th:only-of-type {\n",
       "        vertical-align: middle;\n",
       "    }\n",
       "\n",
       "    .dataframe tbody tr th {\n",
       "        vertical-align: top;\n",
       "    }\n",
       "\n",
       "    .dataframe thead th {\n",
       "        text-align: right;\n",
       "    }\n",
       "</style>\n",
       "<table border=\"1\" class=\"dataframe\">\n",
       "  <thead>\n",
       "    <tr style=\"text-align: right;\">\n",
       "      <th></th>\n",
       "      <th>first_of_month</th>\n",
       "      <th>end_of_month</th>\n",
       "      <th>year_month</th>\n",
       "    </tr>\n",
       "  </thead>\n",
       "  <tbody>\n",
       "    <tr>\n",
       "      <th>0</th>\n",
       "      <td>2022-08-01</td>\n",
       "      <td>2022-08-31</td>\n",
       "      <td>2022-august</td>\n",
       "    </tr>\n",
       "    <tr>\n",
       "      <th>1</th>\n",
       "      <td>2022-09-01</td>\n",
       "      <td>2022-09-30</td>\n",
       "      <td>2022-september</td>\n",
       "    </tr>\n",
       "    <tr>\n",
       "      <th>2</th>\n",
       "      <td>2022-10-01</td>\n",
       "      <td>2022-10-31</td>\n",
       "      <td>2022-october</td>\n",
       "    </tr>\n",
       "    <tr>\n",
       "      <th>3</th>\n",
       "      <td>2022-11-01</td>\n",
       "      <td>2022-11-30</td>\n",
       "      <td>2022-november</td>\n",
       "    </tr>\n",
       "    <tr>\n",
       "      <th>4</th>\n",
       "      <td>2022-12-01</td>\n",
       "      <td>2022-12-31</td>\n",
       "      <td>2023-december</td>\n",
       "    </tr>\n",
       "    <tr>\n",
       "      <th>5</th>\n",
       "      <td>2023-01-01</td>\n",
       "      <td>2023-01-31</td>\n",
       "      <td>2023-january</td>\n",
       "    </tr>\n",
       "    <tr>\n",
       "      <th>6</th>\n",
       "      <td>2023-02-01</td>\n",
       "      <td>2023-02-28</td>\n",
       "      <td>2023-february</td>\n",
       "    </tr>\n",
       "    <tr>\n",
       "      <th>7</th>\n",
       "      <td>2023-03-01</td>\n",
       "      <td>2023-03-31</td>\n",
       "      <td>2023-march</td>\n",
       "    </tr>\n",
       "    <tr>\n",
       "      <th>8</th>\n",
       "      <td>2023-04-01</td>\n",
       "      <td>2023-04-30</td>\n",
       "      <td>2023-april</td>\n",
       "    </tr>\n",
       "    <tr>\n",
       "      <th>9</th>\n",
       "      <td>2023-05-01</td>\n",
       "      <td>2023-05-31</td>\n",
       "      <td>2023-may</td>\n",
       "    </tr>\n",
       "    <tr>\n",
       "      <th>10</th>\n",
       "      <td>2023-06-01</td>\n",
       "      <td>2023-06-30</td>\n",
       "      <td>2023-june</td>\n",
       "    </tr>\n",
       "  </tbody>\n",
       "</table>\n",
       "</div>"
      ],
      "text/plain": [
       "   first_of_month end_of_month      year_month\n",
       "0      2022-08-01   2022-08-31     2022-august\n",
       "1      2022-09-01   2022-09-30  2022-september\n",
       "2      2022-10-01   2022-10-31    2022-october\n",
       "3      2022-11-01   2022-11-30   2022-november\n",
       "4      2022-12-01   2022-12-31   2023-december\n",
       "5      2023-01-01   2023-01-31    2023-january\n",
       "6      2023-02-01   2023-02-28   2023-february\n",
       "7      2023-03-01   2023-03-31      2023-march\n",
       "8      2023-04-01   2023-04-30      2023-april\n",
       "9      2023-05-01   2023-05-31        2023-may\n",
       "10     2023-06-01   2023-06-30       2023-june"
      ]
     },
     "execution_count": 43,
     "metadata": {},
     "output_type": "execute_result"
    }
   ],
   "source": [
    "make_manual_date_ref()"
   ]
  },
  {
   "cell_type": "code",
   "execution_count": 3,
   "id": "76f23c59-3555-4e77-8a33-b76ab2ce5cc9",
   "metadata": {},
   "outputs": [],
   "source": [
    "import datetime as dt"
   ]
  },
  {
   "cell_type": "code",
   "execution_count": 6,
   "id": "e3e51459-3bd3-411f-9172-2a86c1836a9b",
   "metadata": {},
   "outputs": [
    {
     "ename": "TypeError",
     "evalue": "'str' object cannot be interpreted as an integer",
     "output_type": "error",
     "traceback": [
      "\u001b[1;31m---------------------------------------------------------------------------\u001b[0m",
      "\u001b[1;31mTypeError\u001b[0m                                 Traceback (most recent call last)",
      "Input \u001b[1;32mIn [6]\u001b[0m, in \u001b[0;36m<cell line: 1>\u001b[1;34m()\u001b[0m\n\u001b[1;32m----> 1\u001b[0m date1 \u001b[38;5;241m=\u001b[39m \u001b[43mdt\u001b[49m\u001b[38;5;241;43m.\u001b[39;49m\u001b[43mdatetime\u001b[49m\u001b[43m(\u001b[49m\u001b[38;5;124;43m'\u001b[39;49m\u001b[38;5;124;43m2022-01-01\u001b[39;49m\u001b[38;5;124;43m'\u001b[39;49m\u001b[43m)\u001b[49m\n\u001b[0;32m      2\u001b[0m date2 \u001b[38;5;241m=\u001b[39m dt\u001b[38;5;241m.\u001b[39mdatetime(\u001b[38;5;124m'\u001b[39m\u001b[38;5;124m2025-01-01\u001b[39m\u001b[38;5;124m'\u001b[39m)\n",
      "\u001b[1;31mTypeError\u001b[0m: 'str' object cannot be interpreted as an integer"
     ]
    }
   ],
   "source": [
    "date1 = dt.datetime('2022-01-01')\n",
    "date2 = dt.datetime('2025-01-01')"
   ]
  },
  {
   "cell_type": "code",
   "execution_count": 7,
   "id": "8ee9a260-c403-4819-9864-f7377e7b0527",
   "metadata": {},
   "outputs": [
    {
     "ename": "NameError",
     "evalue": "name 'pd' is not defined",
     "output_type": "error",
     "traceback": [
      "\u001b[1;31m---------------------------------------------------------------------------\u001b[0m",
      "\u001b[1;31mNameError\u001b[0m                                 Traceback (most recent call last)",
      "Input \u001b[1;32mIn [7]\u001b[0m, in \u001b[0;36m<cell line: 1>\u001b[1;34m()\u001b[0m\n\u001b[1;32m----> 1\u001b[0m date_range \u001b[38;5;241m=\u001b[39m \u001b[43mpd\u001b[49m\u001b[38;5;241m.\u001b[39mdate_rante(date1, date2)\n",
      "\u001b[1;31mNameError\u001b[0m: name 'pd' is not defined"
     ]
    }
   ],
   "source": [
    "date_range = pd.date_rante(date1, date2)"
   ]
  },
  {
   "cell_type": "code",
   "execution_count": null,
   "id": "5eab0eeb-d356-4a6f-abf4-0c0a18b2339b",
   "metadata": {},
   "outputs": [],
   "source": []
  }
 ],
 "metadata": {
  "kernelspec": {
   "display_name": "Python 3 (ipykernel)",
   "language": "python",
   "name": "python3"
  },
  "language_info": {
   "codemirror_mode": {
    "name": "ipython",
    "version": 3
   },
   "file_extension": ".py",
   "mimetype": "text/x-python",
   "name": "python",
   "nbconvert_exporter": "python",
   "pygments_lexer": "ipython3",
   "version": "3.10.6"
  }
 },
 "nbformat": 4,
 "nbformat_minor": 5
}
